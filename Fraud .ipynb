{
 "cells": [
  {
   "cell_type": "code",
   "execution_count": 1,
   "metadata": {},
   "outputs": [],
   "source": [
    "import warnings\n",
    "warnings.filterwarnings('ignore')"
   ]
  },
  {
   "cell_type": "code",
   "execution_count": 2,
   "metadata": {},
   "outputs": [],
   "source": [
    "import os \n",
    "os.chdir(r'E:\\AI-ML PYTHON\\job datasets\\interns_task-main')"
   ]
  },
  {
   "cell_type": "code",
   "execution_count": 3,
   "metadata": {},
   "outputs": [
    {
     "data": {
      "text/plain": [
       "'E:\\\\AI-ML PYTHON\\\\job datasets\\\\interns_task-main'"
      ]
     },
     "execution_count": 3,
     "metadata": {},
     "output_type": "execute_result"
    }
   ],
   "source": [
    "os.getcwd()"
   ]
  },
  {
   "cell_type": "markdown",
   "metadata": {},
   "source": [
    "## Importing packages"
   ]
  },
  {
   "cell_type": "code",
   "execution_count": 4,
   "metadata": {},
   "outputs": [],
   "source": [
    "import numpy as np \n",
    "import pandas as pd \n",
    "import matplotlib.pyplot as plt \n",
    "import seaborn as sns \n",
    "from scipy import stats "
   ]
  },
  {
   "cell_type": "code",
   "execution_count": 5,
   "metadata": {},
   "outputs": [
    {
     "data": {
      "text/html": [
       "<div>\n",
       "<style scoped>\n",
       "    .dataframe tbody tr th:only-of-type {\n",
       "        vertical-align: middle;\n",
       "    }\n",
       "\n",
       "    .dataframe tbody tr th {\n",
       "        vertical-align: top;\n",
       "    }\n",
       "\n",
       "    .dataframe thead th {\n",
       "        text-align: right;\n",
       "    }\n",
       "</style>\n",
       "<table border=\"1\" class=\"dataframe\">\n",
       "  <thead>\n",
       "    <tr style=\"text-align: right;\">\n",
       "      <th></th>\n",
       "      <th>step</th>\n",
       "      <th>customer</th>\n",
       "      <th>age</th>\n",
       "      <th>gender</th>\n",
       "      <th>merchant</th>\n",
       "      <th>category</th>\n",
       "      <th>amount</th>\n",
       "      <th>fraud</th>\n",
       "    </tr>\n",
       "  </thead>\n",
       "  <tbody>\n",
       "    <tr>\n",
       "      <th>0</th>\n",
       "      <td>2021-07-16</td>\n",
       "      <td>C1326593353</td>\n",
       "      <td>36to45</td>\n",
       "      <td>Male</td>\n",
       "      <td>M1823072687</td>\n",
       "      <td>Transportation</td>\n",
       "      <td>15.78</td>\n",
       "      <td>0</td>\n",
       "    </tr>\n",
       "    <tr>\n",
       "      <th>1</th>\n",
       "      <td>2021-08-22</td>\n",
       "      <td>C483912131</td>\n",
       "      <td>26to35</td>\n",
       "      <td>Female</td>\n",
       "      <td>M1198415165</td>\n",
       "      <td>Beauty&amp;Wellness</td>\n",
       "      <td>608.32</td>\n",
       "      <td>1</td>\n",
       "    </tr>\n",
       "    <tr>\n",
       "      <th>2</th>\n",
       "      <td>2021-06-03</td>\n",
       "      <td>C1681589600</td>\n",
       "      <td>26to35</td>\n",
       "      <td>Female</td>\n",
       "      <td>M348934600</td>\n",
       "      <td>Transportation</td>\n",
       "      <td>43.76</td>\n",
       "      <td>0</td>\n",
       "    </tr>\n",
       "    <tr>\n",
       "      <th>3</th>\n",
       "      <td>2021-07-01</td>\n",
       "      <td>C1251749294</td>\n",
       "      <td>36to45</td>\n",
       "      <td>Female</td>\n",
       "      <td>M1823072687</td>\n",
       "      <td>Transportation</td>\n",
       "      <td>41.57</td>\n",
       "      <td>0</td>\n",
       "    </tr>\n",
       "    <tr>\n",
       "      <th>4</th>\n",
       "      <td>2021-03-06</td>\n",
       "      <td>C1705346216</td>\n",
       "      <td>36to45</td>\n",
       "      <td>Male</td>\n",
       "      <td>M348934600</td>\n",
       "      <td>Transportation</td>\n",
       "      <td>42.97</td>\n",
       "      <td>0</td>\n",
       "    </tr>\n",
       "  </tbody>\n",
       "</table>\n",
       "</div>"
      ],
      "text/plain": [
       "         step     customer     age  gender     merchant         category  \\\n",
       "0  2021-07-16  C1326593353  36to45    Male  M1823072687   Transportation   \n",
       "1  2021-08-22   C483912131  26to35  Female  M1198415165  Beauty&Wellness   \n",
       "2  2021-06-03  C1681589600  26to35  Female   M348934600   Transportation   \n",
       "3  2021-07-01  C1251749294  36to45  Female  M1823072687   Transportation   \n",
       "4  2021-03-06  C1705346216  36to45    Male   M348934600   Transportation   \n",
       "\n",
       "   amount  fraud  \n",
       "0   15.78      0  \n",
       "1  608.32      1  \n",
       "2   43.76      0  \n",
       "3   41.57      0  \n",
       "4   42.97      0  "
      ]
     },
     "execution_count": 5,
     "metadata": {},
     "output_type": "execute_result"
    }
   ],
   "source": [
    "data = pd.read_csv('sampled_data2.csv', encoding='unicode_escape')\n",
    "data.head()"
   ]
  },
  {
   "cell_type": "code",
   "execution_count": 6,
   "metadata": {},
   "outputs": [
    {
     "data": {
      "text/html": [
       "<div>\n",
       "<style scoped>\n",
       "    .dataframe tbody tr th:only-of-type {\n",
       "        vertical-align: middle;\n",
       "    }\n",
       "\n",
       "    .dataframe tbody tr th {\n",
       "        vertical-align: top;\n",
       "    }\n",
       "\n",
       "    .dataframe thead th {\n",
       "        text-align: right;\n",
       "    }\n",
       "</style>\n",
       "<table border=\"1\" class=\"dataframe\">\n",
       "  <thead>\n",
       "    <tr style=\"text-align: right;\">\n",
       "      <th></th>\n",
       "      <th>step</th>\n",
       "      <th>customer</th>\n",
       "      <th>age</th>\n",
       "      <th>gender</th>\n",
       "      <th>merchant</th>\n",
       "      <th>category</th>\n",
       "      <th>amount</th>\n",
       "      <th>fraud</th>\n",
       "    </tr>\n",
       "  </thead>\n",
       "  <tbody>\n",
       "    <tr>\n",
       "      <th>25195</th>\n",
       "      <td>2021-08-22</td>\n",
       "      <td>C1480193980</td>\n",
       "      <td>46to55</td>\n",
       "      <td>Female</td>\n",
       "      <td>M1823072687</td>\n",
       "      <td>Transportation</td>\n",
       "      <td>32.07</td>\n",
       "      <td>0</td>\n",
       "    </tr>\n",
       "    <tr>\n",
       "      <th>25196</th>\n",
       "      <td>2021-08-14</td>\n",
       "      <td>C207380283</td>\n",
       "      <td>36to45</td>\n",
       "      <td>Female</td>\n",
       "      <td>M480139044</td>\n",
       "      <td>Health</td>\n",
       "      <td>373.27</td>\n",
       "      <td>1</td>\n",
       "    </tr>\n",
       "    <tr>\n",
       "      <th>25197</th>\n",
       "      <td>2021-07-18</td>\n",
       "      <td>C183270065</td>\n",
       "      <td>lt18</td>\n",
       "      <td>Female</td>\n",
       "      <td>M1823072687</td>\n",
       "      <td>Transportation</td>\n",
       "      <td>2.50</td>\n",
       "      <td>0</td>\n",
       "    </tr>\n",
       "    <tr>\n",
       "      <th>25198</th>\n",
       "      <td>2021-07-23</td>\n",
       "      <td>C149698808</td>\n",
       "      <td>26to35</td>\n",
       "      <td>Female</td>\n",
       "      <td>M1823072687</td>\n",
       "      <td>Transportation</td>\n",
       "      <td>5.38</td>\n",
       "      <td>0</td>\n",
       "    </tr>\n",
       "    <tr>\n",
       "      <th>25199</th>\n",
       "      <td>2021-07-16</td>\n",
       "      <td>C684162308</td>\n",
       "      <td>56to65</td>\n",
       "      <td>Female</td>\n",
       "      <td>M840466850</td>\n",
       "      <td>Technology</td>\n",
       "      <td>93.89</td>\n",
       "      <td>1</td>\n",
       "    </tr>\n",
       "  </tbody>\n",
       "</table>\n",
       "</div>"
      ],
      "text/plain": [
       "             step     customer     age  gender     merchant        category  \\\n",
       "25195  2021-08-22  C1480193980  46to55  Female  M1823072687  Transportation   \n",
       "25196  2021-08-14   C207380283  36to45  Female   M480139044          Health   \n",
       "25197  2021-07-18   C183270065    lt18  Female  M1823072687  Transportation   \n",
       "25198  2021-07-23   C149698808  26to35  Female  M1823072687  Transportation   \n",
       "25199  2021-07-16   C684162308  56to65  Female   M840466850      Technology   \n",
       "\n",
       "       amount  fraud  \n",
       "25195   32.07      0  \n",
       "25196  373.27      1  \n",
       "25197    2.50      0  \n",
       "25198    5.38      0  \n",
       "25199   93.89      1  "
      ]
     },
     "execution_count": 6,
     "metadata": {},
     "output_type": "execute_result"
    }
   ],
   "source": [
    "data.tail()"
   ]
  },
  {
   "cell_type": "markdown",
   "metadata": {},
   "source": [
    "## data insights"
   ]
  },
  {
   "cell_type": "code",
   "execution_count": 7,
   "metadata": {},
   "outputs": [
    {
     "data": {
      "text/plain": [
       "Index(['step', 'customer', 'age', 'gender', 'merchant', 'category', 'amount',\n",
       "       'fraud'],\n",
       "      dtype='object')"
      ]
     },
     "execution_count": 7,
     "metadata": {},
     "output_type": "execute_result"
    }
   ],
   "source": [
    "data.columns"
   ]
  },
  {
   "cell_type": "code",
   "execution_count": 8,
   "metadata": {},
   "outputs": [
    {
     "data": {
      "text/plain": [
       "step         object\n",
       "customer     object\n",
       "age          object\n",
       "gender       object\n",
       "merchant     object\n",
       "category     object\n",
       "amount      float64\n",
       "fraud         int64\n",
       "dtype: object"
      ]
     },
     "execution_count": 8,
     "metadata": {},
     "output_type": "execute_result"
    }
   ],
   "source": [
    "data.dtypes"
   ]
  },
  {
   "cell_type": "code",
   "execution_count": 9,
   "metadata": {},
   "outputs": [
    {
     "name": "stdout",
     "output_type": "stream",
     "text": [
      "<class 'pandas.core.frame.DataFrame'>\n",
      "RangeIndex: 25200 entries, 0 to 25199\n",
      "Data columns (total 8 columns):\n",
      " #   Column    Non-Null Count  Dtype  \n",
      "---  ------    --------------  -----  \n",
      " 0   step      25200 non-null  object \n",
      " 1   customer  25200 non-null  object \n",
      " 2   age       25200 non-null  object \n",
      " 3   gender    25200 non-null  object \n",
      " 4   merchant  25200 non-null  object \n",
      " 5   category  25200 non-null  object \n",
      " 6   amount    25200 non-null  float64\n",
      " 7   fraud     25200 non-null  int64  \n",
      "dtypes: float64(1), int64(1), object(6)\n",
      "memory usage: 1.5+ MB\n"
     ]
    }
   ],
   "source": [
    "data.info()"
   ]
  },
  {
   "cell_type": "code",
   "execution_count": 10,
   "metadata": {},
   "outputs": [
    {
     "data": {
      "text/html": [
       "<div>\n",
       "<style scoped>\n",
       "    .dataframe tbody tr th:only-of-type {\n",
       "        vertical-align: middle;\n",
       "    }\n",
       "\n",
       "    .dataframe tbody tr th {\n",
       "        vertical-align: top;\n",
       "    }\n",
       "\n",
       "    .dataframe thead th {\n",
       "        text-align: right;\n",
       "    }\n",
       "</style>\n",
       "<table border=\"1\" class=\"dataframe\">\n",
       "  <thead>\n",
       "    <tr style=\"text-align: right;\">\n",
       "      <th></th>\n",
       "      <th>amount</th>\n",
       "      <th>fraud</th>\n",
       "    </tr>\n",
       "  </thead>\n",
       "  <tbody>\n",
       "    <tr>\n",
       "      <th>count</th>\n",
       "      <td>25200.000000</td>\n",
       "      <td>25200.000000</td>\n",
       "    </tr>\n",
       "    <tr>\n",
       "      <th>mean</th>\n",
       "      <td>174.212506</td>\n",
       "      <td>0.285714</td>\n",
       "    </tr>\n",
       "    <tr>\n",
       "      <th>std</th>\n",
       "      <td>501.116240</td>\n",
       "      <td>0.451763</td>\n",
       "    </tr>\n",
       "    <tr>\n",
       "      <th>min</th>\n",
       "      <td>0.000000</td>\n",
       "      <td>0.000000</td>\n",
       "    </tr>\n",
       "    <tr>\n",
       "      <th>25%</th>\n",
       "      <td>17.720000</td>\n",
       "      <td>0.000000</td>\n",
       "    </tr>\n",
       "    <tr>\n",
       "      <th>50%</th>\n",
       "      <td>36.340000</td>\n",
       "      <td>0.000000</td>\n",
       "    </tr>\n",
       "    <tr>\n",
       "      <th>75%</th>\n",
       "      <td>109.180000</td>\n",
       "      <td>1.000000</td>\n",
       "    </tr>\n",
       "    <tr>\n",
       "      <th>max</th>\n",
       "      <td>8329.960000</td>\n",
       "      <td>1.000000</td>\n",
       "    </tr>\n",
       "  </tbody>\n",
       "</table>\n",
       "</div>"
      ],
      "text/plain": [
       "             amount         fraud\n",
       "count  25200.000000  25200.000000\n",
       "mean     174.212506      0.285714\n",
       "std      501.116240      0.451763\n",
       "min        0.000000      0.000000\n",
       "25%       17.720000      0.000000\n",
       "50%       36.340000      0.000000\n",
       "75%      109.180000      1.000000\n",
       "max     8329.960000      1.000000"
      ]
     },
     "execution_count": 10,
     "metadata": {},
     "output_type": "execute_result"
    }
   ],
   "source": [
    "data.describe()"
   ]
  },
  {
   "cell_type": "code",
   "execution_count": 11,
   "metadata": {},
   "outputs": [
    {
     "data": {
      "text/plain": [
       "(25200, 8)"
      ]
     },
     "execution_count": 11,
     "metadata": {},
     "output_type": "execute_result"
    }
   ],
   "source": [
    "data.shape "
   ]
  },
  {
   "cell_type": "code",
   "execution_count": 12,
   "metadata": {},
   "outputs": [
    {
     "data": {
      "text/plain": [
       "0    18000\n",
       "1     7200\n",
       "Name: fraud, dtype: int64"
      ]
     },
     "execution_count": 12,
     "metadata": {},
     "output_type": "execute_result"
    }
   ],
   "source": [
    "data['fraud'].value_counts()"
   ]
  },
  {
   "cell_type": "code",
   "execution_count": 13,
   "metadata": {},
   "outputs": [
    {
     "data": {
      "text/plain": [
       "12958"
      ]
     },
     "execution_count": 13,
     "metadata": {},
     "output_type": "execute_result"
    }
   ],
   "source": [
    "data['amount'].nunique()"
   ]
  },
  {
   "cell_type": "code",
   "execution_count": 14,
   "metadata": {},
   "outputs": [
    {
     "data": {
      "text/plain": [
       "array([0, 1], dtype=int64)"
      ]
     },
     "execution_count": 14,
     "metadata": {},
     "output_type": "execute_result"
    }
   ],
   "source": [
    "data['fraud'].unique()"
   ]
  },
  {
   "cell_type": "markdown",
   "metadata": {},
   "source": [
    "## Missing values "
   ]
  },
  {
   "cell_type": "code",
   "execution_count": 15,
   "metadata": {},
   "outputs": [
    {
     "data": {
      "text/plain": [
       "step        0\n",
       "customer    0\n",
       "age         0\n",
       "gender      0\n",
       "merchant    0\n",
       "category    0\n",
       "amount      0\n",
       "fraud       0\n",
       "dtype: int64"
      ]
     },
     "execution_count": 15,
     "metadata": {},
     "output_type": "execute_result"
    }
   ],
   "source": [
    "data.isna().sum()"
   ]
  },
  {
   "cell_type": "code",
   "execution_count": 16,
   "metadata": {},
   "outputs": [
    {
     "data": {
      "text/plain": [
       "step        25200\n",
       "customer    25200\n",
       "age         25200\n",
       "gender      25200\n",
       "merchant    25200\n",
       "category    25200\n",
       "amount      25200\n",
       "fraud       25200\n",
       "dtype: int64"
      ]
     },
     "execution_count": 16,
     "metadata": {},
     "output_type": "execute_result"
    }
   ],
   "source": [
    "data.notna().sum()"
   ]
  },
  {
   "cell_type": "markdown",
   "metadata": {},
   "source": [
    "    - There are no any Null values present in this data"
   ]
  },
  {
   "cell_type": "markdown",
   "metadata": {},
   "source": [
    "## Correlation between the features"
   ]
  },
  {
   "cell_type": "code",
   "execution_count": 17,
   "metadata": {},
   "outputs": [
    {
     "data": {
      "text/html": [
       "<div>\n",
       "<style scoped>\n",
       "    .dataframe tbody tr th:only-of-type {\n",
       "        vertical-align: middle;\n",
       "    }\n",
       "\n",
       "    .dataframe tbody tr th {\n",
       "        vertical-align: top;\n",
       "    }\n",
       "\n",
       "    .dataframe thead th {\n",
       "        text-align: right;\n",
       "    }\n",
       "</style>\n",
       "<table border=\"1\" class=\"dataframe\">\n",
       "  <thead>\n",
       "    <tr style=\"text-align: right;\">\n",
       "      <th></th>\n",
       "      <th>amount</th>\n",
       "      <th>fraud</th>\n",
       "    </tr>\n",
       "  </thead>\n",
       "  <tbody>\n",
       "    <tr>\n",
       "      <th>amount</th>\n",
       "      <td>1.000000</td>\n",
       "      <td>0.450215</td>\n",
       "    </tr>\n",
       "    <tr>\n",
       "      <th>fraud</th>\n",
       "      <td>0.450215</td>\n",
       "      <td>1.000000</td>\n",
       "    </tr>\n",
       "  </tbody>\n",
       "</table>\n",
       "</div>"
      ],
      "text/plain": [
       "          amount     fraud\n",
       "amount  1.000000  0.450215\n",
       "fraud   0.450215  1.000000"
      ]
     },
     "execution_count": 17,
     "metadata": {},
     "output_type": "execute_result"
    }
   ],
   "source": [
    "data.corr()"
   ]
  },
  {
   "cell_type": "code",
   "execution_count": 18,
   "metadata": {},
   "outputs": [
    {
     "data": {
      "text/plain": [
       "<AxesSubplot:>"
      ]
     },
     "execution_count": 18,
     "metadata": {},
     "output_type": "execute_result"
    },
    {
     "data": {
      "image/png": "[encoded data removed]",
      "text/plain": [
       "<Figure size 432x288 with 2 Axes>"
      ]
     },
     "metadata": {
      "needs_background": "light"
     },
     "output_type": "display_data"
    }
   ],
   "source": [
    "sns.heatmap(data.corr(),annot=True, vmin=-1,vmax=+1)"
   ]
  },
  {
   "cell_type": "code",
   "execution_count": 19,
   "metadata": {},
   "outputs": [
    {
     "data": {
      "text/plain": [
       "array([[<AxesSubplot:title={'center':'amount'}>,\n",
       "        <AxesSubplot:title={'center':'fraud'}>]], dtype=object)"
      ]
     },
     "execution_count": 19,
     "metadata": {},
     "output_type": "execute_result"
    },
    {
     "data": {
      "image/png": "[encoded data removed]",
      "text/plain": [
       "<Figure size 720x864 with 2 Axes>"
      ]
     },
     "metadata": {
      "needs_background": "light"
     },
     "output_type": "display_data"
    }
   ],
   "source": [
    "data.hist(figsize=(10,12))"
   ]
  },
  {
   "cell_type": "code",
   "execution_count": null,
   "metadata": {},
   "outputs": [],
   "source": []
  },
  {
   "cell_type": "markdown",
   "metadata": {},
   "source": [
    "##  Outliers detection"
   ]
  },
  {
   "cell_type": "code",
   "execution_count": 20,
   "metadata": {},
   "outputs": [
    {
     "data": {
      "text/plain": [
       "<AxesSubplot:>"
      ]
     },
     "execution_count": 20,
     "metadata": {},
     "output_type": "execute_result"
    },
    {
     "data": {
      "image/png": "[encoded data removed]",
      "text/plain": [
       "<Figure size 720x1080 with 1 Axes>"
      ]
     },
     "metadata": {
      "needs_background": "light"
     },
     "output_type": "display_data"
    }
   ],
   "source": [
    "data.boxplot(figsize=(10,15))"
   ]
  },
  {
   "cell_type": "code",
   "execution_count": 21,
   "metadata": {},
   "outputs": [
    {
     "data": {
      "text/plain": [
       "<AxesSubplot:>"
      ]
     },
     "execution_count": 21,
     "metadata": {},
     "output_type": "execute_result"
    },
    {
     "data": {
      "image/png": "[encoded data removed]",
      "text/plain": [
       "<Figure size 432x288 with 1 Axes>"
      ]
     },
     "metadata": {
      "needs_background": "light"
     },
     "output_type": "display_data"
    }
   ],
   "source": [
    "data.boxplot(column='amount')\n"
   ]
  },
  {
   "cell_type": "code",
   "execution_count": 22,
   "metadata": {},
   "outputs": [
    {
     "name": "stdout",
     "output_type": "stream",
     "text": [
      "[0.31616547 0.86629822 0.26032901 ... 0.34266683 0.33691955 0.16029036]\n"
     ]
    }
   ],
   "source": [
    "data_n = data['amount']\n",
    "target = data['fraud']\n",
    "z = np.abs(stats.zscore(data_n)) \n",
    "print(z)"
   ]
  },
  {
   "cell_type": "code",
   "execution_count": 23,
   "metadata": {},
   "outputs": [
    {
     "name": "stdout",
     "output_type": "stream",
     "text": [
      "(array([   80,   116,   118,   177,   190,   258,   276,   378,   389,\n",
      "         447,   456,   509,   524,   551,   585,   721,   813,   857,\n",
      "         931,   954,  1003,  1009,  1022,  1103,  1151,  1180,  1430,\n",
      "        1452,  1454,  1475,  1517,  1551,  1579,  1623,  1628,  1678,\n",
      "        1703,  1751,  1826,  1889,  1961,  2021,  2253,  2259,  2336,\n",
      "        2460,  2628,  2774,  2838,  2918,  2924,  2925,  2937,  2949,\n",
      "        2993,  3027,  3061,  3085,  3136,  3189,  3411,  3471,  3585,\n",
      "        3622,  3642,  3679,  3806,  3838,  3853,  4011,  4068,  4082,\n",
      "        4174,  4273,  4312,  4363,  4479,  4591,  4603,  4641,  4648,\n",
      "        4804,  4825,  4925,  4989,  5033,  5083,  5093,  5179,  5183,\n",
      "        5254,  5361,  5510,  5589,  5594,  5681,  5785,  5840,  5851,\n",
      "        5873,  5906,  5923,  5944,  5954,  5976,  6017,  6239,  6343,\n",
      "        6359,  6363,  6385,  6447,  6457,  6459,  6466,  6588,  6614,\n",
      "        6619,  6688,  6819,  6833,  6929,  7071,  7110,  7117,  7124,\n",
      "        7130,  7522,  7529,  7652,  7654,  7727,  7739,  7748,  7760,\n",
      "        7769,  7772,  7822,  7873,  7907,  7997,  8052,  8319,  8431,\n",
      "        8565,  8573,  8691,  8765,  8783,  8815,  8854,  8861,  8948,\n",
      "        9059,  9201,  9331,  9555,  9740,  9756,  9994, 10015, 10037,\n",
      "       10205, 10253, 10256, 10294, 10313, 10387, 10416, 10465, 10546,\n",
      "       10627, 10732, 10893, 10958, 11025, 11049, 11133, 11215, 11252,\n",
      "       11276, 11412, 11415, 11418, 11501, 11515, 11521, 11612, 11672,\n",
      "       11759, 11775, 11906, 12132, 12252, 12268, 12356, 12364, 12387,\n",
      "       12464, 12488, 12527, 12551, 12591, 12621, 12662, 12669, 12673,\n",
      "       12690, 12717, 13124, 13195, 13209, 13213, 13270, 13388, 13424,\n",
      "       13492, 13497, 13572, 13671, 13672, 13850, 13907, 14067, 14233,\n",
      "       14259, 14320, 14365, 14719, 14726, 14813, 14916, 15088, 15134,\n",
      "       15273, 15356, 15361, 15439, 15490, 15512, 15638, 15673, 15730,\n",
      "       15880, 15959, 15989, 16038, 16093, 16118, 16124, 16244, 16348,\n",
      "       16380, 16475, 16481, 16731, 16748, 16864, 16936, 16944, 17058,\n",
      "       17068, 17108, 17170, 17218, 17247, 17261, 17293, 17388, 17399,\n",
      "       17401, 17458, 17463, 17530, 17536, 17815, 17857, 17934, 17961,\n",
      "       17976, 18076, 18294, 18439, 18444, 18506, 18520, 18582, 18604,\n",
      "       18699, 18742, 18992, 19029, 19288, 19479, 19518, 19655, 19766,\n",
      "       19789, 19828, 19862, 19927, 19974, 20145, 20149, 20155, 20220,\n",
      "       20231, 20255, 20303, 20532, 20634, 20773, 20820, 20822, 20834,\n",
      "       20904, 20952, 21124, 21162, 21169, 21261, 21306, 21318, 21395,\n",
      "       21408, 21525, 21538, 21614, 21672, 21759, 21826, 21850, 21936,\n",
      "       22122, 22175, 22245, 22382, 22393, 22421, 22507, 22620, 22719,\n",
      "       22749, 22784, 22794, 22941, 23111, 23122, 23134, 23193, 23250,\n",
      "       23369, 23399, 23494, 23502, 23545, 23574, 23601, 23684, 23750,\n",
      "       23846, 23847, 23933, 23961, 23975, 23988, 24149, 24152, 24192,\n",
      "       24196, 24232, 24239, 24309, 24327, 24396, 24490, 24570, 24700,\n",
      "       24733, 24744, 24745, 24898, 24954, 24964, 25026, 25037, 25074,\n",
      "       25087, 25090, 25124], dtype=int64),)\n"
     ]
    }
   ],
   "source": [
    "threshold = 3\n",
    "outliers = np.where(z > 3)\n",
    "print(outliers)"
   ]
  },
  {
   "cell_type": "markdown",
   "metadata": {},
   "source": [
    "    - These outliers might be the one of the fraudulent transactions.so there shouldn't be any outliers removal in this dataset"
   ]
  },
  {
   "cell_type": "code",
   "execution_count": 24,
   "metadata": {},
   "outputs": [
    {
     "data": {
      "text/plain": [
       "(25200,)"
      ]
     },
     "execution_count": 24,
     "metadata": {},
     "output_type": "execute_result"
    }
   ],
   "source": [
    "data_n.shape \n"
   ]
  },
  {
   "cell_type": "markdown",
   "metadata": {},
   "source": [
    "## data visualization\n"
   ]
  },
  {
   "cell_type": "code",
   "execution_count": 25,
   "metadata": {},
   "outputs": [
    {
     "data": {
      "text/plain": [
       "<seaborn.axisgrid.JointGrid at 0x20b0872f040>"
      ]
     },
     "execution_count": 25,
     "metadata": {},
     "output_type": "execute_result"
    },
    {
     "data": {
      "image/png": "[encoded data removed]",
      "text/plain": [
       "<Figure size 432x432 with 3 Axes>"
      ]
     },
     "metadata": {
      "needs_background": "light"
     },
     "output_type": "display_data"
    }
   ],
   "source": [
    "sns.jointplot(data['amount'],data['fraud'])\n"
   ]
  },
  {
   "cell_type": "code",
   "execution_count": 26,
   "metadata": {},
   "outputs": [
    {
     "data": {
      "text/plain": [
       "<seaborn.axisgrid.JointGrid at 0x20b0ede6760>"
      ]
     },
     "execution_count": 26,
     "metadata": {},
     "output_type": "execute_result"
    },
    {
     "data": {
      "image/png": "[encoded data removed]",
      "text/plain": [
       "<Figure size 432x432 with 3 Axes>"
      ]
     },
     "metadata": {
      "needs_background": "light"
     },
     "output_type": "display_data"
    }
   ],
   "source": [
    "sns.jointplot(data['amount'],data['fraud'],kind='hex')\n"
   ]
  },
  {
   "cell_type": "code",
   "execution_count": 27,
   "metadata": {},
   "outputs": [
    {
     "data": {
      "text/plain": [
       "<seaborn.axisgrid.FacetGrid at 0x20b0dcb7bb0>"
      ]
     },
     "execution_count": 27,
     "metadata": {},
     "output_type": "execute_result"
    },
    {
     "data": {
      "image/png": "[encoded data removed]",
      "text/plain": [
       "<Figure size 360x360 with 1 Axes>"
      ]
     },
     "metadata": {
      "needs_background": "light"
     },
     "output_type": "display_data"
    }
   ],
   "source": [
    "sns.lmplot(x='amount',y='fraud',data=data)\n",
    " "
   ]
  },
  {
   "cell_type": "code",
   "execution_count": 28,
   "metadata": {},
   "outputs": [
    {
     "data": {
      "text/plain": [
       "<AxesSubplot:xlabel='amount', ylabel='fraud'>"
      ]
     },
     "execution_count": 28,
     "metadata": {},
     "output_type": "execute_result"
    },
    {
     "data": {
      "image/png": "[encoded data removed]",
      "text/plain": [
       "<Figure size 432x288 with 1 Axes>"
      ]
     },
     "metadata": {
      "needs_background": "light"
     },
     "output_type": "display_data"
    }
   ],
   "source": [
    "sns.barplot(x='amount',y='fraud',data=data)\n"
   ]
  },
  {
   "cell_type": "markdown",
   "metadata": {},
   "source": [
    "## Train test split"
   ]
  },
  {
   "cell_type": "code",
   "execution_count": 36,
   "metadata": {},
   "outputs": [],
   "source": [
    "import joblib\n",
    "from sklearn.ensemble import RandomForestClassifier\n",
    "from sklearn.metrics import roc_auc_score\n",
    "from sklearn.metrics import confusion_matrix\n",
    "from sklearn.preprocessing import LabelEncoder\n",
    "from sklearn.model_selection import train_test_split\n"
   ]
  },
  {
   "cell_type": "code",
   "execution_count": 31,
   "metadata": {},
   "outputs": [],
   "source": [
    "entity_column = 'customer'\n",
    "target_column= 'fraud'\n",
    "datetime_columns = 'step'\n"
   ]
  },
  {
   "cell_type": "code",
   "execution_count": 32,
   "metadata": {},
   "outputs": [
    {
     "name": "stdout",
     "output_type": "stream",
     "text": [
      "['amount', 'fraud']\n"
     ]
    }
   ],
   "source": [
    "if entity_column == '':\n",
    "    data['entity_column']= data.index.tolist()\n",
    "    entity_column = 'entity_column' \n",
    "    \n",
    "if datetime_columns == '':\n",
    "    data['datetime_columns']= data.index.tolist()    \n",
    "    datetime_columns = 'datetime_columns'\n",
    "\n",
    "numerical_columns = data._get_numeric_data().columns.values.tolist()\n",
    "print(numerical_columns)\n"
   ]
  },
  {
   "cell_type": "code",
   "execution_count": 40,
   "metadata": {},
   "outputs": [
    {
     "name": "stdout",
     "output_type": "stream",
     "text": [
      "0.9960853703703704\n",
      "[[13193   307]\n",
      " [  243  5157]]\n"
     ]
    },
    {
     "data": {
      "text/plain": [
       "<AxesSubplot:>"
      ]
     },
     "execution_count": 40,
     "metadata": {},
     "output_type": "execute_result"
    },
    {
     "data": {
      "image/png": "[encoded data removed]",
      "text/plain": [
       "<Figure size 432x288 with 2 Axes>"
      ]
     },
     "metadata": {
      "needs_background": "light"
     },
     "output_type": "display_data"
    }
   ],
   "source": [
    "X = data.drop(columns=[entity_column,target_column,datetime_columns])\n",
    "y = data[target_column]\n",
    "\n",
    "# Label Encoding of Categorical Columns\n",
    "categorical_names = {}\n",
    "for feature in X.columns:\n",
    "    X[feature] =  X[feature].fillna('') \n",
    "    le =  LabelEncoder()\n",
    "    le.fit(X[feature])\n",
    "    X[feature] = le.transform(X[feature])\n",
    "    categorical_names[feature] = le.classes_\n",
    "    \n",
    "\n",
    "X_train, X_test, y_train, y_test = train_test_split(X, y, test_size=0.75, random_state=42,stratify=y)\n",
    "\n",
    "rf = RandomForestClassifier(criterion='entropy', class_weight='balanced', random_state=42)\n",
    "rf.fit(X_train, y_train)\n",
    "\n",
    "predictions = rf.predict_proba(X_test)\n",
    "predictions_class = rf.predict(X_test)\n",
    "\n",
    "\n",
    "if data[target_column].nunique()> 2:\n",
    "    rules_score = roc_auc_score(y_test, predictions[:,1], multi_class = 'ovo')\n",
    "else:\n",
    "    rules_score = roc_auc_score(y_test, predictions[:,1])\n",
    "\n",
    "print(rules_score)\n",
    "\n",
    "cf_matrix = confusion_matrix(y_test, predictions_class)\n",
    "print(cf_matrix)\n",
    "\n",
    "sns.heatmap(cf_matrix, annot=True)\n"
   ]
  },
  {
   "cell_type": "markdown",
   "metadata": {},
   "source": [
    "# Now adding the feature to reduce the false positive rate"
   ]
  },
  {
   "cell_type": "code",
   "execution_count": 43,
   "metadata": {},
   "outputs": [
    {
     "name": "stdout",
     "output_type": "stream",
     "text": [
      "0.9965852880658437\n",
      "[[13205   295]\n",
      " [  211  5189]]\n"
     ]
    },
    {
     "data": {
      "text/plain": [
       "<AxesSubplot:>"
      ]
     },
     "execution_count": 43,
     "metadata": {},
     "output_type": "execute_result"
    },
    {
     "data": {
      "image/png": "[encoded data removed]",
      "text/plain": [
       "<Figure size 432x288 with 2 Axes>"
      ]
     },
     "metadata": {
      "needs_background": "light"
     },
     "output_type": "display_data"
    }
   ],
   "source": [
    "X = data.drop(columns=[entity_column,target_column]) # as we have added datetime_columns here \n",
    "y = data[target_column]\n",
    "\n",
    "# Label Encoding of Categorical Columns\n",
    "categorical_names = {}\n",
    "for feature in X.columns:\n",
    "    X[feature] =  X[feature].fillna('') \n",
    "    le =  LabelEncoder()\n",
    "    le.fit(X[feature])\n",
    "    X[feature] = le.transform(X[feature])\n",
    "    categorical_names[feature] = le.classes_\n",
    "    \n",
    "\n",
    "X_train, X_test, y_train, y_test = train_test_split(X, y, test_size=0.75, random_state=42,stratify=y)\n",
    "\n",
    "rf = RandomForestClassifier(criterion='entropy', class_weight='balanced', random_state=42)\n",
    "rf.fit(X_train, y_train)\n",
    "\n",
    "predictions = rf.predict_proba(X_test)\n",
    "predictions_class = rf.predict(X_test)\n",
    "\n",
    "\n",
    "if data[target_column].nunique()> 2:\n",
    "    rules_score = roc_auc_score(y_test, predictions[:,1], multi_class = 'ovo')\n",
    "else:\n",
    "    rules_score = roc_auc_score(y_test, predictions[:,1])\n",
    "\n",
    "print(rules_score)\n",
    "\n",
    "cf_matrix = confusion_matrix(y_test, predictions_class)\n",
    "print(cf_matrix)\n",
    "\n",
    "sns.heatmap(cf_matrix, annot=True)\n"
   ]
  },
  {
   "cell_type": "markdown",
   "metadata": {},
   "source": [
    "## As we observe adding the TimeFrame feature for the fraud detection we got somehow reduced misclassification errors which means false positive rate"
   ]
  },
  {
   "cell_type": "code",
   "execution_count": null,
   "metadata": {},
   "outputs": [],
   "source": []
  }
 ],
 "metadata": {
  "kernelspec": {
   "display_name": "Python 3",
   "language": "python",
   "name": "python3"
  },
  "language_info": {
   "codemirror_mode": {
    "name": "ipython",
    "version": 3
   },
   "file_extension": ".py",
   "mimetype": "text/x-python",
   "name": "python",
   "nbconvert_exporter": "python",
   "pygments_lexer": "ipython3",
   "version": "3.8.5"
  }
 },
 "nbformat": 4,
 "nbformat_minor": 4
}
