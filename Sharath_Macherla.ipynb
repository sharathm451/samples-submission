{
  "nbformat": 4,
  "nbformat_minor": 0,
  "metadata": {
    "kernelspec": {
      "display_name": "Python 3",
      "language": "python",
      "name": "python3"
    },
    "language_info": {
      "codemirror_mode": {
        "name": "ipython",
        "version": 3
      },
      "file_extension": ".py",
      "mimetype": "text/x-python",
      "name": "python",
      "nbconvert_exporter": "python",
      "pygments_lexer": "ipython3",
      "version": "3.8.8"
    },
    "colab": {
      "name": "Sharath_Macherla.ipynb",
      "provenance": [],
      "collapsed_sections": []
    },
    "accelerator": "GPU"
  },
  "cells": [
    {
      "cell_type": "markdown",
      "metadata": {
        "id": "ujHkRDHHK7Dn"
      },
      "source": [
        "# Optimal Pricing\n",
        "\n",
        "Mexico City, Bogota and Quito are crowded cities with people willing to travel. As most of them are tourists, they rely on cabs to take them from one point to another. The cab aggregators named Ilumin have developed an app that can be used to book travel in & around each of the cities. \n",
        "Since the app is new, the management is unsure of its pricing model. Your task is to help Ilumin with the following, so that they can design their business model and app accordingly.\n",
        "\n",
        "## Get the Data\n",
        "Ilumin has collected and shared following datasets of past travels that were booked using the cabs, the cars which are being used in these cities and fuel prices in each of the cities for the past few years.\n",
        "\n",
        "The data is already provided for you.  You might be using a subset of the original dataset. "
      ]
    },
    {
      "cell_type": "code",
      "metadata": {
        "id": "nRu8sMosK7Ds"
      },
      "source": [
        "\"\"\"\n",
        "MAKE PATH CONSISTENT AND CLEAR\n",
        "\"\"\"\n",
        "import csv\n",
        "import numpy as np\n",
        "from pandas import read_csv\n",
        "\n",
        "path = r\"/content\""
      ],
      "execution_count": 1,
      "outputs": []
    },
    {
      "cell_type": "code",
      "metadata": {
        "id": "BYfMHDJfMGef"
      },
      "source": [
        "import warnings\n",
        "warnings.simplefilter('ignore')\n",
        "import pandas as pd \n",
        "import numpy as np \n",
        "import matplotlib.pyplot as plt \n",
        "import seaborn as sns"
      ],
      "execution_count": 2,
      "outputs": []
    },
    {
      "cell_type": "code",
      "metadata": {
        "id": "t1TqLLr6MHUo",
        "colab": {
          "base_uri": "https://localhost:8080/",
          "height": 220
        },
        "outputId": "b998901e-4e1e-4423-d388-801df27fd896"
      },
      "source": [
        "bogota = pd.read_csv(r'/content/bogota.csv')\n",
        "bogota.head()"
      ],
      "execution_count": 157,
      "outputs": [
        {
          "output_type": "execute_result",
          "data": {
            "text/html": [
              "<div>\n",
              "<style scoped>\n",
              "    .dataframe tbody tr th:only-of-type {\n",
              "        vertical-align: middle;\n",
              "    }\n",
              "\n",
              "    .dataframe tbody tr th {\n",
              "        vertical-align: top;\n",
              "    }\n",
              "\n",
              "    .dataframe thead th {\n",
              "        text-align: right;\n",
              "    }\n",
              "</style>\n",
              "<table border=\"1\" class=\"dataframe\">\n",
              "  <thead>\n",
              "    <tr style=\"text-align: right;\">\n",
              "      <th></th>\n",
              "      <th>id</th>\n",
              "      <th>vendor_id</th>\n",
              "      <th>pickup_datetime</th>\n",
              "      <th>dropoff_datetime</th>\n",
              "      <th>pickup_longitude</th>\n",
              "      <th>pickup_latitude</th>\n",
              "      <th>dropoff_longitude</th>\n",
              "      <th>dropoff_latitude</th>\n",
              "      <th>store_and_fwd_flag</th>\n",
              "      <th>trip_duration</th>\n",
              "      <th>dist_meters</th>\n",
              "      <th>wait_sec</th>\n",
              "    </tr>\n",
              "  </thead>\n",
              "  <tbody>\n",
              "    <tr>\n",
              "      <th>0</th>\n",
              "      <td>1</td>\n",
              "      <td>Bogotá</td>\n",
              "      <td>18-09-2019 01:54</td>\n",
              "      <td>18-09-2019 02:17</td>\n",
              "      <td>-74.170353</td>\n",
              "      <td>4.622699</td>\n",
              "      <td>-74.119259</td>\n",
              "      <td>4.572322</td>\n",
              "      <td>N</td>\n",
              "      <td>1419</td>\n",
              "      <td>11935</td>\n",
              "      <td>293</td>\n",
              "    </tr>\n",
              "    <tr>\n",
              "      <th>1</th>\n",
              "      <td>2</td>\n",
              "      <td>Bogotá</td>\n",
              "      <td>18-09-2019 03:31</td>\n",
              "      <td>18-09-2019 03:44</td>\n",
              "      <td>-74.123542</td>\n",
              "      <td>4.604075</td>\n",
              "      <td>-74.116125</td>\n",
              "      <td>4.572578</td>\n",
              "      <td>N</td>\n",
              "      <td>782</td>\n",
              "      <td>7101</td>\n",
              "      <td>139</td>\n",
              "    </tr>\n",
              "    <tr>\n",
              "      <th>2</th>\n",
              "      <td>3</td>\n",
              "      <td>Bogotá</td>\n",
              "      <td>07-08-2019 03:35</td>\n",
              "      <td>18-09-2019 04:30</td>\n",
              "      <td>-74.178643</td>\n",
              "      <td>4.646176</td>\n",
              "      <td>-74.178711</td>\n",
              "      <td>4.646367</td>\n",
              "      <td>N</td>\n",
              "      <td>3632095</td>\n",
              "      <td>2655</td>\n",
              "      <td>2534</td>\n",
              "    </tr>\n",
              "    <tr>\n",
              "      <th>3</th>\n",
              "      <td>4</td>\n",
              "      <td>Bogotá</td>\n",
              "      <td>18-09-2019 04:31</td>\n",
              "      <td>18-09-2019 04:32</td>\n",
              "      <td>-74.163398</td>\n",
              "      <td>4.641949</td>\n",
              "      <td>-74.165813</td>\n",
              "      <td>4.640649</td>\n",
              "      <td>N</td>\n",
              "      <td>66</td>\n",
              "      <td>318</td>\n",
              "      <td>52</td>\n",
              "    </tr>\n",
              "    <tr>\n",
              "      <th>4</th>\n",
              "      <td>5</td>\n",
              "      <td>Bogotá</td>\n",
              "      <td>13-09-2019 12:07</td>\n",
              "      <td>18-09-2019 05:00</td>\n",
              "      <td>-74.137539</td>\n",
              "      <td>4.596347</td>\n",
              "      <td>-74.125364</td>\n",
              "      <td>4.576745</td>\n",
              "      <td>N</td>\n",
              "      <td>449620</td>\n",
              "      <td>3228</td>\n",
              "      <td>211</td>\n",
              "    </tr>\n",
              "  </tbody>\n",
              "</table>\n",
              "</div>"
            ],
            "text/plain": [
              "   id vendor_id   pickup_datetime  ... trip_duration  dist_meters  wait_sec\n",
              "0   1    Bogotá  18-09-2019 01:54  ...          1419        11935       293\n",
              "1   2    Bogotá  18-09-2019 03:31  ...           782         7101       139\n",
              "2   3    Bogotá  07-08-2019 03:35  ...       3632095         2655      2534\n",
              "3   4    Bogotá  18-09-2019 04:31  ...            66          318        52\n",
              "4   5    Bogotá  13-09-2019 12:07  ...        449620         3228       211\n",
              "\n",
              "[5 rows x 12 columns]"
            ]
          },
          "metadata": {},
          "execution_count": 157
        },
        {
          "output_type": "stream",
          "name": "stdout",
          "text": [
            "time: 46.1 ms (started: 2021-11-12 01:08:21 +00:00)\n"
          ]
        }
      ]
    },
    {
      "cell_type": "code",
      "metadata": {
        "id": "EiXECySJMHc7",
        "colab": {
          "base_uri": "https://localhost:8080/",
          "height": 304
        },
        "outputId": "7effe2c4-dc6e-472e-dabe-716451f55ee1"
      },
      "source": [
        "mexico = pd.read_csv(r'/content/mexico_city.csv')\n",
        "mexico.head()"
      ],
      "execution_count": 158,
      "outputs": [
        {
          "output_type": "execute_result",
          "data": {
            "text/html": [
              "<div>\n",
              "<style scoped>\n",
              "    .dataframe tbody tr th:only-of-type {\n",
              "        vertical-align: middle;\n",
              "    }\n",
              "\n",
              "    .dataframe tbody tr th {\n",
              "        vertical-align: top;\n",
              "    }\n",
              "\n",
              "    .dataframe thead th {\n",
              "        text-align: right;\n",
              "    }\n",
              "</style>\n",
              "<table border=\"1\" class=\"dataframe\">\n",
              "  <thead>\n",
              "    <tr style=\"text-align: right;\">\n",
              "      <th></th>\n",
              "      <th>id</th>\n",
              "      <th>vendor_id</th>\n",
              "      <th>pickup_datetime</th>\n",
              "      <th>dropoff_datetime</th>\n",
              "      <th>pickup_longitude</th>\n",
              "      <th>pickup_latitude</th>\n",
              "      <th>dropoff_longitude</th>\n",
              "      <th>dropoff_latitude</th>\n",
              "      <th>store_and_fwd_flag</th>\n",
              "      <th>trip_duration</th>\n",
              "      <th>dist_meters</th>\n",
              "      <th>wait_sec</th>\n",
              "    </tr>\n",
              "  </thead>\n",
              "  <tbody>\n",
              "    <tr>\n",
              "      <th>0</th>\n",
              "      <td>1</td>\n",
              "      <td>México DF Taxi de Sitio</td>\n",
              "      <td>16-09-2019 07:14</td>\n",
              "      <td>18-09-2019 04:41</td>\n",
              "      <td>-99.097369</td>\n",
              "      <td>19.416874</td>\n",
              "      <td>-99.202729</td>\n",
              "      <td>19.430353</td>\n",
              "      <td>N</td>\n",
              "      <td>120449</td>\n",
              "      <td>12373</td>\n",
              "      <td>242</td>\n",
              "    </tr>\n",
              "    <tr>\n",
              "      <th>1</th>\n",
              "      <td>2</td>\n",
              "      <td>México DF Taxi Libre</td>\n",
              "      <td>18-09-2019 06:16</td>\n",
              "      <td>18-09-2019 10:11</td>\n",
              "      <td>-99.297148</td>\n",
              "      <td>19.322128</td>\n",
              "      <td>-99.289949</td>\n",
              "      <td>19.326538</td>\n",
              "      <td>N</td>\n",
              "      <td>14110</td>\n",
              "      <td>1700</td>\n",
              "      <td>461</td>\n",
              "    </tr>\n",
              "    <tr>\n",
              "      <th>2</th>\n",
              "      <td>3</td>\n",
              "      <td>México DF Taxi Libre</td>\n",
              "      <td>18-09-2019 10:11</td>\n",
              "      <td>18-09-2019 10:23</td>\n",
              "      <td>-99.289603</td>\n",
              "      <td>19.326263</td>\n",
              "      <td>-99.271874</td>\n",
              "      <td>19.328530</td>\n",
              "      <td>N</td>\n",
              "      <td>681</td>\n",
              "      <td>2848</td>\n",
              "      <td>129</td>\n",
              "    </tr>\n",
              "    <tr>\n",
              "      <th>3</th>\n",
              "      <td>4</td>\n",
              "      <td>México DF Taxi Libre</td>\n",
              "      <td>18-09-2019 10:23</td>\n",
              "      <td>18-09-2019 10:30</td>\n",
              "      <td>-99.271161</td>\n",
              "      <td>19.328875</td>\n",
              "      <td>-99.279900</td>\n",
              "      <td>19.326256</td>\n",
              "      <td>N</td>\n",
              "      <td>436</td>\n",
              "      <td>1409</td>\n",
              "      <td>106</td>\n",
              "    </tr>\n",
              "    <tr>\n",
              "      <th>4</th>\n",
              "      <td>5</td>\n",
              "      <td>México DF Taxi Libre</td>\n",
              "      <td>18-09-2019 10:44</td>\n",
              "      <td>18-09-2019 10:51</td>\n",
              "      <td>-99.282761</td>\n",
              "      <td>19.326944</td>\n",
              "      <td>-99.291705</td>\n",
              "      <td>19.322754</td>\n",
              "      <td>N</td>\n",
              "      <td>442</td>\n",
              "      <td>1567</td>\n",
              "      <td>85</td>\n",
              "    </tr>\n",
              "  </tbody>\n",
              "</table>\n",
              "</div>"
            ],
            "text/plain": [
              "   id                vendor_id  ... dist_meters wait_sec\n",
              "0   1  México DF Taxi de Sitio  ...       12373      242\n",
              "1   2     México DF Taxi Libre  ...        1700      461\n",
              "2   3     México DF Taxi Libre  ...        2848      129\n",
              "3   4     México DF Taxi Libre  ...        1409      106\n",
              "4   5     México DF Taxi Libre  ...        1567       85\n",
              "\n",
              "[5 rows x 12 columns]"
            ]
          },
          "metadata": {},
          "execution_count": 158
        },
        {
          "output_type": "stream",
          "name": "stdout",
          "text": [
            "time: 63 ms (started: 2021-11-12 01:08:25 +00:00)\n"
          ]
        }
      ]
    },
    {
      "cell_type": "code",
      "metadata": {
        "id": "R7EbHlslQbNO",
        "colab": {
          "base_uri": "https://localhost:8080/",
          "height": 220
        },
        "outputId": "9a36f950-58a6-4018-b2d0-9fc2b5f41992"
      },
      "source": [
        "quito = pd.read_csv(r'/content/quito.csv')\n",
        "quito.head()"
      ],
      "execution_count": 159,
      "outputs": [
        {
          "output_type": "execute_result",
          "data": {
            "text/html": [
              "<div>\n",
              "<style scoped>\n",
              "    .dataframe tbody tr th:only-of-type {\n",
              "        vertical-align: middle;\n",
              "    }\n",
              "\n",
              "    .dataframe tbody tr th {\n",
              "        vertical-align: top;\n",
              "    }\n",
              "\n",
              "    .dataframe thead th {\n",
              "        text-align: right;\n",
              "    }\n",
              "</style>\n",
              "<table border=\"1\" class=\"dataframe\">\n",
              "  <thead>\n",
              "    <tr style=\"text-align: right;\">\n",
              "      <th></th>\n",
              "      <th>id</th>\n",
              "      <th>vendor_id</th>\n",
              "      <th>pickup_datetime</th>\n",
              "      <th>dropoff_datetime</th>\n",
              "      <th>pickup_longitude</th>\n",
              "      <th>pickup_latitude</th>\n",
              "      <th>dropoff_longitude</th>\n",
              "      <th>dropoff_latitude</th>\n",
              "      <th>store_and_fwd_flag</th>\n",
              "      <th>trip_duration</th>\n",
              "      <th>dist_meters</th>\n",
              "      <th>wait_sec</th>\n",
              "    </tr>\n",
              "  </thead>\n",
              "  <tbody>\n",
              "    <tr>\n",
              "      <th>0</th>\n",
              "      <td>1</td>\n",
              "      <td>Quito</td>\n",
              "      <td>17-09-2019 09:32</td>\n",
              "      <td>17-09-2019 10:05</td>\n",
              "      <td>-78.503922</td>\n",
              "      <td>-0.232824</td>\n",
              "      <td>-78.549447</td>\n",
              "      <td>-0.361363</td>\n",
              "      <td>N</td>\n",
              "      <td>2025</td>\n",
              "      <td>24228</td>\n",
              "      <td>346</td>\n",
              "    </tr>\n",
              "    <tr>\n",
              "      <th>1</th>\n",
              "      <td>2</td>\n",
              "      <td>Quito</td>\n",
              "      <td>18-09-2019 04:03</td>\n",
              "      <td>18-09-2019 04:26</td>\n",
              "      <td>-78.440306</td>\n",
              "      <td>0.006789</td>\n",
              "      <td>-78.490786</td>\n",
              "      <td>-0.104836</td>\n",
              "      <td>N</td>\n",
              "      <td>1390</td>\n",
              "      <td>16680</td>\n",
              "      <td>456</td>\n",
              "    </tr>\n",
              "    <tr>\n",
              "      <th>2</th>\n",
              "      <td>3</td>\n",
              "      <td>Quito</td>\n",
              "      <td>16-09-2019 06:29</td>\n",
              "      <td>18-09-2019 06:41</td>\n",
              "      <td>-78.469551</td>\n",
              "      <td>-0.143636</td>\n",
              "      <td>-78.470277</td>\n",
              "      <td>-0.131083</td>\n",
              "      <td>N</td>\n",
              "      <td>130317</td>\n",
              "      <td>1987</td>\n",
              "      <td>290</td>\n",
              "    </tr>\n",
              "    <tr>\n",
              "      <th>3</th>\n",
              "      <td>4</td>\n",
              "      <td>Quito</td>\n",
              "      <td>18-09-2019 05:57</td>\n",
              "      <td>18-09-2019 06:30</td>\n",
              "      <td>-78.558076</td>\n",
              "      <td>-0.278241</td>\n",
              "      <td>-78.430220</td>\n",
              "      <td>-0.201934</td>\n",
              "      <td>N</td>\n",
              "      <td>1933</td>\n",
              "      <td>25146</td>\n",
              "      <td>302</td>\n",
              "    </tr>\n",
              "    <tr>\n",
              "      <th>4</th>\n",
              "      <td>5</td>\n",
              "      <td>Quito</td>\n",
              "      <td>18-09-2019 07:58</td>\n",
              "      <td>18-09-2019 08:14</td>\n",
              "      <td>-78.521818</td>\n",
              "      <td>-0.208480</td>\n",
              "      <td>-78.504558</td>\n",
              "      <td>-0.222462</td>\n",
              "      <td>N</td>\n",
              "      <td>948</td>\n",
              "      <td>4625</td>\n",
              "      <td>314</td>\n",
              "    </tr>\n",
              "  </tbody>\n",
              "</table>\n",
              "</div>"
            ],
            "text/plain": [
              "   id vendor_id   pickup_datetime  ... trip_duration  dist_meters  wait_sec\n",
              "0   1     Quito  17-09-2019 09:32  ...          2025        24228       346\n",
              "1   2     Quito  18-09-2019 04:03  ...          1390        16680       456\n",
              "2   3     Quito  16-09-2019 06:29  ...        130317         1987       290\n",
              "3   4     Quito  18-09-2019 05:57  ...          1933        25146       302\n",
              "4   5     Quito  18-09-2019 07:58  ...           948         4625       314\n",
              "\n",
              "[5 rows x 12 columns]"
            ]
          },
          "metadata": {},
          "execution_count": 159
        },
        {
          "output_type": "stream",
          "name": "stdout",
          "text": [
            "time: 97.4 ms (started: 2021-11-12 01:08:29 +00:00)\n"
          ]
        }
      ]
    },
    {
      "cell_type": "markdown",
      "metadata": {
        "id": "JNoDChFdQxLD"
      },
      "source": [
        "## 1) Bogota city"
      ]
    },
    {
      "cell_type": "code",
      "metadata": {
        "id": "JvNKm9LYQa9M",
        "colab": {
          "base_uri": "https://localhost:8080/"
        },
        "outputId": "4c9d0d70-ea8f-4423-a4fe-d2c03d33ae92"
      },
      "source": [
        "bogota.shape"
      ],
      "execution_count": 6,
      "outputs": [
        {
          "output_type": "execute_result",
          "data": {
            "text/plain": [
              "(3063, 12)"
            ]
          },
          "metadata": {},
          "execution_count": 6
        }
      ]
    },
    {
      "cell_type": "code",
      "metadata": {
        "id": "fzQsaz4QQa4g",
        "colab": {
          "base_uri": "https://localhost:8080/",
          "height": 295
        },
        "outputId": "8361e44e-8956-443a-ed26-26a478e6ccad"
      },
      "source": [
        "bogota.describe()"
      ],
      "execution_count": 7,
      "outputs": [
        {
          "output_type": "execute_result",
          "data": {
            "text/html": [
              "<div>\n",
              "<style scoped>\n",
              "    .dataframe tbody tr th:only-of-type {\n",
              "        vertical-align: middle;\n",
              "    }\n",
              "\n",
              "    .dataframe tbody tr th {\n",
              "        vertical-align: top;\n",
              "    }\n",
              "\n",
              "    .dataframe thead th {\n",
              "        text-align: right;\n",
              "    }\n",
              "</style>\n",
              "<table border=\"1\" class=\"dataframe\">\n",
              "  <thead>\n",
              "    <tr style=\"text-align: right;\">\n",
              "      <th></th>\n",
              "      <th>id</th>\n",
              "      <th>pickup_longitude</th>\n",
              "      <th>pickup_latitude</th>\n",
              "      <th>dropoff_longitude</th>\n",
              "      <th>dropoff_latitude</th>\n",
              "      <th>trip_duration</th>\n",
              "      <th>dist_meters</th>\n",
              "      <th>wait_sec</th>\n",
              "    </tr>\n",
              "  </thead>\n",
              "  <tbody>\n",
              "    <tr>\n",
              "      <th>count</th>\n",
              "      <td>3063.000000</td>\n",
              "      <td>3063.000000</td>\n",
              "      <td>3063.000000</td>\n",
              "      <td>3063.000000</td>\n",
              "      <td>3063.000000</td>\n",
              "      <td>3.063000e+03</td>\n",
              "      <td>3.063000e+03</td>\n",
              "      <td>3.063000e+03</td>\n",
              "    </tr>\n",
              "    <tr>\n",
              "      <th>mean</th>\n",
              "      <td>1532.000000</td>\n",
              "      <td>-74.098884</td>\n",
              "      <td>4.670920</td>\n",
              "      <td>-74.100136</td>\n",
              "      <td>4.669038</td>\n",
              "      <td>9.295603e+04</td>\n",
              "      <td>-1.392301e+06</td>\n",
              "      <td>9.652921e+05</td>\n",
              "    </tr>\n",
              "    <tr>\n",
              "      <th>std</th>\n",
              "      <td>884.356263</td>\n",
              "      <td>0.138975</td>\n",
              "      <td>0.091885</td>\n",
              "      <td>0.139508</td>\n",
              "      <td>0.092942</td>\n",
              "      <td>5.899404e+05</td>\n",
              "      <td>5.486590e+07</td>\n",
              "      <td>3.757377e+07</td>\n",
              "    </tr>\n",
              "    <tr>\n",
              "      <th>min</th>\n",
              "      <td>1.000000</td>\n",
              "      <td>-76.534419</td>\n",
              "      <td>3.391712</td>\n",
              "      <td>-76.542536</td>\n",
              "      <td>3.391941</td>\n",
              "      <td>2.000000e+00</td>\n",
              "      <td>-2.147484e+09</td>\n",
              "      <td>0.000000e+00</td>\n",
              "    </tr>\n",
              "    <tr>\n",
              "      <th>25%</th>\n",
              "      <td>766.500000</td>\n",
              "      <td>-74.123948</td>\n",
              "      <td>4.629166</td>\n",
              "      <td>-74.122538</td>\n",
              "      <td>4.625974</td>\n",
              "      <td>5.385000e+02</td>\n",
              "      <td>1.672000e+03</td>\n",
              "      <td>9.100000e+01</td>\n",
              "    </tr>\n",
              "    <tr>\n",
              "      <th>50%</th>\n",
              "      <td>1532.000000</td>\n",
              "      <td>-74.085985</td>\n",
              "      <td>4.683676</td>\n",
              "      <td>-74.089411</td>\n",
              "      <td>4.677560</td>\n",
              "      <td>1.442000e+03</td>\n",
              "      <td>5.375000e+03</td>\n",
              "      <td>3.000000e+02</td>\n",
              "    </tr>\n",
              "    <tr>\n",
              "      <th>75%</th>\n",
              "      <td>2297.500000</td>\n",
              "      <td>-74.055464</td>\n",
              "      <td>4.717402</td>\n",
              "      <td>-74.058683</td>\n",
              "      <td>4.719314</td>\n",
              "      <td>3.813000e+03</td>\n",
              "      <td>1.085600e+04</td>\n",
              "      <td>8.445000e+02</td>\n",
              "    </tr>\n",
              "    <tr>\n",
              "      <th>max</th>\n",
              "      <td>3063.000000</td>\n",
              "      <td>-73.829723</td>\n",
              "      <td>5.029401</td>\n",
              "      <td>-73.615700</td>\n",
              "      <td>5.029189</td>\n",
              "      <td>1.227617e+07</td>\n",
              "      <td>3.478510e+05</td>\n",
              "      <td>1.471920e+09</td>\n",
              "    </tr>\n",
              "  </tbody>\n",
              "</table>\n",
              "</div>"
            ],
            "text/plain": [
              "                id  pickup_longitude  ...   dist_meters      wait_sec\n",
              "count  3063.000000       3063.000000  ...  3.063000e+03  3.063000e+03\n",
              "mean   1532.000000        -74.098884  ... -1.392301e+06  9.652921e+05\n",
              "std     884.356263          0.138975  ...  5.486590e+07  3.757377e+07\n",
              "min       1.000000        -76.534419  ... -2.147484e+09  0.000000e+00\n",
              "25%     766.500000        -74.123948  ...  1.672000e+03  9.100000e+01\n",
              "50%    1532.000000        -74.085985  ...  5.375000e+03  3.000000e+02\n",
              "75%    2297.500000        -74.055464  ...  1.085600e+04  8.445000e+02\n",
              "max    3063.000000        -73.829723  ...  3.478510e+05  1.471920e+09\n",
              "\n",
              "[8 rows x 8 columns]"
            ]
          },
          "metadata": {},
          "execution_count": 7
        }
      ]
    },
    {
      "cell_type": "code",
      "metadata": {
        "id": "sA2sBfquQayu",
        "colab": {
          "base_uri": "https://localhost:8080/"
        },
        "outputId": "62f32411-5fb7-4f50-ce96-e14fd87adbca"
      },
      "source": [
        "bogota.info()"
      ],
      "execution_count": 8,
      "outputs": [
        {
          "output_type": "stream",
          "name": "stdout",
          "text": [
            "<class 'pandas.core.frame.DataFrame'>\n",
            "RangeIndex: 3063 entries, 0 to 3062\n",
            "Data columns (total 12 columns):\n",
            " #   Column              Non-Null Count  Dtype  \n",
            "---  ------              --------------  -----  \n",
            " 0   id                  3063 non-null   int64  \n",
            " 1   vendor_id           3063 non-null   object \n",
            " 2   pickup_datetime     3063 non-null   object \n",
            " 3   dropoff_datetime    3063 non-null   object \n",
            " 4   pickup_longitude    3063 non-null   float64\n",
            " 5   pickup_latitude     3063 non-null   float64\n",
            " 6   dropoff_longitude   3063 non-null   float64\n",
            " 7   dropoff_latitude    3063 non-null   float64\n",
            " 8   store_and_fwd_flag  3063 non-null   object \n",
            " 9   trip_duration       3063 non-null   int64  \n",
            " 10  dist_meters         3063 non-null   int64  \n",
            " 11  wait_sec            3063 non-null   int64  \n",
            "dtypes: float64(4), int64(4), object(4)\n",
            "memory usage: 287.3+ KB\n"
          ]
        }
      ]
    },
    {
      "cell_type": "code",
      "metadata": {
        "id": "bif73ncwQavl",
        "colab": {
          "base_uri": "https://localhost:8080/"
        },
        "outputId": "5902bb31-53ba-4b5c-abce-40c6e6724d37"
      },
      "source": [
        "bogota.isna().sum()"
      ],
      "execution_count": 9,
      "outputs": [
        {
          "output_type": "execute_result",
          "data": {
            "text/plain": [
              "id                    0\n",
              "vendor_id             0\n",
              "pickup_datetime       0\n",
              "dropoff_datetime      0\n",
              "pickup_longitude      0\n",
              "pickup_latitude       0\n",
              "dropoff_longitude     0\n",
              "dropoff_latitude      0\n",
              "store_and_fwd_flag    0\n",
              "trip_duration         0\n",
              "dist_meters           0\n",
              "wait_sec              0\n",
              "dtype: int64"
            ]
          },
          "metadata": {},
          "execution_count": 9
        }
      ]
    },
    {
      "cell_type": "code",
      "metadata": {
        "id": "AI1udRzYQaqQ",
        "colab": {
          "base_uri": "https://localhost:8080/",
          "height": 203
        },
        "outputId": "91009d47-7785-4bcc-991b-0590471465e0"
      },
      "source": [
        "bogota.head()"
      ],
      "execution_count": 10,
      "outputs": [
        {
          "output_type": "execute_result",
          "data": {
            "text/html": [
              "<div>\n",
              "<style scoped>\n",
              "    .dataframe tbody tr th:only-of-type {\n",
              "        vertical-align: middle;\n",
              "    }\n",
              "\n",
              "    .dataframe tbody tr th {\n",
              "        vertical-align: top;\n",
              "    }\n",
              "\n",
              "    .dataframe thead th {\n",
              "        text-align: right;\n",
              "    }\n",
              "</style>\n",
              "<table border=\"1\" class=\"dataframe\">\n",
              "  <thead>\n",
              "    <tr style=\"text-align: right;\">\n",
              "      <th></th>\n",
              "      <th>id</th>\n",
              "      <th>vendor_id</th>\n",
              "      <th>pickup_datetime</th>\n",
              "      <th>dropoff_datetime</th>\n",
              "      <th>pickup_longitude</th>\n",
              "      <th>pickup_latitude</th>\n",
              "      <th>dropoff_longitude</th>\n",
              "      <th>dropoff_latitude</th>\n",
              "      <th>store_and_fwd_flag</th>\n",
              "      <th>trip_duration</th>\n",
              "      <th>dist_meters</th>\n",
              "      <th>wait_sec</th>\n",
              "    </tr>\n",
              "  </thead>\n",
              "  <tbody>\n",
              "    <tr>\n",
              "      <th>0</th>\n",
              "      <td>1</td>\n",
              "      <td>Bogotá</td>\n",
              "      <td>18-09-2019 01:54</td>\n",
              "      <td>18-09-2019 02:17</td>\n",
              "      <td>-74.170353</td>\n",
              "      <td>4.622699</td>\n",
              "      <td>-74.119259</td>\n",
              "      <td>4.572322</td>\n",
              "      <td>N</td>\n",
              "      <td>1419</td>\n",
              "      <td>11935</td>\n",
              "      <td>293</td>\n",
              "    </tr>\n",
              "    <tr>\n",
              "      <th>1</th>\n",
              "      <td>2</td>\n",
              "      <td>Bogotá</td>\n",
              "      <td>18-09-2019 03:31</td>\n",
              "      <td>18-09-2019 03:44</td>\n",
              "      <td>-74.123542</td>\n",
              "      <td>4.604075</td>\n",
              "      <td>-74.116125</td>\n",
              "      <td>4.572578</td>\n",
              "      <td>N</td>\n",
              "      <td>782</td>\n",
              "      <td>7101</td>\n",
              "      <td>139</td>\n",
              "    </tr>\n",
              "    <tr>\n",
              "      <th>2</th>\n",
              "      <td>3</td>\n",
              "      <td>Bogotá</td>\n",
              "      <td>07-08-2019 03:35</td>\n",
              "      <td>18-09-2019 04:30</td>\n",
              "      <td>-74.178643</td>\n",
              "      <td>4.646176</td>\n",
              "      <td>-74.178711</td>\n",
              "      <td>4.646367</td>\n",
              "      <td>N</td>\n",
              "      <td>3632095</td>\n",
              "      <td>2655</td>\n",
              "      <td>2534</td>\n",
              "    </tr>\n",
              "    <tr>\n",
              "      <th>3</th>\n",
              "      <td>4</td>\n",
              "      <td>Bogotá</td>\n",
              "      <td>18-09-2019 04:31</td>\n",
              "      <td>18-09-2019 04:32</td>\n",
              "      <td>-74.163398</td>\n",
              "      <td>4.641949</td>\n",
              "      <td>-74.165813</td>\n",
              "      <td>4.640649</td>\n",
              "      <td>N</td>\n",
              "      <td>66</td>\n",
              "      <td>318</td>\n",
              "      <td>52</td>\n",
              "    </tr>\n",
              "    <tr>\n",
              "      <th>4</th>\n",
              "      <td>5</td>\n",
              "      <td>Bogotá</td>\n",
              "      <td>13-09-2019 12:07</td>\n",
              "      <td>18-09-2019 05:00</td>\n",
              "      <td>-74.137539</td>\n",
              "      <td>4.596347</td>\n",
              "      <td>-74.125364</td>\n",
              "      <td>4.576745</td>\n",
              "      <td>N</td>\n",
              "      <td>449620</td>\n",
              "      <td>3228</td>\n",
              "      <td>211</td>\n",
              "    </tr>\n",
              "  </tbody>\n",
              "</table>\n",
              "</div>"
            ],
            "text/plain": [
              "   id vendor_id   pickup_datetime  ... trip_duration  dist_meters  wait_sec\n",
              "0   1    Bogotá  18-09-2019 01:54  ...          1419        11935       293\n",
              "1   2    Bogotá  18-09-2019 03:31  ...           782         7101       139\n",
              "2   3    Bogotá  07-08-2019 03:35  ...       3632095         2655      2534\n",
              "3   4    Bogotá  18-09-2019 04:31  ...            66          318        52\n",
              "4   5    Bogotá  13-09-2019 12:07  ...        449620         3228       211\n",
              "\n",
              "[5 rows x 12 columns]"
            ]
          },
          "metadata": {},
          "execution_count": 10
        }
      ]
    },
    {
      "cell_type": "code",
      "metadata": {
        "id": "nl-wHTJSSrVv",
        "colab": {
          "base_uri": "https://localhost:8080/"
        },
        "outputId": "de585555-da21-42ba-9fed-23a321089490"
      },
      "source": [
        "bogota.columns "
      ],
      "execution_count": 11,
      "outputs": [
        {
          "output_type": "execute_result",
          "data": {
            "text/plain": [
              "Index(['id', 'vendor_id', 'pickup_datetime', 'dropoff_datetime',\n",
              "       'pickup_longitude', 'pickup_latitude', 'dropoff_longitude',\n",
              "       'dropoff_latitude', 'store_and_fwd_flag', 'trip_duration',\n",
              "       'dist_meters', 'wait_sec'],\n",
              "      dtype='object')"
            ]
          },
          "metadata": {},
          "execution_count": 11
        }
      ]
    },
    {
      "cell_type": "code",
      "metadata": {
        "id": "vW-_tSyKQaft",
        "colab": {
          "base_uri": "https://localhost:8080/"
        },
        "outputId": "74ba9196-ec4d-4daa-9dfb-195dc9348c08"
      },
      "source": [
        "bogota['wait_sec'].value_counts().sort_values(ascending = False).head(20)"
      ],
      "execution_count": 12,
      "outputs": [
        {
          "output_type": "execute_result",
          "data": {
            "text/plain": [
              "0         60\n",
              "1         17\n",
              "10        16\n",
              "114535    15\n",
              "47        15\n",
              "4         15\n",
              "91        15\n",
              "6         14\n",
              "5         14\n",
              "17        14\n",
              "34        13\n",
              "70        13\n",
              "12        12\n",
              "18        12\n",
              "26        11\n",
              "2         11\n",
              "3         11\n",
              "19        11\n",
              "27        11\n",
              "13        11\n",
              "Name: wait_sec, dtype: int64"
            ]
          },
          "metadata": {},
          "execution_count": 12
        }
      ]
    },
    {
      "cell_type": "code",
      "metadata": {
        "id": "kIy4BUN7SrgG",
        "colab": {
          "base_uri": "https://localhost:8080/"
        },
        "outputId": "3a30b2a8-4fd0-4523-82f7-d692f0f7a1b7"
      },
      "source": [
        "bogota['wait_sec'].nunique()"
      ],
      "execution_count": 13,
      "outputs": [
        {
          "output_type": "execute_result",
          "data": {
            "text/plain": [
              "1310"
            ]
          },
          "metadata": {},
          "execution_count": 13
        }
      ]
    },
    {
      "cell_type": "code",
      "metadata": {
        "id": "moclrTrcSrnJ",
        "colab": {
          "base_uri": "https://localhost:8080/"
        },
        "outputId": "bade7206-e0ab-4fff-b6fd-6ee19f6a6969"
      },
      "source": [
        "bogota.dtypes "
      ],
      "execution_count": 14,
      "outputs": [
        {
          "output_type": "execute_result",
          "data": {
            "text/plain": [
              "id                      int64\n",
              "vendor_id              object\n",
              "pickup_datetime        object\n",
              "dropoff_datetime       object\n",
              "pickup_longitude      float64\n",
              "pickup_latitude       float64\n",
              "dropoff_longitude     float64\n",
              "dropoff_latitude      float64\n",
              "store_and_fwd_flag     object\n",
              "trip_duration           int64\n",
              "dist_meters             int64\n",
              "wait_sec                int64\n",
              "dtype: object"
            ]
          },
          "metadata": {},
          "execution_count": 14
        }
      ]
    },
    {
      "cell_type": "code",
      "metadata": {
        "id": "Ti_EFm6BSrtP",
        "colab": {
          "base_uri": "https://localhost:8080/",
          "height": 789
        },
        "outputId": "b9848f3a-61f2-4297-ef57-1cba4b68fb5a"
      },
      "source": [
        "bogota.hist(figsize=(12,10))"
      ],
      "execution_count": 15,
      "outputs": [
        {
          "output_type": "execute_result",
          "data": {
            "text/plain": [
              "array([[<matplotlib.axes._subplots.AxesSubplot object at 0x7febd9dc7950>,\n",
              "        <matplotlib.axes._subplots.AxesSubplot object at 0x7febdd3c1bd0>,\n",
              "        <matplotlib.axes._subplots.AxesSubplot object at 0x7febd9d5c4d0>],\n",
              "       [<matplotlib.axes._subplots.AxesSubplot object at 0x7febd9d12a50>,\n",
              "        <matplotlib.axes._subplots.AxesSubplot object at 0x7febd9d40b90>,\n",
              "        <matplotlib.axes._subplots.AxesSubplot object at 0x7febd9c8c690>],\n",
              "       [<matplotlib.axes._subplots.AxesSubplot object at 0x7febd9cc1d10>,\n",
              "        <matplotlib.axes._subplots.AxesSubplot object at 0x7febd9c82290>,\n",
              "        <matplotlib.axes._subplots.AxesSubplot object at 0x7febd9c822d0>]],\n",
              "      dtype=object)"
            ]
          },
          "metadata": {},
          "execution_count": 15
        },
        {
          "output_type": "display_data",
          "data": {
            "image/png": "[encoded data removed]",
            "text/plain": [
              "<Figure size 864x720 with 9 Axes>"
            ]
          },
          "metadata": {
            "needs_background": "light"
          }
        }
      ]
    },
    {
      "cell_type": "code",
      "metadata": {
        "id": "u6MlhJ5qVaiV"
      },
      "source": [
        "import datetime as dt\n",
        "bogota['pickup_datetime'] = pd.to_datetime(bogota['pickup_datetime'], errors='coerce')\n",
        "\n",
        "bogota['dropoff_datetime'] = pd.to_datetime(bogota['dropoff_datetime'],errors='coerce')"
      ],
      "execution_count": 16,
      "outputs": []
    },
    {
      "cell_type": "code",
      "metadata": {
        "id": "waWNGiS4Vaed",
        "colab": {
          "base_uri": "https://localhost:8080/",
          "height": 203
        },
        "outputId": "db7a5c5b-b133-442e-f507-4d0ec49777e5"
      },
      "source": [
        "bogota.head()"
      ],
      "execution_count": 17,
      "outputs": [
        {
          "output_type": "execute_result",
          "data": {
            "text/html": [
              "<div>\n",
              "<style scoped>\n",
              "    .dataframe tbody tr th:only-of-type {\n",
              "        vertical-align: middle;\n",
              "    }\n",
              "\n",
              "    .dataframe tbody tr th {\n",
              "        vertical-align: top;\n",
              "    }\n",
              "\n",
              "    .dataframe thead th {\n",
              "        text-align: right;\n",
              "    }\n",
              "</style>\n",
              "<table border=\"1\" class=\"dataframe\">\n",
              "  <thead>\n",
              "    <tr style=\"text-align: right;\">\n",
              "      <th></th>\n",
              "      <th>id</th>\n",
              "      <th>vendor_id</th>\n",
              "      <th>pickup_datetime</th>\n",
              "      <th>dropoff_datetime</th>\n",
              "      <th>pickup_longitude</th>\n",
              "      <th>pickup_latitude</th>\n",
              "      <th>dropoff_longitude</th>\n",
              "      <th>dropoff_latitude</th>\n",
              "      <th>store_and_fwd_flag</th>\n",
              "      <th>trip_duration</th>\n",
              "      <th>dist_meters</th>\n",
              "      <th>wait_sec</th>\n",
              "    </tr>\n",
              "  </thead>\n",
              "  <tbody>\n",
              "    <tr>\n",
              "      <th>0</th>\n",
              "      <td>1</td>\n",
              "      <td>Bogotá</td>\n",
              "      <td>2019-09-18 01:54:00</td>\n",
              "      <td>2019-09-18 02:17:00</td>\n",
              "      <td>-74.170353</td>\n",
              "      <td>4.622699</td>\n",
              "      <td>-74.119259</td>\n",
              "      <td>4.572322</td>\n",
              "      <td>N</td>\n",
              "      <td>1419</td>\n",
              "      <td>11935</td>\n",
              "      <td>293</td>\n",
              "    </tr>\n",
              "    <tr>\n",
              "      <th>1</th>\n",
              "      <td>2</td>\n",
              "      <td>Bogotá</td>\n",
              "      <td>2019-09-18 03:31:00</td>\n",
              "      <td>2019-09-18 03:44:00</td>\n",
              "      <td>-74.123542</td>\n",
              "      <td>4.604075</td>\n",
              "      <td>-74.116125</td>\n",
              "      <td>4.572578</td>\n",
              "      <td>N</td>\n",
              "      <td>782</td>\n",
              "      <td>7101</td>\n",
              "      <td>139</td>\n",
              "    </tr>\n",
              "    <tr>\n",
              "      <th>2</th>\n",
              "      <td>3</td>\n",
              "      <td>Bogotá</td>\n",
              "      <td>2019-07-08 03:35:00</td>\n",
              "      <td>2019-09-18 04:30:00</td>\n",
              "      <td>-74.178643</td>\n",
              "      <td>4.646176</td>\n",
              "      <td>-74.178711</td>\n",
              "      <td>4.646367</td>\n",
              "      <td>N</td>\n",
              "      <td>3632095</td>\n",
              "      <td>2655</td>\n",
              "      <td>2534</td>\n",
              "    </tr>\n",
              "    <tr>\n",
              "      <th>3</th>\n",
              "      <td>4</td>\n",
              "      <td>Bogotá</td>\n",
              "      <td>2019-09-18 04:31:00</td>\n",
              "      <td>2019-09-18 04:32:00</td>\n",
              "      <td>-74.163398</td>\n",
              "      <td>4.641949</td>\n",
              "      <td>-74.165813</td>\n",
              "      <td>4.640649</td>\n",
              "      <td>N</td>\n",
              "      <td>66</td>\n",
              "      <td>318</td>\n",
              "      <td>52</td>\n",
              "    </tr>\n",
              "    <tr>\n",
              "      <th>4</th>\n",
              "      <td>5</td>\n",
              "      <td>Bogotá</td>\n",
              "      <td>2019-09-13 12:07:00</td>\n",
              "      <td>2019-09-18 05:00:00</td>\n",
              "      <td>-74.137539</td>\n",
              "      <td>4.596347</td>\n",
              "      <td>-74.125364</td>\n",
              "      <td>4.576745</td>\n",
              "      <td>N</td>\n",
              "      <td>449620</td>\n",
              "      <td>3228</td>\n",
              "      <td>211</td>\n",
              "    </tr>\n",
              "  </tbody>\n",
              "</table>\n",
              "</div>"
            ],
            "text/plain": [
              "   id vendor_id     pickup_datetime  ... trip_duration  dist_meters  wait_sec\n",
              "0   1    Bogotá 2019-09-18 01:54:00  ...          1419        11935       293\n",
              "1   2    Bogotá 2019-09-18 03:31:00  ...           782         7101       139\n",
              "2   3    Bogotá 2019-07-08 03:35:00  ...       3632095         2655      2534\n",
              "3   4    Bogotá 2019-09-18 04:31:00  ...            66          318        52\n",
              "4   5    Bogotá 2019-09-13 12:07:00  ...        449620         3228       211\n",
              "\n",
              "[5 rows x 12 columns]"
            ]
          },
          "metadata": {},
          "execution_count": 17
        }
      ]
    },
    {
      "cell_type": "code",
      "metadata": {
        "id": "cNjmMahCVaaM"
      },
      "source": [
        "bogota['Pickup_year'] = bogota['pickup_datetime'].dt.year\n",
        "bogota['pickup_month']=bogota['pickup_datetime'].dt.month \n",
        "bogota['pickup_day']=bogota['pickup_datetime'].dt.day\n",
        "\n",
        "bogota['pickup_Hour'] = bogota['pickup_datetime'].dt.hour \n",
        "bogota['pickup_minute'] = bogota['pickup_datetime'].dt.minute \n",
        "\n",
        "bogota['dropoff_year'] = bogota['dropoff_datetime'].dt.year\n",
        "bogota['dropoff_month']= bogota['dropoff_datetime'].dt.month \n",
        "bogota['dropoff_day']= bogota['dropoff_datetime'].dt.day\n",
        "\n",
        "bogota['dropoff_Hour'] = bogota['dropoff_datetime'].dt.hour \n",
        "bogota['dropoff_minute'] = bogota['dropoff_datetime'].dt.minute \n"
      ],
      "execution_count": 18,
      "outputs": []
    },
    {
      "cell_type": "code",
      "metadata": {
        "id": "LKUFEzzHVaV_",
        "colab": {
          "base_uri": "https://localhost:8080/",
          "height": 307
        },
        "outputId": "29bd9a85-f629-4303-a3ac-cf6a5d9e207c"
      },
      "source": [
        "bogota.head()"
      ],
      "execution_count": 19,
      "outputs": [
        {
          "output_type": "execute_result",
          "data": {
            "text/html": [
              "<div>\n",
              "<style scoped>\n",
              "    .dataframe tbody tr th:only-of-type {\n",
              "        vertical-align: middle;\n",
              "    }\n",
              "\n",
              "    .dataframe tbody tr th {\n",
              "        vertical-align: top;\n",
              "    }\n",
              "\n",
              "    .dataframe thead th {\n",
              "        text-align: right;\n",
              "    }\n",
              "</style>\n",
              "<table border=\"1\" class=\"dataframe\">\n",
              "  <thead>\n",
              "    <tr style=\"text-align: right;\">\n",
              "      <th></th>\n",
              "      <th>id</th>\n",
              "      <th>vendor_id</th>\n",
              "      <th>pickup_datetime</th>\n",
              "      <th>dropoff_datetime</th>\n",
              "      <th>pickup_longitude</th>\n",
              "      <th>pickup_latitude</th>\n",
              "      <th>dropoff_longitude</th>\n",
              "      <th>dropoff_latitude</th>\n",
              "      <th>store_and_fwd_flag</th>\n",
              "      <th>trip_duration</th>\n",
              "      <th>dist_meters</th>\n",
              "      <th>wait_sec</th>\n",
              "      <th>Pickup_year</th>\n",
              "      <th>pickup_month</th>\n",
              "      <th>pickup_day</th>\n",
              "      <th>pickup_Hour</th>\n",
              "      <th>pickup_minute</th>\n",
              "      <th>dropoff_year</th>\n",
              "      <th>dropoff_month</th>\n",
              "      <th>dropoff_day</th>\n",
              "      <th>dropoff_Hour</th>\n",
              "      <th>dropoff_minute</th>\n",
              "    </tr>\n",
              "  </thead>\n",
              "  <tbody>\n",
              "    <tr>\n",
              "      <th>0</th>\n",
              "      <td>1</td>\n",
              "      <td>Bogotá</td>\n",
              "      <td>2019-09-18 01:54:00</td>\n",
              "      <td>2019-09-18 02:17:00</td>\n",
              "      <td>-74.170353</td>\n",
              "      <td>4.622699</td>\n",
              "      <td>-74.119259</td>\n",
              "      <td>4.572322</td>\n",
              "      <td>N</td>\n",
              "      <td>1419</td>\n",
              "      <td>11935</td>\n",
              "      <td>293</td>\n",
              "      <td>2019</td>\n",
              "      <td>9</td>\n",
              "      <td>18</td>\n",
              "      <td>1</td>\n",
              "      <td>54</td>\n",
              "      <td>2019</td>\n",
              "      <td>9</td>\n",
              "      <td>18</td>\n",
              "      <td>2</td>\n",
              "      <td>17</td>\n",
              "    </tr>\n",
              "    <tr>\n",
              "      <th>1</th>\n",
              "      <td>2</td>\n",
              "      <td>Bogotá</td>\n",
              "      <td>2019-09-18 03:31:00</td>\n",
              "      <td>2019-09-18 03:44:00</td>\n",
              "      <td>-74.123542</td>\n",
              "      <td>4.604075</td>\n",
              "      <td>-74.116125</td>\n",
              "      <td>4.572578</td>\n",
              "      <td>N</td>\n",
              "      <td>782</td>\n",
              "      <td>7101</td>\n",
              "      <td>139</td>\n",
              "      <td>2019</td>\n",
              "      <td>9</td>\n",
              "      <td>18</td>\n",
              "      <td>3</td>\n",
              "      <td>31</td>\n",
              "      <td>2019</td>\n",
              "      <td>9</td>\n",
              "      <td>18</td>\n",
              "      <td>3</td>\n",
              "      <td>44</td>\n",
              "    </tr>\n",
              "    <tr>\n",
              "      <th>2</th>\n",
              "      <td>3</td>\n",
              "      <td>Bogotá</td>\n",
              "      <td>2019-07-08 03:35:00</td>\n",
              "      <td>2019-09-18 04:30:00</td>\n",
              "      <td>-74.178643</td>\n",
              "      <td>4.646176</td>\n",
              "      <td>-74.178711</td>\n",
              "      <td>4.646367</td>\n",
              "      <td>N</td>\n",
              "      <td>3632095</td>\n",
              "      <td>2655</td>\n",
              "      <td>2534</td>\n",
              "      <td>2019</td>\n",
              "      <td>7</td>\n",
              "      <td>8</td>\n",
              "      <td>3</td>\n",
              "      <td>35</td>\n",
              "      <td>2019</td>\n",
              "      <td>9</td>\n",
              "      <td>18</td>\n",
              "      <td>4</td>\n",
              "      <td>30</td>\n",
              "    </tr>\n",
              "    <tr>\n",
              "      <th>3</th>\n",
              "      <td>4</td>\n",
              "      <td>Bogotá</td>\n",
              "      <td>2019-09-18 04:31:00</td>\n",
              "      <td>2019-09-18 04:32:00</td>\n",
              "      <td>-74.163398</td>\n",
              "      <td>4.641949</td>\n",
              "      <td>-74.165813</td>\n",
              "      <td>4.640649</td>\n",
              "      <td>N</td>\n",
              "      <td>66</td>\n",
              "      <td>318</td>\n",
              "      <td>52</td>\n",
              "      <td>2019</td>\n",
              "      <td>9</td>\n",
              "      <td>18</td>\n",
              "      <td>4</td>\n",
              "      <td>31</td>\n",
              "      <td>2019</td>\n",
              "      <td>9</td>\n",
              "      <td>18</td>\n",
              "      <td>4</td>\n",
              "      <td>32</td>\n",
              "    </tr>\n",
              "    <tr>\n",
              "      <th>4</th>\n",
              "      <td>5</td>\n",
              "      <td>Bogotá</td>\n",
              "      <td>2019-09-13 12:07:00</td>\n",
              "      <td>2019-09-18 05:00:00</td>\n",
              "      <td>-74.137539</td>\n",
              "      <td>4.596347</td>\n",
              "      <td>-74.125364</td>\n",
              "      <td>4.576745</td>\n",
              "      <td>N</td>\n",
              "      <td>449620</td>\n",
              "      <td>3228</td>\n",
              "      <td>211</td>\n",
              "      <td>2019</td>\n",
              "      <td>9</td>\n",
              "      <td>13</td>\n",
              "      <td>12</td>\n",
              "      <td>7</td>\n",
              "      <td>2019</td>\n",
              "      <td>9</td>\n",
              "      <td>18</td>\n",
              "      <td>5</td>\n",
              "      <td>0</td>\n",
              "    </tr>\n",
              "  </tbody>\n",
              "</table>\n",
              "</div>"
            ],
            "text/plain": [
              "   id vendor_id     pickup_datetime  ... dropoff_day  dropoff_Hour  dropoff_minute\n",
              "0   1    Bogotá 2019-09-18 01:54:00  ...          18             2              17\n",
              "1   2    Bogotá 2019-09-18 03:31:00  ...          18             3              44\n",
              "2   3    Bogotá 2019-07-08 03:35:00  ...          18             4              30\n",
              "3   4    Bogotá 2019-09-18 04:31:00  ...          18             4              32\n",
              "4   5    Bogotá 2019-09-13 12:07:00  ...          18             5               0\n",
              "\n",
              "[5 rows x 22 columns]"
            ]
          },
          "metadata": {},
          "execution_count": 19
        }
      ]
    },
    {
      "cell_type": "code",
      "metadata": {
        "id": "kY5-Kik_hCE9",
        "colab": {
          "base_uri": "https://localhost:8080/"
        },
        "outputId": "1a21edca-d902-4d47-acc5-113661a22344"
      },
      "source": [
        "bogota['store_and_fwd_flag'].unique()"
      ],
      "execution_count": 20,
      "outputs": [
        {
          "output_type": "execute_result",
          "data": {
            "text/plain": [
              "array(['N'], dtype=object)"
            ]
          },
          "metadata": {},
          "execution_count": 20
        }
      ]
    },
    {
      "cell_type": "code",
      "metadata": {
        "id": "CeSPsrkxVaR9",
        "colab": {
          "base_uri": "https://localhost:8080/",
          "height": 223
        },
        "outputId": "4e6bb1bd-01ac-413b-d447-f66fc8280c42"
      },
      "source": [
        "bogota_df = bogota.drop(['id','vendor_id','pickup_datetime','dropoff_datetime','store_and_fwd_flag'],axis=1)\n",
        "bogota_df.head()"
      ],
      "execution_count": 21,
      "outputs": [
        {
          "output_type": "execute_result",
          "data": {
            "text/html": [
              "<div>\n",
              "<style scoped>\n",
              "    .dataframe tbody tr th:only-of-type {\n",
              "        vertical-align: middle;\n",
              "    }\n",
              "\n",
              "    .dataframe tbody tr th {\n",
              "        vertical-align: top;\n",
              "    }\n",
              "\n",
              "    .dataframe thead th {\n",
              "        text-align: right;\n",
              "    }\n",
              "</style>\n",
              "<table border=\"1\" class=\"dataframe\">\n",
              "  <thead>\n",
              "    <tr style=\"text-align: right;\">\n",
              "      <th></th>\n",
              "      <th>pickup_longitude</th>\n",
              "      <th>pickup_latitude</th>\n",
              "      <th>dropoff_longitude</th>\n",
              "      <th>dropoff_latitude</th>\n",
              "      <th>trip_duration</th>\n",
              "      <th>dist_meters</th>\n",
              "      <th>wait_sec</th>\n",
              "      <th>Pickup_year</th>\n",
              "      <th>pickup_month</th>\n",
              "      <th>pickup_day</th>\n",
              "      <th>pickup_Hour</th>\n",
              "      <th>pickup_minute</th>\n",
              "      <th>dropoff_year</th>\n",
              "      <th>dropoff_month</th>\n",
              "      <th>dropoff_day</th>\n",
              "      <th>dropoff_Hour</th>\n",
              "      <th>dropoff_minute</th>\n",
              "    </tr>\n",
              "  </thead>\n",
              "  <tbody>\n",
              "    <tr>\n",
              "      <th>0</th>\n",
              "      <td>-74.170353</td>\n",
              "      <td>4.622699</td>\n",
              "      <td>-74.119259</td>\n",
              "      <td>4.572322</td>\n",
              "      <td>1419</td>\n",
              "      <td>11935</td>\n",
              "      <td>293</td>\n",
              "      <td>2019</td>\n",
              "      <td>9</td>\n",
              "      <td>18</td>\n",
              "      <td>1</td>\n",
              "      <td>54</td>\n",
              "      <td>2019</td>\n",
              "      <td>9</td>\n",
              "      <td>18</td>\n",
              "      <td>2</td>\n",
              "      <td>17</td>\n",
              "    </tr>\n",
              "    <tr>\n",
              "      <th>1</th>\n",
              "      <td>-74.123542</td>\n",
              "      <td>4.604075</td>\n",
              "      <td>-74.116125</td>\n",
              "      <td>4.572578</td>\n",
              "      <td>782</td>\n",
              "      <td>7101</td>\n",
              "      <td>139</td>\n",
              "      <td>2019</td>\n",
              "      <td>9</td>\n",
              "      <td>18</td>\n",
              "      <td>3</td>\n",
              "      <td>31</td>\n",
              "      <td>2019</td>\n",
              "      <td>9</td>\n",
              "      <td>18</td>\n",
              "      <td>3</td>\n",
              "      <td>44</td>\n",
              "    </tr>\n",
              "    <tr>\n",
              "      <th>2</th>\n",
              "      <td>-74.178643</td>\n",
              "      <td>4.646176</td>\n",
              "      <td>-74.178711</td>\n",
              "      <td>4.646367</td>\n",
              "      <td>3632095</td>\n",
              "      <td>2655</td>\n",
              "      <td>2534</td>\n",
              "      <td>2019</td>\n",
              "      <td>7</td>\n",
              "      <td>8</td>\n",
              "      <td>3</td>\n",
              "      <td>35</td>\n",
              "      <td>2019</td>\n",
              "      <td>9</td>\n",
              "      <td>18</td>\n",
              "      <td>4</td>\n",
              "      <td>30</td>\n",
              "    </tr>\n",
              "    <tr>\n",
              "      <th>3</th>\n",
              "      <td>-74.163398</td>\n",
              "      <td>4.641949</td>\n",
              "      <td>-74.165813</td>\n",
              "      <td>4.640649</td>\n",
              "      <td>66</td>\n",
              "      <td>318</td>\n",
              "      <td>52</td>\n",
              "      <td>2019</td>\n",
              "      <td>9</td>\n",
              "      <td>18</td>\n",
              "      <td>4</td>\n",
              "      <td>31</td>\n",
              "      <td>2019</td>\n",
              "      <td>9</td>\n",
              "      <td>18</td>\n",
              "      <td>4</td>\n",
              "      <td>32</td>\n",
              "    </tr>\n",
              "    <tr>\n",
              "      <th>4</th>\n",
              "      <td>-74.137539</td>\n",
              "      <td>4.596347</td>\n",
              "      <td>-74.125364</td>\n",
              "      <td>4.576745</td>\n",
              "      <td>449620</td>\n",
              "      <td>3228</td>\n",
              "      <td>211</td>\n",
              "      <td>2019</td>\n",
              "      <td>9</td>\n",
              "      <td>13</td>\n",
              "      <td>12</td>\n",
              "      <td>7</td>\n",
              "      <td>2019</td>\n",
              "      <td>9</td>\n",
              "      <td>18</td>\n",
              "      <td>5</td>\n",
              "      <td>0</td>\n",
              "    </tr>\n",
              "  </tbody>\n",
              "</table>\n",
              "</div>"
            ],
            "text/plain": [
              "   pickup_longitude  pickup_latitude  ...  dropoff_Hour  dropoff_minute\n",
              "0        -74.170353         4.622699  ...             2              17\n",
              "1        -74.123542         4.604075  ...             3              44\n",
              "2        -74.178643         4.646176  ...             4              30\n",
              "3        -74.163398         4.641949  ...             4              32\n",
              "4        -74.137539         4.596347  ...             5               0\n",
              "\n",
              "[5 rows x 17 columns]"
            ]
          },
          "metadata": {},
          "execution_count": 21
        }
      ]
    },
    {
      "cell_type": "code",
      "metadata": {
        "id": "_nMrGHqIVaN7"
      },
      "source": [
        ""
      ],
      "execution_count": 21,
      "outputs": []
    },
    {
      "cell_type": "markdown",
      "metadata": {
        "id": "wIZHmk_EjdPU"
      },
      "source": [
        "## 2).Mexico city"
      ]
    },
    {
      "cell_type": "code",
      "metadata": {
        "id": "0hG3S3tDVaJn",
        "colab": {
          "base_uri": "https://localhost:8080/",
          "height": 287
        },
        "outputId": "7c96caac-251a-46a5-9e50-afe4f2640108"
      },
      "source": [
        "mexico.head()"
      ],
      "execution_count": 22,
      "outputs": [
        {
          "output_type": "execute_result",
          "data": {
            "text/html": [
              "<div>\n",
              "<style scoped>\n",
              "    .dataframe tbody tr th:only-of-type {\n",
              "        vertical-align: middle;\n",
              "    }\n",
              "\n",
              "    .dataframe tbody tr th {\n",
              "        vertical-align: top;\n",
              "    }\n",
              "\n",
              "    .dataframe thead th {\n",
              "        text-align: right;\n",
              "    }\n",
              "</style>\n",
              "<table border=\"1\" class=\"dataframe\">\n",
              "  <thead>\n",
              "    <tr style=\"text-align: right;\">\n",
              "      <th></th>\n",
              "      <th>id</th>\n",
              "      <th>vendor_id</th>\n",
              "      <th>pickup_datetime</th>\n",
              "      <th>dropoff_datetime</th>\n",
              "      <th>pickup_longitude</th>\n",
              "      <th>pickup_latitude</th>\n",
              "      <th>dropoff_longitude</th>\n",
              "      <th>dropoff_latitude</th>\n",
              "      <th>store_and_fwd_flag</th>\n",
              "      <th>trip_duration</th>\n",
              "      <th>dist_meters</th>\n",
              "      <th>wait_sec</th>\n",
              "    </tr>\n",
              "  </thead>\n",
              "  <tbody>\n",
              "    <tr>\n",
              "      <th>0</th>\n",
              "      <td>1</td>\n",
              "      <td>México DF Taxi de Sitio</td>\n",
              "      <td>16-09-2019 07:14</td>\n",
              "      <td>18-09-2019 04:41</td>\n",
              "      <td>-99.097369</td>\n",
              "      <td>19.416874</td>\n",
              "      <td>-99.202729</td>\n",
              "      <td>19.430353</td>\n",
              "      <td>N</td>\n",
              "      <td>120449</td>\n",
              "      <td>12373</td>\n",
              "      <td>242</td>\n",
              "    </tr>\n",
              "    <tr>\n",
              "      <th>1</th>\n",
              "      <td>2</td>\n",
              "      <td>México DF Taxi Libre</td>\n",
              "      <td>18-09-2019 06:16</td>\n",
              "      <td>18-09-2019 10:11</td>\n",
              "      <td>-99.297148</td>\n",
              "      <td>19.322128</td>\n",
              "      <td>-99.289949</td>\n",
              "      <td>19.326538</td>\n",
              "      <td>N</td>\n",
              "      <td>14110</td>\n",
              "      <td>1700</td>\n",
              "      <td>461</td>\n",
              "    </tr>\n",
              "    <tr>\n",
              "      <th>2</th>\n",
              "      <td>3</td>\n",
              "      <td>México DF Taxi Libre</td>\n",
              "      <td>18-09-2019 10:11</td>\n",
              "      <td>18-09-2019 10:23</td>\n",
              "      <td>-99.289603</td>\n",
              "      <td>19.326263</td>\n",
              "      <td>-99.271874</td>\n",
              "      <td>19.328530</td>\n",
              "      <td>N</td>\n",
              "      <td>681</td>\n",
              "      <td>2848</td>\n",
              "      <td>129</td>\n",
              "    </tr>\n",
              "    <tr>\n",
              "      <th>3</th>\n",
              "      <td>4</td>\n",
              "      <td>México DF Taxi Libre</td>\n",
              "      <td>18-09-2019 10:23</td>\n",
              "      <td>18-09-2019 10:30</td>\n",
              "      <td>-99.271161</td>\n",
              "      <td>19.328875</td>\n",
              "      <td>-99.279900</td>\n",
              "      <td>19.326256</td>\n",
              "      <td>N</td>\n",
              "      <td>436</td>\n",
              "      <td>1409</td>\n",
              "      <td>106</td>\n",
              "    </tr>\n",
              "    <tr>\n",
              "      <th>4</th>\n",
              "      <td>5</td>\n",
              "      <td>México DF Taxi Libre</td>\n",
              "      <td>18-09-2019 10:44</td>\n",
              "      <td>18-09-2019 10:51</td>\n",
              "      <td>-99.282761</td>\n",
              "      <td>19.326944</td>\n",
              "      <td>-99.291705</td>\n",
              "      <td>19.322754</td>\n",
              "      <td>N</td>\n",
              "      <td>442</td>\n",
              "      <td>1567</td>\n",
              "      <td>85</td>\n",
              "    </tr>\n",
              "  </tbody>\n",
              "</table>\n",
              "</div>"
            ],
            "text/plain": [
              "   id                vendor_id  ... dist_meters wait_sec\n",
              "0   1  México DF Taxi de Sitio  ...       12373      242\n",
              "1   2     México DF Taxi Libre  ...        1700      461\n",
              "2   3     México DF Taxi Libre  ...        2848      129\n",
              "3   4     México DF Taxi Libre  ...        1409      106\n",
              "4   5     México DF Taxi Libre  ...        1567       85\n",
              "\n",
              "[5 rows x 12 columns]"
            ]
          },
          "metadata": {},
          "execution_count": 22
        }
      ]
    },
    {
      "cell_type": "code",
      "metadata": {
        "id": "LL0evKluVaF_",
        "colab": {
          "base_uri": "https://localhost:8080/"
        },
        "outputId": "5fd5f9b4-af33-4532-84db-be41ce86ae7a"
      },
      "source": [
        "mexico.shape "
      ],
      "execution_count": 23,
      "outputs": [
        {
          "output_type": "execute_result",
          "data": {
            "text/plain": [
              "(12694, 12)"
            ]
          },
          "metadata": {},
          "execution_count": 23
        }
      ]
    },
    {
      "cell_type": "code",
      "metadata": {
        "id": "x_6LyLg-VaBW",
        "colab": {
          "base_uri": "https://localhost:8080/",
          "height": 295
        },
        "outputId": "70c243b2-35a8-44ce-991d-3846ec97dbfd"
      },
      "source": [
        "mexico.describe()"
      ],
      "execution_count": 24,
      "outputs": [
        {
          "output_type": "execute_result",
          "data": {
            "text/html": [
              "<div>\n",
              "<style scoped>\n",
              "    .dataframe tbody tr th:only-of-type {\n",
              "        vertical-align: middle;\n",
              "    }\n",
              "\n",
              "    .dataframe tbody tr th {\n",
              "        vertical-align: top;\n",
              "    }\n",
              "\n",
              "    .dataframe thead th {\n",
              "        text-align: right;\n",
              "    }\n",
              "</style>\n",
              "<table border=\"1\" class=\"dataframe\">\n",
              "  <thead>\n",
              "    <tr style=\"text-align: right;\">\n",
              "      <th></th>\n",
              "      <th>id</th>\n",
              "      <th>pickup_longitude</th>\n",
              "      <th>pickup_latitude</th>\n",
              "      <th>dropoff_longitude</th>\n",
              "      <th>dropoff_latitude</th>\n",
              "      <th>trip_duration</th>\n",
              "      <th>dist_meters</th>\n",
              "      <th>wait_sec</th>\n",
              "    </tr>\n",
              "  </thead>\n",
              "  <tbody>\n",
              "    <tr>\n",
              "      <th>count</th>\n",
              "      <td>12694.000000</td>\n",
              "      <td>12694.000000</td>\n",
              "      <td>12694.000000</td>\n",
              "      <td>12694.000000</td>\n",
              "      <td>12694.000000</td>\n",
              "      <td>1.269400e+04</td>\n",
              "      <td>12694.000000</td>\n",
              "      <td>1.269400e+04</td>\n",
              "    </tr>\n",
              "    <tr>\n",
              "      <th>mean</th>\n",
              "      <td>6347.500000</td>\n",
              "      <td>-99.136155</td>\n",
              "      <td>19.385067</td>\n",
              "      <td>-99.133728</td>\n",
              "      <td>19.386764</td>\n",
              "      <td>2.298377e+04</td>\n",
              "      <td>6666.431700</td>\n",
              "      <td>1.161270e+06</td>\n",
              "    </tr>\n",
              "    <tr>\n",
              "      <th>std</th>\n",
              "      <td>3664.586493</td>\n",
              "      <td>0.430001</td>\n",
              "      <td>0.129518</td>\n",
              "      <td>0.429582</td>\n",
              "      <td>0.131199</td>\n",
              "      <td>2.293364e+05</td>\n",
              "      <td>11386.891512</td>\n",
              "      <td>5.799612e+07</td>\n",
              "    </tr>\n",
              "    <tr>\n",
              "      <th>min</th>\n",
              "      <td>1.000000</td>\n",
              "      <td>-108.985069</td>\n",
              "      <td>18.829117</td>\n",
              "      <td>-108.987429</td>\n",
              "      <td>18.829103</td>\n",
              "      <td>2.000000e+00</td>\n",
              "      <td>21.000000</td>\n",
              "      <td>0.000000e+00</td>\n",
              "    </tr>\n",
              "    <tr>\n",
              "      <th>25%</th>\n",
              "      <td>3174.250000</td>\n",
              "      <td>-99.195615</td>\n",
              "      <td>19.325832</td>\n",
              "      <td>-99.192102</td>\n",
              "      <td>19.325325</td>\n",
              "      <td>4.840000e+02</td>\n",
              "      <td>1775.000000</td>\n",
              "      <td>8.900000e+01</td>\n",
              "    </tr>\n",
              "    <tr>\n",
              "      <th>50%</th>\n",
              "      <td>6347.500000</td>\n",
              "      <td>-99.164436</td>\n",
              "      <td>19.371382</td>\n",
              "      <td>-99.160705</td>\n",
              "      <td>19.374913</td>\n",
              "      <td>1.033500e+03</td>\n",
              "      <td>3948.000000</td>\n",
              "      <td>2.340000e+02</td>\n",
              "    </tr>\n",
              "    <tr>\n",
              "      <th>75%</th>\n",
              "      <td>9520.750000</td>\n",
              "      <td>-99.107092</td>\n",
              "      <td>19.432106</td>\n",
              "      <td>-99.107355</td>\n",
              "      <td>19.434360</td>\n",
              "      <td>2.368750e+03</td>\n",
              "      <td>8265.000000</td>\n",
              "      <td>5.910000e+02</td>\n",
              "    </tr>\n",
              "    <tr>\n",
              "      <th>max</th>\n",
              "      <td>12694.000000</td>\n",
              "      <td>-86.871347</td>\n",
              "      <td>25.752964</td>\n",
              "      <td>-86.871002</td>\n",
              "      <td>25.781058</td>\n",
              "      <td>1.657095e+07</td>\n",
              "      <td>802537.000000</td>\n",
              "      <td>4.429346e+09</td>\n",
              "    </tr>\n",
              "  </tbody>\n",
              "</table>\n",
              "</div>"
            ],
            "text/plain": [
              "                 id  pickup_longitude  ...    dist_meters      wait_sec\n",
              "count  12694.000000      12694.000000  ...   12694.000000  1.269400e+04\n",
              "mean    6347.500000        -99.136155  ...    6666.431700  1.161270e+06\n",
              "std     3664.586493          0.430001  ...   11386.891512  5.799612e+07\n",
              "min        1.000000       -108.985069  ...      21.000000  0.000000e+00\n",
              "25%     3174.250000        -99.195615  ...    1775.000000  8.900000e+01\n",
              "50%     6347.500000        -99.164436  ...    3948.000000  2.340000e+02\n",
              "75%     9520.750000        -99.107092  ...    8265.000000  5.910000e+02\n",
              "max    12694.000000        -86.871347  ...  802537.000000  4.429346e+09\n",
              "\n",
              "[8 rows x 8 columns]"
            ]
          },
          "metadata": {},
          "execution_count": 24
        }
      ]
    },
    {
      "cell_type": "code",
      "metadata": {
        "id": "io0fPysuVZ8u",
        "colab": {
          "base_uri": "https://localhost:8080/"
        },
        "outputId": "4433702f-3053-4f94-f642-cb84487a1d34"
      },
      "source": [
        "mexico.info()"
      ],
      "execution_count": 25,
      "outputs": [
        {
          "output_type": "stream",
          "name": "stdout",
          "text": [
            "<class 'pandas.core.frame.DataFrame'>\n",
            "RangeIndex: 12694 entries, 0 to 12693\n",
            "Data columns (total 12 columns):\n",
            " #   Column              Non-Null Count  Dtype  \n",
            "---  ------              --------------  -----  \n",
            " 0   id                  12694 non-null  int64  \n",
            " 1   vendor_id           12694 non-null  object \n",
            " 2   pickup_datetime     12694 non-null  object \n",
            " 3   dropoff_datetime    12694 non-null  object \n",
            " 4   pickup_longitude    12694 non-null  float64\n",
            " 5   pickup_latitude     12694 non-null  float64\n",
            " 6   dropoff_longitude   12694 non-null  float64\n",
            " 7   dropoff_latitude    12694 non-null  float64\n",
            " 8   store_and_fwd_flag  12694 non-null  object \n",
            " 9   trip_duration       12694 non-null  int64  \n",
            " 10  dist_meters         12694 non-null  int64  \n",
            " 11  wait_sec            12694 non-null  int64  \n",
            "dtypes: float64(4), int64(4), object(4)\n",
            "memory usage: 1.2+ MB\n"
          ]
        }
      ]
    },
    {
      "cell_type": "code",
      "metadata": {
        "id": "IrYcrM2rVZ3U",
        "colab": {
          "base_uri": "https://localhost:8080/"
        },
        "outputId": "8f0d128f-0f67-4af5-c835-fe1bbe59aaeb"
      },
      "source": [
        "mexico.isna().sum()"
      ],
      "execution_count": 26,
      "outputs": [
        {
          "output_type": "execute_result",
          "data": {
            "text/plain": [
              "id                    0\n",
              "vendor_id             0\n",
              "pickup_datetime       0\n",
              "dropoff_datetime      0\n",
              "pickup_longitude      0\n",
              "pickup_latitude       0\n",
              "dropoff_longitude     0\n",
              "dropoff_latitude      0\n",
              "store_and_fwd_flag    0\n",
              "trip_duration         0\n",
              "dist_meters           0\n",
              "wait_sec              0\n",
              "dtype: int64"
            ]
          },
          "metadata": {},
          "execution_count": 26
        }
      ]
    },
    {
      "cell_type": "code",
      "metadata": {
        "id": "J1__hP4QVZSx",
        "colab": {
          "base_uri": "https://localhost:8080/",
          "height": 1000
        },
        "outputId": "de658a3b-055a-4e9f-d409-df45669b9214"
      },
      "source": [
        "mexico.hist(figsize=(12,14))"
      ],
      "execution_count": 27,
      "outputs": [
        {
          "output_type": "execute_result",
          "data": {
            "text/plain": [
              "array([[<matplotlib.axes._subplots.AxesSubplot object at 0x7febd9a81f10>,\n",
              "        <matplotlib.axes._subplots.AxesSubplot object at 0x7febd9979dd0>,\n",
              "        <matplotlib.axes._subplots.AxesSubplot object at 0x7febd9981810>],\n",
              "       [<matplotlib.axes._subplots.AxesSubplot object at 0x7febd946c4d0>,\n",
              "        <matplotlib.axes._subplots.AxesSubplot object at 0x7febd9421ad0>,\n",
              "        <matplotlib.axes._subplots.AxesSubplot object at 0x7febd93d8f90>],\n",
              "       [<matplotlib.axes._subplots.AxesSubplot object at 0x7febd939a650>,\n",
              "        <matplotlib.axes._subplots.AxesSubplot object at 0x7febd9350b90>,\n",
              "        <matplotlib.axes._subplots.AxesSubplot object at 0x7febd9350bd0>]],\n",
              "      dtype=object)"
            ]
          },
          "metadata": {},
          "execution_count": 27
        },
        {
          "output_type": "display_data",
          "data": {
            "image/png": "[encoded data removed]",
            "text/plain": [
              "<Figure size 864x1008 with 9 Axes>"
            ]
          },
          "metadata": {
            "needs_background": "light"
          }
        }
      ]
    },
    {
      "cell_type": "code",
      "metadata": {
        "id": "DaAueT1qkSoS"
      },
      "source": [
        "import datetime as dt\n",
        "mexico['pickup_datetime'] = pd.to_datetime(mexico['pickup_datetime'], errors='coerce')\n",
        "\n",
        "mexico['dropoff_datetime'] = pd.to_datetime(mexico['dropoff_datetime'],errors='coerce')"
      ],
      "execution_count": 28,
      "outputs": []
    },
    {
      "cell_type": "code",
      "metadata": {
        "id": "zUCO_TyukSuj"
      },
      "source": [
        "mexico['Pickup_year'] = mexico['pickup_datetime'].dt.year\n",
        "mexico['pickup_month']=mexico['pickup_datetime'].dt.month \n",
        "mexico['pickup_day']=mexico['pickup_datetime'].dt.day\n",
        "\n",
        "mexico['pickup_Hour'] = mexico['pickup_datetime'].dt.hour \n",
        "mexico['pickup_minute'] = mexico['pickup_datetime'].dt.minute \n",
        "\n",
        "mexico['dropoff_year'] = mexico['dropoff_datetime'].dt.year\n",
        "mexico['dropoff_month']= mexico['dropoff_datetime'].dt.month \n",
        "mexico['dropoff_day']= mexico['dropoff_datetime'].dt.day\n",
        "\n",
        "mexico['dropoff_Hour'] = mexico['dropoff_datetime'].dt.hour \n",
        "mexico['dropoff_minute'] = mexico['dropoff_datetime'].dt.minute \n"
      ],
      "execution_count": 29,
      "outputs": []
    },
    {
      "cell_type": "code",
      "metadata": {
        "id": "scD8GSM3kSzy",
        "colab": {
          "base_uri": "https://localhost:8080/",
          "height": 223
        },
        "outputId": "d0ee5ec1-b46e-4d5c-8c94-0967cb47af13"
      },
      "source": [
        "mexico_df = mexico.drop(['id','vendor_id','pickup_datetime','dropoff_datetime','store_and_fwd_flag'],axis=1)\n",
        "mexico_df.head()"
      ],
      "execution_count": 30,
      "outputs": [
        {
          "output_type": "execute_result",
          "data": {
            "text/html": [
              "<div>\n",
              "<style scoped>\n",
              "    .dataframe tbody tr th:only-of-type {\n",
              "        vertical-align: middle;\n",
              "    }\n",
              "\n",
              "    .dataframe tbody tr th {\n",
              "        vertical-align: top;\n",
              "    }\n",
              "\n",
              "    .dataframe thead th {\n",
              "        text-align: right;\n",
              "    }\n",
              "</style>\n",
              "<table border=\"1\" class=\"dataframe\">\n",
              "  <thead>\n",
              "    <tr style=\"text-align: right;\">\n",
              "      <th></th>\n",
              "      <th>pickup_longitude</th>\n",
              "      <th>pickup_latitude</th>\n",
              "      <th>dropoff_longitude</th>\n",
              "      <th>dropoff_latitude</th>\n",
              "      <th>trip_duration</th>\n",
              "      <th>dist_meters</th>\n",
              "      <th>wait_sec</th>\n",
              "      <th>Pickup_year</th>\n",
              "      <th>pickup_month</th>\n",
              "      <th>pickup_day</th>\n",
              "      <th>pickup_Hour</th>\n",
              "      <th>pickup_minute</th>\n",
              "      <th>dropoff_year</th>\n",
              "      <th>dropoff_month</th>\n",
              "      <th>dropoff_day</th>\n",
              "      <th>dropoff_Hour</th>\n",
              "      <th>dropoff_minute</th>\n",
              "    </tr>\n",
              "  </thead>\n",
              "  <tbody>\n",
              "    <tr>\n",
              "      <th>0</th>\n",
              "      <td>-99.097369</td>\n",
              "      <td>19.416874</td>\n",
              "      <td>-99.202729</td>\n",
              "      <td>19.430353</td>\n",
              "      <td>120449</td>\n",
              "      <td>12373</td>\n",
              "      <td>242</td>\n",
              "      <td>2019</td>\n",
              "      <td>9</td>\n",
              "      <td>16</td>\n",
              "      <td>7</td>\n",
              "      <td>14</td>\n",
              "      <td>2019</td>\n",
              "      <td>9</td>\n",
              "      <td>18</td>\n",
              "      <td>4</td>\n",
              "      <td>41</td>\n",
              "    </tr>\n",
              "    <tr>\n",
              "      <th>1</th>\n",
              "      <td>-99.297148</td>\n",
              "      <td>19.322128</td>\n",
              "      <td>-99.289949</td>\n",
              "      <td>19.326538</td>\n",
              "      <td>14110</td>\n",
              "      <td>1700</td>\n",
              "      <td>461</td>\n",
              "      <td>2019</td>\n",
              "      <td>9</td>\n",
              "      <td>18</td>\n",
              "      <td>6</td>\n",
              "      <td>16</td>\n",
              "      <td>2019</td>\n",
              "      <td>9</td>\n",
              "      <td>18</td>\n",
              "      <td>10</td>\n",
              "      <td>11</td>\n",
              "    </tr>\n",
              "    <tr>\n",
              "      <th>2</th>\n",
              "      <td>-99.289603</td>\n",
              "      <td>19.326263</td>\n",
              "      <td>-99.271874</td>\n",
              "      <td>19.328530</td>\n",
              "      <td>681</td>\n",
              "      <td>2848</td>\n",
              "      <td>129</td>\n",
              "      <td>2019</td>\n",
              "      <td>9</td>\n",
              "      <td>18</td>\n",
              "      <td>10</td>\n",
              "      <td>11</td>\n",
              "      <td>2019</td>\n",
              "      <td>9</td>\n",
              "      <td>18</td>\n",
              "      <td>10</td>\n",
              "      <td>23</td>\n",
              "    </tr>\n",
              "    <tr>\n",
              "      <th>3</th>\n",
              "      <td>-99.271161</td>\n",
              "      <td>19.328875</td>\n",
              "      <td>-99.279900</td>\n",
              "      <td>19.326256</td>\n",
              "      <td>436</td>\n",
              "      <td>1409</td>\n",
              "      <td>106</td>\n",
              "      <td>2019</td>\n",
              "      <td>9</td>\n",
              "      <td>18</td>\n",
              "      <td>10</td>\n",
              "      <td>23</td>\n",
              "      <td>2019</td>\n",
              "      <td>9</td>\n",
              "      <td>18</td>\n",
              "      <td>10</td>\n",
              "      <td>30</td>\n",
              "    </tr>\n",
              "    <tr>\n",
              "      <th>4</th>\n",
              "      <td>-99.282761</td>\n",
              "      <td>19.326944</td>\n",
              "      <td>-99.291705</td>\n",
              "      <td>19.322754</td>\n",
              "      <td>442</td>\n",
              "      <td>1567</td>\n",
              "      <td>85</td>\n",
              "      <td>2019</td>\n",
              "      <td>9</td>\n",
              "      <td>18</td>\n",
              "      <td>10</td>\n",
              "      <td>44</td>\n",
              "      <td>2019</td>\n",
              "      <td>9</td>\n",
              "      <td>18</td>\n",
              "      <td>10</td>\n",
              "      <td>51</td>\n",
              "    </tr>\n",
              "  </tbody>\n",
              "</table>\n",
              "</div>"
            ],
            "text/plain": [
              "   pickup_longitude  pickup_latitude  ...  dropoff_Hour  dropoff_minute\n",
              "0        -99.097369        19.416874  ...             4              41\n",
              "1        -99.297148        19.322128  ...            10              11\n",
              "2        -99.289603        19.326263  ...            10              23\n",
              "3        -99.271161        19.328875  ...            10              30\n",
              "4        -99.282761        19.326944  ...            10              51\n",
              "\n",
              "[5 rows x 17 columns]"
            ]
          },
          "metadata": {},
          "execution_count": 30
        }
      ]
    },
    {
      "cell_type": "markdown",
      "metadata": {
        "id": "c-uT3oWhnBjs"
      },
      "source": [
        "## 3). Quito city"
      ]
    },
    {
      "cell_type": "code",
      "metadata": {
        "id": "d56s1gnykS9k",
        "colab": {
          "base_uri": "https://localhost:8080/",
          "height": 203
        },
        "outputId": "fc28431d-164a-49bc-e005-1f87a0766a9f"
      },
      "source": [
        "quito.head()"
      ],
      "execution_count": 31,
      "outputs": [
        {
          "output_type": "execute_result",
          "data": {
            "text/html": [
              "<div>\n",
              "<style scoped>\n",
              "    .dataframe tbody tr th:only-of-type {\n",
              "        vertical-align: middle;\n",
              "    }\n",
              "\n",
              "    .dataframe tbody tr th {\n",
              "        vertical-align: top;\n",
              "    }\n",
              "\n",
              "    .dataframe thead th {\n",
              "        text-align: right;\n",
              "    }\n",
              "</style>\n",
              "<table border=\"1\" class=\"dataframe\">\n",
              "  <thead>\n",
              "    <tr style=\"text-align: right;\">\n",
              "      <th></th>\n",
              "      <th>id</th>\n",
              "      <th>vendor_id</th>\n",
              "      <th>pickup_datetime</th>\n",
              "      <th>dropoff_datetime</th>\n",
              "      <th>pickup_longitude</th>\n",
              "      <th>pickup_latitude</th>\n",
              "      <th>dropoff_longitude</th>\n",
              "      <th>dropoff_latitude</th>\n",
              "      <th>store_and_fwd_flag</th>\n",
              "      <th>trip_duration</th>\n",
              "      <th>dist_meters</th>\n",
              "      <th>wait_sec</th>\n",
              "    </tr>\n",
              "  </thead>\n",
              "  <tbody>\n",
              "    <tr>\n",
              "      <th>0</th>\n",
              "      <td>1</td>\n",
              "      <td>Quito</td>\n",
              "      <td>17-09-2019 09:32</td>\n",
              "      <td>17-09-2019 10:05</td>\n",
              "      <td>-78.503922</td>\n",
              "      <td>-0.232824</td>\n",
              "      <td>-78.549447</td>\n",
              "      <td>-0.361363</td>\n",
              "      <td>N</td>\n",
              "      <td>2025</td>\n",
              "      <td>24228</td>\n",
              "      <td>346</td>\n",
              "    </tr>\n",
              "    <tr>\n",
              "      <th>1</th>\n",
              "      <td>2</td>\n",
              "      <td>Quito</td>\n",
              "      <td>18-09-2019 04:03</td>\n",
              "      <td>18-09-2019 04:26</td>\n",
              "      <td>-78.440306</td>\n",
              "      <td>0.006789</td>\n",
              "      <td>-78.490786</td>\n",
              "      <td>-0.104836</td>\n",
              "      <td>N</td>\n",
              "      <td>1390</td>\n",
              "      <td>16680</td>\n",
              "      <td>456</td>\n",
              "    </tr>\n",
              "    <tr>\n",
              "      <th>2</th>\n",
              "      <td>3</td>\n",
              "      <td>Quito</td>\n",
              "      <td>16-09-2019 06:29</td>\n",
              "      <td>18-09-2019 06:41</td>\n",
              "      <td>-78.469551</td>\n",
              "      <td>-0.143636</td>\n",
              "      <td>-78.470277</td>\n",
              "      <td>-0.131083</td>\n",
              "      <td>N</td>\n",
              "      <td>130317</td>\n",
              "      <td>1987</td>\n",
              "      <td>290</td>\n",
              "    </tr>\n",
              "    <tr>\n",
              "      <th>3</th>\n",
              "      <td>4</td>\n",
              "      <td>Quito</td>\n",
              "      <td>18-09-2019 05:57</td>\n",
              "      <td>18-09-2019 06:30</td>\n",
              "      <td>-78.558076</td>\n",
              "      <td>-0.278241</td>\n",
              "      <td>-78.430220</td>\n",
              "      <td>-0.201934</td>\n",
              "      <td>N</td>\n",
              "      <td>1933</td>\n",
              "      <td>25146</td>\n",
              "      <td>302</td>\n",
              "    </tr>\n",
              "    <tr>\n",
              "      <th>4</th>\n",
              "      <td>5</td>\n",
              "      <td>Quito</td>\n",
              "      <td>18-09-2019 07:58</td>\n",
              "      <td>18-09-2019 08:14</td>\n",
              "      <td>-78.521818</td>\n",
              "      <td>-0.208480</td>\n",
              "      <td>-78.504558</td>\n",
              "      <td>-0.222462</td>\n",
              "      <td>N</td>\n",
              "      <td>948</td>\n",
              "      <td>4625</td>\n",
              "      <td>314</td>\n",
              "    </tr>\n",
              "  </tbody>\n",
              "</table>\n",
              "</div>"
            ],
            "text/plain": [
              "   id vendor_id   pickup_datetime  ... trip_duration  dist_meters  wait_sec\n",
              "0   1     Quito  17-09-2019 09:32  ...          2025        24228       346\n",
              "1   2     Quito  18-09-2019 04:03  ...          1390        16680       456\n",
              "2   3     Quito  16-09-2019 06:29  ...        130317         1987       290\n",
              "3   4     Quito  18-09-2019 05:57  ...          1933        25146       302\n",
              "4   5     Quito  18-09-2019 07:58  ...           948         4625       314\n",
              "\n",
              "[5 rows x 12 columns]"
            ]
          },
          "metadata": {},
          "execution_count": 31
        }
      ]
    },
    {
      "cell_type": "code",
      "metadata": {
        "id": "30i132XMnQdI",
        "colab": {
          "base_uri": "https://localhost:8080/"
        },
        "outputId": "df818dcd-24e1-47a3-a0be-e97b901182bc"
      },
      "source": [
        "quito.shape "
      ],
      "execution_count": 32,
      "outputs": [
        {
          "output_type": "execute_result",
          "data": {
            "text/plain": [
              "(32366, 12)"
            ]
          },
          "metadata": {},
          "execution_count": 32
        }
      ]
    },
    {
      "cell_type": "code",
      "metadata": {
        "id": "UTMtRoohnQWj",
        "colab": {
          "base_uri": "https://localhost:8080/",
          "height": 295
        },
        "outputId": "c1adfd12-c962-4641-f902-4123c8808302"
      },
      "source": [
        "quito.describe()"
      ],
      "execution_count": 33,
      "outputs": [
        {
          "output_type": "execute_result",
          "data": {
            "text/html": [
              "<div>\n",
              "<style scoped>\n",
              "    .dataframe tbody tr th:only-of-type {\n",
              "        vertical-align: middle;\n",
              "    }\n",
              "\n",
              "    .dataframe tbody tr th {\n",
              "        vertical-align: top;\n",
              "    }\n",
              "\n",
              "    .dataframe thead th {\n",
              "        text-align: right;\n",
              "    }\n",
              "</style>\n",
              "<table border=\"1\" class=\"dataframe\">\n",
              "  <thead>\n",
              "    <tr style=\"text-align: right;\">\n",
              "      <th></th>\n",
              "      <th>id</th>\n",
              "      <th>pickup_longitude</th>\n",
              "      <th>pickup_latitude</th>\n",
              "      <th>dropoff_longitude</th>\n",
              "      <th>dropoff_latitude</th>\n",
              "      <th>trip_duration</th>\n",
              "      <th>dist_meters</th>\n",
              "      <th>wait_sec</th>\n",
              "    </tr>\n",
              "  </thead>\n",
              "  <tbody>\n",
              "    <tr>\n",
              "      <th>count</th>\n",
              "      <td>32366.000000</td>\n",
              "      <td>32366.000000</td>\n",
              "      <td>32366.000000</td>\n",
              "      <td>32366.000000</td>\n",
              "      <td>32366.000000</td>\n",
              "      <td>3.236600e+04</td>\n",
              "      <td>3.236600e+04</td>\n",
              "      <td>3.236600e+04</td>\n",
              "    </tr>\n",
              "    <tr>\n",
              "      <th>mean</th>\n",
              "      <td>16183.500000</td>\n",
              "      <td>-78.492371</td>\n",
              "      <td>-0.189042</td>\n",
              "      <td>-78.492901</td>\n",
              "      <td>-0.191341</td>\n",
              "      <td>4.138239e+04</td>\n",
              "      <td>7.302745e+04</td>\n",
              "      <td>2.204058e+07</td>\n",
              "    </tr>\n",
              "    <tr>\n",
              "      <th>std</th>\n",
              "      <td>9343.403743</td>\n",
              "      <td>0.043108</td>\n",
              "      <td>0.076153</td>\n",
              "      <td>0.044783</td>\n",
              "      <td>0.085623</td>\n",
              "      <td>5.842226e+05</td>\n",
              "      <td>1.193671e+07</td>\n",
              "      <td>7.311736e+08</td>\n",
              "    </tr>\n",
              "    <tr>\n",
              "      <th>min</th>\n",
              "      <td>1.000000</td>\n",
              "      <td>-80.681697</td>\n",
              "      <td>-3.454279</td>\n",
              "      <td>-80.681721</td>\n",
              "      <td>-3.574739</td>\n",
              "      <td>-3.887110e+05</td>\n",
              "      <td>1.100000e+01</td>\n",
              "      <td>0.000000e+00</td>\n",
              "    </tr>\n",
              "    <tr>\n",
              "      <th>25%</th>\n",
              "      <td>8092.250000</td>\n",
              "      <td>-78.505867</td>\n",
              "      <td>-0.218344</td>\n",
              "      <td>-78.505734</td>\n",
              "      <td>-0.220508</td>\n",
              "      <td>5.000000e+02</td>\n",
              "      <td>2.148000e+03</td>\n",
              "      <td>1.070000e+02</td>\n",
              "    </tr>\n",
              "    <tr>\n",
              "      <th>50%</th>\n",
              "      <td>16183.500000</td>\n",
              "      <td>-78.490135</td>\n",
              "      <td>-0.181979</td>\n",
              "      <td>-78.490073</td>\n",
              "      <td>-0.185721</td>\n",
              "      <td>8.970000e+02</td>\n",
              "      <td>4.124000e+03</td>\n",
              "      <td>2.430000e+02</td>\n",
              "    </tr>\n",
              "    <tr>\n",
              "      <th>75%</th>\n",
              "      <td>24274.750000</td>\n",
              "      <td>-78.475783</td>\n",
              "      <td>-0.148715</td>\n",
              "      <td>-78.477443</td>\n",
              "      <td>-0.149867</td>\n",
              "      <td>1.710000e+03</td>\n",
              "      <td>7.475000e+03</td>\n",
              "      <td>4.990000e+02</td>\n",
              "    </tr>\n",
              "    <tr>\n",
              "      <th>max</th>\n",
              "      <td>32366.000000</td>\n",
              "      <td>-78.009669</td>\n",
              "      <td>0.866441</td>\n",
              "      <td>-77.710158</td>\n",
              "      <td>0.866759</td>\n",
              "      <td>7.002605e+07</td>\n",
              "      <td>2.147484e+09</td>\n",
              "      <td>9.516306e+10</td>\n",
              "    </tr>\n",
              "  </tbody>\n",
              "</table>\n",
              "</div>"
            ],
            "text/plain": [
              "                 id  pickup_longitude  ...   dist_meters      wait_sec\n",
              "count  32366.000000      32366.000000  ...  3.236600e+04  3.236600e+04\n",
              "mean   16183.500000        -78.492371  ...  7.302745e+04  2.204058e+07\n",
              "std     9343.403743          0.043108  ...  1.193671e+07  7.311736e+08\n",
              "min        1.000000        -80.681697  ...  1.100000e+01  0.000000e+00\n",
              "25%     8092.250000        -78.505867  ...  2.148000e+03  1.070000e+02\n",
              "50%    16183.500000        -78.490135  ...  4.124000e+03  2.430000e+02\n",
              "75%    24274.750000        -78.475783  ...  7.475000e+03  4.990000e+02\n",
              "max    32366.000000        -78.009669  ...  2.147484e+09  9.516306e+10\n",
              "\n",
              "[8 rows x 8 columns]"
            ]
          },
          "metadata": {},
          "execution_count": 33
        }
      ]
    },
    {
      "cell_type": "code",
      "metadata": {
        "id": "HLQjJSjDnQRC",
        "colab": {
          "base_uri": "https://localhost:8080/"
        },
        "outputId": "640aca38-1691-4b08-b4c7-1fdb0c5cb3ce"
      },
      "source": [
        "quito.info()"
      ],
      "execution_count": 34,
      "outputs": [
        {
          "output_type": "stream",
          "name": "stdout",
          "text": [
            "<class 'pandas.core.frame.DataFrame'>\n",
            "RangeIndex: 32366 entries, 0 to 32365\n",
            "Data columns (total 12 columns):\n",
            " #   Column              Non-Null Count  Dtype  \n",
            "---  ------              --------------  -----  \n",
            " 0   id                  32366 non-null  int64  \n",
            " 1   vendor_id           32366 non-null  object \n",
            " 2   pickup_datetime     32366 non-null  object \n",
            " 3   dropoff_datetime    32366 non-null  object \n",
            " 4   pickup_longitude    32366 non-null  float64\n",
            " 5   pickup_latitude     32366 non-null  float64\n",
            " 6   dropoff_longitude   32366 non-null  float64\n",
            " 7   dropoff_latitude    32366 non-null  float64\n",
            " 8   store_and_fwd_flag  32366 non-null  object \n",
            " 9   trip_duration       32366 non-null  int64  \n",
            " 10  dist_meters         32366 non-null  int64  \n",
            " 11  wait_sec            32366 non-null  int64  \n",
            "dtypes: float64(4), int64(4), object(4)\n",
            "memory usage: 3.0+ MB\n"
          ]
        }
      ]
    },
    {
      "cell_type": "code",
      "metadata": {
        "id": "u-Rm6krEnQL-",
        "colab": {
          "base_uri": "https://localhost:8080/"
        },
        "outputId": "c7fbcb48-450b-443e-82ea-3a131cf83928"
      },
      "source": [
        "quito.isna().sum()"
      ],
      "execution_count": 35,
      "outputs": [
        {
          "output_type": "execute_result",
          "data": {
            "text/plain": [
              "id                    0\n",
              "vendor_id             0\n",
              "pickup_datetime       0\n",
              "dropoff_datetime      0\n",
              "pickup_longitude      0\n",
              "pickup_latitude       0\n",
              "dropoff_longitude     0\n",
              "dropoff_latitude      0\n",
              "store_and_fwd_flag    0\n",
              "trip_duration         0\n",
              "dist_meters           0\n",
              "wait_sec              0\n",
              "dtype: int64"
            ]
          },
          "metadata": {},
          "execution_count": 35
        }
      ]
    },
    {
      "cell_type": "code",
      "metadata": {
        "id": "sKgbVwegyiS1"
      },
      "source": [
        "quito.dropna(inplace=True)"
      ],
      "execution_count": 36,
      "outputs": []
    },
    {
      "cell_type": "code",
      "metadata": {
        "id": "_Rfbqm4GnQGQ",
        "colab": {
          "base_uri": "https://localhost:8080/",
          "height": 1000
        },
        "outputId": "6545e571-5c29-4561-ced5-afefed1be50f"
      },
      "source": [
        "quito.hist(figsize=(12,14))"
      ],
      "execution_count": 37,
      "outputs": [
        {
          "output_type": "execute_result",
          "data": {
            "text/plain": [
              "array([[<matplotlib.axes._subplots.AxesSubplot object at 0x7febd8dbdd10>,\n",
              "        <matplotlib.axes._subplots.AxesSubplot object at 0x7febd8dddbd0>,\n",
              "        <matplotlib.axes._subplots.AxesSubplot object at 0x7febd7d9e210>],\n",
              "       [<matplotlib.axes._subplots.AxesSubplot object at 0x7febd7d54810>,\n",
              "        <matplotlib.axes._subplots.AxesSubplot object at 0x7febd7d102d0>,\n",
              "        <matplotlib.axes._subplots.AxesSubplot object at 0x7febd7cc89d0>],\n",
              "       [<matplotlib.axes._subplots.AxesSubplot object at 0x7febd7c8c150>,\n",
              "        <matplotlib.axes._subplots.AxesSubplot object at 0x7febd7c44650>,\n",
              "        <matplotlib.axes._subplots.AxesSubplot object at 0x7febd7c44690>]],\n",
              "      dtype=object)"
            ]
          },
          "metadata": {},
          "execution_count": 37
        },
        {
          "output_type": "display_data",
          "data": {
            "image/png": "[encoded data removed]",
            "text/plain": [
              "<Figure size 864x1008 with 9 Axes>"
            ]
          },
          "metadata": {
            "needs_background": "light"
          }
        }
      ]
    },
    {
      "cell_type": "code",
      "metadata": {
        "id": "lRELUtstnQAO"
      },
      "source": [
        "import datetime as dt\n",
        "quito['pickup_datetime'] = pd.to_datetime(quito['pickup_datetime'], errors='coerce')\n",
        "\n",
        "quito['dropoff_datetime'] = pd.to_datetime(quito['dropoff_datetime'],errors='coerce')"
      ],
      "execution_count": 38,
      "outputs": []
    },
    {
      "cell_type": "code",
      "metadata": {
        "id": "ez3_rPrPnP5j"
      },
      "source": [
        "quito['Pickup_year'] = quito['pickup_datetime'].dt.year\n",
        "quito['pickup_month']=quito['pickup_datetime'].dt.month \n",
        "quito['pickup_day']=quito['pickup_datetime'].dt.day\n",
        "\n",
        "quito['pickup_Hour'] = quito['pickup_datetime'].dt.hour \n",
        "quito['pickup_minute'] = quito['pickup_datetime'].dt.minute \n",
        "\n",
        "quito['dropoff_year'] = quito['dropoff_datetime'].dt.year\n",
        "quito['dropoff_month']= quito['dropoff_datetime'].dt.month \n",
        "quito['dropoff_day']= quito['dropoff_datetime'].dt.day\n",
        "\n",
        "quito['dropoff_Hour'] = quito['dropoff_datetime'].dt.hour \n",
        "quito['dropoff_minute'] = quito['dropoff_datetime'].dt.minute \n"
      ],
      "execution_count": 39,
      "outputs": []
    },
    {
      "cell_type": "code",
      "metadata": {
        "id": "3hoj0QhQnPz0",
        "colab": {
          "base_uri": "https://localhost:8080/",
          "height": 223
        },
        "outputId": "8905a0b1-eb50-4456-96b7-9a67aa189a48"
      },
      "source": [
        "quito_df = quito.drop(['id','vendor_id','pickup_datetime','dropoff_datetime','store_and_fwd_flag'],axis=1)\n",
        "quito_df.head()"
      ],
      "execution_count": 40,
      "outputs": [
        {
          "output_type": "execute_result",
          "data": {
            "text/html": [
              "<div>\n",
              "<style scoped>\n",
              "    .dataframe tbody tr th:only-of-type {\n",
              "        vertical-align: middle;\n",
              "    }\n",
              "\n",
              "    .dataframe tbody tr th {\n",
              "        vertical-align: top;\n",
              "    }\n",
              "\n",
              "    .dataframe thead th {\n",
              "        text-align: right;\n",
              "    }\n",
              "</style>\n",
              "<table border=\"1\" class=\"dataframe\">\n",
              "  <thead>\n",
              "    <tr style=\"text-align: right;\">\n",
              "      <th></th>\n",
              "      <th>pickup_longitude</th>\n",
              "      <th>pickup_latitude</th>\n",
              "      <th>dropoff_longitude</th>\n",
              "      <th>dropoff_latitude</th>\n",
              "      <th>trip_duration</th>\n",
              "      <th>dist_meters</th>\n",
              "      <th>wait_sec</th>\n",
              "      <th>Pickup_year</th>\n",
              "      <th>pickup_month</th>\n",
              "      <th>pickup_day</th>\n",
              "      <th>pickup_Hour</th>\n",
              "      <th>pickup_minute</th>\n",
              "      <th>dropoff_year</th>\n",
              "      <th>dropoff_month</th>\n",
              "      <th>dropoff_day</th>\n",
              "      <th>dropoff_Hour</th>\n",
              "      <th>dropoff_minute</th>\n",
              "    </tr>\n",
              "  </thead>\n",
              "  <tbody>\n",
              "    <tr>\n",
              "      <th>0</th>\n",
              "      <td>-78.503922</td>\n",
              "      <td>-0.232824</td>\n",
              "      <td>-78.549447</td>\n",
              "      <td>-0.361363</td>\n",
              "      <td>2025</td>\n",
              "      <td>24228</td>\n",
              "      <td>346</td>\n",
              "      <td>2019</td>\n",
              "      <td>9</td>\n",
              "      <td>17</td>\n",
              "      <td>9</td>\n",
              "      <td>32</td>\n",
              "      <td>2019</td>\n",
              "      <td>9</td>\n",
              "      <td>17</td>\n",
              "      <td>10</td>\n",
              "      <td>5</td>\n",
              "    </tr>\n",
              "    <tr>\n",
              "      <th>1</th>\n",
              "      <td>-78.440306</td>\n",
              "      <td>0.006789</td>\n",
              "      <td>-78.490786</td>\n",
              "      <td>-0.104836</td>\n",
              "      <td>1390</td>\n",
              "      <td>16680</td>\n",
              "      <td>456</td>\n",
              "      <td>2019</td>\n",
              "      <td>9</td>\n",
              "      <td>18</td>\n",
              "      <td>4</td>\n",
              "      <td>3</td>\n",
              "      <td>2019</td>\n",
              "      <td>9</td>\n",
              "      <td>18</td>\n",
              "      <td>4</td>\n",
              "      <td>26</td>\n",
              "    </tr>\n",
              "    <tr>\n",
              "      <th>2</th>\n",
              "      <td>-78.469551</td>\n",
              "      <td>-0.143636</td>\n",
              "      <td>-78.470277</td>\n",
              "      <td>-0.131083</td>\n",
              "      <td>130317</td>\n",
              "      <td>1987</td>\n",
              "      <td>290</td>\n",
              "      <td>2019</td>\n",
              "      <td>9</td>\n",
              "      <td>16</td>\n",
              "      <td>6</td>\n",
              "      <td>29</td>\n",
              "      <td>2019</td>\n",
              "      <td>9</td>\n",
              "      <td>18</td>\n",
              "      <td>6</td>\n",
              "      <td>41</td>\n",
              "    </tr>\n",
              "    <tr>\n",
              "      <th>3</th>\n",
              "      <td>-78.558076</td>\n",
              "      <td>-0.278241</td>\n",
              "      <td>-78.430220</td>\n",
              "      <td>-0.201934</td>\n",
              "      <td>1933</td>\n",
              "      <td>25146</td>\n",
              "      <td>302</td>\n",
              "      <td>2019</td>\n",
              "      <td>9</td>\n",
              "      <td>18</td>\n",
              "      <td>5</td>\n",
              "      <td>57</td>\n",
              "      <td>2019</td>\n",
              "      <td>9</td>\n",
              "      <td>18</td>\n",
              "      <td>6</td>\n",
              "      <td>30</td>\n",
              "    </tr>\n",
              "    <tr>\n",
              "      <th>4</th>\n",
              "      <td>-78.521818</td>\n",
              "      <td>-0.208480</td>\n",
              "      <td>-78.504558</td>\n",
              "      <td>-0.222462</td>\n",
              "      <td>948</td>\n",
              "      <td>4625</td>\n",
              "      <td>314</td>\n",
              "      <td>2019</td>\n",
              "      <td>9</td>\n",
              "      <td>18</td>\n",
              "      <td>7</td>\n",
              "      <td>58</td>\n",
              "      <td>2019</td>\n",
              "      <td>9</td>\n",
              "      <td>18</td>\n",
              "      <td>8</td>\n",
              "      <td>14</td>\n",
              "    </tr>\n",
              "  </tbody>\n",
              "</table>\n",
              "</div>"
            ],
            "text/plain": [
              "   pickup_longitude  pickup_latitude  ...  dropoff_Hour  dropoff_minute\n",
              "0        -78.503922        -0.232824  ...            10               5\n",
              "1        -78.440306         0.006789  ...             4              26\n",
              "2        -78.469551        -0.143636  ...             6              41\n",
              "3        -78.558076        -0.278241  ...             6              30\n",
              "4        -78.521818        -0.208480  ...             8              14\n",
              "\n",
              "[5 rows x 17 columns]"
            ]
          },
          "metadata": {},
          "execution_count": 40
        }
      ]
    },
    {
      "cell_type": "code",
      "metadata": {
        "id": "FHHSHSF-kTIt"
      },
      "source": [
        ""
      ],
      "execution_count": 40,
      "outputs": []
    },
    {
      "cell_type": "markdown",
      "metadata": {
        "id": "k7i64s1mK7Dv"
      },
      "source": [
        "## Outlier in the Data\n",
        "Identify the outlier in each of the given datasets"
      ]
    },
    {
      "cell_type": "markdown",
      "metadata": {
        "id": "9sawIhoNX-WA"
      },
      "source": [
        "## 1) Bogota city outliers detection"
      ]
    },
    {
      "cell_type": "code",
      "metadata": {
        "id": "7V-xER3-YYyJ"
      },
      "source": [
        "\n",
        "import seaborn as sns\n",
        "\n",
        "sns.set(rc={'figure.figsize':(14.7,8.27)})\n"
      ],
      "execution_count": 41,
      "outputs": []
    },
    {
      "cell_type": "code",
      "metadata": {
        "id": "7EI7ZSYFX8Un",
        "colab": {
          "base_uri": "https://localhost:8080/",
          "height": 546
        },
        "outputId": "1d5d1fd5-e5ad-4dc0-e544-89323fe9a0b6"
      },
      "source": [
        "import seaborn as sns\n",
        "sns.boxplot(data=bogota)\n"
      ],
      "execution_count": 160,
      "outputs": [
        {
          "output_type": "execute_result",
          "data": {
            "text/plain": [
              "<matplotlib.axes._subplots.AxesSubplot at 0x7febd76bf950>"
            ]
          },
          "metadata": {},
          "execution_count": 160
        },
        {
          "output_type": "display_data",
          "data": {
            "image/png": "[encoded data removed]",
            "text/plain": [
              "<Figure size 1058.4x595.44 with 1 Axes>"
            ]
          },
          "metadata": {}
        },
        {
          "output_type": "stream",
          "name": "stdout",
          "text": [
            "time: 405 ms (started: 2021-11-12 01:08:53 +00:00)\n"
          ]
        }
      ]
    },
    {
      "cell_type": "markdown",
      "metadata": {
        "id": "8WTBqRWarQtt"
      },
      "source": [
        "## Note: if we see the ouliers are at 'dist_meters' and 'wait_sec' columns"
      ]
    },
    {
      "cell_type": "code",
      "metadata": {
        "id": "LdCPbKdLX8kP",
        "colab": {
          "base_uri": "https://localhost:8080/",
          "height": 534
        },
        "outputId": "de8c132d-9403-4700-9875-951da0842557"
      },
      "source": [
        "sns.boxplot(data=bogota,x = bogota['wait_sec'])  \n"
      ],
      "execution_count": 43,
      "outputs": [
        {
          "output_type": "execute_result",
          "data": {
            "text/plain": [
              "<matplotlib.axes._subplots.AxesSubplot at 0x7febd77dc5d0>"
            ]
          },
          "metadata": {},
          "execution_count": 43
        },
        {
          "output_type": "display_data",
          "data": {
            "image/png": "[encoded data removed]",
            "text/plain": [
              "<Figure size 1058.4x595.44 with 1 Axes>"
            ]
          },
          "metadata": {}
        }
      ]
    },
    {
      "cell_type": "code",
      "metadata": {
        "id": "izpIsG-LX8pu",
        "colab": {
          "base_uri": "https://localhost:8080/",
          "height": 534
        },
        "outputId": "88ba6775-485a-43d4-a3fa-e93448849fe8"
      },
      "source": [
        "sns.boxplot(data=bogota,x = bogota['dist_meters'])  \n"
      ],
      "execution_count": 44,
      "outputs": [
        {
          "output_type": "execute_result",
          "data": {
            "text/plain": [
              "<matplotlib.axes._subplots.AxesSubplot at 0x7febd77850d0>"
            ]
          },
          "metadata": {},
          "execution_count": 44
        },
        {
          "output_type": "display_data",
          "data": {
            "image/png": "[encoded data removed]",
            "text/plain": [
              "<Figure size 1058.4x595.44 with 1 Axes>"
            ]
          },
          "metadata": {}
        }
      ]
    },
    {
      "cell_type": "code",
      "metadata": {
        "id": "3BdYuKRwX8t4",
        "colab": {
          "base_uri": "https://localhost:8080/"
        },
        "outputId": "1132fbd4-4e76-4b80-aaea-5cdad90413a9"
      },
      "source": [
        "from scipy import stats\n",
        "import numpy as np\n",
        "z = np.abs(stats.zscore(bogota_df))\n",
        "print(z) "
      ],
      "execution_count": 45,
      "outputs": [
        {
          "output_type": "stream",
          "name": "stdout",
          "text": [
            "[[0.51433889 0.52488692 0.13709794 ... 0.2168343  1.54098929 0.70565309]\n",
            " [0.17745747 0.72760497 0.11463042 ... 0.2168343  1.22916725 0.87027563]\n",
            " [0.57400433 0.26933604 0.56332622 ... 0.2168343  0.91734521 0.0531274 ]\n",
            " ...\n",
            " [0.26864141 0.41680977 0.41394836 ... 1.26643415 1.85281133 0.76402082]\n",
            " [0.34508666 0.88339246 0.35315999 ... 1.26643415 0.64176498 1.23096267]\n",
            " [0.33580757 0.37369674 0.35424147 ... 1.38305636 0.29370114 1.22048201]]\n"
          ]
        }
      ]
    },
    {
      "cell_type": "code",
      "metadata": {
        "id": "SIFnJ3YqX8x3",
        "colab": {
          "base_uri": "https://localhost:8080/"
        },
        "outputId": "1bd3791e-1490-495f-e35d-7fa06b6e41e4"
      },
      "source": [
        "threshold = 3\n",
        "print(np.where(z > 3))  # These are the outliers\n",
        "# The first array contains the list of row numbers and second array respective column numbers"
      ],
      "execution_count": 46,
      "outputs": [
        {
          "output_type": "stream",
          "name": "stdout",
          "text": [
            "(array([   2,   75,  139,  139,  143,  143,  452,  462,  601,  604,  610,\n",
            "        611,  612,  613,  633,  728,  804,  804,  943,  943, 1157, 1242,\n",
            "       1399, 1445, 1702, 1865, 1878, 1881, 1917, 1929, 1992, 2016, 2041,\n",
            "       2041, 2120, 2120, 2192, 2214, 2215, 2420, 2420, 2436, 2640, 2663,\n",
            "       2690, 2693, 2721, 2728, 2762, 2762, 2763, 2763, 2783, 2783, 2784,\n",
            "       2784, 2785, 2785, 2814, 2814, 2848, 2885, 2887, 2888, 2889, 2890,\n",
            "       2891, 2892, 2929, 2929, 2929, 2929, 2930, 2930, 2930, 2930, 2931,\n",
            "       2931, 2931, 2931, 2932, 2932, 2932, 2932, 2933, 2935, 2935, 2935,\n",
            "       2935, 2936, 2936, 2936, 2936, 2938, 2941, 2941, 2941, 2941, 2942,\n",
            "       2942, 2942, 2942, 2944, 2944, 2944, 2944]), array([4, 4, 3, 4, 1, 3, 4, 4, 4, 4, 4, 4, 4, 4, 4, 4, 1, 3, 1, 3, 4, 4,\n",
            "       4, 4, 4, 4, 6, 4, 4, 4, 4, 4, 2, 3, 0, 2, 4, 5, 5, 3, 4, 4, 6, 3,\n",
            "       4, 4, 4, 4, 1, 3, 1, 3, 1, 3, 1, 3, 1, 3, 0, 1, 4, 4, 4, 4, 4, 4,\n",
            "       4, 4, 0, 1, 2, 3, 0, 1, 2, 3, 0, 1, 2, 3, 0, 1, 2, 3, 4, 0, 1, 2,\n",
            "       3, 0, 1, 2, 3, 4, 0, 1, 2, 3, 0, 1, 2, 3, 0, 1, 2, 3]))\n"
          ]
        }
      ]
    },
    {
      "cell_type": "code",
      "metadata": {
        "id": "mU6yh_scX81_",
        "colab": {
          "base_uri": "https://localhost:8080/"
        },
        "outputId": "176cf0ae-ab2f-48be-99bc-6802eb6eda5d"
      },
      "source": [
        "Q1 = bogota_df.quantile(0.25)\n",
        "Q3 = bogota_df.quantile(0.75)\n",
        "IQR = Q3 - Q1\n",
        "print(Q1)\n",
        "print()\n",
        "print(Q3)\n",
        "print()\n",
        "print(IQR)\n"
      ],
      "execution_count": 47,
      "outputs": [
        {
          "output_type": "stream",
          "name": "stdout",
          "text": [
            "pickup_longitude      -74.123948\n",
            "pickup_latitude         4.629166\n",
            "dropoff_longitude     -74.122538\n",
            "dropoff_latitude        4.625974\n",
            "trip_duration         538.500000\n",
            "dist_meters          1672.000000\n",
            "wait_sec               91.000000\n",
            "Pickup_year          2019.000000\n",
            "pickup_month            4.000000\n",
            "pickup_day              9.000000\n",
            "pickup_Hour             5.000000\n",
            "pickup_minute          14.000000\n",
            "dropoff_year         2019.000000\n",
            "dropoff_month           4.000000\n",
            "dropoff_day             9.000000\n",
            "dropoff_Hour            5.000000\n",
            "dropoff_minute         15.000000\n",
            "Name: 0.25, dtype: float64\n",
            "\n",
            "pickup_longitude       -74.055464\n",
            "pickup_latitude          4.717402\n",
            "dropoff_longitude      -74.058683\n",
            "dropoff_latitude         4.719314\n",
            "trip_duration         3813.000000\n",
            "dist_meters          10856.000000\n",
            "wait_sec               844.500000\n",
            "Pickup_year           2020.000000\n",
            "pickup_month            10.000000\n",
            "pickup_day              24.000000\n",
            "pickup_Hour              9.000000\n",
            "pickup_minute           43.000000\n",
            "dropoff_year          2020.000000\n",
            "dropoff_month           10.000000\n",
            "dropoff_day             23.000000\n",
            "dropoff_Hour            10.000000\n",
            "dropoff_minute          44.000000\n",
            "Name: 0.75, dtype: float64\n",
            "\n",
            "pickup_longitude        0.068484\n",
            "pickup_latitude         0.088236\n",
            "dropoff_longitude       0.063855\n",
            "dropoff_latitude        0.093341\n",
            "trip_duration        3274.500000\n",
            "dist_meters          9184.000000\n",
            "wait_sec              753.500000\n",
            "Pickup_year             1.000000\n",
            "pickup_month            6.000000\n",
            "pickup_day             15.000000\n",
            "pickup_Hour             4.000000\n",
            "pickup_minute          29.000000\n",
            "dropoff_year            1.000000\n",
            "dropoff_month           6.000000\n",
            "dropoff_day            14.000000\n",
            "dropoff_Hour            5.000000\n",
            "dropoff_minute         29.000000\n",
            "dtype: float64\n"
          ]
        }
      ]
    },
    {
      "cell_type": "code",
      "metadata": {
        "id": "XNPIVGjdX85a"
      },
      "source": [
        "# outliers removal\n",
        "bogota_df_out = bogota_df[~((bogota_df < (Q1 - 1.5 * IQR)) |(bogota_df > (Q3 + 1.5 * IQR))).any(axis=1)]\n"
      ],
      "execution_count": 48,
      "outputs": []
    },
    {
      "cell_type": "code",
      "metadata": {
        "id": "kzmTdKYbX89F",
        "colab": {
          "base_uri": "https://localhost:8080/",
          "height": 437
        },
        "outputId": "8fcb832d-b1fc-477b-ca3e-45855a1f733e"
      },
      "source": [
        "bogota_df_out"
      ],
      "execution_count": 49,
      "outputs": [
        {
          "output_type": "execute_result",
          "data": {
            "text/html": [
              "<div>\n",
              "<style scoped>\n",
              "    .dataframe tbody tr th:only-of-type {\n",
              "        vertical-align: middle;\n",
              "    }\n",
              "\n",
              "    .dataframe tbody tr th {\n",
              "        vertical-align: top;\n",
              "    }\n",
              "\n",
              "    .dataframe thead th {\n",
              "        text-align: right;\n",
              "    }\n",
              "</style>\n",
              "<table border=\"1\" class=\"dataframe\">\n",
              "  <thead>\n",
              "    <tr style=\"text-align: right;\">\n",
              "      <th></th>\n",
              "      <th>pickup_longitude</th>\n",
              "      <th>pickup_latitude</th>\n",
              "      <th>dropoff_longitude</th>\n",
              "      <th>dropoff_latitude</th>\n",
              "      <th>trip_duration</th>\n",
              "      <th>dist_meters</th>\n",
              "      <th>wait_sec</th>\n",
              "      <th>Pickup_year</th>\n",
              "      <th>pickup_month</th>\n",
              "      <th>pickup_day</th>\n",
              "      <th>pickup_Hour</th>\n",
              "      <th>pickup_minute</th>\n",
              "      <th>dropoff_year</th>\n",
              "      <th>dropoff_month</th>\n",
              "      <th>dropoff_day</th>\n",
              "      <th>dropoff_Hour</th>\n",
              "      <th>dropoff_minute</th>\n",
              "    </tr>\n",
              "  </thead>\n",
              "  <tbody>\n",
              "    <tr>\n",
              "      <th>0</th>\n",
              "      <td>-74.170353</td>\n",
              "      <td>4.622699</td>\n",
              "      <td>-74.119259</td>\n",
              "      <td>4.572322</td>\n",
              "      <td>1419</td>\n",
              "      <td>11935</td>\n",
              "      <td>293</td>\n",
              "      <td>2019</td>\n",
              "      <td>9</td>\n",
              "      <td>18</td>\n",
              "      <td>1</td>\n",
              "      <td>54</td>\n",
              "      <td>2019</td>\n",
              "      <td>9</td>\n",
              "      <td>18</td>\n",
              "      <td>2</td>\n",
              "      <td>17</td>\n",
              "    </tr>\n",
              "    <tr>\n",
              "      <th>1</th>\n",
              "      <td>-74.123542</td>\n",
              "      <td>4.604075</td>\n",
              "      <td>-74.116125</td>\n",
              "      <td>4.572578</td>\n",
              "      <td>782</td>\n",
              "      <td>7101</td>\n",
              "      <td>139</td>\n",
              "      <td>2019</td>\n",
              "      <td>9</td>\n",
              "      <td>18</td>\n",
              "      <td>3</td>\n",
              "      <td>31</td>\n",
              "      <td>2019</td>\n",
              "      <td>9</td>\n",
              "      <td>18</td>\n",
              "      <td>3</td>\n",
              "      <td>44</td>\n",
              "    </tr>\n",
              "    <tr>\n",
              "      <th>3</th>\n",
              "      <td>-74.163398</td>\n",
              "      <td>4.641949</td>\n",
              "      <td>-74.165813</td>\n",
              "      <td>4.640649</td>\n",
              "      <td>66</td>\n",
              "      <td>318</td>\n",
              "      <td>52</td>\n",
              "      <td>2019</td>\n",
              "      <td>9</td>\n",
              "      <td>18</td>\n",
              "      <td>4</td>\n",
              "      <td>31</td>\n",
              "      <td>2019</td>\n",
              "      <td>9</td>\n",
              "      <td>18</td>\n",
              "      <td>4</td>\n",
              "      <td>32</td>\n",
              "    </tr>\n",
              "    <tr>\n",
              "      <th>7</th>\n",
              "      <td>-74.049168</td>\n",
              "      <td>4.736697</td>\n",
              "      <td>-74.050641</td>\n",
              "      <td>4.718745</td>\n",
              "      <td>191</td>\n",
              "      <td>2458</td>\n",
              "      <td>0</td>\n",
              "      <td>2019</td>\n",
              "      <td>9</td>\n",
              "      <td>18</td>\n",
              "      <td>10</td>\n",
              "      <td>8</td>\n",
              "      <td>2019</td>\n",
              "      <td>9</td>\n",
              "      <td>18</td>\n",
              "      <td>10</td>\n",
              "      <td>11</td>\n",
              "    </tr>\n",
              "    <tr>\n",
              "      <th>8</th>\n",
              "      <td>-74.049272</td>\n",
              "      <td>4.718333</td>\n",
              "      <td>-74.030313</td>\n",
              "      <td>4.710932</td>\n",
              "      <td>308</td>\n",
              "      <td>2358</td>\n",
              "      <td>93</td>\n",
              "      <td>2019</td>\n",
              "      <td>9</td>\n",
              "      <td>18</td>\n",
              "      <td>10</td>\n",
              "      <td>11</td>\n",
              "      <td>2019</td>\n",
              "      <td>9</td>\n",
              "      <td>18</td>\n",
              "      <td>10</td>\n",
              "      <td>17</td>\n",
              "    </tr>\n",
              "    <tr>\n",
              "      <th>...</th>\n",
              "      <td>...</td>\n",
              "      <td>...</td>\n",
              "      <td>...</td>\n",
              "      <td>...</td>\n",
              "      <td>...</td>\n",
              "      <td>...</td>\n",
              "      <td>...</td>\n",
              "      <td>...</td>\n",
              "      <td>...</td>\n",
              "      <td>...</td>\n",
              "      <td>...</td>\n",
              "      <td>...</td>\n",
              "      <td>...</td>\n",
              "      <td>...</td>\n",
              "      <td>...</td>\n",
              "      <td>...</td>\n",
              "      <td>...</td>\n",
              "    </tr>\n",
              "    <tr>\n",
              "      <th>3053</th>\n",
              "      <td>-74.161670</td>\n",
              "      <td>4.591986</td>\n",
              "      <td>-74.157820</td>\n",
              "      <td>4.581066</td>\n",
              "      <td>140</td>\n",
              "      <td>1313</td>\n",
              "      <td>18</td>\n",
              "      <td>2019</td>\n",
              "      <td>10</td>\n",
              "      <td>27</td>\n",
              "      <td>4</td>\n",
              "      <td>13</td>\n",
              "      <td>2019</td>\n",
              "      <td>10</td>\n",
              "      <td>27</td>\n",
              "      <td>4</td>\n",
              "      <td>15</td>\n",
              "    </tr>\n",
              "    <tr>\n",
              "      <th>3054</th>\n",
              "      <td>-74.156281</td>\n",
              "      <td>4.578133</td>\n",
              "      <td>-74.157015</td>\n",
              "      <td>4.565806</td>\n",
              "      <td>1559</td>\n",
              "      <td>3940</td>\n",
              "      <td>1039</td>\n",
              "      <td>2019</td>\n",
              "      <td>10</td>\n",
              "      <td>27</td>\n",
              "      <td>4</td>\n",
              "      <td>16</td>\n",
              "      <td>2019</td>\n",
              "      <td>10</td>\n",
              "      <td>27</td>\n",
              "      <td>4</td>\n",
              "      <td>42</td>\n",
              "    </tr>\n",
              "    <tr>\n",
              "      <th>3055</th>\n",
              "      <td>-74.154898</td>\n",
              "      <td>4.637313</td>\n",
              "      <td>-74.048568</td>\n",
              "      <td>4.684500</td>\n",
              "      <td>4374</td>\n",
              "      <td>14743</td>\n",
              "      <td>1193</td>\n",
              "      <td>2019</td>\n",
              "      <td>10</td>\n",
              "      <td>27</td>\n",
              "      <td>6</td>\n",
              "      <td>37</td>\n",
              "      <td>2019</td>\n",
              "      <td>10</td>\n",
              "      <td>27</td>\n",
              "      <td>7</td>\n",
              "      <td>50</td>\n",
              "    </tr>\n",
              "    <tr>\n",
              "      <th>3056</th>\n",
              "      <td>-74.072112</td>\n",
              "      <td>4.631299</td>\n",
              "      <td>-74.042742</td>\n",
              "      <td>4.701864</td>\n",
              "      <td>3106</td>\n",
              "      <td>11368</td>\n",
              "      <td>780</td>\n",
              "      <td>2019</td>\n",
              "      <td>10</td>\n",
              "      <td>27</td>\n",
              "      <td>9</td>\n",
              "      <td>0</td>\n",
              "      <td>2019</td>\n",
              "      <td>10</td>\n",
              "      <td>27</td>\n",
              "      <td>9</td>\n",
              "      <td>52</td>\n",
              "    </tr>\n",
              "    <tr>\n",
              "      <th>3060</th>\n",
              "      <td>-74.061556</td>\n",
              "      <td>4.709213</td>\n",
              "      <td>-74.042396</td>\n",
              "      <td>4.708566</td>\n",
              "      <td>2917</td>\n",
              "      <td>10994</td>\n",
              "      <td>1401</td>\n",
              "      <td>2019</td>\n",
              "      <td>10</td>\n",
              "      <td>27</td>\n",
              "      <td>12</td>\n",
              "      <td>28</td>\n",
              "      <td>2019</td>\n",
              "      <td>10</td>\n",
              "      <td>27</td>\n",
              "      <td>1</td>\n",
              "      <td>16</td>\n",
              "    </tr>\n",
              "  </tbody>\n",
              "</table>\n",
              "<p>2334 rows × 17 columns</p>\n",
              "</div>"
            ],
            "text/plain": [
              "      pickup_longitude  pickup_latitude  ...  dropoff_Hour  dropoff_minute\n",
              "0           -74.170353         4.622699  ...             2              17\n",
              "1           -74.123542         4.604075  ...             3              44\n",
              "3           -74.163398         4.641949  ...             4              32\n",
              "7           -74.049168         4.736697  ...            10              11\n",
              "8           -74.049272         4.718333  ...            10              17\n",
              "...                ...              ...  ...           ...             ...\n",
              "3053        -74.161670         4.591986  ...             4              15\n",
              "3054        -74.156281         4.578133  ...             4              42\n",
              "3055        -74.154898         4.637313  ...             7              50\n",
              "3056        -74.072112         4.631299  ...             9              52\n",
              "3060        -74.061556         4.709213  ...             1              16\n",
              "\n",
              "[2334 rows x 17 columns]"
            ]
          },
          "metadata": {},
          "execution_count": 49
        }
      ]
    },
    {
      "cell_type": "code",
      "metadata": {
        "id": "4wS0U0ZejNA-",
        "colab": {
          "base_uri": "https://localhost:8080/"
        },
        "outputId": "88e3fba7-8126-4d2f-eb52-8d390ae39bd8"
      },
      "source": [
        "bogota.shape  # before outliers removal "
      ],
      "execution_count": 50,
      "outputs": [
        {
          "output_type": "execute_result",
          "data": {
            "text/plain": [
              "(3063, 22)"
            ]
          },
          "metadata": {},
          "execution_count": 50
        }
      ]
    },
    {
      "cell_type": "code",
      "metadata": {
        "id": "l_RRjzGEjHVX",
        "colab": {
          "base_uri": "https://localhost:8080/"
        },
        "outputId": "3e406148-74ef-4dc9-bb52-f674386b8ce8"
      },
      "source": [
        "bogota_df_out.shape  # after outliers removal"
      ],
      "execution_count": 51,
      "outputs": [
        {
          "output_type": "execute_result",
          "data": {
            "text/plain": [
              "(2334, 17)"
            ]
          },
          "metadata": {},
          "execution_count": 51
        }
      ]
    },
    {
      "cell_type": "code",
      "metadata": {
        "id": "9PqnwQzHjZcD"
      },
      "source": [
        ""
      ],
      "execution_count": 51,
      "outputs": []
    },
    {
      "cell_type": "markdown",
      "metadata": {
        "id": "Ju7MPxJVlVF0"
      },
      "source": [
        "## 2).Mexico city outliers detection"
      ]
    },
    {
      "cell_type": "code",
      "metadata": {
        "id": "fItVBCvbjZWS",
        "colab": {
          "base_uri": "https://localhost:8080/",
          "height": 546
        },
        "outputId": "6aeb29ce-0c0e-40eb-ea9f-2aa08a737f5c"
      },
      "source": [
        "import seaborn as sns\n",
        "sns.boxplot(data=mexico)\n"
      ],
      "execution_count": 161,
      "outputs": [
        {
          "output_type": "execute_result",
          "data": {
            "text/plain": [
              "<matplotlib.axes._subplots.AxesSubplot at 0x7febbe0613d0>"
            ]
          },
          "metadata": {},
          "execution_count": 161
        },
        {
          "output_type": "display_data",
          "data": {
            "image/png": "[encoded data removed]",
            "text/plain": [
              "<Figure size 1058.4x595.44 with 1 Axes>"
            ]
          },
          "metadata": {}
        },
        {
          "output_type": "stream",
          "name": "stdout",
          "text": [
            "time: 414 ms (started: 2021-11-12 01:09:11 +00:00)\n"
          ]
        }
      ]
    },
    {
      "cell_type": "markdown",
      "metadata": {
        "id": "hhoE1stUr0gB"
      },
      "source": [
        "####  Note: The outlers are present in 'wait_sec' column"
      ]
    },
    {
      "cell_type": "code",
      "metadata": {
        "id": "BOsv71UHjZRd",
        "colab": {
          "base_uri": "https://localhost:8080/",
          "height": 534
        },
        "outputId": "bd49742d-d49d-4b34-d0e6-4235337ab03c"
      },
      "source": [
        "sns.boxplot(data=mexico,x = mexico['wait_sec'])  \n"
      ],
      "execution_count": 53,
      "outputs": [
        {
          "output_type": "execute_result",
          "data": {
            "text/plain": [
              "<matplotlib.axes._subplots.AxesSubplot at 0x7febd74d2290>"
            ]
          },
          "metadata": {},
          "execution_count": 53
        },
        {
          "output_type": "display_data",
          "data": {
            "image/png": "[encoded data removed]",
            "text/plain": [
              "<Figure size 1058.4x595.44 with 1 Axes>"
            ]
          },
          "metadata": {}
        }
      ]
    },
    {
      "cell_type": "code",
      "metadata": {
        "id": "cLo8ks9_jZMn",
        "colab": {
          "base_uri": "https://localhost:8080/"
        },
        "outputId": "1b7a796f-0294-4ed2-d315-47497006b0eb"
      },
      "source": [
        "z = np.abs(stats.zscore(mexico_df))\n",
        "print(z) "
      ],
      "execution_count": 54,
      "outputs": [
        {
          "output_type": "stream",
          "name": "stdout",
          "text": [
            "[[0.09020454 0.24558941 0.16062848 ... 0.25431369 0.83373498 0.67163011]\n",
            " [0.37441738 0.48597167 0.36367222 ... 0.25431369 1.00037602 1.05646503]\n",
            " [0.35686887 0.45404604 0.32159351 ... 0.25431369 1.00037602 0.36522698]\n",
            " ...\n",
            " [0.08019288 0.78316984 0.10351352 ... 1.29089444 1.30606119 0.49882059]\n",
            " [0.13542032 0.09034021 0.14175686 ... 1.40607007 0.22236465 1.24766182]\n",
            " [0.10228173 0.1169608  0.10899949 ... 1.40607007 0.08332052 1.1140682 ]]\n"
          ]
        }
      ]
    },
    {
      "cell_type": "code",
      "metadata": {
        "id": "x-JesRJujZHW",
        "colab": {
          "base_uri": "https://localhost:8080/"
        },
        "outputId": "6f9a3635-34d1-4e2c-fbec-cdbc78cc891f"
      },
      "source": [
        "threshold = 3\n",
        "print(np.where(z > 3)) \n"
      ],
      "execution_count": 55,
      "outputs": [
        {
          "output_type": "stream",
          "name": "stdout",
          "text": [
            "(array([   26,    27,   265,   354,   367,   463,   474,   477,   486,\n",
            "         607,   619,   654,   787,   877,   942,   970,   983,  1188,\n",
            "        1193,  1244,  1370,  1373,  1374,  1460,  1529,  1529,  1538,\n",
            "        1622,  1622,  1654,  1744,  1820,  1822,  1872,  1872,  1872,\n",
            "        1872,  1875,  1875,  1875,  1875,  1968,  2086,  2098,  2190,\n",
            "        2196,  2196,  2222,  2250,  2323,  2369,  2441,  2442,  2466,\n",
            "        2480,  2488,  2492,  2493,  2493,  2493,  2493,  2526,  2526,\n",
            "        2526,  2526,  2529,  2535,  2535,  2621,  2621,  2621,  2621,\n",
            "        2622,  2622,  2622,  2622,  2631,  2666,  2666,  2666,  2666,\n",
            "        2809,  2831,  2831,  2831,  2831,  2834,  3066,  3156,  3219,\n",
            "        3219,  3219,  3219,  3222,  3225,  3237,  3303,  3303,  3303,\n",
            "        3303,  3307,  3340,  3340,  3340,  3340,  3413,  3470,  3480,\n",
            "        3480,  3553,  3566,  3607,  3649,  3702,  3702,  3711,  3747,\n",
            "        3747,  3761,  3887,  3939,  3947,  3947,  4003,  4004,  4045,\n",
            "        4120,  4183,  4190,  4227,  4361,  4384,  4394,  4404,  4404,\n",
            "        4404,  4404,  4405,  4405,  4405,  4405,  4419,  4430,  4430,\n",
            "        4430,  4455,  4455,  4505,  4534,  4571,  4727,  4734,  4830,\n",
            "        4839,  4988,  5000,  5010,  5044,  5259,  5293,  5309,  5309,\n",
            "        5309,  5309,  5310,  5310,  5310,  5310,  5367,  5367,  5367,\n",
            "        5367,  5458,  5505,  5505,  5505,  5505,  5507,  5507,  5507,\n",
            "        5507,  5604,  5604,  5625,  5655,  5679,  5949,  5970,  6008,\n",
            "        6142,  6187,  6187,  6187,  6232,  6251,  6251,  6251,  6251,\n",
            "        6268,  6323,  6408,  6522,  6570,  6633,  6642,  6726,  6901,\n",
            "        6976,  7046,  7062,  7062,  7218,  7250,  7280,  7306,  7339,\n",
            "        7340,  7381,  7388,  7467,  7506,  7537,  7593,  7614,  7670,\n",
            "        7728,  7731,  7732,  7767,  7874,  7965,  8064,  8064,  8087,\n",
            "        8088,  8270,  8270,  8301,  8308,  8308,  8324,  8324,  8365,\n",
            "        8515,  8570,  8598,  8651,  8739,  8739,  8786,  8892,  8944,\n",
            "        8945,  8972,  8988,  9046,  9046,  9049,  9049,  9049,  9054,\n",
            "        9054,  9054,  9120,  9188,  9445,  9529,  9529,  9545,  9553,\n",
            "        9600,  9664,  9667,  9677,  9743,  9754,  9770,  9803,  9862,\n",
            "        9897,  9899,  9905,  9966, 10100, 10381, 10395, 10395, 10788,\n",
            "       10907, 11230, 11425, 11512, 11602, 11616, 11687, 11687, 11733,\n",
            "       11733, 11733, 11733, 11767, 11767, 11927, 11927, 11927, 11927,\n",
            "       11928, 12117, 12185, 12457, 12604, 12604, 12604, 12604, 12605,\n",
            "       12605, 12605, 12605, 12606, 12606, 12606, 12606, 12621, 12667,\n",
            "       12667, 12667, 12667, 12680]), array([4, 5, 4, 4, 4, 5, 4, 4, 4, 5, 4, 6, 5, 4, 5, 4, 4, 5, 5, 5, 4, 5,\n",
            "       4, 4, 1, 5, 4, 3, 5, 4, 5, 6, 6, 0, 1, 2, 3, 0, 1, 2, 3, 5, 4, 5,\n",
            "       5, 4, 5, 5, 5, 5, 5, 4, 5, 5, 5, 5, 5, 0, 1, 2, 3, 0, 1, 2, 3, 4,\n",
            "       3, 5, 0, 1, 2, 3, 0, 1, 2, 3, 5, 0, 1, 2, 3, 4, 0, 1, 2, 3, 5, 5,\n",
            "       4, 0, 1, 2, 3, 5, 3, 4, 0, 1, 2, 3, 5, 0, 1, 2, 3, 4, 4, 4, 5, 4,\n",
            "       4, 5, 5, 1, 3, 5, 1, 3, 5, 6, 5, 1, 3, 5, 5, 5, 5, 6, 6, 4, 4, 5,\n",
            "       5, 0, 1, 2, 3, 0, 1, 2, 3, 5, 3, 4, 5, 4, 5, 5, 5, 5, 5, 5, 4, 4,\n",
            "       5, 4, 5, 4, 5, 4, 0, 1, 2, 3, 0, 1, 2, 3, 0, 1, 2, 3, 4, 0, 1, 2,\n",
            "       3, 0, 1, 2, 3, 1, 3, 4, 4, 5, 4, 4, 5, 4, 0, 1, 5, 5, 0, 1, 2, 3,\n",
            "       5, 4, 5, 4, 5, 5, 5, 3, 4, 5, 5, 4, 5, 4, 5, 6, 5, 5, 5, 4, 5, 5,\n",
            "       5, 4, 5, 4, 5, 5, 4, 5, 4, 5, 5, 0, 2, 5, 5, 1, 3, 5, 1, 3, 1, 3,\n",
            "       5, 5, 4, 5, 4, 1, 3, 4, 4, 5, 5, 4, 4, 1, 3, 1, 2, 3, 0, 1, 3, 5,\n",
            "       5, 5, 1, 3, 4, 5, 5, 5, 5, 5, 4, 5, 5, 5, 5, 5, 5, 5, 5, 5, 4, 4,\n",
            "       5, 4, 4, 3, 5, 4, 4, 4, 4, 5, 0, 1, 2, 3, 4, 5, 0, 1, 2, 3, 5, 5,\n",
            "       5, 4, 0, 1, 2, 3, 0, 1, 2, 3, 0, 1, 2, 3, 5, 0, 1, 2, 3, 4]))\n"
          ]
        }
      ]
    },
    {
      "cell_type": "code",
      "metadata": {
        "id": "3Qn-SWKkjZAd",
        "colab": {
          "base_uri": "https://localhost:8080/"
        },
        "outputId": "2918a1b2-eff0-48ba-d9a8-fd1f6acd3875"
      },
      "source": [
        "Q1 = mexico_df.quantile(0.25)\n",
        "Q3 = mexico_df.quantile(0.75)\n",
        "IQR = Q3 - Q1\n",
        "print(Q1)\n",
        "print()\n",
        "print(Q3)\n",
        "print()\n",
        "print(IQR)\n"
      ],
      "execution_count": 56,
      "outputs": [
        {
          "output_type": "stream",
          "name": "stdout",
          "text": [
            "pickup_longitude      -99.195615\n",
            "pickup_latitude        19.325832\n",
            "dropoff_longitude     -99.192102\n",
            "dropoff_latitude       19.325325\n",
            "trip_duration         484.000000\n",
            "dist_meters          1775.000000\n",
            "wait_sec               89.000000\n",
            "Pickup_year          2019.000000\n",
            "pickup_month            4.000000\n",
            "pickup_day              7.000000\n",
            "pickup_Hour             4.000000\n",
            "pickup_minute          14.000000\n",
            "dropoff_year         2019.000000\n",
            "dropoff_month           4.000000\n",
            "dropoff_day             7.000000\n",
            "dropoff_Hour            4.000000\n",
            "dropoff_minute         14.000000\n",
            "Name: 0.25, dtype: float64\n",
            "\n",
            "pickup_longitude      -99.107092\n",
            "pickup_latitude        19.432106\n",
            "dropoff_longitude     -99.107355\n",
            "dropoff_latitude       19.434360\n",
            "trip_duration        2368.750000\n",
            "dist_meters          8265.000000\n",
            "wait_sec              591.000000\n",
            "Pickup_year          2020.000000\n",
            "pickup_month            9.000000\n",
            "pickup_day             23.000000\n",
            "pickup_Hour             9.000000\n",
            "pickup_minute          44.000000\n",
            "dropoff_year         2020.000000\n",
            "dropoff_month           9.000000\n",
            "dropoff_day            23.000000\n",
            "dropoff_Hour            9.000000\n",
            "dropoff_minute         44.000000\n",
            "Name: 0.75, dtype: float64\n",
            "\n",
            "pickup_longitude        0.088522\n",
            "pickup_latitude         0.106274\n",
            "dropoff_longitude       0.084747\n",
            "dropoff_latitude        0.109035\n",
            "trip_duration        1884.750000\n",
            "dist_meters          6490.000000\n",
            "wait_sec              502.000000\n",
            "Pickup_year             1.000000\n",
            "pickup_month            5.000000\n",
            "pickup_day             16.000000\n",
            "pickup_Hour             5.000000\n",
            "pickup_minute          30.000000\n",
            "dropoff_year            1.000000\n",
            "dropoff_month           5.000000\n",
            "dropoff_day            16.000000\n",
            "dropoff_Hour            5.000000\n",
            "dropoff_minute         30.000000\n",
            "dtype: float64\n"
          ]
        }
      ]
    },
    {
      "cell_type": "code",
      "metadata": {
        "id": "57SsDcpUjY5S"
      },
      "source": [
        "mexico_df_out = mexico_df[~((mexico_df < (Q1 - 1.5 * IQR)) |(mexico_df > (Q3 + 1.5 * IQR))).any(axis=1)]\n"
      ],
      "execution_count": 57,
      "outputs": []
    },
    {
      "cell_type": "code",
      "metadata": {
        "id": "rhP141HLjYHC",
        "colab": {
          "base_uri": "https://localhost:8080/",
          "height": 437
        },
        "outputId": "3c2e3767-f3ef-4bcc-bfc4-dbb1a0b02307"
      },
      "source": [
        "mexico_df_out"
      ],
      "execution_count": 58,
      "outputs": [
        {
          "output_type": "execute_result",
          "data": {
            "text/html": [
              "<div>\n",
              "<style scoped>\n",
              "    .dataframe tbody tr th:only-of-type {\n",
              "        vertical-align: middle;\n",
              "    }\n",
              "\n",
              "    .dataframe tbody tr th {\n",
              "        vertical-align: top;\n",
              "    }\n",
              "\n",
              "    .dataframe thead th {\n",
              "        text-align: right;\n",
              "    }\n",
              "</style>\n",
              "<table border=\"1\" class=\"dataframe\">\n",
              "  <thead>\n",
              "    <tr style=\"text-align: right;\">\n",
              "      <th></th>\n",
              "      <th>pickup_longitude</th>\n",
              "      <th>pickup_latitude</th>\n",
              "      <th>dropoff_longitude</th>\n",
              "      <th>dropoff_latitude</th>\n",
              "      <th>trip_duration</th>\n",
              "      <th>dist_meters</th>\n",
              "      <th>wait_sec</th>\n",
              "      <th>Pickup_year</th>\n",
              "      <th>pickup_month</th>\n",
              "      <th>pickup_day</th>\n",
              "      <th>pickup_Hour</th>\n",
              "      <th>pickup_minute</th>\n",
              "      <th>dropoff_year</th>\n",
              "      <th>dropoff_month</th>\n",
              "      <th>dropoff_day</th>\n",
              "      <th>dropoff_Hour</th>\n",
              "      <th>dropoff_minute</th>\n",
              "    </tr>\n",
              "  </thead>\n",
              "  <tbody>\n",
              "    <tr>\n",
              "      <th>2</th>\n",
              "      <td>-99.289603</td>\n",
              "      <td>19.326263</td>\n",
              "      <td>-99.271874</td>\n",
              "      <td>19.328530</td>\n",
              "      <td>681</td>\n",
              "      <td>2848</td>\n",
              "      <td>129</td>\n",
              "      <td>2019</td>\n",
              "      <td>9</td>\n",
              "      <td>18</td>\n",
              "      <td>10</td>\n",
              "      <td>11</td>\n",
              "      <td>2019</td>\n",
              "      <td>9</td>\n",
              "      <td>18</td>\n",
              "      <td>10</td>\n",
              "      <td>23</td>\n",
              "    </tr>\n",
              "    <tr>\n",
              "      <th>3</th>\n",
              "      <td>-99.271161</td>\n",
              "      <td>19.328875</td>\n",
              "      <td>-99.279900</td>\n",
              "      <td>19.326256</td>\n",
              "      <td>436</td>\n",
              "      <td>1409</td>\n",
              "      <td>106</td>\n",
              "      <td>2019</td>\n",
              "      <td>9</td>\n",
              "      <td>18</td>\n",
              "      <td>10</td>\n",
              "      <td>23</td>\n",
              "      <td>2019</td>\n",
              "      <td>9</td>\n",
              "      <td>18</td>\n",
              "      <td>10</td>\n",
              "      <td>30</td>\n",
              "    </tr>\n",
              "    <tr>\n",
              "      <th>4</th>\n",
              "      <td>-99.282761</td>\n",
              "      <td>19.326944</td>\n",
              "      <td>-99.291705</td>\n",
              "      <td>19.322754</td>\n",
              "      <td>442</td>\n",
              "      <td>1567</td>\n",
              "      <td>85</td>\n",
              "      <td>2019</td>\n",
              "      <td>9</td>\n",
              "      <td>18</td>\n",
              "      <td>10</td>\n",
              "      <td>44</td>\n",
              "      <td>2019</td>\n",
              "      <td>9</td>\n",
              "      <td>18</td>\n",
              "      <td>10</td>\n",
              "      <td>51</td>\n",
              "    </tr>\n",
              "    <tr>\n",
              "      <th>5</th>\n",
              "      <td>-99.289712</td>\n",
              "      <td>19.322929</td>\n",
              "      <td>-99.289280</td>\n",
              "      <td>19.325978</td>\n",
              "      <td>100</td>\n",
              "      <td>797</td>\n",
              "      <td>19</td>\n",
              "      <td>2019</td>\n",
              "      <td>9</td>\n",
              "      <td>18</td>\n",
              "      <td>10</td>\n",
              "      <td>58</td>\n",
              "      <td>2019</td>\n",
              "      <td>9</td>\n",
              "      <td>18</td>\n",
              "      <td>10</td>\n",
              "      <td>59</td>\n",
              "    </tr>\n",
              "    <tr>\n",
              "      <th>6</th>\n",
              "      <td>-99.285391</td>\n",
              "      <td>19.326247</td>\n",
              "      <td>-99.282549</td>\n",
              "      <td>19.328117</td>\n",
              "      <td>345</td>\n",
              "      <td>676</td>\n",
              "      <td>169</td>\n",
              "      <td>2019</td>\n",
              "      <td>9</td>\n",
              "      <td>18</td>\n",
              "      <td>11</td>\n",
              "      <td>0</td>\n",
              "      <td>2019</td>\n",
              "      <td>9</td>\n",
              "      <td>18</td>\n",
              "      <td>11</td>\n",
              "      <td>5</td>\n",
              "    </tr>\n",
              "    <tr>\n",
              "      <th>...</th>\n",
              "      <td>...</td>\n",
              "      <td>...</td>\n",
              "      <td>...</td>\n",
              "      <td>...</td>\n",
              "      <td>...</td>\n",
              "      <td>...</td>\n",
              "      <td>...</td>\n",
              "      <td>...</td>\n",
              "      <td>...</td>\n",
              "      <td>...</td>\n",
              "      <td>...</td>\n",
              "      <td>...</td>\n",
              "      <td>...</td>\n",
              "      <td>...</td>\n",
              "      <td>...</td>\n",
              "      <td>...</td>\n",
              "      <td>...</td>\n",
              "    </tr>\n",
              "    <tr>\n",
              "      <th>12687</th>\n",
              "      <td>-99.202185</td>\n",
              "      <td>19.376042</td>\n",
              "      <td>-99.193756</td>\n",
              "      <td>19.388496</td>\n",
              "      <td>252</td>\n",
              "      <td>2280</td>\n",
              "      <td>33</td>\n",
              "      <td>2019</td>\n",
              "      <td>10</td>\n",
              "      <td>27</td>\n",
              "      <td>8</td>\n",
              "      <td>11</td>\n",
              "      <td>2019</td>\n",
              "      <td>10</td>\n",
              "      <td>27</td>\n",
              "      <td>8</td>\n",
              "      <td>15</td>\n",
              "    </tr>\n",
              "    <tr>\n",
              "      <th>12689</th>\n",
              "      <td>-99.180762</td>\n",
              "      <td>19.369210</td>\n",
              "      <td>-99.180013</td>\n",
              "      <td>19.370270</td>\n",
              "      <td>3846</td>\n",
              "      <td>8261</td>\n",
              "      <td>427</td>\n",
              "      <td>2019</td>\n",
              "      <td>10</td>\n",
              "      <td>27</td>\n",
              "      <td>9</td>\n",
              "      <td>10</td>\n",
              "      <td>2019</td>\n",
              "      <td>10</td>\n",
              "      <td>27</td>\n",
              "      <td>10</td>\n",
              "      <td>14</td>\n",
              "    </tr>\n",
              "    <tr>\n",
              "      <th>12690</th>\n",
              "      <td>-99.059582</td>\n",
              "      <td>19.307219</td>\n",
              "      <td>-99.065798</td>\n",
              "      <td>19.306472</td>\n",
              "      <td>518</td>\n",
              "      <td>2498</td>\n",
              "      <td>115</td>\n",
              "      <td>2019</td>\n",
              "      <td>10</td>\n",
              "      <td>27</td>\n",
              "      <td>10</td>\n",
              "      <td>53</td>\n",
              "      <td>2019</td>\n",
              "      <td>10</td>\n",
              "      <td>27</td>\n",
              "      <td>11</td>\n",
              "      <td>1</td>\n",
              "    </tr>\n",
              "    <tr>\n",
              "      <th>12691</th>\n",
              "      <td>-99.170637</td>\n",
              "      <td>19.283637</td>\n",
              "      <td>-99.178194</td>\n",
              "      <td>19.280982</td>\n",
              "      <td>1131</td>\n",
              "      <td>6051</td>\n",
              "      <td>228</td>\n",
              "      <td>2019</td>\n",
              "      <td>10</td>\n",
              "      <td>27</td>\n",
              "      <td>11</td>\n",
              "      <td>19</td>\n",
              "      <td>2019</td>\n",
              "      <td>10</td>\n",
              "      <td>27</td>\n",
              "      <td>11</td>\n",
              "      <td>38</td>\n",
              "    </tr>\n",
              "    <tr>\n",
              "      <th>12692</th>\n",
              "      <td>-99.194384</td>\n",
              "      <td>19.396768</td>\n",
              "      <td>-99.194622</td>\n",
              "      <td>19.396717</td>\n",
              "      <td>104</td>\n",
              "      <td>49</td>\n",
              "      <td>96</td>\n",
              "      <td>2019</td>\n",
              "      <td>10</td>\n",
              "      <td>28</td>\n",
              "      <td>6</td>\n",
              "      <td>49</td>\n",
              "      <td>2019</td>\n",
              "      <td>10</td>\n",
              "      <td>28</td>\n",
              "      <td>6</td>\n",
              "      <td>51</td>\n",
              "    </tr>\n",
              "  </tbody>\n",
              "</table>\n",
              "<p>9497 rows × 17 columns</p>\n",
              "</div>"
            ],
            "text/plain": [
              "       pickup_longitude  pickup_latitude  ...  dropoff_Hour  dropoff_minute\n",
              "2            -99.289603        19.326263  ...            10              23\n",
              "3            -99.271161        19.328875  ...            10              30\n",
              "4            -99.282761        19.326944  ...            10              51\n",
              "5            -99.289712        19.322929  ...            10              59\n",
              "6            -99.285391        19.326247  ...            11               5\n",
              "...                 ...              ...  ...           ...             ...\n",
              "12687        -99.202185        19.376042  ...             8              15\n",
              "12689        -99.180762        19.369210  ...            10              14\n",
              "12690        -99.059582        19.307219  ...            11               1\n",
              "12691        -99.170637        19.283637  ...            11              38\n",
              "12692        -99.194384        19.396768  ...             6              51\n",
              "\n",
              "[9497 rows x 17 columns]"
            ]
          },
          "metadata": {},
          "execution_count": 58
        }
      ]
    },
    {
      "cell_type": "code",
      "metadata": {
        "id": "B42bjXoPmlYy",
        "colab": {
          "base_uri": "https://localhost:8080/"
        },
        "outputId": "deb39a78-4c68-46f1-bfcb-33ba6c433487"
      },
      "source": [
        "mexico.shape  # before outliers removal"
      ],
      "execution_count": 59,
      "outputs": [
        {
          "output_type": "execute_result",
          "data": {
            "text/plain": [
              "(12694, 22)"
            ]
          },
          "metadata": {},
          "execution_count": 59
        }
      ]
    },
    {
      "cell_type": "code",
      "metadata": {
        "id": "Qjb14-UMmlU0",
        "colab": {
          "base_uri": "https://localhost:8080/"
        },
        "outputId": "d26a88dd-9976-4f81-ec1f-85019bccbb1b"
      },
      "source": [
        "mexico_df_out.shape # after outliers removal"
      ],
      "execution_count": 60,
      "outputs": [
        {
          "output_type": "execute_result",
          "data": {
            "text/plain": [
              "(9497, 17)"
            ]
          },
          "metadata": {},
          "execution_count": 60
        }
      ]
    },
    {
      "cell_type": "code",
      "metadata": {
        "id": "2-OaXuUDmlQs"
      },
      "source": [
        ""
      ],
      "execution_count": 60,
      "outputs": []
    },
    {
      "cell_type": "markdown",
      "metadata": {
        "id": "ishA6Bo-ofpX"
      },
      "source": [
        "## 3). Quito city outliers detection"
      ]
    },
    {
      "cell_type": "code",
      "metadata": {
        "id": "ZSbTdl2cmlMx",
        "colab": {
          "base_uri": "https://localhost:8080/",
          "height": 546
        },
        "outputId": "d6a2a8fb-baca-4348-8a05-95f4a612881e"
      },
      "source": [
        "import seaborn as sns\n",
        "sns.boxplot(data=quito) \n"
      ],
      "execution_count": 162,
      "outputs": [
        {
          "output_type": "execute_result",
          "data": {
            "text/plain": [
              "<matplotlib.axes._subplots.AxesSubplot at 0x7febbdf74d10>"
            ]
          },
          "metadata": {},
          "execution_count": 162
        },
        {
          "output_type": "display_data",
          "data": {
            "image/png": "[encoded data removed]",
            "text/plain": [
              "<Figure size 1058.4x595.44 with 1 Axes>"
            ]
          },
          "metadata": {}
        },
        {
          "output_type": "stream",
          "name": "stdout",
          "text": [
            "time: 493 ms (started: 2021-11-12 01:09:30 +00:00)\n"
          ]
        }
      ]
    },
    {
      "cell_type": "code",
      "metadata": {
        "id": "XcjExMoamlGm",
        "colab": {
          "base_uri": "https://localhost:8080/",
          "height": 534
        },
        "outputId": "189b84ef-5881-4484-eb53-4f112c6b1504"
      },
      "source": [
        "sns.boxplot(data=quito_df,x = quito_df['wait_sec'])  \n"
      ],
      "execution_count": 62,
      "outputs": [
        {
          "output_type": "execute_result",
          "data": {
            "text/plain": [
              "<matplotlib.axes._subplots.AxesSubplot at 0x7febd723ea90>"
            ]
          },
          "metadata": {},
          "execution_count": 62
        },
        {
          "output_type": "display_data",
          "data": {
            "image/png": "[encoded data removed]",
            "text/plain": [
              "<Figure size 1058.4x595.44 with 1 Axes>"
            ]
          },
          "metadata": {}
        }
      ]
    },
    {
      "cell_type": "code",
      "metadata": {
        "colab": {
          "base_uri": "https://localhost:8080/"
        },
        "id": "P53--msGxBjK",
        "outputId": "3a580f3b-d298-4bf5-990d-799d73bbd455"
      },
      "source": [
        "quito_df.dtypes "
      ],
      "execution_count": 63,
      "outputs": [
        {
          "output_type": "execute_result",
          "data": {
            "text/plain": [
              "pickup_longitude     float64\n",
              "pickup_latitude      float64\n",
              "dropoff_longitude    float64\n",
              "dropoff_latitude     float64\n",
              "trip_duration          int64\n",
              "dist_meters            int64\n",
              "wait_sec               int64\n",
              "Pickup_year            int64\n",
              "pickup_month           int64\n",
              "pickup_day             int64\n",
              "pickup_Hour            int64\n",
              "pickup_minute          int64\n",
              "dropoff_year           int64\n",
              "dropoff_month          int64\n",
              "dropoff_day            int64\n",
              "dropoff_Hour           int64\n",
              "dropoff_minute         int64\n",
              "dtype: object"
            ]
          },
          "metadata": {},
          "execution_count": 63
        }
      ]
    },
    {
      "cell_type": "code",
      "metadata": {
        "id": "s6Qk4MauzGRg"
      },
      "source": [
        "quito['pickup_longitude'] = quito['pickup_longitude'].astype('float64')"
      ],
      "execution_count": 64,
      "outputs": []
    },
    {
      "cell_type": "code",
      "metadata": {
        "id": "cv-gXcSVmk6X",
        "colab": {
          "base_uri": "https://localhost:8080/"
        },
        "outputId": "ab576db6-9e9f-4f9f-dc0d-da04b2885dc8"
      },
      "source": [
        "z = np.abs(stats.zscore(quito_df))\n",
        "print(z) "
      ],
      "execution_count": 65,
      "outputs": [
        {
          "output_type": "stream",
          "name": "stdout",
          "text": [
            "[[0.2679525  0.57493126 1.26268076 ... 0.13717682 0.93796831 1.39992183]\n",
            " [1.20782426 2.57158392 0.04721687 ... 0.25045024 1.01124081 0.19465382]\n",
            " [0.52937653 0.59625344 0.50519006 ... 0.25045024 0.36150444 0.66625191]\n",
            " ...\n",
            " [0.35084777 1.07060047 0.06269715 ... 1.269911   0.36150444 0.20710219]\n",
            " [1.34299316 0.88886083 1.28185509 ... 1.04336416 0.68637262 1.68689041]\n",
            " [1.40082866 2.00252341 1.04067854 ... 1.38318442 0.36150444 1.64194506]]\n"
          ]
        }
      ]
    },
    {
      "cell_type": "code",
      "metadata": {
        "id": "GrfoQyRZqK8s",
        "colab": {
          "base_uri": "https://localhost:8080/"
        },
        "outputId": "a6e7249d-3405-4ef3-9eee-50a3fe2b122d"
      },
      "source": [
        "threshold = 3 # These are the outliers\n",
        "print(np.where(z > 3)) \n"
      ],
      "execution_count": 66,
      "outputs": [
        {
          "output_type": "stream",
          "name": "stdout",
          "text": [
            "(array([    8,   161,   163,   163,   168,   247,   257,   276,   576,\n",
            "         636,   660,   689,   900,   995,  1047,  1048,  1050,  1096,\n",
            "        1096,  1247,  1247,  1329,  1335,  1335,  1398,  1655,  1763,\n",
            "        2012,  2012,  2044,  2129,  2179,  2184,  2220,  2306,  2391,\n",
            "        2403,  2468,  2475,  2526,  2546,  2565,  2695,  2695,  2831,\n",
            "        2893,  2893,  2893,  2907,  2927,  2933,  3109,  3114,  3114,\n",
            "        3262,  3307,  3357,  3412,  3477,  3667,  3831,  3831,  3831,\n",
            "        3905,  3938,  4029,  4373,  4511,  4632,  4654,  5471,  5494,\n",
            "        5494,  5502,  5604,  5683,  5918,  5958,  5958,  5958,  6228,\n",
            "        6228,  6228,  6228,  6279,  6279,  6279,  6279,  6334,  6486,\n",
            "        6498,  6725,  6725,  7142,  7170,  7176,  7361,  7428,  7856,\n",
            "        7856,  7856,  7859,  7860,  7899,  8057,  8057,  8057,  8129,\n",
            "        8186,  8265,  8298,  8298,  8298,  8298,  8299,  8323,  8380,\n",
            "        8667,  8669,  8682,  8953,  9029,  9090,  9285,  9293,  9293,\n",
            "        9293,  9327,  9345,  9539,  9580,  9587,  9792,  9862,  9993,\n",
            "       10072, 10072, 10073, 10073, 10074, 10074, 10075, 10075, 10078,\n",
            "       10078, 10079, 10079, 10081, 10081, 10081, 10081, 10090, 10090,\n",
            "       10099, 10100, 10100, 10100, 10148, 10158, 10194, 10242, 10279,\n",
            "       10324, 10324, 10324, 10328, 10399, 10451, 10515, 10590, 10697,\n",
            "       10712, 10847, 11052, 11197, 11209, 11335, 11377, 11421, 11424,\n",
            "       11721, 11808, 11981, 11984, 12097, 12237, 12277, 12711, 12711,\n",
            "       12718, 12737, 12743, 12748, 12750, 12871, 12949, 12949, 12949,\n",
            "       12949, 12958, 12975, 12976, 13008, 13018, 13039, 13039, 13039,\n",
            "       13039, 13051, 13103, 13103, 13184, 13184, 13184, 13184, 13188,\n",
            "       13188, 13244, 13364, 13599, 13618, 13618, 13620, 13667, 13696,\n",
            "       13805, 13854, 13884, 13954, 14215, 14216, 14225, 14369, 14402,\n",
            "       14792, 14799, 14838, 14947, 14947, 15122, 15127, 15243, 15243,\n",
            "       15246, 15332, 15457, 15510, 15510, 15539, 15878, 15880, 15880,\n",
            "       15889, 15952, 16084, 16105, 16105, 16114, 16301, 16347, 16684,\n",
            "       16684, 16759, 16793, 17082, 17103, 17229, 17229, 17231, 17432,\n",
            "       17636, 17641, 17684, 17890, 17895, 17914, 17999, 18057, 18118,\n",
            "       18181, 18223, 18333, 18333, 18345, 18418, 18425, 18439, 18570,\n",
            "       18722, 18744, 18864, 18864, 19145, 19188, 19201, 19201, 19503,\n",
            "       19559, 19561, 19572, 19779, 19797, 19824, 19824, 19824, 19824,\n",
            "       19987, 19987, 19987, 19987, 20114, 20114, 20163, 20163, 20168,\n",
            "       20381, 20615, 20645, 20713, 20745, 20745, 20745, 20745, 20784,\n",
            "       20796, 20841, 20841, 20841, 20841, 20843, 20843, 20843, 20843,\n",
            "       21024, 21271, 21297, 21303, 21303, 21568, 21654, 21716, 21827,\n",
            "       21856, 21903, 21912, 21966, 22001, 22001, 22068, 22286, 22442,\n",
            "       22512, 22512, 22512, 22512, 22531, 22703, 22703, 22769, 22965,\n",
            "       22965, 23251, 23362, 23410, 23450, 23454, 23454, 23454, 23454,\n",
            "       23583, 23600, 23782, 23801, 24075, 24118, 24426, 24712, 24921,\n",
            "       24921, 24921, 24921, 24950, 25000, 25034, 25034, 25034, 25034,\n",
            "       25060, 25062, 25062, 25062, 25062, 25115, 25152, 25236, 25783,\n",
            "       25826, 25835, 26216, 26216, 26242, 26318, 26318, 26338, 26338,\n",
            "       26343, 26343, 26343, 26343, 26375, 26481, 26481, 26572, 26627,\n",
            "       26720, 26720, 26809, 26841, 26930, 26940, 27244, 27269, 27269,\n",
            "       27271, 27308, 27308, 27351, 27371, 27414, 27443, 27443, 27468,\n",
            "       27533, 27575, 27626, 27635, 27635, 27636, 27636, 27636, 27636,\n",
            "       27648, 27648, 27648, 27648, 27698, 27732, 27868, 27868, 27868,\n",
            "       28599, 28687, 28687, 28735, 28859, 29106, 29108, 29218, 29218,\n",
            "       29236, 29346, 29346, 29346, 29346, 29346, 29346, 29362, 29362,\n",
            "       29362, 29362, 29415, 29415, 29415, 29525, 29693, 29699, 29925,\n",
            "       29927, 29982, 30135, 30150, 30150, 30150, 30201, 30265, 30265,\n",
            "       30298, 30381, 30404, 30404, 30417, 30417, 30417, 30465, 30482,\n",
            "       30567, 30570, 30643, 30699, 30724, 30821, 30989, 30989, 30989,\n",
            "       30989, 31280, 31334, 31360, 31526, 31539, 31573, 31600, 31674,\n",
            "       31674, 31674, 31796, 31820, 31969, 32003, 32251]), array([0, 2, 0, 2, 0, 2, 4, 4, 4, 0, 4, 4, 4, 4, 4, 2, 2, 0, 2, 0, 2, 4,\n",
            "       0, 2, 3, 2, 6, 0, 2, 3, 3, 6, 6, 6, 4, 4, 4, 3, 4, 4, 6, 4, 0, 1,\n",
            "       6, 2, 3, 4, 4, 6, 4, 6, 1, 3, 4, 2, 4, 2, 4, 4, 2, 3, 4, 3, 4, 4,\n",
            "       4, 4, 4, 6, 2, 0, 2, 4, 1, 4, 4, 0, 2, 3, 0, 1, 2, 3, 0, 1, 2, 3,\n",
            "       6, 6, 6, 0, 1, 6, 2, 6, 4, 4, 0, 1, 3, 4, 0, 0, 0, 1, 3, 0, 0, 4,\n",
            "       0, 1, 2, 3, 4, 4, 4, 0, 2, 4, 0, 4, 2, 3, 1, 2, 3, 4, 1, 3, 2, 2,\n",
            "       4, 4, 4, 0, 2, 0, 2, 0, 2, 0, 2, 0, 2, 0, 2, 0, 1, 2, 3, 0, 2, 0,\n",
            "       1, 2, 3, 2, 4, 4, 2, 2, 2, 3, 4, 4, 0, 4, 4, 4, 2, 4, 4, 6, 6, 0,\n",
            "       4, 4, 6, 6, 4, 4, 4, 3, 4, 6, 6, 1, 3, 0, 6, 3, 1, 6, 6, 0, 1, 2,\n",
            "       3, 6, 3, 0, 2, 0, 0, 1, 2, 3, 0, 2, 3, 0, 1, 2, 3, 0, 1, 4, 2, 4,\n",
            "       0, 1, 4, 3, 4, 0, 4, 6, 6, 6, 6, 6, 4, 0, 4, 6, 4, 1, 3, 4, 6, 2,\n",
            "       3, 4, 0, 4, 2, 3, 3, 0, 0, 2, 0, 4, 4, 0, 2, 0, 4, 4, 3, 4, 4, 3,\n",
            "       4, 0, 2, 3, 5, 4, 4, 4, 4, 6, 6, 6, 4, 6, 4, 0, 4, 0, 2, 0, 3, 1,\n",
            "       6, 6, 4, 4, 1, 3, 0, 6, 0, 2, 4, 2, 0, 0, 4, 4, 0, 1, 2, 3, 0, 1,\n",
            "       2, 3, 0, 1, 0, 4, 4, 4, 0, 0, 0, 0, 1, 2, 3, 4, 4, 0, 1, 2, 3, 0,\n",
            "       1, 2, 3, 3, 4, 6, 1, 3, 0, 4, 0, 4, 4, 2, 0, 4, 4, 7, 3, 3, 4, 0,\n",
            "       1, 2, 3, 4, 0, 1, 0, 0, 2, 6, 4, 6, 6, 0, 1, 2, 3, 4, 4, 4, 4, 4,\n",
            "       4, 0, 4, 0, 1, 2, 3, 6, 4, 0, 1, 2, 3, 6, 0, 1, 2, 3, 4, 1, 4, 4,\n",
            "       4, 0, 1, 3, 0, 0, 2, 2, 3, 0, 1, 2, 3, 0, 2, 3, 4, 4, 2, 3, 4, 4,\n",
            "       6, 6, 6, 0, 1, 6, 0, 2, 6, 4, 3, 0, 2, 2, 3, 4, 4, 2, 3, 0, 1, 2,\n",
            "       3, 0, 1, 2, 3, 0, 3, 0, 2, 4, 6, 2, 3, 4, 6, 2, 2, 0, 2, 4, 0, 1,\n",
            "       2, 3, 4, 6, 0, 1, 2, 3, 0, 2, 3, 0, 4, 2, 2, 0, 4, 4, 0, 1, 4, 4,\n",
            "       1, 3, 4, 6, 4, 6, 0, 1, 4, 6, 6, 2, 6, 4, 4, 6, 0, 0, 1, 2, 3, 4,\n",
            "       4, 4, 4, 0, 4, 4, 2, 3, 4, 4, 2, 4, 4, 1]))\n"
          ]
        }
      ]
    },
    {
      "cell_type": "code",
      "metadata": {
        "id": "3geGyylmqLEX",
        "colab": {
          "base_uri": "https://localhost:8080/"
        },
        "outputId": "12cab4ba-8650-4efd-b66a-f9613b1410ee"
      },
      "source": [
        "Q1 = quito_df.quantile(0.25)\n",
        "Q3 = quito_df.quantile(0.75)\n",
        "IQR = Q3 - Q1\n",
        "print(Q1)\n",
        "print()\n",
        "print(Q3)\n",
        "print()\n",
        "print(IQR)\n"
      ],
      "execution_count": 67,
      "outputs": [
        {
          "output_type": "stream",
          "name": "stdout",
          "text": [
            "pickup_longitude      -78.505867\n",
            "pickup_latitude        -0.218344\n",
            "dropoff_longitude     -78.505734\n",
            "dropoff_latitude       -0.220508\n",
            "trip_duration         500.000000\n",
            "dist_meters          2148.000000\n",
            "wait_sec              107.000000\n",
            "Pickup_year          2019.000000\n",
            "pickup_month            4.000000\n",
            "pickup_day              8.000000\n",
            "pickup_Hour             5.000000\n",
            "pickup_minute          14.000000\n",
            "dropoff_year         2019.000000\n",
            "dropoff_month           4.000000\n",
            "dropoff_day             8.000000\n",
            "dropoff_Hour            5.000000\n",
            "dropoff_minute         14.000000\n",
            "Name: 0.25, dtype: float64\n",
            "\n",
            "pickup_longitude      -78.475783\n",
            "pickup_latitude        -0.148715\n",
            "dropoff_longitude     -78.477443\n",
            "dropoff_latitude       -0.149867\n",
            "trip_duration        1710.000000\n",
            "dist_meters          7475.000000\n",
            "wait_sec              499.000000\n",
            "Pickup_year          2020.000000\n",
            "pickup_month           10.000000\n",
            "pickup_day             23.000000\n",
            "pickup_Hour             9.000000\n",
            "pickup_minute          44.000000\n",
            "dropoff_year         2020.000000\n",
            "dropoff_month          10.000000\n",
            "dropoff_day            23.000000\n",
            "dropoff_Hour            9.000000\n",
            "dropoff_minute         45.000000\n",
            "Name: 0.75, dtype: float64\n",
            "\n",
            "pickup_longitude        0.030085\n",
            "pickup_latitude         0.069629\n",
            "dropoff_longitude       0.028291\n",
            "dropoff_latitude        0.070641\n",
            "trip_duration        1210.000000\n",
            "dist_meters          5327.000000\n",
            "wait_sec              392.000000\n",
            "Pickup_year             1.000000\n",
            "pickup_month            6.000000\n",
            "pickup_day             15.000000\n",
            "pickup_Hour             4.000000\n",
            "pickup_minute          30.000000\n",
            "dropoff_year            1.000000\n",
            "dropoff_month           6.000000\n",
            "dropoff_day            15.000000\n",
            "dropoff_Hour            4.000000\n",
            "dropoff_minute         31.000000\n",
            "dtype: float64\n"
          ]
        }
      ]
    },
    {
      "cell_type": "code",
      "metadata": {
        "id": "qpLajKLvqLJ4"
      },
      "source": [
        "quito_df_out = quito_df[~((quito_df < (Q1 - 1.5 * IQR)) |(quito_df > (Q3 + 1.5 * IQR))).any(axis=1)]\n"
      ],
      "execution_count": 68,
      "outputs": []
    },
    {
      "cell_type": "code",
      "metadata": {
        "id": "zMak8vbMqLN5",
        "colab": {
          "base_uri": "https://localhost:8080/",
          "height": 223
        },
        "outputId": "24043ef4-4742-4a57-ea44-c9552c019cd2"
      },
      "source": [
        "quito_df_out.head()"
      ],
      "execution_count": 69,
      "outputs": [
        {
          "output_type": "execute_result",
          "data": {
            "text/html": [
              "<div>\n",
              "<style scoped>\n",
              "    .dataframe tbody tr th:only-of-type {\n",
              "        vertical-align: middle;\n",
              "    }\n",
              "\n",
              "    .dataframe tbody tr th {\n",
              "        vertical-align: top;\n",
              "    }\n",
              "\n",
              "    .dataframe thead th {\n",
              "        text-align: right;\n",
              "    }\n",
              "</style>\n",
              "<table border=\"1\" class=\"dataframe\">\n",
              "  <thead>\n",
              "    <tr style=\"text-align: right;\">\n",
              "      <th></th>\n",
              "      <th>pickup_longitude</th>\n",
              "      <th>pickup_latitude</th>\n",
              "      <th>dropoff_longitude</th>\n",
              "      <th>dropoff_latitude</th>\n",
              "      <th>trip_duration</th>\n",
              "      <th>dist_meters</th>\n",
              "      <th>wait_sec</th>\n",
              "      <th>Pickup_year</th>\n",
              "      <th>pickup_month</th>\n",
              "      <th>pickup_day</th>\n",
              "      <th>pickup_Hour</th>\n",
              "      <th>pickup_minute</th>\n",
              "      <th>dropoff_year</th>\n",
              "      <th>dropoff_month</th>\n",
              "      <th>dropoff_day</th>\n",
              "      <th>dropoff_Hour</th>\n",
              "      <th>dropoff_minute</th>\n",
              "    </tr>\n",
              "  </thead>\n",
              "  <tbody>\n",
              "    <tr>\n",
              "      <th>4</th>\n",
              "      <td>-78.521818</td>\n",
              "      <td>-0.208480</td>\n",
              "      <td>-78.504558</td>\n",
              "      <td>-0.222462</td>\n",
              "      <td>948</td>\n",
              "      <td>4625</td>\n",
              "      <td>314</td>\n",
              "      <td>2019</td>\n",
              "      <td>9</td>\n",
              "      <td>18</td>\n",
              "      <td>7</td>\n",
              "      <td>58</td>\n",
              "      <td>2019</td>\n",
              "      <td>9</td>\n",
              "      <td>18</td>\n",
              "      <td>8</td>\n",
              "      <td>14</td>\n",
              "    </tr>\n",
              "    <tr>\n",
              "      <th>5</th>\n",
              "      <td>-78.509202</td>\n",
              "      <td>-0.194839</td>\n",
              "      <td>-78.518764</td>\n",
              "      <td>-0.228794</td>\n",
              "      <td>1510</td>\n",
              "      <td>5820</td>\n",
              "      <td>630</td>\n",
              "      <td>2019</td>\n",
              "      <td>8</td>\n",
              "      <td>27</td>\n",
              "      <td>4</td>\n",
              "      <td>19</td>\n",
              "      <td>2019</td>\n",
              "      <td>8</td>\n",
              "      <td>27</td>\n",
              "      <td>4</td>\n",
              "      <td>44</td>\n",
              "    </tr>\n",
              "    <tr>\n",
              "      <th>6</th>\n",
              "      <td>-78.481542</td>\n",
              "      <td>-0.154317</td>\n",
              "      <td>-78.518420</td>\n",
              "      <td>-0.191547</td>\n",
              "      <td>1341</td>\n",
              "      <td>7593</td>\n",
              "      <td>510</td>\n",
              "      <td>2019</td>\n",
              "      <td>9</td>\n",
              "      <td>18</td>\n",
              "      <td>10</td>\n",
              "      <td>8</td>\n",
              "      <td>2019</td>\n",
              "      <td>9</td>\n",
              "      <td>18</td>\n",
              "      <td>10</td>\n",
              "      <td>31</td>\n",
              "    </tr>\n",
              "    <tr>\n",
              "      <th>9</th>\n",
              "      <td>-78.497122</td>\n",
              "      <td>-0.200376</td>\n",
              "      <td>-78.499757</td>\n",
              "      <td>-0.207293</td>\n",
              "      <td>109</td>\n",
              "      <td>827</td>\n",
              "      <td>29</td>\n",
              "      <td>2019</td>\n",
              "      <td>9</td>\n",
              "      <td>18</td>\n",
              "      <td>12</td>\n",
              "      <td>21</td>\n",
              "      <td>2019</td>\n",
              "      <td>9</td>\n",
              "      <td>18</td>\n",
              "      <td>12</td>\n",
              "      <td>23</td>\n",
              "    </tr>\n",
              "    <tr>\n",
              "      <th>10</th>\n",
              "      <td>-78.499770</td>\n",
              "      <td>-0.207324</td>\n",
              "      <td>-78.506766</td>\n",
              "      <td>-0.226037</td>\n",
              "      <td>495</td>\n",
              "      <td>2549</td>\n",
              "      <td>129</td>\n",
              "      <td>2019</td>\n",
              "      <td>9</td>\n",
              "      <td>18</td>\n",
              "      <td>12</td>\n",
              "      <td>23</td>\n",
              "      <td>2019</td>\n",
              "      <td>9</td>\n",
              "      <td>18</td>\n",
              "      <td>12</td>\n",
              "      <td>31</td>\n",
              "    </tr>\n",
              "  </tbody>\n",
              "</table>\n",
              "</div>"
            ],
            "text/plain": [
              "    pickup_longitude  pickup_latitude  ...  dropoff_Hour  dropoff_minute\n",
              "4         -78.521818        -0.208480  ...             8              14\n",
              "5         -78.509202        -0.194839  ...             4              44\n",
              "6         -78.481542        -0.154317  ...            10              31\n",
              "9         -78.497122        -0.200376  ...            12              23\n",
              "10        -78.499770        -0.207324  ...            12              31\n",
              "\n",
              "[5 rows x 17 columns]"
            ]
          },
          "metadata": {},
          "execution_count": 69
        }
      ]
    },
    {
      "cell_type": "code",
      "metadata": {
        "id": "usEJmMhWqLST",
        "colab": {
          "base_uri": "https://localhost:8080/"
        },
        "outputId": "eeba0547-7341-4093-d0d2-b154c1b7d223"
      },
      "source": [
        "quito.shape  # Before outliers removal"
      ],
      "execution_count": 70,
      "outputs": [
        {
          "output_type": "execute_result",
          "data": {
            "text/plain": [
              "(32366, 22)"
            ]
          },
          "metadata": {},
          "execution_count": 70
        }
      ]
    },
    {
      "cell_type": "code",
      "metadata": {
        "id": "k3Ph2PE-qLV9",
        "colab": {
          "base_uri": "https://localhost:8080/"
        },
        "outputId": "00264068-9f86-40a1-cf7f-507695fd642f"
      },
      "source": [
        "quito_df_out.shape  # after outliers removal"
      ],
      "execution_count": 71,
      "outputs": [
        {
          "output_type": "execute_result",
          "data": {
            "text/plain": [
              "(23024, 17)"
            ]
          },
          "metadata": {},
          "execution_count": 71
        }
      ]
    },
    {
      "cell_type": "code",
      "metadata": {
        "id": "i9VSbE5oqJ7J",
        "colab": {
          "base_uri": "https://localhost:8080/",
          "height": 203
        },
        "outputId": "8a41a0fc-7fc4-495b-8754-013fe7bca69b"
      },
      "source": [
        "car_list = pd.read_excel(r'/content/car_list.xlsx')\n",
        "car_list.head() "
      ],
      "execution_count": 72,
      "outputs": [
        {
          "output_type": "execute_result",
          "data": {
            "text/html": [
              "<div>\n",
              "<style scoped>\n",
              "    .dataframe tbody tr th:only-of-type {\n",
              "        vertical-align: middle;\n",
              "    }\n",
              "\n",
              "    .dataframe tbody tr th {\n",
              "        vertical-align: top;\n",
              "    }\n",
              "\n",
              "    .dataframe thead th {\n",
              "        text-align: right;\n",
              "    }\n",
              "</style>\n",
              "<table border=\"1\" class=\"dataframe\">\n",
              "  <thead>\n",
              "    <tr style=\"text-align: right;\">\n",
              "      <th></th>\n",
              "      <th>model</th>\n",
              "      <th>year bought</th>\n",
              "      <th>transmission</th>\n",
              "      <th>mileage (kmpl)</th>\n",
              "      <th>engineSize (ltrs)</th>\n",
              "    </tr>\n",
              "  </thead>\n",
              "  <tbody>\n",
              "    <tr>\n",
              "      <th>0</th>\n",
              "      <td>Fiesta</td>\n",
              "      <td>2017</td>\n",
              "      <td>Automatic</td>\n",
              "      <td>15.184211</td>\n",
              "      <td>1.0</td>\n",
              "    </tr>\n",
              "    <tr>\n",
              "      <th>1</th>\n",
              "      <td>Focus</td>\n",
              "      <td>2018</td>\n",
              "      <td>Manual</td>\n",
              "      <td>15.184211</td>\n",
              "      <td>1.0</td>\n",
              "    </tr>\n",
              "    <tr>\n",
              "      <th>2</th>\n",
              "      <td>Focus</td>\n",
              "      <td>2017</td>\n",
              "      <td>Manual</td>\n",
              "      <td>15.184211</td>\n",
              "      <td>1.0</td>\n",
              "    </tr>\n",
              "    <tr>\n",
              "      <th>3</th>\n",
              "      <td>Fiesta</td>\n",
              "      <td>2019</td>\n",
              "      <td>Manual</td>\n",
              "      <td>10.605263</td>\n",
              "      <td>1.5</td>\n",
              "    </tr>\n",
              "    <tr>\n",
              "      <th>4</th>\n",
              "      <td>Fiesta</td>\n",
              "      <td>2019</td>\n",
              "      <td>Automatic</td>\n",
              "      <td>12.815789</td>\n",
              "      <td>1.0</td>\n",
              "    </tr>\n",
              "  </tbody>\n",
              "</table>\n",
              "</div>"
            ],
            "text/plain": [
              "     model  year bought transmission  mileage (kmpl)  engineSize (ltrs)\n",
              "0   Fiesta         2017    Automatic       15.184211                1.0\n",
              "1    Focus         2018       Manual       15.184211                1.0\n",
              "2    Focus         2017       Manual       15.184211                1.0\n",
              "3   Fiesta         2019       Manual       10.605263                1.5\n",
              "4   Fiesta         2019    Automatic       12.815789                1.0"
            ]
          },
          "metadata": {},
          "execution_count": 72
        }
      ]
    },
    {
      "cell_type": "code",
      "metadata": {
        "id": "cDmEFM9sqKDb",
        "colab": {
          "base_uri": "https://localhost:8080/",
          "height": 203
        },
        "outputId": "28bf0b04-8745-45f5-da49-4d83b7b78687"
      },
      "source": [
        "petrol_price = pd.read_csv(r'/content/petrol_price.csv')\n",
        "petrol_price.head()"
      ],
      "execution_count": 73,
      "outputs": [
        {
          "output_type": "execute_result",
          "data": {
            "text/html": [
              "<div>\n",
              "<style scoped>\n",
              "    .dataframe tbody tr th:only-of-type {\n",
              "        vertical-align: middle;\n",
              "    }\n",
              "\n",
              "    .dataframe tbody tr th {\n",
              "        vertical-align: top;\n",
              "    }\n",
              "\n",
              "    .dataframe thead th {\n",
              "        text-align: right;\n",
              "    }\n",
              "</style>\n",
              "<table border=\"1\" class=\"dataframe\">\n",
              "  <thead>\n",
              "    <tr style=\"text-align: right;\">\n",
              "      <th></th>\n",
              "      <th>city</th>\n",
              "      <th>date</th>\n",
              "      <th>rate INR</th>\n",
              "      <th>state</th>\n",
              "    </tr>\n",
              "  </thead>\n",
              "  <tbody>\n",
              "    <tr>\n",
              "      <th>0</th>\n",
              "      <td>Bogota</td>\n",
              "      <td>01-12-2011</td>\n",
              "      <td>73.07</td>\n",
              "      <td>Colombia</td>\n",
              "    </tr>\n",
              "    <tr>\n",
              "      <th>1</th>\n",
              "      <td>Bogota</td>\n",
              "      <td>01-04-2012</td>\n",
              "      <td>73.08</td>\n",
              "      <td>Colombia</td>\n",
              "    </tr>\n",
              "    <tr>\n",
              "      <th>2</th>\n",
              "      <td>Bogota</td>\n",
              "      <td>24-05-2012</td>\n",
              "      <td>81.44</td>\n",
              "      <td>Colombia</td>\n",
              "    </tr>\n",
              "    <tr>\n",
              "      <th>3</th>\n",
              "      <td>Bogota</td>\n",
              "      <td>03-06-2012</td>\n",
              "      <td>78.11</td>\n",
              "      <td>Colombia</td>\n",
              "    </tr>\n",
              "    <tr>\n",
              "      <th>4</th>\n",
              "      <td>Bogota</td>\n",
              "      <td>29-06-2012</td>\n",
              "      <td>74.89</td>\n",
              "      <td>Colombia</td>\n",
              "    </tr>\n",
              "  </tbody>\n",
              "</table>\n",
              "</div>"
            ],
            "text/plain": [
              "     city        date  rate INR     state\n",
              "0  Bogota  01-12-2011     73.07  Colombia\n",
              "1  Bogota  01-04-2012     73.08  Colombia\n",
              "2  Bogota  24-05-2012     81.44  Colombia\n",
              "3  Bogota  03-06-2012     78.11  Colombia\n",
              "4  Bogota  29-06-2012     74.89  Colombia"
            ]
          },
          "metadata": {},
          "execution_count": 73
        }
      ]
    },
    {
      "cell_type": "markdown",
      "metadata": {
        "id": "-A13MdY6K7Dw"
      },
      "source": [
        "## Busiest Areas\n",
        "Determine busiest areas (1km radius) in each of the cities- Bogota,Mexico City and Quito; based on pickup and drop location.\n",
        "\n",
        "You can refer to this link in order to calculate distances: https://www.movable-type.co.uk/scripts/latlong.html\n"
      ]
    },
    {
      "cell_type": "markdown",
      "metadata": {
        "id": "32P5VWcCr-27"
      },
      "source": [
        "## 1. Bogota city Busy Areas"
      ]
    },
    {
      "cell_type": "code",
      "metadata": {
        "id": "Or6nTm4MuCB_"
      },
      "source": [
        "from geopy import distance\n",
        "from math import sin, cos, sqrt, atan2, radians\n",
        "from sklearn.neighbors import DistanceMetric\n",
        "import numpy as np\n",
        "\n",
        "dist = DistanceMetric.get_metric('haversine')\n",
        "    \n"
      ],
      "execution_count": 74,
      "outputs": []
    },
    {
      "cell_type": "code",
      "metadata": {
        "id": "fVuiK-Qn0dki",
        "colab": {
          "base_uri": "https://localhost:8080/",
          "height": 203
        },
        "outputId": "0b311bdb-3ee9-41c4-c6d9-268c8b2f0680"
      },
      "source": [
        "df1 = pd.DataFrame(bogota_df_out, columns=['pickup_longitude','pickup_latitude','dropoff_longitude','dropoff_latitude'])\n",
        "df1.head()"
      ],
      "execution_count": 75,
      "outputs": [
        {
          "output_type": "execute_result",
          "data": {
            "text/html": [
              "<div>\n",
              "<style scoped>\n",
              "    .dataframe tbody tr th:only-of-type {\n",
              "        vertical-align: middle;\n",
              "    }\n",
              "\n",
              "    .dataframe tbody tr th {\n",
              "        vertical-align: top;\n",
              "    }\n",
              "\n",
              "    .dataframe thead th {\n",
              "        text-align: right;\n",
              "    }\n",
              "</style>\n",
              "<table border=\"1\" class=\"dataframe\">\n",
              "  <thead>\n",
              "    <tr style=\"text-align: right;\">\n",
              "      <th></th>\n",
              "      <th>pickup_longitude</th>\n",
              "      <th>pickup_latitude</th>\n",
              "      <th>dropoff_longitude</th>\n",
              "      <th>dropoff_latitude</th>\n",
              "    </tr>\n",
              "  </thead>\n",
              "  <tbody>\n",
              "    <tr>\n",
              "      <th>0</th>\n",
              "      <td>-74.170353</td>\n",
              "      <td>4.622699</td>\n",
              "      <td>-74.119259</td>\n",
              "      <td>4.572322</td>\n",
              "    </tr>\n",
              "    <tr>\n",
              "      <th>1</th>\n",
              "      <td>-74.123542</td>\n",
              "      <td>4.604075</td>\n",
              "      <td>-74.116125</td>\n",
              "      <td>4.572578</td>\n",
              "    </tr>\n",
              "    <tr>\n",
              "      <th>3</th>\n",
              "      <td>-74.163398</td>\n",
              "      <td>4.641949</td>\n",
              "      <td>-74.165813</td>\n",
              "      <td>4.640649</td>\n",
              "    </tr>\n",
              "    <tr>\n",
              "      <th>7</th>\n",
              "      <td>-74.049168</td>\n",
              "      <td>4.736697</td>\n",
              "      <td>-74.050641</td>\n",
              "      <td>4.718745</td>\n",
              "    </tr>\n",
              "    <tr>\n",
              "      <th>8</th>\n",
              "      <td>-74.049272</td>\n",
              "      <td>4.718333</td>\n",
              "      <td>-74.030313</td>\n",
              "      <td>4.710932</td>\n",
              "    </tr>\n",
              "  </tbody>\n",
              "</table>\n",
              "</div>"
            ],
            "text/plain": [
              "   pickup_longitude  pickup_latitude  dropoff_longitude  dropoff_latitude\n",
              "0        -74.170353         4.622699         -74.119259          4.572322\n",
              "1        -74.123542         4.604075         -74.116125          4.572578\n",
              "3        -74.163398         4.641949         -74.165813          4.640649\n",
              "7        -74.049168         4.736697         -74.050641          4.718745\n",
              "8        -74.049272         4.718333         -74.030313          4.710932"
            ]
          },
          "metadata": {},
          "execution_count": 75
        }
      ]
    },
    {
      "cell_type": "code",
      "metadata": {
        "id": "da4meV-AbyvW"
      },
      "source": [
        "\n",
        "# vectorized haversine function\n",
        "def haversine(lat1, lon1, lat2, lon2, to_radians=True, earth_radius=6371):\n",
        "    \"\"\"\n",
        "    slightly modified version: of http://stackoverflow.com/a/29546836/2901002\n",
        "\n",
        "    Calculate the great circle distance between two points\n",
        "    on the earth (specified in decimal degrees or in radians)\n",
        "\n",
        "    All (lat, lon) coordinates must have numeric dtypes and be of equal length.\n",
        "\n",
        "    \"\"\"\n",
        "    if to_radians:\n",
        "        lat1, lon1, lat2, lon2 = np.radians([lat1, lon1, lat2, lon2])\n",
        "\n",
        "    a = np.sin((lat2-lat1)/2.0)**2 + \\\n",
        "        np.cos(lat1) * np.cos(lat2) * np.sin((lon2-lon1)/2.0)**2\n",
        "\n",
        "    meters = (earth_radius * 2 * np.arcsin(np.sqrt(a))) * 1000\n",
        "    return meters\n",
        "\n",
        "\n",
        "bogota_df_out['dist'] = \\\n",
        "    haversine(df1.pickup_latitude, df1.pickup_longitude,\n",
        "                   df1.dropoff_latitude, df1.dropoff_longitude)\n"
      ],
      "execution_count": 76,
      "outputs": []
    },
    {
      "cell_type": "code",
      "metadata": {
        "id": "LkuXy3RzdKu_",
        "colab": {
          "base_uri": "https://localhost:8080/",
          "height": 223
        },
        "outputId": "3fe5d369-60fe-450f-9e8a-ad8b43b49aad"
      },
      "source": [
        "bogota_df_out.head()"
      ],
      "execution_count": 77,
      "outputs": [
        {
          "output_type": "execute_result",
          "data": {
            "text/html": [
              "<div>\n",
              "<style scoped>\n",
              "    .dataframe tbody tr th:only-of-type {\n",
              "        vertical-align: middle;\n",
              "    }\n",
              "\n",
              "    .dataframe tbody tr th {\n",
              "        vertical-align: top;\n",
              "    }\n",
              "\n",
              "    .dataframe thead th {\n",
              "        text-align: right;\n",
              "    }\n",
              "</style>\n",
              "<table border=\"1\" class=\"dataframe\">\n",
              "  <thead>\n",
              "    <tr style=\"text-align: right;\">\n",
              "      <th></th>\n",
              "      <th>pickup_longitude</th>\n",
              "      <th>pickup_latitude</th>\n",
              "      <th>dropoff_longitude</th>\n",
              "      <th>dropoff_latitude</th>\n",
              "      <th>trip_duration</th>\n",
              "      <th>dist_meters</th>\n",
              "      <th>wait_sec</th>\n",
              "      <th>Pickup_year</th>\n",
              "      <th>pickup_month</th>\n",
              "      <th>pickup_day</th>\n",
              "      <th>pickup_Hour</th>\n",
              "      <th>pickup_minute</th>\n",
              "      <th>dropoff_year</th>\n",
              "      <th>dropoff_month</th>\n",
              "      <th>dropoff_day</th>\n",
              "      <th>dropoff_Hour</th>\n",
              "      <th>dropoff_minute</th>\n",
              "      <th>dist</th>\n",
              "    </tr>\n",
              "  </thead>\n",
              "  <tbody>\n",
              "    <tr>\n",
              "      <th>0</th>\n",
              "      <td>-74.170353</td>\n",
              "      <td>4.622699</td>\n",
              "      <td>-74.119259</td>\n",
              "      <td>4.572322</td>\n",
              "      <td>1419</td>\n",
              "      <td>11935</td>\n",
              "      <td>293</td>\n",
              "      <td>2019</td>\n",
              "      <td>9</td>\n",
              "      <td>18</td>\n",
              "      <td>1</td>\n",
              "      <td>54</td>\n",
              "      <td>2019</td>\n",
              "      <td>9</td>\n",
              "      <td>18</td>\n",
              "      <td>2</td>\n",
              "      <td>17</td>\n",
              "      <td>7965.494773</td>\n",
              "    </tr>\n",
              "    <tr>\n",
              "      <th>1</th>\n",
              "      <td>-74.123542</td>\n",
              "      <td>4.604075</td>\n",
              "      <td>-74.116125</td>\n",
              "      <td>4.572578</td>\n",
              "      <td>782</td>\n",
              "      <td>7101</td>\n",
              "      <td>139</td>\n",
              "      <td>2019</td>\n",
              "      <td>9</td>\n",
              "      <td>18</td>\n",
              "      <td>3</td>\n",
              "      <td>31</td>\n",
              "      <td>2019</td>\n",
              "      <td>9</td>\n",
              "      <td>18</td>\n",
              "      <td>3</td>\n",
              "      <td>44</td>\n",
              "      <td>3597.532383</td>\n",
              "    </tr>\n",
              "    <tr>\n",
              "      <th>3</th>\n",
              "      <td>-74.163398</td>\n",
              "      <td>4.641949</td>\n",
              "      <td>-74.165813</td>\n",
              "      <td>4.640649</td>\n",
              "      <td>66</td>\n",
              "      <td>318</td>\n",
              "      <td>52</td>\n",
              "      <td>2019</td>\n",
              "      <td>9</td>\n",
              "      <td>18</td>\n",
              "      <td>4</td>\n",
              "      <td>31</td>\n",
              "      <td>2019</td>\n",
              "      <td>9</td>\n",
              "      <td>18</td>\n",
              "      <td>4</td>\n",
              "      <td>32</td>\n",
              "      <td>304.184693</td>\n",
              "    </tr>\n",
              "    <tr>\n",
              "      <th>7</th>\n",
              "      <td>-74.049168</td>\n",
              "      <td>4.736697</td>\n",
              "      <td>-74.050641</td>\n",
              "      <td>4.718745</td>\n",
              "      <td>191</td>\n",
              "      <td>2458</td>\n",
              "      <td>0</td>\n",
              "      <td>2019</td>\n",
              "      <td>9</td>\n",
              "      <td>18</td>\n",
              "      <td>10</td>\n",
              "      <td>8</td>\n",
              "      <td>2019</td>\n",
              "      <td>9</td>\n",
              "      <td>18</td>\n",
              "      <td>10</td>\n",
              "      <td>11</td>\n",
              "      <td>2002.803864</td>\n",
              "    </tr>\n",
              "    <tr>\n",
              "      <th>8</th>\n",
              "      <td>-74.049272</td>\n",
              "      <td>4.718333</td>\n",
              "      <td>-74.030313</td>\n",
              "      <td>4.710932</td>\n",
              "      <td>308</td>\n",
              "      <td>2358</td>\n",
              "      <td>93</td>\n",
              "      <td>2019</td>\n",
              "      <td>9</td>\n",
              "      <td>18</td>\n",
              "      <td>10</td>\n",
              "      <td>11</td>\n",
              "      <td>2019</td>\n",
              "      <td>9</td>\n",
              "      <td>18</td>\n",
              "      <td>10</td>\n",
              "      <td>17</td>\n",
              "      <td>2256.462978</td>\n",
              "    </tr>\n",
              "  </tbody>\n",
              "</table>\n",
              "</div>"
            ],
            "text/plain": [
              "   pickup_longitude  pickup_latitude  ...  dropoff_minute         dist\n",
              "0        -74.170353         4.622699  ...              17  7965.494773\n",
              "1        -74.123542         4.604075  ...              44  3597.532383\n",
              "3        -74.163398         4.641949  ...              32   304.184693\n",
              "7        -74.049168         4.736697  ...              11  2002.803864\n",
              "8        -74.049272         4.718333  ...              17  2256.462978\n",
              "\n",
              "[5 rows x 18 columns]"
            ]
          },
          "metadata": {},
          "execution_count": 77
        }
      ]
    },
    {
      "cell_type": "code",
      "metadata": {
        "id": "QDrarwxYecCe",
        "colab": {
          "base_uri": "https://localhost:8080/",
          "height": 223
        },
        "outputId": "43ac72c9-2def-424d-e563-1c3deb0f2914"
      },
      "source": [
        "bogota_df_out['Delta_distance'] = bogota_df_out['dist_meters'] - bogota_df_out['dist'] \n",
        "bogota_df_out.head()"
      ],
      "execution_count": 78,
      "outputs": [
        {
          "output_type": "execute_result",
          "data": {
            "text/html": [
              "<div>\n",
              "<style scoped>\n",
              "    .dataframe tbody tr th:only-of-type {\n",
              "        vertical-align: middle;\n",
              "    }\n",
              "\n",
              "    .dataframe tbody tr th {\n",
              "        vertical-align: top;\n",
              "    }\n",
              "\n",
              "    .dataframe thead th {\n",
              "        text-align: right;\n",
              "    }\n",
              "</style>\n",
              "<table border=\"1\" class=\"dataframe\">\n",
              "  <thead>\n",
              "    <tr style=\"text-align: right;\">\n",
              "      <th></th>\n",
              "      <th>pickup_longitude</th>\n",
              "      <th>pickup_latitude</th>\n",
              "      <th>dropoff_longitude</th>\n",
              "      <th>dropoff_latitude</th>\n",
              "      <th>trip_duration</th>\n",
              "      <th>dist_meters</th>\n",
              "      <th>wait_sec</th>\n",
              "      <th>Pickup_year</th>\n",
              "      <th>pickup_month</th>\n",
              "      <th>pickup_day</th>\n",
              "      <th>pickup_Hour</th>\n",
              "      <th>pickup_minute</th>\n",
              "      <th>dropoff_year</th>\n",
              "      <th>dropoff_month</th>\n",
              "      <th>dropoff_day</th>\n",
              "      <th>dropoff_Hour</th>\n",
              "      <th>dropoff_minute</th>\n",
              "      <th>dist</th>\n",
              "      <th>Delta_distance</th>\n",
              "    </tr>\n",
              "  </thead>\n",
              "  <tbody>\n",
              "    <tr>\n",
              "      <th>0</th>\n",
              "      <td>-74.170353</td>\n",
              "      <td>4.622699</td>\n",
              "      <td>-74.119259</td>\n",
              "      <td>4.572322</td>\n",
              "      <td>1419</td>\n",
              "      <td>11935</td>\n",
              "      <td>293</td>\n",
              "      <td>2019</td>\n",
              "      <td>9</td>\n",
              "      <td>18</td>\n",
              "      <td>1</td>\n",
              "      <td>54</td>\n",
              "      <td>2019</td>\n",
              "      <td>9</td>\n",
              "      <td>18</td>\n",
              "      <td>2</td>\n",
              "      <td>17</td>\n",
              "      <td>7965.494773</td>\n",
              "      <td>3969.505227</td>\n",
              "    </tr>\n",
              "    <tr>\n",
              "      <th>1</th>\n",
              "      <td>-74.123542</td>\n",
              "      <td>4.604075</td>\n",
              "      <td>-74.116125</td>\n",
              "      <td>4.572578</td>\n",
              "      <td>782</td>\n",
              "      <td>7101</td>\n",
              "      <td>139</td>\n",
              "      <td>2019</td>\n",
              "      <td>9</td>\n",
              "      <td>18</td>\n",
              "      <td>3</td>\n",
              "      <td>31</td>\n",
              "      <td>2019</td>\n",
              "      <td>9</td>\n",
              "      <td>18</td>\n",
              "      <td>3</td>\n",
              "      <td>44</td>\n",
              "      <td>3597.532383</td>\n",
              "      <td>3503.467617</td>\n",
              "    </tr>\n",
              "    <tr>\n",
              "      <th>3</th>\n",
              "      <td>-74.163398</td>\n",
              "      <td>4.641949</td>\n",
              "      <td>-74.165813</td>\n",
              "      <td>4.640649</td>\n",
              "      <td>66</td>\n",
              "      <td>318</td>\n",
              "      <td>52</td>\n",
              "      <td>2019</td>\n",
              "      <td>9</td>\n",
              "      <td>18</td>\n",
              "      <td>4</td>\n",
              "      <td>31</td>\n",
              "      <td>2019</td>\n",
              "      <td>9</td>\n",
              "      <td>18</td>\n",
              "      <td>4</td>\n",
              "      <td>32</td>\n",
              "      <td>304.184693</td>\n",
              "      <td>13.815307</td>\n",
              "    </tr>\n",
              "    <tr>\n",
              "      <th>7</th>\n",
              "      <td>-74.049168</td>\n",
              "      <td>4.736697</td>\n",
              "      <td>-74.050641</td>\n",
              "      <td>4.718745</td>\n",
              "      <td>191</td>\n",
              "      <td>2458</td>\n",
              "      <td>0</td>\n",
              "      <td>2019</td>\n",
              "      <td>9</td>\n",
              "      <td>18</td>\n",
              "      <td>10</td>\n",
              "      <td>8</td>\n",
              "      <td>2019</td>\n",
              "      <td>9</td>\n",
              "      <td>18</td>\n",
              "      <td>10</td>\n",
              "      <td>11</td>\n",
              "      <td>2002.803864</td>\n",
              "      <td>455.196136</td>\n",
              "    </tr>\n",
              "    <tr>\n",
              "      <th>8</th>\n",
              "      <td>-74.049272</td>\n",
              "      <td>4.718333</td>\n",
              "      <td>-74.030313</td>\n",
              "      <td>4.710932</td>\n",
              "      <td>308</td>\n",
              "      <td>2358</td>\n",
              "      <td>93</td>\n",
              "      <td>2019</td>\n",
              "      <td>9</td>\n",
              "      <td>18</td>\n",
              "      <td>10</td>\n",
              "      <td>11</td>\n",
              "      <td>2019</td>\n",
              "      <td>9</td>\n",
              "      <td>18</td>\n",
              "      <td>10</td>\n",
              "      <td>17</td>\n",
              "      <td>2256.462978</td>\n",
              "      <td>101.537022</td>\n",
              "    </tr>\n",
              "  </tbody>\n",
              "</table>\n",
              "</div>"
            ],
            "text/plain": [
              "   pickup_longitude  pickup_latitude  ...         dist  Delta_distance\n",
              "0        -74.170353         4.622699  ...  7965.494773     3969.505227\n",
              "1        -74.123542         4.604075  ...  3597.532383     3503.467617\n",
              "3        -74.163398         4.641949  ...   304.184693       13.815307\n",
              "7        -74.049168         4.736697  ...  2002.803864      455.196136\n",
              "8        -74.049272         4.718333  ...  2256.462978      101.537022\n",
              "\n",
              "[5 rows x 19 columns]"
            ]
          },
          "metadata": {},
          "execution_count": 78
        }
      ]
    },
    {
      "cell_type": "code",
      "metadata": {
        "colab": {
          "base_uri": "https://localhost:8080/",
          "height": 377
        },
        "id": "UsGR8CRAbkD2",
        "outputId": "b202009b-460a-4325-986b-2b0a2179ae91"
      },
      "source": [
        "bogota_busyAreas = bogota_df_out.nlargest(10,['Delta_distance'])\n",
        "bogota_busyAreas"
      ],
      "execution_count": 79,
      "outputs": [
        {
          "output_type": "execute_result",
          "data": {
            "text/html": [
              "<div>\n",
              "<style scoped>\n",
              "    .dataframe tbody tr th:only-of-type {\n",
              "        vertical-align: middle;\n",
              "    }\n",
              "\n",
              "    .dataframe tbody tr th {\n",
              "        vertical-align: top;\n",
              "    }\n",
              "\n",
              "    .dataframe thead th {\n",
              "        text-align: right;\n",
              "    }\n",
              "</style>\n",
              "<table border=\"1\" class=\"dataframe\">\n",
              "  <thead>\n",
              "    <tr style=\"text-align: right;\">\n",
              "      <th></th>\n",
              "      <th>pickup_longitude</th>\n",
              "      <th>pickup_latitude</th>\n",
              "      <th>dropoff_longitude</th>\n",
              "      <th>dropoff_latitude</th>\n",
              "      <th>trip_duration</th>\n",
              "      <th>dist_meters</th>\n",
              "      <th>wait_sec</th>\n",
              "      <th>Pickup_year</th>\n",
              "      <th>pickup_month</th>\n",
              "      <th>pickup_day</th>\n",
              "      <th>pickup_Hour</th>\n",
              "      <th>pickup_minute</th>\n",
              "      <th>dropoff_year</th>\n",
              "      <th>dropoff_month</th>\n",
              "      <th>dropoff_day</th>\n",
              "      <th>dropoff_Hour</th>\n",
              "      <th>dropoff_minute</th>\n",
              "      <th>dist</th>\n",
              "      <th>Delta_distance</th>\n",
              "    </tr>\n",
              "  </thead>\n",
              "  <tbody>\n",
              "    <tr>\n",
              "      <th>2729</th>\n",
              "      <td>-74.070958</td>\n",
              "      <td>4.704658</td>\n",
              "      <td>-74.070988</td>\n",
              "      <td>4.704724</td>\n",
              "      <td>8168</td>\n",
              "      <td>22728</td>\n",
              "      <td>1818</td>\n",
              "      <td>2020</td>\n",
              "      <td>6</td>\n",
              "      <td>28</td>\n",
              "      <td>11</td>\n",
              "      <td>7</td>\n",
              "      <td>2020</td>\n",
              "      <td>6</td>\n",
              "      <td>28</td>\n",
              "      <td>1</td>\n",
              "      <td>24</td>\n",
              "      <td>8.124524</td>\n",
              "      <td>22719.875476</td>\n",
              "    </tr>\n",
              "    <tr>\n",
              "      <th>2388</th>\n",
              "      <td>-74.065986</td>\n",
              "      <td>4.649030</td>\n",
              "      <td>-74.066657</td>\n",
              "      <td>4.649164</td>\n",
              "      <td>3941</td>\n",
              "      <td>21940</td>\n",
              "      <td>828</td>\n",
              "      <td>2020</td>\n",
              "      <td>5</td>\n",
              "      <td>26</td>\n",
              "      <td>10</td>\n",
              "      <td>42</td>\n",
              "      <td>2020</td>\n",
              "      <td>5</td>\n",
              "      <td>26</td>\n",
              "      <td>11</td>\n",
              "      <td>48</td>\n",
              "      <td>75.786357</td>\n",
              "      <td>21864.213643</td>\n",
              "    </tr>\n",
              "    <tr>\n",
              "      <th>1163</th>\n",
              "      <td>-74.051074</td>\n",
              "      <td>4.752220</td>\n",
              "      <td>-74.050869</td>\n",
              "      <td>4.752109</td>\n",
              "      <td>2867</td>\n",
              "      <td>21759</td>\n",
              "      <td>778</td>\n",
              "      <td>2019</td>\n",
              "      <td>10</td>\n",
              "      <td>14</td>\n",
              "      <td>9</td>\n",
              "      <td>4</td>\n",
              "      <td>2019</td>\n",
              "      <td>10</td>\n",
              "      <td>14</td>\n",
              "      <td>9</td>\n",
              "      <td>52</td>\n",
              "      <td>25.841140</td>\n",
              "      <td>21733.158860</td>\n",
              "    </tr>\n",
              "    <tr>\n",
              "      <th>2659</th>\n",
              "      <td>-74.066776</td>\n",
              "      <td>4.649436</td>\n",
              "      <td>-74.066373</td>\n",
              "      <td>4.649103</td>\n",
              "      <td>5687</td>\n",
              "      <td>21454</td>\n",
              "      <td>920</td>\n",
              "      <td>2020</td>\n",
              "      <td>6</td>\n",
              "      <td>16</td>\n",
              "      <td>9</td>\n",
              "      <td>41</td>\n",
              "      <td>2020</td>\n",
              "      <td>6</td>\n",
              "      <td>16</td>\n",
              "      <td>11</td>\n",
              "      <td>16</td>\n",
              "      <td>57.978326</td>\n",
              "      <td>21396.021674</td>\n",
              "    </tr>\n",
              "    <tr>\n",
              "      <th>2521</th>\n",
              "      <td>-74.049487</td>\n",
              "      <td>4.761140</td>\n",
              "      <td>-74.048468</td>\n",
              "      <td>4.760454</td>\n",
              "      <td>3883</td>\n",
              "      <td>19889</td>\n",
              "      <td>1020</td>\n",
              "      <td>2019</td>\n",
              "      <td>10</td>\n",
              "      <td>12</td>\n",
              "      <td>3</td>\n",
              "      <td>38</td>\n",
              "      <td>2019</td>\n",
              "      <td>10</td>\n",
              "      <td>12</td>\n",
              "      <td>4</td>\n",
              "      <td>42</td>\n",
              "      <td>136.166567</td>\n",
              "      <td>19752.833433</td>\n",
              "    </tr>\n",
              "    <tr>\n",
              "      <th>855</th>\n",
              "      <td>-74.049758</td>\n",
              "      <td>4.752821</td>\n",
              "      <td>-74.043398</td>\n",
              "      <td>4.762390</td>\n",
              "      <td>3893</td>\n",
              "      <td>20803</td>\n",
              "      <td>1516</td>\n",
              "      <td>2019</td>\n",
              "      <td>9</td>\n",
              "      <td>22</td>\n",
              "      <td>8</td>\n",
              "      <td>50</td>\n",
              "      <td>2019</td>\n",
              "      <td>9</td>\n",
              "      <td>22</td>\n",
              "      <td>9</td>\n",
              "      <td>55</td>\n",
              "      <td>1276.310141</td>\n",
              "      <td>19526.689859</td>\n",
              "    </tr>\n",
              "    <tr>\n",
              "      <th>2439</th>\n",
              "      <td>-74.071044</td>\n",
              "      <td>4.704776</td>\n",
              "      <td>-74.070889</td>\n",
              "      <td>4.704461</td>\n",
              "      <td>3215</td>\n",
              "      <td>19193</td>\n",
              "      <td>1301</td>\n",
              "      <td>2020</td>\n",
              "      <td>1</td>\n",
              "      <td>19</td>\n",
              "      <td>3</td>\n",
              "      <td>46</td>\n",
              "      <td>2020</td>\n",
              "      <td>1</td>\n",
              "      <td>19</td>\n",
              "      <td>4</td>\n",
              "      <td>40</td>\n",
              "      <td>38.989794</td>\n",
              "      <td>19154.010206</td>\n",
              "    </tr>\n",
              "    <tr>\n",
              "      <th>2106</th>\n",
              "      <td>-74.027468</td>\n",
              "      <td>4.767062</td>\n",
              "      <td>-74.026339</td>\n",
              "      <td>4.762385</td>\n",
              "      <td>5235</td>\n",
              "      <td>19304</td>\n",
              "      <td>1871</td>\n",
              "      <td>2020</td>\n",
              "      <td>3</td>\n",
              "      <td>22</td>\n",
              "      <td>3</td>\n",
              "      <td>44</td>\n",
              "      <td>2020</td>\n",
              "      <td>3</td>\n",
              "      <td>22</td>\n",
              "      <td>5</td>\n",
              "      <td>11</td>\n",
              "      <td>534.971138</td>\n",
              "      <td>18769.028862</td>\n",
              "    </tr>\n",
              "    <tr>\n",
              "      <th>1617</th>\n",
              "      <td>-74.135686</td>\n",
              "      <td>4.716154</td>\n",
              "      <td>-74.135786</td>\n",
              "      <td>4.716266</td>\n",
              "      <td>3000</td>\n",
              "      <td>18087</td>\n",
              "      <td>911</td>\n",
              "      <td>2019</td>\n",
              "      <td>12</td>\n",
              "      <td>28</td>\n",
              "      <td>12</td>\n",
              "      <td>39</td>\n",
              "      <td>2019</td>\n",
              "      <td>12</td>\n",
              "      <td>28</td>\n",
              "      <td>1</td>\n",
              "      <td>29</td>\n",
              "      <td>16.686337</td>\n",
              "      <td>18070.313663</td>\n",
              "    </tr>\n",
              "    <tr>\n",
              "      <th>636</th>\n",
              "      <td>-74.050817</td>\n",
              "      <td>4.752303</td>\n",
              "      <td>-74.050946</td>\n",
              "      <td>4.752125</td>\n",
              "      <td>4190</td>\n",
              "      <td>17761</td>\n",
              "      <td>1572</td>\n",
              "      <td>2019</td>\n",
              "      <td>10</td>\n",
              "      <td>28</td>\n",
              "      <td>7</td>\n",
              "      <td>4</td>\n",
              "      <td>2019</td>\n",
              "      <td>10</td>\n",
              "      <td>28</td>\n",
              "      <td>8</td>\n",
              "      <td>14</td>\n",
              "      <td>24.406739</td>\n",
              "      <td>17736.593261</td>\n",
              "    </tr>\n",
              "  </tbody>\n",
              "</table>\n",
              "</div>"
            ],
            "text/plain": [
              "      pickup_longitude  pickup_latitude  ...         dist  Delta_distance\n",
              "2729        -74.070958         4.704658  ...     8.124524    22719.875476\n",
              "2388        -74.065986         4.649030  ...    75.786357    21864.213643\n",
              "1163        -74.051074         4.752220  ...    25.841140    21733.158860\n",
              "2659        -74.066776         4.649436  ...    57.978326    21396.021674\n",
              "2521        -74.049487         4.761140  ...   136.166567    19752.833433\n",
              "855         -74.049758         4.752821  ...  1276.310141    19526.689859\n",
              "2439        -74.071044         4.704776  ...    38.989794    19154.010206\n",
              "2106        -74.027468         4.767062  ...   534.971138    18769.028862\n",
              "1617        -74.135686         4.716154  ...    16.686337    18070.313663\n",
              "636         -74.050817         4.752303  ...    24.406739    17736.593261\n",
              "\n",
              "[10 rows x 19 columns]"
            ]
          },
          "metadata": {},
          "execution_count": 79
        }
      ]
    },
    {
      "cell_type": "code",
      "metadata": {
        "id": "3RCaiV3-uXY4",
        "colab": {
          "base_uri": "https://localhost:8080/"
        },
        "outputId": "9422b017-9c53-479b-aefa-c88b096d094e"
      },
      "source": [
        "pip install reverse_geocoder "
      ],
      "execution_count": 80,
      "outputs": [
        {
          "output_type": "stream",
          "name": "stdout",
          "text": [
            "Requirement already satisfied: reverse_geocoder in /usr/local/lib/python3.7/dist-packages (1.5.1)\n",
            "Requirement already satisfied: scipy>=0.17.1 in /usr/local/lib/python3.7/dist-packages (from reverse_geocoder) (1.4.1)\n",
            "Requirement already satisfied: numpy>=1.11.0 in /usr/local/lib/python3.7/dist-packages (from reverse_geocoder) (1.19.5)\n"
          ]
        }
      ]
    },
    {
      "cell_type": "code",
      "metadata": {
        "colab": {
          "base_uri": "https://localhost:8080/"
        },
        "id": "Q45Kw7JyX6GJ",
        "outputId": "72d25fe0-19d3-46cb-9b77-195de1407261"
      },
      "source": [
        "pip install ipython-autotime\n"
      ],
      "execution_count": 81,
      "outputs": [
        {
          "output_type": "stream",
          "name": "stdout",
          "text": [
            "Requirement already satisfied: ipython-autotime in /usr/local/lib/python3.7/dist-packages (0.3.1)\n",
            "Requirement already satisfied: ipython in /usr/local/lib/python3.7/dist-packages (from ipython-autotime) (5.5.0)\n",
            "Requirement already satisfied: setuptools>=18.5 in /usr/local/lib/python3.7/dist-packages (from ipython->ipython-autotime) (57.4.0)\n",
            "Requirement already satisfied: pexpect in /usr/local/lib/python3.7/dist-packages (from ipython->ipython-autotime) (4.8.0)\n",
            "Requirement already satisfied: simplegeneric>0.8 in /usr/local/lib/python3.7/dist-packages (from ipython->ipython-autotime) (0.8.1)\n",
            "Requirement already satisfied: traitlets>=4.2 in /usr/local/lib/python3.7/dist-packages (from ipython->ipython-autotime) (5.1.1)\n",
            "Requirement already satisfied: decorator in /usr/local/lib/python3.7/dist-packages (from ipython->ipython-autotime) (4.4.2)\n",
            "Requirement already satisfied: pygments in /usr/local/lib/python3.7/dist-packages (from ipython->ipython-autotime) (2.6.1)\n",
            "Requirement already satisfied: prompt-toolkit<2.0.0,>=1.0.4 in /usr/local/lib/python3.7/dist-packages (from ipython->ipython-autotime) (1.0.18)\n",
            "Requirement already satisfied: pickleshare in /usr/local/lib/python3.7/dist-packages (from ipython->ipython-autotime) (0.7.5)\n",
            "Requirement already satisfied: wcwidth in /usr/local/lib/python3.7/dist-packages (from prompt-toolkit<2.0.0,>=1.0.4->ipython->ipython-autotime) (0.2.5)\n",
            "Requirement already satisfied: six>=1.9.0 in /usr/local/lib/python3.7/dist-packages (from prompt-toolkit<2.0.0,>=1.0.4->ipython->ipython-autotime) (1.15.0)\n",
            "Requirement already satisfied: ptyprocess>=0.5 in /usr/local/lib/python3.7/dist-packages (from pexpect->ipython->ipython-autotime) (0.7.0)\n"
          ]
        }
      ]
    },
    {
      "cell_type": "code",
      "metadata": {
        "colab": {
          "base_uri": "https://localhost:8080/"
        },
        "id": "fSapaUwBQXwf",
        "outputId": "7adfadc8-5e87-49c2-d8f1-83a8fb6d4dd7"
      },
      "source": [
        "!pip install geopandas\n"
      ],
      "execution_count": 82,
      "outputs": [
        {
          "output_type": "stream",
          "name": "stdout",
          "text": [
            "Requirement already satisfied: geopandas in /usr/local/lib/python3.7/dist-packages (0.10.2)\n",
            "Requirement already satisfied: fiona>=1.8 in /usr/local/lib/python3.7/dist-packages (from geopandas) (1.8.20)\n",
            "Requirement already satisfied: pyproj>=2.2.0 in /usr/local/lib/python3.7/dist-packages (from geopandas) (3.2.1)\n",
            "Requirement already satisfied: shapely>=1.6 in /usr/local/lib/python3.7/dist-packages (from geopandas) (1.8.0)\n",
            "Requirement already satisfied: pandas>=0.25.0 in /usr/local/lib/python3.7/dist-packages (from geopandas) (1.1.5)\n",
            "Requirement already satisfied: certifi in /usr/local/lib/python3.7/dist-packages (from fiona>=1.8->geopandas) (2021.10.8)\n",
            "Requirement already satisfied: six>=1.7 in /usr/local/lib/python3.7/dist-packages (from fiona>=1.8->geopandas) (1.15.0)\n",
            "Requirement already satisfied: attrs>=17 in /usr/local/lib/python3.7/dist-packages (from fiona>=1.8->geopandas) (21.2.0)\n",
            "Requirement already satisfied: cligj>=0.5 in /usr/local/lib/python3.7/dist-packages (from fiona>=1.8->geopandas) (0.7.2)\n",
            "Requirement already satisfied: click>=4.0 in /usr/local/lib/python3.7/dist-packages (from fiona>=1.8->geopandas) (7.1.2)\n",
            "Requirement already satisfied: munch in /usr/local/lib/python3.7/dist-packages (from fiona>=1.8->geopandas) (2.5.0)\n",
            "Requirement already satisfied: setuptools in /usr/local/lib/python3.7/dist-packages (from fiona>=1.8->geopandas) (57.4.0)\n",
            "Requirement already satisfied: click-plugins>=1.0 in /usr/local/lib/python3.7/dist-packages (from fiona>=1.8->geopandas) (1.1.1)\n",
            "Requirement already satisfied: pytz>=2017.2 in /usr/local/lib/python3.7/dist-packages (from pandas>=0.25.0->geopandas) (2018.9)\n",
            "Requirement already satisfied: numpy>=1.15.4 in /usr/local/lib/python3.7/dist-packages (from pandas>=0.25.0->geopandas) (1.19.5)\n",
            "Requirement already satisfied: python-dateutil>=2.7.3 in /usr/local/lib/python3.7/dist-packages (from pandas>=0.25.0->geopandas) (2.8.2)\n"
          ]
        }
      ]
    },
    {
      "cell_type": "code",
      "metadata": {
        "id": "H-_IpSDBeb1e"
      },
      "source": [
        "# import module\n",
        "from geopy.geocoders import Nominatim\n",
        "# initialize Nominatim API\n",
        "# geolocator = Nominatim(user_agent=\"geoapiExercises\")\n",
        "# import reverse_geocoder as rg\n"
      ],
      "execution_count": 83,
      "outputs": []
    },
    {
      "cell_type": "code",
      "metadata": {
        "id": "QWt6k9okVV-d"
      },
      "source": [
        "import pandas as pd\n",
        "import geopy\n",
        "import geopandas as gpd\n",
        "from geopy.geocoders import Nominatim\n",
        "from geopy.extra.rate_limiter import RateLimiter\n",
        "import matplotlib.pyplot as plt\n",
        "import tqdm\n",
        "from tqdm._tqdm_notebook import tqdm_notebook\n"
      ],
      "execution_count": 84,
      "outputs": []
    },
    {
      "cell_type": "code",
      "metadata": {
        "colab": {
          "base_uri": "https://localhost:8080/"
        },
        "id": "IUTLHNcPVWQe",
        "outputId": "ba7eecd7-bebb-441e-dd46-305c610d5f0b"
      },
      "source": [
        "locator = Nominatim(user_agent='myGeocoder')\n",
        "%load_ext autotime\n"
      ],
      "execution_count": 85,
      "outputs": [
        {
          "output_type": "stream",
          "name": "stdout",
          "text": [
            "time: 189 µs (started: 2021-11-12 00:54:30 +00:00)\n"
          ]
        }
      ]
    },
    {
      "cell_type": "code",
      "metadata": {
        "colab": {
          "base_uri": "https://localhost:8080/",
          "height": 240
        },
        "id": "CnM00VWtWkrf",
        "outputId": "ed7028b5-4962-4fd2-928a-723e56f71875"
      },
      "source": [
        "bogota_busyAreas.head()"
      ],
      "execution_count": 86,
      "outputs": [
        {
          "output_type": "execute_result",
          "data": {
            "text/html": [
              "<div>\n",
              "<style scoped>\n",
              "    .dataframe tbody tr th:only-of-type {\n",
              "        vertical-align: middle;\n",
              "    }\n",
              "\n",
              "    .dataframe tbody tr th {\n",
              "        vertical-align: top;\n",
              "    }\n",
              "\n",
              "    .dataframe thead th {\n",
              "        text-align: right;\n",
              "    }\n",
              "</style>\n",
              "<table border=\"1\" class=\"dataframe\">\n",
              "  <thead>\n",
              "    <tr style=\"text-align: right;\">\n",
              "      <th></th>\n",
              "      <th>pickup_longitude</th>\n",
              "      <th>pickup_latitude</th>\n",
              "      <th>dropoff_longitude</th>\n",
              "      <th>dropoff_latitude</th>\n",
              "      <th>trip_duration</th>\n",
              "      <th>dist_meters</th>\n",
              "      <th>wait_sec</th>\n",
              "      <th>Pickup_year</th>\n",
              "      <th>pickup_month</th>\n",
              "      <th>pickup_day</th>\n",
              "      <th>pickup_Hour</th>\n",
              "      <th>pickup_minute</th>\n",
              "      <th>dropoff_year</th>\n",
              "      <th>dropoff_month</th>\n",
              "      <th>dropoff_day</th>\n",
              "      <th>dropoff_Hour</th>\n",
              "      <th>dropoff_minute</th>\n",
              "      <th>dist</th>\n",
              "      <th>Delta_distance</th>\n",
              "    </tr>\n",
              "  </thead>\n",
              "  <tbody>\n",
              "    <tr>\n",
              "      <th>2729</th>\n",
              "      <td>-74.070958</td>\n",
              "      <td>4.704658</td>\n",
              "      <td>-74.070988</td>\n",
              "      <td>4.704724</td>\n",
              "      <td>8168</td>\n",
              "      <td>22728</td>\n",
              "      <td>1818</td>\n",
              "      <td>2020</td>\n",
              "      <td>6</td>\n",
              "      <td>28</td>\n",
              "      <td>11</td>\n",
              "      <td>7</td>\n",
              "      <td>2020</td>\n",
              "      <td>6</td>\n",
              "      <td>28</td>\n",
              "      <td>1</td>\n",
              "      <td>24</td>\n",
              "      <td>8.124524</td>\n",
              "      <td>22719.875476</td>\n",
              "    </tr>\n",
              "    <tr>\n",
              "      <th>2388</th>\n",
              "      <td>-74.065986</td>\n",
              "      <td>4.649030</td>\n",
              "      <td>-74.066657</td>\n",
              "      <td>4.649164</td>\n",
              "      <td>3941</td>\n",
              "      <td>21940</td>\n",
              "      <td>828</td>\n",
              "      <td>2020</td>\n",
              "      <td>5</td>\n",
              "      <td>26</td>\n",
              "      <td>10</td>\n",
              "      <td>42</td>\n",
              "      <td>2020</td>\n",
              "      <td>5</td>\n",
              "      <td>26</td>\n",
              "      <td>11</td>\n",
              "      <td>48</td>\n",
              "      <td>75.786357</td>\n",
              "      <td>21864.213643</td>\n",
              "    </tr>\n",
              "    <tr>\n",
              "      <th>1163</th>\n",
              "      <td>-74.051074</td>\n",
              "      <td>4.752220</td>\n",
              "      <td>-74.050869</td>\n",
              "      <td>4.752109</td>\n",
              "      <td>2867</td>\n",
              "      <td>21759</td>\n",
              "      <td>778</td>\n",
              "      <td>2019</td>\n",
              "      <td>10</td>\n",
              "      <td>14</td>\n",
              "      <td>9</td>\n",
              "      <td>4</td>\n",
              "      <td>2019</td>\n",
              "      <td>10</td>\n",
              "      <td>14</td>\n",
              "      <td>9</td>\n",
              "      <td>52</td>\n",
              "      <td>25.841140</td>\n",
              "      <td>21733.158860</td>\n",
              "    </tr>\n",
              "    <tr>\n",
              "      <th>2659</th>\n",
              "      <td>-74.066776</td>\n",
              "      <td>4.649436</td>\n",
              "      <td>-74.066373</td>\n",
              "      <td>4.649103</td>\n",
              "      <td>5687</td>\n",
              "      <td>21454</td>\n",
              "      <td>920</td>\n",
              "      <td>2020</td>\n",
              "      <td>6</td>\n",
              "      <td>16</td>\n",
              "      <td>9</td>\n",
              "      <td>41</td>\n",
              "      <td>2020</td>\n",
              "      <td>6</td>\n",
              "      <td>16</td>\n",
              "      <td>11</td>\n",
              "      <td>16</td>\n",
              "      <td>57.978326</td>\n",
              "      <td>21396.021674</td>\n",
              "    </tr>\n",
              "    <tr>\n",
              "      <th>2521</th>\n",
              "      <td>-74.049487</td>\n",
              "      <td>4.761140</td>\n",
              "      <td>-74.048468</td>\n",
              "      <td>4.760454</td>\n",
              "      <td>3883</td>\n",
              "      <td>19889</td>\n",
              "      <td>1020</td>\n",
              "      <td>2019</td>\n",
              "      <td>10</td>\n",
              "      <td>12</td>\n",
              "      <td>3</td>\n",
              "      <td>38</td>\n",
              "      <td>2019</td>\n",
              "      <td>10</td>\n",
              "      <td>12</td>\n",
              "      <td>4</td>\n",
              "      <td>42</td>\n",
              "      <td>136.166567</td>\n",
              "      <td>19752.833433</td>\n",
              "    </tr>\n",
              "  </tbody>\n",
              "</table>\n",
              "</div>"
            ],
            "text/plain": [
              "      pickup_longitude  pickup_latitude  ...        dist  Delta_distance\n",
              "2729        -74.070958         4.704658  ...    8.124524    22719.875476\n",
              "2388        -74.065986         4.649030  ...   75.786357    21864.213643\n",
              "1163        -74.051074         4.752220  ...   25.841140    21733.158860\n",
              "2659        -74.066776         4.649436  ...   57.978326    21396.021674\n",
              "2521        -74.049487         4.761140  ...  136.166567    19752.833433\n",
              "\n",
              "[5 rows x 19 columns]"
            ]
          },
          "metadata": {},
          "execution_count": 86
        },
        {
          "output_type": "stream",
          "name": "stdout",
          "text": [
            "time: 48.3 ms (started: 2021-11-12 00:54:30 +00:00)\n"
          ]
        }
      ]
    },
    {
      "cell_type": "code",
      "metadata": {
        "colab": {
          "base_uri": "https://localhost:8080/"
        },
        "id": "UGDqPQqMji9R",
        "outputId": "31d4be8f-0729-4de9-b368-52f1e91ba06b"
      },
      "source": [
        "pip install geocoder "
      ],
      "execution_count": 87,
      "outputs": [
        {
          "output_type": "stream",
          "name": "stdout",
          "text": [
            "Requirement already satisfied: geocoder in /usr/local/lib/python3.7/dist-packages (1.38.1)\n",
            "Requirement already satisfied: ratelim in /usr/local/lib/python3.7/dist-packages (from geocoder) (0.1.6)\n",
            "Requirement already satisfied: six in /usr/local/lib/python3.7/dist-packages (from geocoder) (1.15.0)\n",
            "Requirement already satisfied: future in /usr/local/lib/python3.7/dist-packages (from geocoder) (0.16.0)\n",
            "Requirement already satisfied: click in /usr/local/lib/python3.7/dist-packages (from geocoder) (7.1.2)\n",
            "Requirement already satisfied: requests in /usr/local/lib/python3.7/dist-packages (from geocoder) (2.23.0)\n",
            "Requirement already satisfied: decorator in /usr/local/lib/python3.7/dist-packages (from ratelim->geocoder) (4.4.2)\n",
            "Requirement already satisfied: urllib3!=1.25.0,!=1.25.1,<1.26,>=1.21.1 in /usr/local/lib/python3.7/dist-packages (from requests->geocoder) (1.24.3)\n",
            "Requirement already satisfied: certifi>=2017.4.17 in /usr/local/lib/python3.7/dist-packages (from requests->geocoder) (2021.10.8)\n",
            "Requirement already satisfied: idna<3,>=2.5 in /usr/local/lib/python3.7/dist-packages (from requests->geocoder) (2.10)\n",
            "Requirement already satisfied: chardet<4,>=3.0.2 in /usr/local/lib/python3.7/dist-packages (from requests->geocoder) (3.0.4)\n",
            "time: 3.14 s (started: 2021-11-12 00:54:30 +00:00)\n"
          ]
        }
      ]
    },
    {
      "cell_type": "code",
      "metadata": {
        "colab": {
          "base_uri": "https://localhost:8080/"
        },
        "id": "K5Q80VX1VWod",
        "outputId": "2e6d128e-b253-49a7-cb81-2b84d3f5a79f"
      },
      "source": [
        "import geocoder\n",
        "\n",
        "def geo_rev(x):\n",
        "    g = geocoder.osm([x.pickup_latitude, x.pickup_longitude], method='reverse').json\n",
        "    if g:\n",
        "        return g.get('address')\n",
        "    else:\n",
        "        return 'no country'\n",
        "\n",
        "bogota_busyAreas['pickup_address1'] = bogota_busyAreas[['pickup_latitude', 'pickup_longitude']].apply(geo_rev, axis=1)\n"
      ],
      "execution_count": 88,
      "outputs": [
        {
          "output_type": "stream",
          "name": "stdout",
          "text": [
            "time: 4.82 s (started: 2021-11-12 00:54:34 +00:00)\n"
          ]
        }
      ]
    },
    {
      "cell_type": "code",
      "metadata": {
        "colab": {
          "base_uri": "https://localhost:8080/"
        },
        "id": "zS0Ch-YDVW2p",
        "outputId": "e4b0d5cc-33fb-480c-fba9-3605cb124155"
      },
      "source": [
        "def geo_rev(x):\n",
        "    g = geocoder.osm([x.dropoff_latitude, x.dropoff_longitude], method='reverse').json\n",
        "    if g:\n",
        "        return g.get('address')\n",
        "    else:\n",
        "        return 'no country'\n",
        "\n",
        "bogota_busyAreas['dropoff_address2'] = bogota_busyAreas[['dropoff_latitude', 'dropoff_longitude']].apply(geo_rev, axis=1)\n"
      ],
      "execution_count": 89,
      "outputs": [
        {
          "output_type": "stream",
          "name": "stdout",
          "text": [
            "time: 4.98 s (started: 2021-11-12 00:54:38 +00:00)\n"
          ]
        }
      ]
    },
    {
      "cell_type": "code",
      "metadata": {
        "id": "Doq9lSDOebYa",
        "colab": {
          "base_uri": "https://localhost:8080/",
          "height": 847
        },
        "outputId": "655a6fe9-fe10-46a7-cf74-df874ea29748"
      },
      "source": [
        "bogota_busyAreas"
      ],
      "execution_count": 90,
      "outputs": [
        {
          "output_type": "execute_result",
          "data": {
            "text/html": [
              "<div>\n",
              "<style scoped>\n",
              "    .dataframe tbody tr th:only-of-type {\n",
              "        vertical-align: middle;\n",
              "    }\n",
              "\n",
              "    .dataframe tbody tr th {\n",
              "        vertical-align: top;\n",
              "    }\n",
              "\n",
              "    .dataframe thead th {\n",
              "        text-align: right;\n",
              "    }\n",
              "</style>\n",
              "<table border=\"1\" class=\"dataframe\">\n",
              "  <thead>\n",
              "    <tr style=\"text-align: right;\">\n",
              "      <th></th>\n",
              "      <th>pickup_longitude</th>\n",
              "      <th>pickup_latitude</th>\n",
              "      <th>dropoff_longitude</th>\n",
              "      <th>dropoff_latitude</th>\n",
              "      <th>trip_duration</th>\n",
              "      <th>dist_meters</th>\n",
              "      <th>wait_sec</th>\n",
              "      <th>Pickup_year</th>\n",
              "      <th>pickup_month</th>\n",
              "      <th>pickup_day</th>\n",
              "      <th>pickup_Hour</th>\n",
              "      <th>pickup_minute</th>\n",
              "      <th>dropoff_year</th>\n",
              "      <th>dropoff_month</th>\n",
              "      <th>dropoff_day</th>\n",
              "      <th>dropoff_Hour</th>\n",
              "      <th>dropoff_minute</th>\n",
              "      <th>dist</th>\n",
              "      <th>Delta_distance</th>\n",
              "      <th>pickup_address1</th>\n",
              "      <th>dropoff_address2</th>\n",
              "    </tr>\n",
              "  </thead>\n",
              "  <tbody>\n",
              "    <tr>\n",
              "      <th>2729</th>\n",
              "      <td>-74.070958</td>\n",
              "      <td>4.704658</td>\n",
              "      <td>-74.070988</td>\n",
              "      <td>4.704724</td>\n",
              "      <td>8168</td>\n",
              "      <td>22728</td>\n",
              "      <td>1818</td>\n",
              "      <td>2020</td>\n",
              "      <td>6</td>\n",
              "      <td>28</td>\n",
              "      <td>11</td>\n",
              "      <td>7</td>\n",
              "      <td>2020</td>\n",
              "      <td>6</td>\n",
              "      <td>28</td>\n",
              "      <td>1</td>\n",
              "      <td>24</td>\n",
              "      <td>8.124524</td>\n",
              "      <td>22719.875476</td>\n",
              "      <td>Librería San Pablo, Transversal 60, UPZ Niza, ...</td>\n",
              "      <td>Librería San Pablo, Transversal 60, UPZ Niza, ...</td>\n",
              "    </tr>\n",
              "    <tr>\n",
              "      <th>2388</th>\n",
              "      <td>-74.065986</td>\n",
              "      <td>4.649030</td>\n",
              "      <td>-74.066657</td>\n",
              "      <td>4.649164</td>\n",
              "      <td>3941</td>\n",
              "      <td>21940</td>\n",
              "      <td>828</td>\n",
              "      <td>2020</td>\n",
              "      <td>5</td>\n",
              "      <td>26</td>\n",
              "      <td>10</td>\n",
              "      <td>42</td>\n",
              "      <td>2020</td>\n",
              "      <td>5</td>\n",
              "      <td>26</td>\n",
              "      <td>11</td>\n",
              "      <td>48</td>\n",
              "      <td>75.786357</td>\n",
              "      <td>21864.213643</td>\n",
              "      <td>Nevada suites, Calle 61A, San Luis, UPZ Galerí...</td>\n",
              "      <td>Nevada suites, Calle 61A, San Luis, UPZ Galerí...</td>\n",
              "    </tr>\n",
              "    <tr>\n",
              "      <th>1163</th>\n",
              "      <td>-74.051074</td>\n",
              "      <td>4.752220</td>\n",
              "      <td>-74.050869</td>\n",
              "      <td>4.752109</td>\n",
              "      <td>2867</td>\n",
              "      <td>21759</td>\n",
              "      <td>778</td>\n",
              "      <td>2019</td>\n",
              "      <td>10</td>\n",
              "      <td>14</td>\n",
              "      <td>9</td>\n",
              "      <td>4</td>\n",
              "      <td>2019</td>\n",
              "      <td>10</td>\n",
              "      <td>14</td>\n",
              "      <td>9</td>\n",
              "      <td>52</td>\n",
              "      <td>25.841140</td>\n",
              "      <td>21733.158860</td>\n",
              "      <td>Alimentador (2.7 San Jose), Avenida Calle 170,...</td>\n",
              "      <td>Alimentador (2.7 San Jose), Avenida Calle 170,...</td>\n",
              "    </tr>\n",
              "    <tr>\n",
              "      <th>2659</th>\n",
              "      <td>-74.066776</td>\n",
              "      <td>4.649436</td>\n",
              "      <td>-74.066373</td>\n",
              "      <td>4.649103</td>\n",
              "      <td>5687</td>\n",
              "      <td>21454</td>\n",
              "      <td>920</td>\n",
              "      <td>2020</td>\n",
              "      <td>6</td>\n",
              "      <td>16</td>\n",
              "      <td>9</td>\n",
              "      <td>41</td>\n",
              "      <td>2020</td>\n",
              "      <td>6</td>\n",
              "      <td>16</td>\n",
              "      <td>11</td>\n",
              "      <td>16</td>\n",
              "      <td>57.978326</td>\n",
              "      <td>21396.021674</td>\n",
              "      <td>Jesuscristo es la Señor Universal, Carrera 16,...</td>\n",
              "      <td>Nevada suites, Calle 61A, San Luis, UPZ Galerí...</td>\n",
              "    </tr>\n",
              "    <tr>\n",
              "      <th>2521</th>\n",
              "      <td>-74.049487</td>\n",
              "      <td>4.761140</td>\n",
              "      <td>-74.048468</td>\n",
              "      <td>4.760454</td>\n",
              "      <td>3883</td>\n",
              "      <td>19889</td>\n",
              "      <td>1020</td>\n",
              "      <td>2019</td>\n",
              "      <td>10</td>\n",
              "      <td>12</td>\n",
              "      <td>3</td>\n",
              "      <td>38</td>\n",
              "      <td>2019</td>\n",
              "      <td>10</td>\n",
              "      <td>12</td>\n",
              "      <td>4</td>\n",
              "      <td>42</td>\n",
              "      <td>136.166567</td>\n",
              "      <td>19752.833433</td>\n",
              "      <td>Patio Portal Norte, Calle 182, Nueva Zelandia,...</td>\n",
              "      <td>Carrera 50C, Aticos De La Sabana 2, Localidad ...</td>\n",
              "    </tr>\n",
              "    <tr>\n",
              "      <th>855</th>\n",
              "      <td>-74.049758</td>\n",
              "      <td>4.752821</td>\n",
              "      <td>-74.043398</td>\n",
              "      <td>4.762390</td>\n",
              "      <td>3893</td>\n",
              "      <td>20803</td>\n",
              "      <td>1516</td>\n",
              "      <td>2019</td>\n",
              "      <td>9</td>\n",
              "      <td>22</td>\n",
              "      <td>8</td>\n",
              "      <td>50</td>\n",
              "      <td>2019</td>\n",
              "      <td>9</td>\n",
              "      <td>22</td>\n",
              "      <td>9</td>\n",
              "      <td>55</td>\n",
              "      <td>1276.310141</td>\n",
              "      <td>19526.689859</td>\n",
              "      <td>Domino's, Carrera 49B, Nueva Zelandia, UPZ San...</td>\n",
              "      <td>Carrera 23 Bis, Maranta, UPZ Verbenal, Localid...</td>\n",
              "    </tr>\n",
              "    <tr>\n",
              "      <th>2439</th>\n",
              "      <td>-74.071044</td>\n",
              "      <td>4.704776</td>\n",
              "      <td>-74.070889</td>\n",
              "      <td>4.704461</td>\n",
              "      <td>3215</td>\n",
              "      <td>19193</td>\n",
              "      <td>1301</td>\n",
              "      <td>2020</td>\n",
              "      <td>1</td>\n",
              "      <td>19</td>\n",
              "      <td>3</td>\n",
              "      <td>46</td>\n",
              "      <td>2020</td>\n",
              "      <td>1</td>\n",
              "      <td>19</td>\n",
              "      <td>4</td>\n",
              "      <td>40</td>\n",
              "      <td>38.989794</td>\n",
              "      <td>19154.010206</td>\n",
              "      <td>Kmila Sarz Peluquería, Transversal 60, UPZ Niz...</td>\n",
              "      <td>Max International, Transversal 60, UPZ Niza, L...</td>\n",
              "    </tr>\n",
              "    <tr>\n",
              "      <th>2106</th>\n",
              "      <td>-74.027468</td>\n",
              "      <td>4.767062</td>\n",
              "      <td>-74.026339</td>\n",
              "      <td>4.762385</td>\n",
              "      <td>5235</td>\n",
              "      <td>19304</td>\n",
              "      <td>1871</td>\n",
              "      <td>2020</td>\n",
              "      <td>3</td>\n",
              "      <td>22</td>\n",
              "      <td>3</td>\n",
              "      <td>44</td>\n",
              "      <td>2020</td>\n",
              "      <td>3</td>\n",
              "      <td>22</td>\n",
              "      <td>5</td>\n",
              "      <td>11</td>\n",
              "      <td>534.971138</td>\n",
              "      <td>18769.028862</td>\n",
              "      <td>Terpel, Avenida Carrera 7, UPZ Verbenal, Local...</td>\n",
              "      <td>Carrera 6B, Tibabita, UPZ Verbenal, Localidad ...</td>\n",
              "    </tr>\n",
              "    <tr>\n",
              "      <th>1617</th>\n",
              "      <td>-74.135686</td>\n",
              "      <td>4.716154</td>\n",
              "      <td>-74.135786</td>\n",
              "      <td>4.716266</td>\n",
              "      <td>3000</td>\n",
              "      <td>18087</td>\n",
              "      <td>911</td>\n",
              "      <td>2019</td>\n",
              "      <td>12</td>\n",
              "      <td>28</td>\n",
              "      <td>12</td>\n",
              "      <td>39</td>\n",
              "      <td>2019</td>\n",
              "      <td>12</td>\n",
              "      <td>28</td>\n",
              "      <td>1</td>\n",
              "      <td>29</td>\n",
              "      <td>16.686337</td>\n",
              "      <td>18070.313663</td>\n",
              "      <td>Carrera 119A, La Faena, UPZ Engativá, Localida...</td>\n",
              "      <td>Carrera 119A, La Faena, UPZ Engativá, Localida...</td>\n",
              "    </tr>\n",
              "    <tr>\n",
              "      <th>636</th>\n",
              "      <td>-74.050817</td>\n",
              "      <td>4.752303</td>\n",
              "      <td>-74.050946</td>\n",
              "      <td>4.752125</td>\n",
              "      <td>4190</td>\n",
              "      <td>17761</td>\n",
              "      <td>1572</td>\n",
              "      <td>2019</td>\n",
              "      <td>10</td>\n",
              "      <td>28</td>\n",
              "      <td>7</td>\n",
              "      <td>4</td>\n",
              "      <td>2019</td>\n",
              "      <td>10</td>\n",
              "      <td>28</td>\n",
              "      <td>8</td>\n",
              "      <td>14</td>\n",
              "      <td>24.406739</td>\n",
              "      <td>17736.593261</td>\n",
              "      <td>Alimentador (2.7 San Jose), Avenida Calle 170,...</td>\n",
              "      <td>Alimentador (2.7 San Jose), Avenida Calle 170,...</td>\n",
              "    </tr>\n",
              "  </tbody>\n",
              "</table>\n",
              "</div>"
            ],
            "text/plain": [
              "      pickup_longitude  ...                                   dropoff_address2\n",
              "2729        -74.070958  ...  Librería San Pablo, Transversal 60, UPZ Niza, ...\n",
              "2388        -74.065986  ...  Nevada suites, Calle 61A, San Luis, UPZ Galerí...\n",
              "1163        -74.051074  ...  Alimentador (2.7 San Jose), Avenida Calle 170,...\n",
              "2659        -74.066776  ...  Nevada suites, Calle 61A, San Luis, UPZ Galerí...\n",
              "2521        -74.049487  ...  Carrera 50C, Aticos De La Sabana 2, Localidad ...\n",
              "855         -74.049758  ...  Carrera 23 Bis, Maranta, UPZ Verbenal, Localid...\n",
              "2439        -74.071044  ...  Max International, Transversal 60, UPZ Niza, L...\n",
              "2106        -74.027468  ...  Carrera 6B, Tibabita, UPZ Verbenal, Localidad ...\n",
              "1617        -74.135686  ...  Carrera 119A, La Faena, UPZ Engativá, Localida...\n",
              "636         -74.050817  ...  Alimentador (2.7 San Jose), Avenida Calle 170,...\n",
              "\n",
              "[10 rows x 21 columns]"
            ]
          },
          "metadata": {},
          "execution_count": 90
        },
        {
          "output_type": "stream",
          "name": "stdout",
          "text": [
            "time: 47.2 ms (started: 2021-11-12 00:54:43 +00:00)\n"
          ]
        }
      ]
    },
    {
      "cell_type": "code",
      "metadata": {
        "colab": {
          "base_uri": "https://localhost:8080/"
        },
        "id": "_1ImbozcoDit",
        "outputId": "d7de21d8-cb1b-4008-b1a6-ac157d2f1a74"
      },
      "source": [
        "Busy_area_names1 = [x for x in bogota_busyAreas.pickup_address1]\n",
        "Busy_area_names2 = [x for x in bogota_busyAreas.dropoff_address2]"
      ],
      "execution_count": 91,
      "outputs": [
        {
          "output_type": "stream",
          "name": "stdout",
          "text": [
            "time: 2.53 ms (started: 2021-11-12 00:54:43 +00:00)\n"
          ]
        }
      ]
    },
    {
      "cell_type": "code",
      "metadata": {
        "colab": {
          "base_uri": "https://localhost:8080/"
        },
        "id": "rclSIYBCohMV",
        "outputId": "be929a6d-e80a-45f9-e55c-2adb7e82dd70"
      },
      "source": [
        "print(Busy_area_names1 ,'+',Busy_area_names2,)\n"
      ],
      "execution_count": 92,
      "outputs": [
        {
          "output_type": "stream",
          "name": "stdout",
          "text": [
            "['Librería San Pablo, Transversal 60, UPZ Niza, Localidad Suba, Bogotá, Bogotá Distrito Capital, 111121, Colombia', 'Nevada suites, Calle 61A, San Luis, UPZ Galerías, Localidad Teusaquillo, Bogotá, Bogotá Distrito Capital, 111311, Colombia', 'Alimentador (2.7 San Jose), Avenida Calle 170, UPZ Britalia, Localidad Suba, Bogotá, Bogotá Distrito Capital, 111156, Colombia', 'Jesuscristo es la Señor Universal, Carrera 16, San Luis, UPZ Galerías, Localidad Teusaquillo, Bogotá, Bogotá Distrito Capital, 111311, Colombia', 'Patio Portal Norte, Calle 182, Nueva Zelandia, UPZ San José de Bavaria, Localidad Suba, Bogotá, Bogotá Distrito Capital, 111166, Colombia', \"Domino's, Carrera 49B, Nueva Zelandia, UPZ San José de Bavaria, Localidad Suba, Bogotá, Bogotá Distrito Capital, 111166, Colombia\", 'Kmila Sarz Peluquería, Transversal 60, UPZ Niza, Localidad Suba, Bogotá, Bogotá Distrito Capital, 111121, Colombia', 'Terpel, Avenida Carrera 7, UPZ Verbenal, Localidad Usaquén, Bogotá, Bogotá Distrito Capital, 110141, Colombia', 'Carrera 119A, La Faena, UPZ Engativá, Localidad Engativá, Bogotá, Bogotá Distrito Capital, 111031, Colombia', 'Alimentador (2.7 San Jose), Avenida Calle 170, UPZ Britalia, Localidad Suba, Bogotá, Bogotá Distrito Capital, 111156, Colombia'] + ['Librería San Pablo, Transversal 60, UPZ Niza, Localidad Suba, Bogotá, Bogotá Distrito Capital, 111121, Colombia', 'Nevada suites, Calle 61A, San Luis, UPZ Galerías, Localidad Teusaquillo, Bogotá, Bogotá Distrito Capital, 111311, Colombia', 'Alimentador (2.7 San Jose), Avenida Calle 170, UPZ Britalia, Localidad Suba, Bogotá, Bogotá Distrito Capital, 111156, Colombia', 'Nevada suites, Calle 61A, San Luis, UPZ Galerías, Localidad Teusaquillo, Bogotá, Bogotá Distrito Capital, 111311, Colombia', 'Carrera 50C, Aticos De La Sabana 2, Localidad Suba, Bogotá, Bogotá Distrito Capital, 111166, Colombia', 'Carrera 23 Bis, Maranta, UPZ Verbenal, Localidad Usaquén, Bogotá, Bogotá Distrito Capital, 110141, Colombia', 'Max International, Transversal 60, UPZ Niza, Localidad Suba, Bogotá, Bogotá Distrito Capital, 111121, Colombia', 'Carrera 6B, Tibabita, UPZ Verbenal, Localidad Usaquén, Bogotá, Bogotá Distrito Capital, 110141, Colombia', 'Carrera 119A, La Faena, UPZ Engativá, Localidad Engativá, Bogotá, Bogotá Distrito Capital, 111031, Colombia', 'Alimentador (2.7 San Jose), Avenida Calle 170, UPZ Britalia, Localidad Suba, Bogotá, Bogotá Distrito Capital, 111156, Colombia']\n",
            "time: 3.89 ms (started: 2021-11-12 00:54:44 +00:00)\n"
          ]
        }
      ]
    },
    {
      "cell_type": "markdown",
      "metadata": {
        "id": "-a2n2fCUsMex"
      },
      "source": [
        "## 2) Mexico City Busy Areas "
      ]
    },
    {
      "cell_type": "code",
      "metadata": {
        "colab": {
          "base_uri": "https://localhost:8080/"
        },
        "id": "x__920_HsKoc",
        "outputId": "0d04de3d-ceaf-4b83-e7de-237e50e52a5e"
      },
      "source": [
        "def haversine(lat1, lon1, lat2, lon2, to_radians=True, earth_radius=6371):\n",
        "    \"\"\"\n",
        "    slightly modified version: of http://stackoverflow.com/a/29546836/2901002\n",
        "\n",
        "    Calculate the great circle distance between two points\n",
        "    on the earth (specified in decimal degrees or in radians)\n",
        "\n",
        "    All (lat, lon) coordinates must have numeric dtypes and be of equal length.\n",
        "\n",
        "    \"\"\"\n",
        "    if to_radians:\n",
        "        lat1, lon1, lat2, lon2 = np.radians([lat1, lon1, lat2, lon2])\n",
        "\n",
        "    a = np.sin((lat2-lat1)/2.0)**2 + \\\n",
        "        np.cos(lat1) * np.cos(lat2) * np.sin((lon2-lon1)/2.0)**2\n",
        "\n",
        "    meters = (earth_radius * 2 * np.arcsin(np.sqrt(a))) * 1000\n",
        "    return meters\n",
        "\n",
        "\n",
        "mexico_df_out['dist'] = \\\n",
        "    haversine(mexico_df_out.pickup_latitude, mexico_df_out.pickup_longitude,\n",
        "                   mexico_df_out.dropoff_latitude, mexico_df_out.dropoff_longitude)\n"
      ],
      "execution_count": 93,
      "outputs": [
        {
          "output_type": "stream",
          "name": "stdout",
          "text": [
            "time: 17.3 ms (started: 2021-11-12 00:54:44 +00:00)\n"
          ]
        }
      ]
    },
    {
      "cell_type": "code",
      "metadata": {
        "colab": {
          "base_uri": "https://localhost:8080/",
          "height": 454
        },
        "id": "0Jm5kTk5sKgE",
        "outputId": "b0cfc212-bc36-4988-b920-58dd14ccb033"
      },
      "source": [
        "mexico_df_out"
      ],
      "execution_count": 94,
      "outputs": [
        {
          "output_type": "execute_result",
          "data": {
            "text/html": [
              "<div>\n",
              "<style scoped>\n",
              "    .dataframe tbody tr th:only-of-type {\n",
              "        vertical-align: middle;\n",
              "    }\n",
              "\n",
              "    .dataframe tbody tr th {\n",
              "        vertical-align: top;\n",
              "    }\n",
              "\n",
              "    .dataframe thead th {\n",
              "        text-align: right;\n",
              "    }\n",
              "</style>\n",
              "<table border=\"1\" class=\"dataframe\">\n",
              "  <thead>\n",
              "    <tr style=\"text-align: right;\">\n",
              "      <th></th>\n",
              "      <th>pickup_longitude</th>\n",
              "      <th>pickup_latitude</th>\n",
              "      <th>dropoff_longitude</th>\n",
              "      <th>dropoff_latitude</th>\n",
              "      <th>trip_duration</th>\n",
              "      <th>dist_meters</th>\n",
              "      <th>wait_sec</th>\n",
              "      <th>Pickup_year</th>\n",
              "      <th>pickup_month</th>\n",
              "      <th>pickup_day</th>\n",
              "      <th>pickup_Hour</th>\n",
              "      <th>pickup_minute</th>\n",
              "      <th>dropoff_year</th>\n",
              "      <th>dropoff_month</th>\n",
              "      <th>dropoff_day</th>\n",
              "      <th>dropoff_Hour</th>\n",
              "      <th>dropoff_minute</th>\n",
              "      <th>dist</th>\n",
              "    </tr>\n",
              "  </thead>\n",
              "  <tbody>\n",
              "    <tr>\n",
              "      <th>2</th>\n",
              "      <td>-99.289603</td>\n",
              "      <td>19.326263</td>\n",
              "      <td>-99.271874</td>\n",
              "      <td>19.328530</td>\n",
              "      <td>681</td>\n",
              "      <td>2848</td>\n",
              "      <td>129</td>\n",
              "      <td>2019</td>\n",
              "      <td>9</td>\n",
              "      <td>18</td>\n",
              "      <td>10</td>\n",
              "      <td>11</td>\n",
              "      <td>2019</td>\n",
              "      <td>9</td>\n",
              "      <td>18</td>\n",
              "      <td>10</td>\n",
              "      <td>23</td>\n",
              "      <td>1877.313238</td>\n",
              "    </tr>\n",
              "    <tr>\n",
              "      <th>3</th>\n",
              "      <td>-99.271161</td>\n",
              "      <td>19.328875</td>\n",
              "      <td>-99.279900</td>\n",
              "      <td>19.326256</td>\n",
              "      <td>436</td>\n",
              "      <td>1409</td>\n",
              "      <td>106</td>\n",
              "      <td>2019</td>\n",
              "      <td>9</td>\n",
              "      <td>18</td>\n",
              "      <td>10</td>\n",
              "      <td>23</td>\n",
              "      <td>2019</td>\n",
              "      <td>9</td>\n",
              "      <td>18</td>\n",
              "      <td>10</td>\n",
              "      <td>30</td>\n",
              "      <td>962.103615</td>\n",
              "    </tr>\n",
              "    <tr>\n",
              "      <th>4</th>\n",
              "      <td>-99.282761</td>\n",
              "      <td>19.326944</td>\n",
              "      <td>-99.291705</td>\n",
              "      <td>19.322754</td>\n",
              "      <td>442</td>\n",
              "      <td>1567</td>\n",
              "      <td>85</td>\n",
              "      <td>2019</td>\n",
              "      <td>9</td>\n",
              "      <td>18</td>\n",
              "      <td>10</td>\n",
              "      <td>44</td>\n",
              "      <td>2019</td>\n",
              "      <td>9</td>\n",
              "      <td>18</td>\n",
              "      <td>10</td>\n",
              "      <td>51</td>\n",
              "      <td>1047.844913</td>\n",
              "    </tr>\n",
              "    <tr>\n",
              "      <th>5</th>\n",
              "      <td>-99.289712</td>\n",
              "      <td>19.322929</td>\n",
              "      <td>-99.289280</td>\n",
              "      <td>19.325978</td>\n",
              "      <td>100</td>\n",
              "      <td>797</td>\n",
              "      <td>19</td>\n",
              "      <td>2019</td>\n",
              "      <td>9</td>\n",
              "      <td>18</td>\n",
              "      <td>10</td>\n",
              "      <td>58</td>\n",
              "      <td>2019</td>\n",
              "      <td>9</td>\n",
              "      <td>18</td>\n",
              "      <td>10</td>\n",
              "      <td>59</td>\n",
              "      <td>342.069774</td>\n",
              "    </tr>\n",
              "    <tr>\n",
              "      <th>6</th>\n",
              "      <td>-99.285391</td>\n",
              "      <td>19.326247</td>\n",
              "      <td>-99.282549</td>\n",
              "      <td>19.328117</td>\n",
              "      <td>345</td>\n",
              "      <td>676</td>\n",
              "      <td>169</td>\n",
              "      <td>2019</td>\n",
              "      <td>9</td>\n",
              "      <td>18</td>\n",
              "      <td>11</td>\n",
              "      <td>0</td>\n",
              "      <td>2019</td>\n",
              "      <td>9</td>\n",
              "      <td>18</td>\n",
              "      <td>11</td>\n",
              "      <td>5</td>\n",
              "      <td>363.599858</td>\n",
              "    </tr>\n",
              "    <tr>\n",
              "      <th>...</th>\n",
              "      <td>...</td>\n",
              "      <td>...</td>\n",
              "      <td>...</td>\n",
              "      <td>...</td>\n",
              "      <td>...</td>\n",
              "      <td>...</td>\n",
              "      <td>...</td>\n",
              "      <td>...</td>\n",
              "      <td>...</td>\n",
              "      <td>...</td>\n",
              "      <td>...</td>\n",
              "      <td>...</td>\n",
              "      <td>...</td>\n",
              "      <td>...</td>\n",
              "      <td>...</td>\n",
              "      <td>...</td>\n",
              "      <td>...</td>\n",
              "      <td>...</td>\n",
              "    </tr>\n",
              "    <tr>\n",
              "      <th>12687</th>\n",
              "      <td>-99.202185</td>\n",
              "      <td>19.376042</td>\n",
              "      <td>-99.193756</td>\n",
              "      <td>19.388496</td>\n",
              "      <td>252</td>\n",
              "      <td>2280</td>\n",
              "      <td>33</td>\n",
              "      <td>2019</td>\n",
              "      <td>10</td>\n",
              "      <td>27</td>\n",
              "      <td>8</td>\n",
              "      <td>11</td>\n",
              "      <td>2019</td>\n",
              "      <td>10</td>\n",
              "      <td>27</td>\n",
              "      <td>8</td>\n",
              "      <td>15</td>\n",
              "      <td>1642.979958</td>\n",
              "    </tr>\n",
              "    <tr>\n",
              "      <th>12689</th>\n",
              "      <td>-99.180762</td>\n",
              "      <td>19.369210</td>\n",
              "      <td>-99.180013</td>\n",
              "      <td>19.370270</td>\n",
              "      <td>3846</td>\n",
              "      <td>8261</td>\n",
              "      <td>427</td>\n",
              "      <td>2019</td>\n",
              "      <td>10</td>\n",
              "      <td>27</td>\n",
              "      <td>9</td>\n",
              "      <td>10</td>\n",
              "      <td>2019</td>\n",
              "      <td>10</td>\n",
              "      <td>27</td>\n",
              "      <td>10</td>\n",
              "      <td>14</td>\n",
              "      <td>141.682546</td>\n",
              "    </tr>\n",
              "    <tr>\n",
              "      <th>12690</th>\n",
              "      <td>-99.059582</td>\n",
              "      <td>19.307219</td>\n",
              "      <td>-99.065798</td>\n",
              "      <td>19.306472</td>\n",
              "      <td>518</td>\n",
              "      <td>2498</td>\n",
              "      <td>115</td>\n",
              "      <td>2019</td>\n",
              "      <td>10</td>\n",
              "      <td>27</td>\n",
              "      <td>10</td>\n",
              "      <td>53</td>\n",
              "      <td>2019</td>\n",
              "      <td>10</td>\n",
              "      <td>27</td>\n",
              "      <td>11</td>\n",
              "      <td>1</td>\n",
              "      <td>657.571766</td>\n",
              "    </tr>\n",
              "    <tr>\n",
              "      <th>12691</th>\n",
              "      <td>-99.170637</td>\n",
              "      <td>19.283637</td>\n",
              "      <td>-99.178194</td>\n",
              "      <td>19.280982</td>\n",
              "      <td>1131</td>\n",
              "      <td>6051</td>\n",
              "      <td>228</td>\n",
              "      <td>2019</td>\n",
              "      <td>10</td>\n",
              "      <td>27</td>\n",
              "      <td>11</td>\n",
              "      <td>19</td>\n",
              "      <td>2019</td>\n",
              "      <td>10</td>\n",
              "      <td>27</td>\n",
              "      <td>11</td>\n",
              "      <td>38</td>\n",
              "      <td>846.351139</td>\n",
              "    </tr>\n",
              "    <tr>\n",
              "      <th>12692</th>\n",
              "      <td>-99.194384</td>\n",
              "      <td>19.396768</td>\n",
              "      <td>-99.194622</td>\n",
              "      <td>19.396717</td>\n",
              "      <td>104</td>\n",
              "      <td>49</td>\n",
              "      <td>96</td>\n",
              "      <td>2019</td>\n",
              "      <td>10</td>\n",
              "      <td>28</td>\n",
              "      <td>6</td>\n",
              "      <td>49</td>\n",
              "      <td>2019</td>\n",
              "      <td>10</td>\n",
              "      <td>28</td>\n",
              "      <td>6</td>\n",
              "      <td>51</td>\n",
              "      <td>25.645857</td>\n",
              "    </tr>\n",
              "  </tbody>\n",
              "</table>\n",
              "<p>9497 rows × 18 columns</p>\n",
              "</div>"
            ],
            "text/plain": [
              "       pickup_longitude  pickup_latitude  ...  dropoff_minute         dist\n",
              "2            -99.289603        19.326263  ...              23  1877.313238\n",
              "3            -99.271161        19.328875  ...              30   962.103615\n",
              "4            -99.282761        19.326944  ...              51  1047.844913\n",
              "5            -99.289712        19.322929  ...              59   342.069774\n",
              "6            -99.285391        19.326247  ...               5   363.599858\n",
              "...                 ...              ...  ...             ...          ...\n",
              "12687        -99.202185        19.376042  ...              15  1642.979958\n",
              "12689        -99.180762        19.369210  ...              14   141.682546\n",
              "12690        -99.059582        19.307219  ...               1   657.571766\n",
              "12691        -99.170637        19.283637  ...              38   846.351139\n",
              "12692        -99.194384        19.396768  ...              51    25.645857\n",
              "\n",
              "[9497 rows x 18 columns]"
            ]
          },
          "metadata": {},
          "execution_count": 94
        },
        {
          "output_type": "stream",
          "name": "stdout",
          "text": [
            "time: 47.8 ms (started: 2021-11-12 00:54:44 +00:00)\n"
          ]
        }
      ]
    },
    {
      "cell_type": "code",
      "metadata": {
        "colab": {
          "base_uri": "https://localhost:8080/",
          "height": 240
        },
        "id": "8pAov96VsKWv",
        "outputId": "0a549678-5b7f-4f66-bffe-a5ec5525ac8b"
      },
      "source": [
        "mexico_df_out['Delta_distance'] = mexico_df_out['dist_meters'] - mexico_df_out['dist'] \n",
        "mexico_df_out.head()"
      ],
      "execution_count": 95,
      "outputs": [
        {
          "output_type": "execute_result",
          "data": {
            "text/html": [
              "<div>\n",
              "<style scoped>\n",
              "    .dataframe tbody tr th:only-of-type {\n",
              "        vertical-align: middle;\n",
              "    }\n",
              "\n",
              "    .dataframe tbody tr th {\n",
              "        vertical-align: top;\n",
              "    }\n",
              "\n",
              "    .dataframe thead th {\n",
              "        text-align: right;\n",
              "    }\n",
              "</style>\n",
              "<table border=\"1\" class=\"dataframe\">\n",
              "  <thead>\n",
              "    <tr style=\"text-align: right;\">\n",
              "      <th></th>\n",
              "      <th>pickup_longitude</th>\n",
              "      <th>pickup_latitude</th>\n",
              "      <th>dropoff_longitude</th>\n",
              "      <th>dropoff_latitude</th>\n",
              "      <th>trip_duration</th>\n",
              "      <th>dist_meters</th>\n",
              "      <th>wait_sec</th>\n",
              "      <th>Pickup_year</th>\n",
              "      <th>pickup_month</th>\n",
              "      <th>pickup_day</th>\n",
              "      <th>pickup_Hour</th>\n",
              "      <th>pickup_minute</th>\n",
              "      <th>dropoff_year</th>\n",
              "      <th>dropoff_month</th>\n",
              "      <th>dropoff_day</th>\n",
              "      <th>dropoff_Hour</th>\n",
              "      <th>dropoff_minute</th>\n",
              "      <th>dist</th>\n",
              "      <th>Delta_distance</th>\n",
              "    </tr>\n",
              "  </thead>\n",
              "  <tbody>\n",
              "    <tr>\n",
              "      <th>2</th>\n",
              "      <td>-99.289603</td>\n",
              "      <td>19.326263</td>\n",
              "      <td>-99.271874</td>\n",
              "      <td>19.328530</td>\n",
              "      <td>681</td>\n",
              "      <td>2848</td>\n",
              "      <td>129</td>\n",
              "      <td>2019</td>\n",
              "      <td>9</td>\n",
              "      <td>18</td>\n",
              "      <td>10</td>\n",
              "      <td>11</td>\n",
              "      <td>2019</td>\n",
              "      <td>9</td>\n",
              "      <td>18</td>\n",
              "      <td>10</td>\n",
              "      <td>23</td>\n",
              "      <td>1877.313238</td>\n",
              "      <td>970.686762</td>\n",
              "    </tr>\n",
              "    <tr>\n",
              "      <th>3</th>\n",
              "      <td>-99.271161</td>\n",
              "      <td>19.328875</td>\n",
              "      <td>-99.279900</td>\n",
              "      <td>19.326256</td>\n",
              "      <td>436</td>\n",
              "      <td>1409</td>\n",
              "      <td>106</td>\n",
              "      <td>2019</td>\n",
              "      <td>9</td>\n",
              "      <td>18</td>\n",
              "      <td>10</td>\n",
              "      <td>23</td>\n",
              "      <td>2019</td>\n",
              "      <td>9</td>\n",
              "      <td>18</td>\n",
              "      <td>10</td>\n",
              "      <td>30</td>\n",
              "      <td>962.103615</td>\n",
              "      <td>446.896385</td>\n",
              "    </tr>\n",
              "    <tr>\n",
              "      <th>4</th>\n",
              "      <td>-99.282761</td>\n",
              "      <td>19.326944</td>\n",
              "      <td>-99.291705</td>\n",
              "      <td>19.322754</td>\n",
              "      <td>442</td>\n",
              "      <td>1567</td>\n",
              "      <td>85</td>\n",
              "      <td>2019</td>\n",
              "      <td>9</td>\n",
              "      <td>18</td>\n",
              "      <td>10</td>\n",
              "      <td>44</td>\n",
              "      <td>2019</td>\n",
              "      <td>9</td>\n",
              "      <td>18</td>\n",
              "      <td>10</td>\n",
              "      <td>51</td>\n",
              "      <td>1047.844913</td>\n",
              "      <td>519.155087</td>\n",
              "    </tr>\n",
              "    <tr>\n",
              "      <th>5</th>\n",
              "      <td>-99.289712</td>\n",
              "      <td>19.322929</td>\n",
              "      <td>-99.289280</td>\n",
              "      <td>19.325978</td>\n",
              "      <td>100</td>\n",
              "      <td>797</td>\n",
              "      <td>19</td>\n",
              "      <td>2019</td>\n",
              "      <td>9</td>\n",
              "      <td>18</td>\n",
              "      <td>10</td>\n",
              "      <td>58</td>\n",
              "      <td>2019</td>\n",
              "      <td>9</td>\n",
              "      <td>18</td>\n",
              "      <td>10</td>\n",
              "      <td>59</td>\n",
              "      <td>342.069774</td>\n",
              "      <td>454.930226</td>\n",
              "    </tr>\n",
              "    <tr>\n",
              "      <th>6</th>\n",
              "      <td>-99.285391</td>\n",
              "      <td>19.326247</td>\n",
              "      <td>-99.282549</td>\n",
              "      <td>19.328117</td>\n",
              "      <td>345</td>\n",
              "      <td>676</td>\n",
              "      <td>169</td>\n",
              "      <td>2019</td>\n",
              "      <td>9</td>\n",
              "      <td>18</td>\n",
              "      <td>11</td>\n",
              "      <td>0</td>\n",
              "      <td>2019</td>\n",
              "      <td>9</td>\n",
              "      <td>18</td>\n",
              "      <td>11</td>\n",
              "      <td>5</td>\n",
              "      <td>363.599858</td>\n",
              "      <td>312.400142</td>\n",
              "    </tr>\n",
              "  </tbody>\n",
              "</table>\n",
              "</div>"
            ],
            "text/plain": [
              "   pickup_longitude  pickup_latitude  ...         dist  Delta_distance\n",
              "2        -99.289603        19.326263  ...  1877.313238      970.686762\n",
              "3        -99.271161        19.328875  ...   962.103615      446.896385\n",
              "4        -99.282761        19.326944  ...  1047.844913      519.155087\n",
              "5        -99.289712        19.322929  ...   342.069774      454.930226\n",
              "6        -99.285391        19.326247  ...   363.599858      312.400142\n",
              "\n",
              "[5 rows x 19 columns]"
            ]
          },
          "metadata": {},
          "execution_count": 95
        },
        {
          "output_type": "stream",
          "name": "stdout",
          "text": [
            "time: 51.3 ms (started: 2021-11-12 00:54:44 +00:00)\n"
          ]
        }
      ]
    },
    {
      "cell_type": "code",
      "metadata": {
        "colab": {
          "base_uri": "https://localhost:8080/",
          "height": 394
        },
        "id": "dF4UMfpRsKOY",
        "outputId": "cc4e592e-f5c3-4824-8a11-1c60f3be185b"
      },
      "source": [
        "mexico_busyAreas = mexico_df_out.nlargest(10,['Delta_distance'])\n",
        "mexico_busyAreas"
      ],
      "execution_count": 96,
      "outputs": [
        {
          "output_type": "execute_result",
          "data": {
            "text/html": [
              "<div>\n",
              "<style scoped>\n",
              "    .dataframe tbody tr th:only-of-type {\n",
              "        vertical-align: middle;\n",
              "    }\n",
              "\n",
              "    .dataframe tbody tr th {\n",
              "        vertical-align: top;\n",
              "    }\n",
              "\n",
              "    .dataframe thead th {\n",
              "        text-align: right;\n",
              "    }\n",
              "</style>\n",
              "<table border=\"1\" class=\"dataframe\">\n",
              "  <thead>\n",
              "    <tr style=\"text-align: right;\">\n",
              "      <th></th>\n",
              "      <th>pickup_longitude</th>\n",
              "      <th>pickup_latitude</th>\n",
              "      <th>dropoff_longitude</th>\n",
              "      <th>dropoff_latitude</th>\n",
              "      <th>trip_duration</th>\n",
              "      <th>dist_meters</th>\n",
              "      <th>wait_sec</th>\n",
              "      <th>Pickup_year</th>\n",
              "      <th>pickup_month</th>\n",
              "      <th>pickup_day</th>\n",
              "      <th>pickup_Hour</th>\n",
              "      <th>pickup_minute</th>\n",
              "      <th>dropoff_year</th>\n",
              "      <th>dropoff_month</th>\n",
              "      <th>dropoff_day</th>\n",
              "      <th>dropoff_Hour</th>\n",
              "      <th>dropoff_minute</th>\n",
              "      <th>dist</th>\n",
              "      <th>Delta_distance</th>\n",
              "    </tr>\n",
              "  </thead>\n",
              "  <tbody>\n",
              "    <tr>\n",
              "      <th>5798</th>\n",
              "      <td>-99.063179</td>\n",
              "      <td>19.354725</td>\n",
              "      <td>-99.062817</td>\n",
              "      <td>19.356430</td>\n",
              "      <td>2652</td>\n",
              "      <td>17031</td>\n",
              "      <td>732</td>\n",
              "      <td>2019</td>\n",
              "      <td>12</td>\n",
              "      <td>29</td>\n",
              "      <td>7</td>\n",
              "      <td>42</td>\n",
              "      <td>2019</td>\n",
              "      <td>12</td>\n",
              "      <td>29</td>\n",
              "      <td>8</td>\n",
              "      <td>26</td>\n",
              "      <td>193.393447</td>\n",
              "      <td>16837.606553</td>\n",
              "    </tr>\n",
              "    <tr>\n",
              "      <th>5457</th>\n",
              "      <td>-99.125798</td>\n",
              "      <td>19.424498</td>\n",
              "      <td>-99.129366</td>\n",
              "      <td>19.429291</td>\n",
              "      <td>4461</td>\n",
              "      <td>17398</td>\n",
              "      <td>882</td>\n",
              "      <td>2019</td>\n",
              "      <td>12</td>\n",
              "      <td>13</td>\n",
              "      <td>5</td>\n",
              "      <td>5</td>\n",
              "      <td>2019</td>\n",
              "      <td>12</td>\n",
              "      <td>13</td>\n",
              "      <td>6</td>\n",
              "      <td>20</td>\n",
              "      <td>651.160968</td>\n",
              "      <td>16746.839032</td>\n",
              "    </tr>\n",
              "    <tr>\n",
              "      <th>9720</th>\n",
              "      <td>-99.175671</td>\n",
              "      <td>19.372462</td>\n",
              "      <td>-99.179091</td>\n",
              "      <td>19.370159</td>\n",
              "      <td>2529</td>\n",
              "      <td>17126</td>\n",
              "      <td>891</td>\n",
              "      <td>2019</td>\n",
              "      <td>10</td>\n",
              "      <td>12</td>\n",
              "      <td>1</td>\n",
              "      <td>41</td>\n",
              "      <td>2019</td>\n",
              "      <td>10</td>\n",
              "      <td>12</td>\n",
              "      <td>2</td>\n",
              "      <td>23</td>\n",
              "      <td>440.763302</td>\n",
              "      <td>16685.236698</td>\n",
              "    </tr>\n",
              "    <tr>\n",
              "      <th>6987</th>\n",
              "      <td>-99.181337</td>\n",
              "      <td>19.370107</td>\n",
              "      <td>-99.175969</td>\n",
              "      <td>19.363725</td>\n",
              "      <td>1763</td>\n",
              "      <td>17335</td>\n",
              "      <td>493</td>\n",
              "      <td>2020</td>\n",
              "      <td>1</td>\n",
              "      <td>25</td>\n",
              "      <td>3</td>\n",
              "      <td>6</td>\n",
              "      <td>2020</td>\n",
              "      <td>1</td>\n",
              "      <td>25</td>\n",
              "      <td>3</td>\n",
              "      <td>36</td>\n",
              "      <td>905.938509</td>\n",
              "      <td>16429.061491</td>\n",
              "    </tr>\n",
              "    <tr>\n",
              "      <th>11257</th>\n",
              "      <td>-99.094086</td>\n",
              "      <td>19.477633</td>\n",
              "      <td>-99.107261</td>\n",
              "      <td>19.478733</td>\n",
              "      <td>3151</td>\n",
              "      <td>17734</td>\n",
              "      <td>52</td>\n",
              "      <td>2020</td>\n",
              "      <td>3</td>\n",
              "      <td>7</td>\n",
              "      <td>7</td>\n",
              "      <td>2</td>\n",
              "      <td>2020</td>\n",
              "      <td>3</td>\n",
              "      <td>7</td>\n",
              "      <td>7</td>\n",
              "      <td>54</td>\n",
              "      <td>1386.581828</td>\n",
              "      <td>16347.418172</td>\n",
              "    </tr>\n",
              "    <tr>\n",
              "      <th>6956</th>\n",
              "      <td>-99.264105</td>\n",
              "      <td>19.331138</td>\n",
              "      <td>-99.264060</td>\n",
              "      <td>19.331467</td>\n",
              "      <td>2584</td>\n",
              "      <td>16308</td>\n",
              "      <td>394</td>\n",
              "      <td>2020</td>\n",
              "      <td>6</td>\n",
              "      <td>16</td>\n",
              "      <td>11</td>\n",
              "      <td>40</td>\n",
              "      <td>2020</td>\n",
              "      <td>6</td>\n",
              "      <td>16</td>\n",
              "      <td>12</td>\n",
              "      <td>23</td>\n",
              "      <td>36.906667</td>\n",
              "      <td>16271.093333</td>\n",
              "    </tr>\n",
              "    <tr>\n",
              "      <th>4445</th>\n",
              "      <td>-99.068696</td>\n",
              "      <td>19.330669</td>\n",
              "      <td>-99.077196</td>\n",
              "      <td>19.323025</td>\n",
              "      <td>3453</td>\n",
              "      <td>17492</td>\n",
              "      <td>871</td>\n",
              "      <td>2019</td>\n",
              "      <td>1</td>\n",
              "      <td>12</td>\n",
              "      <td>1</td>\n",
              "      <td>50</td>\n",
              "      <td>2019</td>\n",
              "      <td>1</td>\n",
              "      <td>12</td>\n",
              "      <td>2</td>\n",
              "      <td>47</td>\n",
              "      <td>1231.987450</td>\n",
              "      <td>16260.012550</td>\n",
              "    </tr>\n",
              "    <tr>\n",
              "      <th>7619</th>\n",
              "      <td>-99.061977</td>\n",
              "      <td>19.359320</td>\n",
              "      <td>-99.061962</td>\n",
              "      <td>19.359488</td>\n",
              "      <td>3347</td>\n",
              "      <td>16276</td>\n",
              "      <td>1151</td>\n",
              "      <td>2020</td>\n",
              "      <td>8</td>\n",
              "      <td>2</td>\n",
              "      <td>8</td>\n",
              "      <td>20</td>\n",
              "      <td>2020</td>\n",
              "      <td>8</td>\n",
              "      <td>2</td>\n",
              "      <td>9</td>\n",
              "      <td>16</td>\n",
              "      <td>18.815782</td>\n",
              "      <td>16257.184218</td>\n",
              "    </tr>\n",
              "    <tr>\n",
              "      <th>3960</th>\n",
              "      <td>-99.105069</td>\n",
              "      <td>19.481756</td>\n",
              "      <td>-99.093688</td>\n",
              "      <td>19.479645</td>\n",
              "      <td>4904</td>\n",
              "      <td>17337</td>\n",
              "      <td>84</td>\n",
              "      <td>2020</td>\n",
              "      <td>12</td>\n",
              "      <td>5</td>\n",
              "      <td>6</td>\n",
              "      <td>22</td>\n",
              "      <td>2020</td>\n",
              "      <td>12</td>\n",
              "      <td>5</td>\n",
              "      <td>7</td>\n",
              "      <td>44</td>\n",
              "      <td>1215.952160</td>\n",
              "      <td>16121.047840</td>\n",
              "    </tr>\n",
              "    <tr>\n",
              "      <th>6702</th>\n",
              "      <td>-99.203075</td>\n",
              "      <td>19.381140</td>\n",
              "      <td>-99.200984</td>\n",
              "      <td>19.382112</td>\n",
              "      <td>4257</td>\n",
              "      <td>16203</td>\n",
              "      <td>617</td>\n",
              "      <td>2019</td>\n",
              "      <td>12</td>\n",
              "      <td>8</td>\n",
              "      <td>7</td>\n",
              "      <td>45</td>\n",
              "      <td>2019</td>\n",
              "      <td>12</td>\n",
              "      <td>8</td>\n",
              "      <td>8</td>\n",
              "      <td>56</td>\n",
              "      <td>244.519516</td>\n",
              "      <td>15958.480484</td>\n",
              "    </tr>\n",
              "  </tbody>\n",
              "</table>\n",
              "</div>"
            ],
            "text/plain": [
              "       pickup_longitude  pickup_latitude  ...         dist  Delta_distance\n",
              "5798         -99.063179        19.354725  ...   193.393447    16837.606553\n",
              "5457         -99.125798        19.424498  ...   651.160968    16746.839032\n",
              "9720         -99.175671        19.372462  ...   440.763302    16685.236698\n",
              "6987         -99.181337        19.370107  ...   905.938509    16429.061491\n",
              "11257        -99.094086        19.477633  ...  1386.581828    16347.418172\n",
              "6956         -99.264105        19.331138  ...    36.906667    16271.093333\n",
              "4445         -99.068696        19.330669  ...  1231.987450    16260.012550\n",
              "7619         -99.061977        19.359320  ...    18.815782    16257.184218\n",
              "3960         -99.105069        19.481756  ...  1215.952160    16121.047840\n",
              "6702         -99.203075        19.381140  ...   244.519516    15958.480484\n",
              "\n",
              "[10 rows x 19 columns]"
            ]
          },
          "metadata": {},
          "execution_count": 96
        },
        {
          "output_type": "stream",
          "name": "stdout",
          "text": [
            "time: 52.9 ms (started: 2021-11-12 00:54:44 +00:00)\n"
          ]
        }
      ]
    },
    {
      "cell_type": "code",
      "metadata": {
        "colab": {
          "base_uri": "https://localhost:8080/"
        },
        "id": "1OlB8q_CsIFp",
        "outputId": "f831af17-1755-4957-97f6-752baa3bb2c6"
      },
      "source": [
        "def geo_rev(x):\n",
        "    g = geocoder.osm([x.pickup_latitude, x.pickup_longitude], method='reverse').json\n",
        "    if g:\n",
        "        return g.get('address')\n",
        "    else:\n",
        "        return 'no country'\n",
        "\n",
        "mexico_busyAreas['pickup_address1'] = mexico_busyAreas[['pickup_latitude', 'pickup_longitude']].apply(geo_rev, axis=1)\n"
      ],
      "execution_count": 97,
      "outputs": [
        {
          "output_type": "stream",
          "name": "stdout",
          "text": [
            "time: 4.8 s (started: 2021-11-12 00:54:44 +00:00)\n"
          ]
        }
      ]
    },
    {
      "cell_type": "code",
      "metadata": {
        "colab": {
          "base_uri": "https://localhost:8080/"
        },
        "id": "tKpDWnSCt7ej",
        "outputId": "e9a5a3d8-da0c-4a5c-89a5-0ebc04c767b0"
      },
      "source": [
        "def geo_rev(x):\n",
        "    g = geocoder.osm([x.dropoff_latitude, x.dropoff_longitude], method='reverse').json\n",
        "    if g:\n",
        "        return g.get('address')\n",
        "    else:\n",
        "        return 'no country'\n",
        "\n",
        "mexico_busyAreas['dropoff_address2'] = mexico_busyAreas[['dropoff_latitude', 'dropoff_longitude']].apply(geo_rev, axis=1)\n"
      ],
      "execution_count": 98,
      "outputs": [
        {
          "output_type": "stream",
          "name": "stdout",
          "text": [
            "time: 4.99 s (started: 2021-11-12 00:54:49 +00:00)\n"
          ]
        }
      ]
    },
    {
      "cell_type": "code",
      "metadata": {
        "colab": {
          "base_uri": "https://localhost:8080/",
          "height": 458
        },
        "id": "U7huHaGOuQ0O",
        "outputId": "66575973-7e16-4d60-aa26-64c2371ef0e5"
      },
      "source": [
        "mexico_busyAreas.head()"
      ],
      "execution_count": 99,
      "outputs": [
        {
          "output_type": "execute_result",
          "data": {
            "text/html": [
              "<div>\n",
              "<style scoped>\n",
              "    .dataframe tbody tr th:only-of-type {\n",
              "        vertical-align: middle;\n",
              "    }\n",
              "\n",
              "    .dataframe tbody tr th {\n",
              "        vertical-align: top;\n",
              "    }\n",
              "\n",
              "    .dataframe thead th {\n",
              "        text-align: right;\n",
              "    }\n",
              "</style>\n",
              "<table border=\"1\" class=\"dataframe\">\n",
              "  <thead>\n",
              "    <tr style=\"text-align: right;\">\n",
              "      <th></th>\n",
              "      <th>pickup_longitude</th>\n",
              "      <th>pickup_latitude</th>\n",
              "      <th>dropoff_longitude</th>\n",
              "      <th>dropoff_latitude</th>\n",
              "      <th>trip_duration</th>\n",
              "      <th>dist_meters</th>\n",
              "      <th>wait_sec</th>\n",
              "      <th>Pickup_year</th>\n",
              "      <th>pickup_month</th>\n",
              "      <th>pickup_day</th>\n",
              "      <th>pickup_Hour</th>\n",
              "      <th>pickup_minute</th>\n",
              "      <th>dropoff_year</th>\n",
              "      <th>dropoff_month</th>\n",
              "      <th>dropoff_day</th>\n",
              "      <th>dropoff_Hour</th>\n",
              "      <th>dropoff_minute</th>\n",
              "      <th>dist</th>\n",
              "      <th>Delta_distance</th>\n",
              "      <th>pickup_address1</th>\n",
              "      <th>dropoff_address2</th>\n",
              "    </tr>\n",
              "  </thead>\n",
              "  <tbody>\n",
              "    <tr>\n",
              "      <th>5798</th>\n",
              "      <td>-99.063179</td>\n",
              "      <td>19.354725</td>\n",
              "      <td>-99.062817</td>\n",
              "      <td>19.356430</td>\n",
              "      <td>2652</td>\n",
              "      <td>17031</td>\n",
              "      <td>732</td>\n",
              "      <td>2019</td>\n",
              "      <td>12</td>\n",
              "      <td>29</td>\n",
              "      <td>7</td>\n",
              "      <td>42</td>\n",
              "      <td>2019</td>\n",
              "      <td>12</td>\n",
              "      <td>29</td>\n",
              "      <td>8</td>\n",
              "      <td>26</td>\n",
              "      <td>193.393447</td>\n",
              "      <td>16837.606553</td>\n",
              "      <td>Calle Universidad, Unidad Habitacional Plutarc...</td>\n",
              "      <td>3, Calle Universidad, Unidad Habitacional Plut...</td>\n",
              "    </tr>\n",
              "    <tr>\n",
              "      <th>5457</th>\n",
              "      <td>-99.125798</td>\n",
              "      <td>19.424498</td>\n",
              "      <td>-99.129366</td>\n",
              "      <td>19.429291</td>\n",
              "      <td>4461</td>\n",
              "      <td>17398</td>\n",
              "      <td>882</td>\n",
              "      <td>2019</td>\n",
              "      <td>12</td>\n",
              "      <td>13</td>\n",
              "      <td>5</td>\n",
              "      <td>5</td>\n",
              "      <td>2019</td>\n",
              "      <td>12</td>\n",
              "      <td>13</td>\n",
              "      <td>6</td>\n",
              "      <td>20</td>\n",
              "      <td>651.160968</td>\n",
              "      <td>16746.839032</td>\n",
              "      <td>Merced, Anillo de Circunvalación, Unidad Cande...</td>\n",
              "      <td>Calle las Cruces, Centro Urbano, Cuauhtémoc, C...</td>\n",
              "    </tr>\n",
              "    <tr>\n",
              "      <th>9720</th>\n",
              "      <td>-99.175671</td>\n",
              "      <td>19.372462</td>\n",
              "      <td>-99.179091</td>\n",
              "      <td>19.370159</td>\n",
              "      <td>2529</td>\n",
              "      <td>17126</td>\n",
              "      <td>891</td>\n",
              "      <td>2019</td>\n",
              "      <td>10</td>\n",
              "      <td>12</td>\n",
              "      <td>1</td>\n",
              "      <td>41</td>\n",
              "      <td>2019</td>\n",
              "      <td>10</td>\n",
              "      <td>12</td>\n",
              "      <td>2</td>\n",
              "      <td>23</td>\n",
              "      <td>440.763302</td>\n",
              "      <td>16685.236698</td>\n",
              "      <td>301, Félix Cuevas, Centro Urbano Presidente Al...</td>\n",
              "      <td>Calle Tigre, Actipan, Ciudad de México, 03230,...</td>\n",
              "    </tr>\n",
              "    <tr>\n",
              "      <th>6987</th>\n",
              "      <td>-99.181337</td>\n",
              "      <td>19.370107</td>\n",
              "      <td>-99.175969</td>\n",
              "      <td>19.363725</td>\n",
              "      <td>1763</td>\n",
              "      <td>17335</td>\n",
              "      <td>493</td>\n",
              "      <td>2020</td>\n",
              "      <td>1</td>\n",
              "      <td>25</td>\n",
              "      <td>3</td>\n",
              "      <td>6</td>\n",
              "      <td>2020</td>\n",
              "      <td>1</td>\n",
              "      <td>25</td>\n",
              "      <td>3</td>\n",
              "      <td>36</td>\n",
              "      <td>905.938509</td>\n",
              "      <td>16429.061491</td>\n",
              "      <td>34, Calle Murcia, Colonia Insurgentes Mixcoac,...</td>\n",
              "      <td>206, Avenida Río Mixcoac, Colonia Acacias, Ben...</td>\n",
              "    </tr>\n",
              "    <tr>\n",
              "      <th>11257</th>\n",
              "      <td>-99.094086</td>\n",
              "      <td>19.477633</td>\n",
              "      <td>-99.107261</td>\n",
              "      <td>19.478733</td>\n",
              "      <td>3151</td>\n",
              "      <td>17734</td>\n",
              "      <td>52</td>\n",
              "      <td>2020</td>\n",
              "      <td>3</td>\n",
              "      <td>7</td>\n",
              "      <td>7</td>\n",
              "      <td>2</td>\n",
              "      <td>2020</td>\n",
              "      <td>3</td>\n",
              "      <td>7</td>\n",
              "      <td>7</td>\n",
              "      <td>54</td>\n",
              "      <td>1386.581828</td>\n",
              "      <td>16347.418172</td>\n",
              "      <td>Frente a Office Depot, Calzada San Juan de Ara...</td>\n",
              "      <td>Calle Pelícano, Colonia Ampliación San Juan de...</td>\n",
              "    </tr>\n",
              "  </tbody>\n",
              "</table>\n",
              "</div>"
            ],
            "text/plain": [
              "       pickup_longitude  ...                                   dropoff_address2\n",
              "5798         -99.063179  ...  3, Calle Universidad, Unidad Habitacional Plut...\n",
              "5457         -99.125798  ...  Calle las Cruces, Centro Urbano, Cuauhtémoc, C...\n",
              "9720         -99.175671  ...  Calle Tigre, Actipan, Ciudad de México, 03230,...\n",
              "6987         -99.181337  ...  206, Avenida Río Mixcoac, Colonia Acacias, Ben...\n",
              "11257        -99.094086  ...  Calle Pelícano, Colonia Ampliación San Juan de...\n",
              "\n",
              "[5 rows x 21 columns]"
            ]
          },
          "metadata": {},
          "execution_count": 99
        },
        {
          "output_type": "stream",
          "name": "stdout",
          "text": [
            "time: 52.2 ms (started: 2021-11-12 00:54:54 +00:00)\n"
          ]
        }
      ]
    },
    {
      "cell_type": "code",
      "metadata": {
        "colab": {
          "base_uri": "https://localhost:8080/"
        },
        "id": "zx0LI_3At7Wb",
        "outputId": "0d65be34-6ce3-4a80-81a6-965a65b371c8"
      },
      "source": [
        "Busy_area_names3 = [x for x in mexico_busyAreas.pickup_address1]\n",
        "Busy_area_names4 = [x for x in mexico_busyAreas.dropoff_address2]"
      ],
      "execution_count": 100,
      "outputs": [
        {
          "output_type": "stream",
          "name": "stdout",
          "text": [
            "time: 2.83 ms (started: 2021-11-12 00:54:54 +00:00)\n"
          ]
        }
      ]
    },
    {
      "cell_type": "code",
      "metadata": {
        "colab": {
          "base_uri": "https://localhost:8080/"
        },
        "id": "YZM8CSK7t7Nw",
        "outputId": "3d293237-071d-4948-90ed-1cffc3973db2"
      },
      "source": [
        "print(Busy_area_names1 ,'+',Busy_area_names2,)\n"
      ],
      "execution_count": 101,
      "outputs": [
        {
          "output_type": "stream",
          "name": "stdout",
          "text": [
            "['Librería San Pablo, Transversal 60, UPZ Niza, Localidad Suba, Bogotá, Bogotá Distrito Capital, 111121, Colombia', 'Nevada suites, Calle 61A, San Luis, UPZ Galerías, Localidad Teusaquillo, Bogotá, Bogotá Distrito Capital, 111311, Colombia', 'Alimentador (2.7 San Jose), Avenida Calle 170, UPZ Britalia, Localidad Suba, Bogotá, Bogotá Distrito Capital, 111156, Colombia', 'Jesuscristo es la Señor Universal, Carrera 16, San Luis, UPZ Galerías, Localidad Teusaquillo, Bogotá, Bogotá Distrito Capital, 111311, Colombia', 'Patio Portal Norte, Calle 182, Nueva Zelandia, UPZ San José de Bavaria, Localidad Suba, Bogotá, Bogotá Distrito Capital, 111166, Colombia', \"Domino's, Carrera 49B, Nueva Zelandia, UPZ San José de Bavaria, Localidad Suba, Bogotá, Bogotá Distrito Capital, 111166, Colombia\", 'Kmila Sarz Peluquería, Transversal 60, UPZ Niza, Localidad Suba, Bogotá, Bogotá Distrito Capital, 111121, Colombia', 'Terpel, Avenida Carrera 7, UPZ Verbenal, Localidad Usaquén, Bogotá, Bogotá Distrito Capital, 110141, Colombia', 'Carrera 119A, La Faena, UPZ Engativá, Localidad Engativá, Bogotá, Bogotá Distrito Capital, 111031, Colombia', 'Alimentador (2.7 San Jose), Avenida Calle 170, UPZ Britalia, Localidad Suba, Bogotá, Bogotá Distrito Capital, 111156, Colombia'] + ['Librería San Pablo, Transversal 60, UPZ Niza, Localidad Suba, Bogotá, Bogotá Distrito Capital, 111121, Colombia', 'Nevada suites, Calle 61A, San Luis, UPZ Galerías, Localidad Teusaquillo, Bogotá, Bogotá Distrito Capital, 111311, Colombia', 'Alimentador (2.7 San Jose), Avenida Calle 170, UPZ Britalia, Localidad Suba, Bogotá, Bogotá Distrito Capital, 111156, Colombia', 'Nevada suites, Calle 61A, San Luis, UPZ Galerías, Localidad Teusaquillo, Bogotá, Bogotá Distrito Capital, 111311, Colombia', 'Carrera 50C, Aticos De La Sabana 2, Localidad Suba, Bogotá, Bogotá Distrito Capital, 111166, Colombia', 'Carrera 23 Bis, Maranta, UPZ Verbenal, Localidad Usaquén, Bogotá, Bogotá Distrito Capital, 110141, Colombia', 'Max International, Transversal 60, UPZ Niza, Localidad Suba, Bogotá, Bogotá Distrito Capital, 111121, Colombia', 'Carrera 6B, Tibabita, UPZ Verbenal, Localidad Usaquén, Bogotá, Bogotá Distrito Capital, 110141, Colombia', 'Carrera 119A, La Faena, UPZ Engativá, Localidad Engativá, Bogotá, Bogotá Distrito Capital, 111031, Colombia', 'Alimentador (2.7 San Jose), Avenida Calle 170, UPZ Britalia, Localidad Suba, Bogotá, Bogotá Distrito Capital, 111156, Colombia']\n",
            "time: 3.11 ms (started: 2021-11-12 00:54:54 +00:00)\n"
          ]
        }
      ]
    },
    {
      "cell_type": "markdown",
      "metadata": {
        "id": "WivcREmEwNdT"
      },
      "source": [
        "## 3) Quito City Busy Areas"
      ]
    },
    {
      "cell_type": "code",
      "metadata": {
        "colab": {
          "base_uri": "https://localhost:8080/"
        },
        "id": "VRZ0dgHIwZuK",
        "outputId": "c3fb6452-0cc6-4990-efb8-78202abf252d"
      },
      "source": [
        "def haversine(lat1, lon1, lat2, lon2, to_radians=True, earth_radius=6371):\n",
        "    \"\"\"\n",
        "    slightly modified version: of http://stackoverflow.com/a/29546836/2901002\n",
        "\n",
        "    Calculate the great circle distance between two points\n",
        "    on the earth (specified in decimal degrees or in radians)\n",
        "\n",
        "    All (lat, lon) coordinates must have numeric dtypes and be of equal length.\n",
        "\n",
        "    \"\"\"\n",
        "    if to_radians:\n",
        "        lat1, lon1, lat2, lon2 = np.radians([lat1, lon1, lat2, lon2])\n",
        "\n",
        "    a = np.sin((lat2-lat1)/2.0)**2 + \\\n",
        "        np.cos(lat1) * np.cos(lat2) * np.sin((lon2-lon1)/2.0)**2\n",
        "\n",
        "    meters = (earth_radius * 2 * np.arcsin(np.sqrt(a))) * 1000\n",
        "    return meters\n",
        "\n",
        "\n",
        "quito_df_out['dist'] = \\\n",
        "    haversine(quito_df_out.pickup_latitude, quito_df_out.pickup_longitude,\n",
        "                   quito_df_out.dropoff_latitude, quito_df_out.dropoff_longitude)\n"
      ],
      "execution_count": 102,
      "outputs": [
        {
          "output_type": "stream",
          "name": "stdout",
          "text": [
            "time: 19.6 ms (started: 2021-11-12 00:54:54 +00:00)\n"
          ]
        }
      ]
    },
    {
      "cell_type": "code",
      "metadata": {
        "colab": {
          "base_uri": "https://localhost:8080/",
          "height": 454
        },
        "id": "sQZnX5D8t66z",
        "outputId": "95bf476d-978e-476b-e142-e0d9d3ebffd1"
      },
      "source": [
        "quito_df_out"
      ],
      "execution_count": 103,
      "outputs": [
        {
          "output_type": "execute_result",
          "data": {
            "text/html": [
              "<div>\n",
              "<style scoped>\n",
              "    .dataframe tbody tr th:only-of-type {\n",
              "        vertical-align: middle;\n",
              "    }\n",
              "\n",
              "    .dataframe tbody tr th {\n",
              "        vertical-align: top;\n",
              "    }\n",
              "\n",
              "    .dataframe thead th {\n",
              "        text-align: right;\n",
              "    }\n",
              "</style>\n",
              "<table border=\"1\" class=\"dataframe\">\n",
              "  <thead>\n",
              "    <tr style=\"text-align: right;\">\n",
              "      <th></th>\n",
              "      <th>pickup_longitude</th>\n",
              "      <th>pickup_latitude</th>\n",
              "      <th>dropoff_longitude</th>\n",
              "      <th>dropoff_latitude</th>\n",
              "      <th>trip_duration</th>\n",
              "      <th>dist_meters</th>\n",
              "      <th>wait_sec</th>\n",
              "      <th>Pickup_year</th>\n",
              "      <th>pickup_month</th>\n",
              "      <th>pickup_day</th>\n",
              "      <th>pickup_Hour</th>\n",
              "      <th>pickup_minute</th>\n",
              "      <th>dropoff_year</th>\n",
              "      <th>dropoff_month</th>\n",
              "      <th>dropoff_day</th>\n",
              "      <th>dropoff_Hour</th>\n",
              "      <th>dropoff_minute</th>\n",
              "      <th>dist</th>\n",
              "    </tr>\n",
              "  </thead>\n",
              "  <tbody>\n",
              "    <tr>\n",
              "      <th>4</th>\n",
              "      <td>-78.521818</td>\n",
              "      <td>-0.208480</td>\n",
              "      <td>-78.504558</td>\n",
              "      <td>-0.222462</td>\n",
              "      <td>948</td>\n",
              "      <td>4625</td>\n",
              "      <td>314</td>\n",
              "      <td>2019</td>\n",
              "      <td>9</td>\n",
              "      <td>18</td>\n",
              "      <td>7</td>\n",
              "      <td>58</td>\n",
              "      <td>2019</td>\n",
              "      <td>9</td>\n",
              "      <td>18</td>\n",
              "      <td>8</td>\n",
              "      <td>14</td>\n",
              "      <td>2470.005918</td>\n",
              "    </tr>\n",
              "    <tr>\n",
              "      <th>5</th>\n",
              "      <td>-78.509202</td>\n",
              "      <td>-0.194839</td>\n",
              "      <td>-78.518764</td>\n",
              "      <td>-0.228794</td>\n",
              "      <td>1510</td>\n",
              "      <td>5820</td>\n",
              "      <td>630</td>\n",
              "      <td>2019</td>\n",
              "      <td>8</td>\n",
              "      <td>27</td>\n",
              "      <td>4</td>\n",
              "      <td>19</td>\n",
              "      <td>2019</td>\n",
              "      <td>8</td>\n",
              "      <td>27</td>\n",
              "      <td>4</td>\n",
              "      <td>44</td>\n",
              "      <td>3922.541858</td>\n",
              "    </tr>\n",
              "    <tr>\n",
              "      <th>6</th>\n",
              "      <td>-78.481542</td>\n",
              "      <td>-0.154317</td>\n",
              "      <td>-78.518420</td>\n",
              "      <td>-0.191547</td>\n",
              "      <td>1341</td>\n",
              "      <td>7593</td>\n",
              "      <td>510</td>\n",
              "      <td>2019</td>\n",
              "      <td>9</td>\n",
              "      <td>18</td>\n",
              "      <td>10</td>\n",
              "      <td>8</td>\n",
              "      <td>2019</td>\n",
              "      <td>9</td>\n",
              "      <td>18</td>\n",
              "      <td>10</td>\n",
              "      <td>31</td>\n",
              "      <td>5826.980604</td>\n",
              "    </tr>\n",
              "    <tr>\n",
              "      <th>9</th>\n",
              "      <td>-78.497122</td>\n",
              "      <td>-0.200376</td>\n",
              "      <td>-78.499757</td>\n",
              "      <td>-0.207293</td>\n",
              "      <td>109</td>\n",
              "      <td>827</td>\n",
              "      <td>29</td>\n",
              "      <td>2019</td>\n",
              "      <td>9</td>\n",
              "      <td>18</td>\n",
              "      <td>12</td>\n",
              "      <td>21</td>\n",
              "      <td>2019</td>\n",
              "      <td>9</td>\n",
              "      <td>18</td>\n",
              "      <td>12</td>\n",
              "      <td>23</td>\n",
              "      <td>823.075648</td>\n",
              "    </tr>\n",
              "    <tr>\n",
              "      <th>10</th>\n",
              "      <td>-78.499770</td>\n",
              "      <td>-0.207324</td>\n",
              "      <td>-78.506766</td>\n",
              "      <td>-0.226037</td>\n",
              "      <td>495</td>\n",
              "      <td>2549</td>\n",
              "      <td>129</td>\n",
              "      <td>2019</td>\n",
              "      <td>9</td>\n",
              "      <td>18</td>\n",
              "      <td>12</td>\n",
              "      <td>23</td>\n",
              "      <td>2019</td>\n",
              "      <td>9</td>\n",
              "      <td>18</td>\n",
              "      <td>12</td>\n",
              "      <td>31</td>\n",
              "      <td>2221.353695</td>\n",
              "    </tr>\n",
              "    <tr>\n",
              "      <th>...</th>\n",
              "      <td>...</td>\n",
              "      <td>...</td>\n",
              "      <td>...</td>\n",
              "      <td>...</td>\n",
              "      <td>...</td>\n",
              "      <td>...</td>\n",
              "      <td>...</td>\n",
              "      <td>...</td>\n",
              "      <td>...</td>\n",
              "      <td>...</td>\n",
              "      <td>...</td>\n",
              "      <td>...</td>\n",
              "      <td>...</td>\n",
              "      <td>...</td>\n",
              "      <td>...</td>\n",
              "      <td>...</td>\n",
              "      <td>...</td>\n",
              "      <td>...</td>\n",
              "    </tr>\n",
              "    <tr>\n",
              "      <th>32354</th>\n",
              "      <td>-78.485572</td>\n",
              "      <td>-0.175184</td>\n",
              "      <td>-78.481642</td>\n",
              "      <td>-0.131266</td>\n",
              "      <td>1262</td>\n",
              "      <td>5640</td>\n",
              "      <td>490</td>\n",
              "      <td>2019</td>\n",
              "      <td>10</td>\n",
              "      <td>27</td>\n",
              "      <td>7</td>\n",
              "      <td>7</td>\n",
              "      <td>2019</td>\n",
              "      <td>10</td>\n",
              "      <td>27</td>\n",
              "      <td>7</td>\n",
              "      <td>28</td>\n",
              "      <td>4902.968544</td>\n",
              "    </tr>\n",
              "    <tr>\n",
              "      <th>32355</th>\n",
              "      <td>-78.479990</td>\n",
              "      <td>-0.180065</td>\n",
              "      <td>-78.480127</td>\n",
              "      <td>-0.200695</td>\n",
              "      <td>1620</td>\n",
              "      <td>5890</td>\n",
              "      <td>765</td>\n",
              "      <td>2019</td>\n",
              "      <td>10</td>\n",
              "      <td>27</td>\n",
              "      <td>7</td>\n",
              "      <td>16</td>\n",
              "      <td>2019</td>\n",
              "      <td>10</td>\n",
              "      <td>27</td>\n",
              "      <td>7</td>\n",
              "      <td>43</td>\n",
              "      <td>2293.992238</td>\n",
              "    </tr>\n",
              "    <tr>\n",
              "      <th>32356</th>\n",
              "      <td>-78.478655</td>\n",
              "      <td>-0.202216</td>\n",
              "      <td>-78.492082</td>\n",
              "      <td>-0.206812</td>\n",
              "      <td>788</td>\n",
              "      <td>3031</td>\n",
              "      <td>329</td>\n",
              "      <td>2019</td>\n",
              "      <td>10</td>\n",
              "      <td>27</td>\n",
              "      <td>7</td>\n",
              "      <td>44</td>\n",
              "      <td>2019</td>\n",
              "      <td>10</td>\n",
              "      <td>27</td>\n",
              "      <td>7</td>\n",
              "      <td>57</td>\n",
              "      <td>1578.124611</td>\n",
              "    </tr>\n",
              "    <tr>\n",
              "      <th>32357</th>\n",
              "      <td>-78.486512</td>\n",
              "      <td>-0.202303</td>\n",
              "      <td>-78.479049</td>\n",
              "      <td>-0.185181</td>\n",
              "      <td>375</td>\n",
              "      <td>2114</td>\n",
              "      <td>159</td>\n",
              "      <td>2019</td>\n",
              "      <td>10</td>\n",
              "      <td>27</td>\n",
              "      <td>8</td>\n",
              "      <td>1</td>\n",
              "      <td>2019</td>\n",
              "      <td>10</td>\n",
              "      <td>27</td>\n",
              "      <td>8</td>\n",
              "      <td>8</td>\n",
              "      <td>2076.932932</td>\n",
              "    </tr>\n",
              "    <tr>\n",
              "      <th>32358</th>\n",
              "      <td>-78.534627</td>\n",
              "      <td>-0.246426</td>\n",
              "      <td>-78.489772</td>\n",
              "      <td>-0.209125</td>\n",
              "      <td>3223</td>\n",
              "      <td>9820</td>\n",
              "      <td>875</td>\n",
              "      <td>2019</td>\n",
              "      <td>10</td>\n",
              "      <td>27</td>\n",
              "      <td>7</td>\n",
              "      <td>32</td>\n",
              "      <td>2019</td>\n",
              "      <td>10</td>\n",
              "      <td>27</td>\n",
              "      <td>8</td>\n",
              "      <td>26</td>\n",
              "      <td>6486.803151</td>\n",
              "    </tr>\n",
              "  </tbody>\n",
              "</table>\n",
              "<p>23024 rows × 18 columns</p>\n",
              "</div>"
            ],
            "text/plain": [
              "       pickup_longitude  pickup_latitude  ...  dropoff_minute         dist\n",
              "4            -78.521818        -0.208480  ...              14  2470.005918\n",
              "5            -78.509202        -0.194839  ...              44  3922.541858\n",
              "6            -78.481542        -0.154317  ...              31  5826.980604\n",
              "9            -78.497122        -0.200376  ...              23   823.075648\n",
              "10           -78.499770        -0.207324  ...              31  2221.353695\n",
              "...                 ...              ...  ...             ...          ...\n",
              "32354        -78.485572        -0.175184  ...              28  4902.968544\n",
              "32355        -78.479990        -0.180065  ...              43  2293.992238\n",
              "32356        -78.478655        -0.202216  ...              57  1578.124611\n",
              "32357        -78.486512        -0.202303  ...               8  2076.932932\n",
              "32358        -78.534627        -0.246426  ...              26  6486.803151\n",
              "\n",
              "[23024 rows x 18 columns]"
            ]
          },
          "metadata": {},
          "execution_count": 103
        },
        {
          "output_type": "stream",
          "name": "stdout",
          "text": [
            "time: 45.9 ms (started: 2021-11-12 00:54:54 +00:00)\n"
          ]
        }
      ]
    },
    {
      "cell_type": "code",
      "metadata": {
        "colab": {
          "base_uri": "https://localhost:8080/",
          "height": 240
        },
        "id": "ImbpeRqTw4l-",
        "outputId": "98be53ed-5901-4200-fd71-0a7237379b76"
      },
      "source": [
        "quito_df_out['Delta_distance'] = quito_df_out['dist_meters'] - quito_df_out['dist'] \n",
        "quito_df_out.head()"
      ],
      "execution_count": 104,
      "outputs": [
        {
          "output_type": "execute_result",
          "data": {
            "text/html": [
              "<div>\n",
              "<style scoped>\n",
              "    .dataframe tbody tr th:only-of-type {\n",
              "        vertical-align: middle;\n",
              "    }\n",
              "\n",
              "    .dataframe tbody tr th {\n",
              "        vertical-align: top;\n",
              "    }\n",
              "\n",
              "    .dataframe thead th {\n",
              "        text-align: right;\n",
              "    }\n",
              "</style>\n",
              "<table border=\"1\" class=\"dataframe\">\n",
              "  <thead>\n",
              "    <tr style=\"text-align: right;\">\n",
              "      <th></th>\n",
              "      <th>pickup_longitude</th>\n",
              "      <th>pickup_latitude</th>\n",
              "      <th>dropoff_longitude</th>\n",
              "      <th>dropoff_latitude</th>\n",
              "      <th>trip_duration</th>\n",
              "      <th>dist_meters</th>\n",
              "      <th>wait_sec</th>\n",
              "      <th>Pickup_year</th>\n",
              "      <th>pickup_month</th>\n",
              "      <th>pickup_day</th>\n",
              "      <th>pickup_Hour</th>\n",
              "      <th>pickup_minute</th>\n",
              "      <th>dropoff_year</th>\n",
              "      <th>dropoff_month</th>\n",
              "      <th>dropoff_day</th>\n",
              "      <th>dropoff_Hour</th>\n",
              "      <th>dropoff_minute</th>\n",
              "      <th>dist</th>\n",
              "      <th>Delta_distance</th>\n",
              "    </tr>\n",
              "  </thead>\n",
              "  <tbody>\n",
              "    <tr>\n",
              "      <th>4</th>\n",
              "      <td>-78.521818</td>\n",
              "      <td>-0.208480</td>\n",
              "      <td>-78.504558</td>\n",
              "      <td>-0.222462</td>\n",
              "      <td>948</td>\n",
              "      <td>4625</td>\n",
              "      <td>314</td>\n",
              "      <td>2019</td>\n",
              "      <td>9</td>\n",
              "      <td>18</td>\n",
              "      <td>7</td>\n",
              "      <td>58</td>\n",
              "      <td>2019</td>\n",
              "      <td>9</td>\n",
              "      <td>18</td>\n",
              "      <td>8</td>\n",
              "      <td>14</td>\n",
              "      <td>2470.005918</td>\n",
              "      <td>2154.994082</td>\n",
              "    </tr>\n",
              "    <tr>\n",
              "      <th>5</th>\n",
              "      <td>-78.509202</td>\n",
              "      <td>-0.194839</td>\n",
              "      <td>-78.518764</td>\n",
              "      <td>-0.228794</td>\n",
              "      <td>1510</td>\n",
              "      <td>5820</td>\n",
              "      <td>630</td>\n",
              "      <td>2019</td>\n",
              "      <td>8</td>\n",
              "      <td>27</td>\n",
              "      <td>4</td>\n",
              "      <td>19</td>\n",
              "      <td>2019</td>\n",
              "      <td>8</td>\n",
              "      <td>27</td>\n",
              "      <td>4</td>\n",
              "      <td>44</td>\n",
              "      <td>3922.541858</td>\n",
              "      <td>1897.458142</td>\n",
              "    </tr>\n",
              "    <tr>\n",
              "      <th>6</th>\n",
              "      <td>-78.481542</td>\n",
              "      <td>-0.154317</td>\n",
              "      <td>-78.518420</td>\n",
              "      <td>-0.191547</td>\n",
              "      <td>1341</td>\n",
              "      <td>7593</td>\n",
              "      <td>510</td>\n",
              "      <td>2019</td>\n",
              "      <td>9</td>\n",
              "      <td>18</td>\n",
              "      <td>10</td>\n",
              "      <td>8</td>\n",
              "      <td>2019</td>\n",
              "      <td>9</td>\n",
              "      <td>18</td>\n",
              "      <td>10</td>\n",
              "      <td>31</td>\n",
              "      <td>5826.980604</td>\n",
              "      <td>1766.019396</td>\n",
              "    </tr>\n",
              "    <tr>\n",
              "      <th>9</th>\n",
              "      <td>-78.497122</td>\n",
              "      <td>-0.200376</td>\n",
              "      <td>-78.499757</td>\n",
              "      <td>-0.207293</td>\n",
              "      <td>109</td>\n",
              "      <td>827</td>\n",
              "      <td>29</td>\n",
              "      <td>2019</td>\n",
              "      <td>9</td>\n",
              "      <td>18</td>\n",
              "      <td>12</td>\n",
              "      <td>21</td>\n",
              "      <td>2019</td>\n",
              "      <td>9</td>\n",
              "      <td>18</td>\n",
              "      <td>12</td>\n",
              "      <td>23</td>\n",
              "      <td>823.075648</td>\n",
              "      <td>3.924352</td>\n",
              "    </tr>\n",
              "    <tr>\n",
              "      <th>10</th>\n",
              "      <td>-78.499770</td>\n",
              "      <td>-0.207324</td>\n",
              "      <td>-78.506766</td>\n",
              "      <td>-0.226037</td>\n",
              "      <td>495</td>\n",
              "      <td>2549</td>\n",
              "      <td>129</td>\n",
              "      <td>2019</td>\n",
              "      <td>9</td>\n",
              "      <td>18</td>\n",
              "      <td>12</td>\n",
              "      <td>23</td>\n",
              "      <td>2019</td>\n",
              "      <td>9</td>\n",
              "      <td>18</td>\n",
              "      <td>12</td>\n",
              "      <td>31</td>\n",
              "      <td>2221.353695</td>\n",
              "      <td>327.646305</td>\n",
              "    </tr>\n",
              "  </tbody>\n",
              "</table>\n",
              "</div>"
            ],
            "text/plain": [
              "    pickup_longitude  pickup_latitude  ...         dist  Delta_distance\n",
              "4         -78.521818        -0.208480  ...  2470.005918     2154.994082\n",
              "5         -78.509202        -0.194839  ...  3922.541858     1897.458142\n",
              "6         -78.481542        -0.154317  ...  5826.980604     1766.019396\n",
              "9         -78.497122        -0.200376  ...   823.075648        3.924352\n",
              "10        -78.499770        -0.207324  ...  2221.353695      327.646305\n",
              "\n",
              "[5 rows x 19 columns]"
            ]
          },
          "metadata": {},
          "execution_count": 104
        },
        {
          "output_type": "stream",
          "name": "stdout",
          "text": [
            "time: 41.9 ms (started: 2021-11-12 00:54:54 +00:00)\n"
          ]
        }
      ]
    },
    {
      "cell_type": "code",
      "metadata": {
        "colab": {
          "base_uri": "https://localhost:8080/",
          "height": 394
        },
        "id": "waoMmjbFw5BK",
        "outputId": "bd85e060-8038-4c7c-8552-c1b37892a2d1"
      },
      "source": [
        "quito_busyAeas = quito_df_out.nlargest(10,['Delta_distance'])\n",
        "quito_busyAeas"
      ],
      "execution_count": 105,
      "outputs": [
        {
          "output_type": "execute_result",
          "data": {
            "text/html": [
              "<div>\n",
              "<style scoped>\n",
              "    .dataframe tbody tr th:only-of-type {\n",
              "        vertical-align: middle;\n",
              "    }\n",
              "\n",
              "    .dataframe tbody tr th {\n",
              "        vertical-align: top;\n",
              "    }\n",
              "\n",
              "    .dataframe thead th {\n",
              "        text-align: right;\n",
              "    }\n",
              "</style>\n",
              "<table border=\"1\" class=\"dataframe\">\n",
              "  <thead>\n",
              "    <tr style=\"text-align: right;\">\n",
              "      <th></th>\n",
              "      <th>pickup_longitude</th>\n",
              "      <th>pickup_latitude</th>\n",
              "      <th>dropoff_longitude</th>\n",
              "      <th>dropoff_latitude</th>\n",
              "      <th>trip_duration</th>\n",
              "      <th>dist_meters</th>\n",
              "      <th>wait_sec</th>\n",
              "      <th>Pickup_year</th>\n",
              "      <th>pickup_month</th>\n",
              "      <th>pickup_day</th>\n",
              "      <th>pickup_Hour</th>\n",
              "      <th>pickup_minute</th>\n",
              "      <th>dropoff_year</th>\n",
              "      <th>dropoff_month</th>\n",
              "      <th>dropoff_day</th>\n",
              "      <th>dropoff_Hour</th>\n",
              "      <th>dropoff_minute</th>\n",
              "      <th>dist</th>\n",
              "      <th>Delta_distance</th>\n",
              "    </tr>\n",
              "  </thead>\n",
              "  <tbody>\n",
              "    <tr>\n",
              "      <th>27979</th>\n",
              "      <td>-78.457097</td>\n",
              "      <td>-0.096579</td>\n",
              "      <td>-78.457246</td>\n",
              "      <td>-0.096576</td>\n",
              "      <td>1864</td>\n",
              "      <td>15305</td>\n",
              "      <td>460</td>\n",
              "      <td>2020</td>\n",
              "      <td>6</td>\n",
              "      <td>18</td>\n",
              "      <td>12</td>\n",
              "      <td>5</td>\n",
              "      <td>2020</td>\n",
              "      <td>6</td>\n",
              "      <td>18</td>\n",
              "      <td>12</td>\n",
              "      <td>36</td>\n",
              "      <td>16.478087</td>\n",
              "      <td>15288.521913</td>\n",
              "    </tr>\n",
              "    <tr>\n",
              "      <th>30829</th>\n",
              "      <td>-78.503934</td>\n",
              "      <td>-0.145286</td>\n",
              "      <td>-78.505168</td>\n",
              "      <td>-0.145493</td>\n",
              "      <td>2389</td>\n",
              "      <td>15280</td>\n",
              "      <td>1042</td>\n",
              "      <td>2019</td>\n",
              "      <td>8</td>\n",
              "      <td>29</td>\n",
              "      <td>8</td>\n",
              "      <td>38</td>\n",
              "      <td>2019</td>\n",
              "      <td>8</td>\n",
              "      <td>29</td>\n",
              "      <td>9</td>\n",
              "      <td>18</td>\n",
              "      <td>139.202326</td>\n",
              "      <td>15140.797674</td>\n",
              "    </tr>\n",
              "    <tr>\n",
              "      <th>27274</th>\n",
              "      <td>-78.508343</td>\n",
              "      <td>-0.237062</td>\n",
              "      <td>-78.506877</td>\n",
              "      <td>-0.237520</td>\n",
              "      <td>1626</td>\n",
              "      <td>14988</td>\n",
              "      <td>319</td>\n",
              "      <td>2019</td>\n",
              "      <td>8</td>\n",
              "      <td>17</td>\n",
              "      <td>10</td>\n",
              "      <td>15</td>\n",
              "      <td>2019</td>\n",
              "      <td>8</td>\n",
              "      <td>17</td>\n",
              "      <td>10</td>\n",
              "      <td>42</td>\n",
              "      <td>170.770977</td>\n",
              "      <td>14817.229023</td>\n",
              "    </tr>\n",
              "    <tr>\n",
              "      <th>30988</th>\n",
              "      <td>-78.459172</td>\n",
              "      <td>-0.162661</td>\n",
              "      <td>-78.459102</td>\n",
              "      <td>-0.162488</td>\n",
              "      <td>2636</td>\n",
              "      <td>14825</td>\n",
              "      <td>935</td>\n",
              "      <td>2020</td>\n",
              "      <td>3</td>\n",
              "      <td>4</td>\n",
              "      <td>4</td>\n",
              "      <td>30</td>\n",
              "      <td>2020</td>\n",
              "      <td>3</td>\n",
              "      <td>4</td>\n",
              "      <td>5</td>\n",
              "      <td>14</td>\n",
              "      <td>20.710883</td>\n",
              "      <td>14804.289117</td>\n",
              "    </tr>\n",
              "    <tr>\n",
              "      <th>13896</th>\n",
              "      <td>-78.492024</td>\n",
              "      <td>-0.204980</td>\n",
              "      <td>-78.492088</td>\n",
              "      <td>-0.204737</td>\n",
              "      <td>1934</td>\n",
              "      <td>14670</td>\n",
              "      <td>588</td>\n",
              "      <td>2019</td>\n",
              "      <td>8</td>\n",
              "      <td>16</td>\n",
              "      <td>11</td>\n",
              "      <td>25</td>\n",
              "      <td>2019</td>\n",
              "      <td>8</td>\n",
              "      <td>16</td>\n",
              "      <td>11</td>\n",
              "      <td>57</td>\n",
              "      <td>27.916607</td>\n",
              "      <td>14642.083393</td>\n",
              "    </tr>\n",
              "    <tr>\n",
              "      <th>25921</th>\n",
              "      <td>-78.444587</td>\n",
              "      <td>-0.109477</td>\n",
              "      <td>-78.445720</td>\n",
              "      <td>-0.115313</td>\n",
              "      <td>2031</td>\n",
              "      <td>15271</td>\n",
              "      <td>670</td>\n",
              "      <td>2020</td>\n",
              "      <td>1</td>\n",
              "      <td>22</td>\n",
              "      <td>10</td>\n",
              "      <td>10</td>\n",
              "      <td>2020</td>\n",
              "      <td>1</td>\n",
              "      <td>22</td>\n",
              "      <td>10</td>\n",
              "      <td>44</td>\n",
              "      <td>661.075048</td>\n",
              "      <td>14609.924952</td>\n",
              "    </tr>\n",
              "    <tr>\n",
              "      <th>18514</th>\n",
              "      <td>-78.486497</td>\n",
              "      <td>-0.180290</td>\n",
              "      <td>-78.485622</td>\n",
              "      <td>-0.177408</td>\n",
              "      <td>2405</td>\n",
              "      <td>14833</td>\n",
              "      <td>719</td>\n",
              "      <td>2019</td>\n",
              "      <td>11</td>\n",
              "      <td>20</td>\n",
              "      <td>1</td>\n",
              "      <td>46</td>\n",
              "      <td>2019</td>\n",
              "      <td>11</td>\n",
              "      <td>20</td>\n",
              "      <td>2</td>\n",
              "      <td>26</td>\n",
              "      <td>334.844701</td>\n",
              "      <td>14498.155299</td>\n",
              "    </tr>\n",
              "    <tr>\n",
              "      <th>1689</th>\n",
              "      <td>-78.458712</td>\n",
              "      <td>-0.104561</td>\n",
              "      <td>-78.458702</td>\n",
              "      <td>-0.104400</td>\n",
              "      <td>2153</td>\n",
              "      <td>14501</td>\n",
              "      <td>368</td>\n",
              "      <td>2020</td>\n",
              "      <td>1</td>\n",
              "      <td>4</td>\n",
              "      <td>7</td>\n",
              "      <td>11</td>\n",
              "      <td>2020</td>\n",
              "      <td>1</td>\n",
              "      <td>4</td>\n",
              "      <td>7</td>\n",
              "      <td>47</td>\n",
              "      <td>17.870937</td>\n",
              "      <td>14483.129063</td>\n",
              "    </tr>\n",
              "    <tr>\n",
              "      <th>30121</th>\n",
              "      <td>-78.459041</td>\n",
              "      <td>-0.097474</td>\n",
              "      <td>-78.453213</td>\n",
              "      <td>-0.098216</td>\n",
              "      <td>2378</td>\n",
              "      <td>15084</td>\n",
              "      <td>483</td>\n",
              "      <td>2020</td>\n",
              "      <td>9</td>\n",
              "      <td>7</td>\n",
              "      <td>9</td>\n",
              "      <td>18</td>\n",
              "      <td>2020</td>\n",
              "      <td>9</td>\n",
              "      <td>7</td>\n",
              "      <td>9</td>\n",
              "      <td>57</td>\n",
              "      <td>653.296077</td>\n",
              "      <td>14430.703923</td>\n",
              "    </tr>\n",
              "    <tr>\n",
              "      <th>28616</th>\n",
              "      <td>-78.478095</td>\n",
              "      <td>-0.148695</td>\n",
              "      <td>-78.484058</td>\n",
              "      <td>-0.150733</td>\n",
              "      <td>2639</td>\n",
              "      <td>15102</td>\n",
              "      <td>1027</td>\n",
              "      <td>2020</td>\n",
              "      <td>6</td>\n",
              "      <td>23</td>\n",
              "      <td>12</td>\n",
              "      <td>33</td>\n",
              "      <td>2020</td>\n",
              "      <td>6</td>\n",
              "      <td>23</td>\n",
              "      <td>1</td>\n",
              "      <td>17</td>\n",
              "      <td>700.724040</td>\n",
              "      <td>14401.275960</td>\n",
              "    </tr>\n",
              "  </tbody>\n",
              "</table>\n",
              "</div>"
            ],
            "text/plain": [
              "       pickup_longitude  pickup_latitude  ...        dist  Delta_distance\n",
              "27979        -78.457097        -0.096579  ...   16.478087    15288.521913\n",
              "30829        -78.503934        -0.145286  ...  139.202326    15140.797674\n",
              "27274        -78.508343        -0.237062  ...  170.770977    14817.229023\n",
              "30988        -78.459172        -0.162661  ...   20.710883    14804.289117\n",
              "13896        -78.492024        -0.204980  ...   27.916607    14642.083393\n",
              "25921        -78.444587        -0.109477  ...  661.075048    14609.924952\n",
              "18514        -78.486497        -0.180290  ...  334.844701    14498.155299\n",
              "1689         -78.458712        -0.104561  ...   17.870937    14483.129063\n",
              "30121        -78.459041        -0.097474  ...  653.296077    14430.703923\n",
              "28616        -78.478095        -0.148695  ...  700.724040    14401.275960\n",
              "\n",
              "[10 rows x 19 columns]"
            ]
          },
          "metadata": {},
          "execution_count": 105
        },
        {
          "output_type": "stream",
          "name": "stdout",
          "text": [
            "time: 47.1 ms (started: 2021-11-12 00:54:54 +00:00)\n"
          ]
        }
      ]
    },
    {
      "cell_type": "code",
      "metadata": {
        "colab": {
          "base_uri": "https://localhost:8080/"
        },
        "id": "Dyc8CyIHw5Pc",
        "outputId": "2e088aba-2fae-4426-8c16-dc9d5e0bc06a"
      },
      "source": [
        "def geo_rev(x):\n",
        "    g = geocoder.osm([x.pickup_latitude, x.pickup_longitude], method='reverse').json\n",
        "    if g:\n",
        "        return g.get('address')\n",
        "    else:\n",
        "        return 'no country'\n",
        "\n",
        "quito_busyAeas['pickup_address1'] = quito_busyAeas[['pickup_latitude', 'pickup_longitude']].apply(geo_rev, axis=1)\n"
      ],
      "execution_count": 106,
      "outputs": [
        {
          "output_type": "stream",
          "name": "stdout",
          "text": [
            "time: 4.82 s (started: 2021-11-12 00:54:54 +00:00)\n"
          ]
        }
      ]
    },
    {
      "cell_type": "code",
      "metadata": {
        "colab": {
          "base_uri": "https://localhost:8080/"
        },
        "id": "qMzBeDLzw5VV",
        "outputId": "4b0c2adb-2663-44ec-8ac1-18f315ef2062"
      },
      "source": [
        "def geo_rev(x):\n",
        "    g = geocoder.osm([x.dropoff_latitude, x.dropoff_longitude], method='reverse').json\n",
        "    if g:\n",
        "        return g.get('address')\n",
        "    else:\n",
        "        return 'no country'\n",
        "\n",
        "quito_busyAeas['dropoff_address2'] = quito_busyAeas[['dropoff_latitude', 'dropoff_longitude']].apply(geo_rev, axis=1)\n"
      ],
      "execution_count": 107,
      "outputs": [
        {
          "output_type": "stream",
          "name": "stdout",
          "text": [
            "time: 4.98 s (started: 2021-11-12 00:54:59 +00:00)\n"
          ]
        }
      ]
    },
    {
      "cell_type": "code",
      "metadata": {
        "colab": {
          "base_uri": "https://localhost:8080/",
          "height": 475
        },
        "id": "80jrZPSJycjk",
        "outputId": "cc6d33b2-76a2-4772-90e1-501c9b8b5c23"
      },
      "source": [
        "quito_busyAeas.head()"
      ],
      "execution_count": 108,
      "outputs": [
        {
          "output_type": "execute_result",
          "data": {
            "text/html": [
              "<div>\n",
              "<style scoped>\n",
              "    .dataframe tbody tr th:only-of-type {\n",
              "        vertical-align: middle;\n",
              "    }\n",
              "\n",
              "    .dataframe tbody tr th {\n",
              "        vertical-align: top;\n",
              "    }\n",
              "\n",
              "    .dataframe thead th {\n",
              "        text-align: right;\n",
              "    }\n",
              "</style>\n",
              "<table border=\"1\" class=\"dataframe\">\n",
              "  <thead>\n",
              "    <tr style=\"text-align: right;\">\n",
              "      <th></th>\n",
              "      <th>pickup_longitude</th>\n",
              "      <th>pickup_latitude</th>\n",
              "      <th>dropoff_longitude</th>\n",
              "      <th>dropoff_latitude</th>\n",
              "      <th>trip_duration</th>\n",
              "      <th>dist_meters</th>\n",
              "      <th>wait_sec</th>\n",
              "      <th>Pickup_year</th>\n",
              "      <th>pickup_month</th>\n",
              "      <th>pickup_day</th>\n",
              "      <th>pickup_Hour</th>\n",
              "      <th>pickup_minute</th>\n",
              "      <th>dropoff_year</th>\n",
              "      <th>dropoff_month</th>\n",
              "      <th>dropoff_day</th>\n",
              "      <th>dropoff_Hour</th>\n",
              "      <th>dropoff_minute</th>\n",
              "      <th>dist</th>\n",
              "      <th>Delta_distance</th>\n",
              "      <th>pickup_address1</th>\n",
              "      <th>dropoff_address2</th>\n",
              "    </tr>\n",
              "  </thead>\n",
              "  <tbody>\n",
              "    <tr>\n",
              "      <th>27979</th>\n",
              "      <td>-78.457097</td>\n",
              "      <td>-0.096579</td>\n",
              "      <td>-78.457246</td>\n",
              "      <td>-0.096576</td>\n",
              "      <td>1864</td>\n",
              "      <td>15305</td>\n",
              "      <td>460</td>\n",
              "      <td>2020</td>\n",
              "      <td>6</td>\n",
              "      <td>18</td>\n",
              "      <td>12</td>\n",
              "      <td>5</td>\n",
              "      <td>2020</td>\n",
              "      <td>6</td>\n",
              "      <td>18</td>\n",
              "      <td>12</td>\n",
              "      <td>36</td>\n",
              "      <td>16.478087</td>\n",
              "      <td>15288.521913</td>\n",
              "      <td>N76, Camino De Los Eucaliptos, Carcelén, Carap...</td>\n",
              "      <td>N76, Camino De Los Eucaliptos, Carcelén, Carap...</td>\n",
              "    </tr>\n",
              "    <tr>\n",
              "      <th>30829</th>\n",
              "      <td>-78.503934</td>\n",
              "      <td>-0.145286</td>\n",
              "      <td>-78.505168</td>\n",
              "      <td>-0.145493</td>\n",
              "      <td>2389</td>\n",
              "      <td>15280</td>\n",
              "      <td>1042</td>\n",
              "      <td>2019</td>\n",
              "      <td>8</td>\n",
              "      <td>29</td>\n",
              "      <td>8</td>\n",
              "      <td>38</td>\n",
              "      <td>2019</td>\n",
              "      <td>8</td>\n",
              "      <td>29</td>\n",
              "      <td>9</td>\n",
              "      <td>18</td>\n",
              "      <td>139.202326</td>\n",
              "      <td>15140.797674</td>\n",
              "      <td>Israel, Antonio Román, Pinar Alto, Cochapamba,...</td>\n",
              "      <td>Antonio Román, Pinar Alto, Cochapamba, Quito, ...</td>\n",
              "    </tr>\n",
              "    <tr>\n",
              "      <th>27274</th>\n",
              "      <td>-78.508343</td>\n",
              "      <td>-0.237062</td>\n",
              "      <td>-78.506877</td>\n",
              "      <td>-0.237520</td>\n",
              "      <td>1626</td>\n",
              "      <td>14988</td>\n",
              "      <td>319</td>\n",
              "      <td>2019</td>\n",
              "      <td>8</td>\n",
              "      <td>17</td>\n",
              "      <td>10</td>\n",
              "      <td>15</td>\n",
              "      <td>2019</td>\n",
              "      <td>8</td>\n",
              "      <td>17</td>\n",
              "      <td>10</td>\n",
              "      <td>42</td>\n",
              "      <td>170.770977</td>\n",
              "      <td>14817.229023</td>\n",
              "      <td>Petroecuador, Avenida Napo, Chimbacalle, Quito...</td>\n",
              "      <td>Novedades Marimar, Pedro Pinto Guzman, Pio XII...</td>\n",
              "    </tr>\n",
              "    <tr>\n",
              "      <th>30988</th>\n",
              "      <td>-78.459172</td>\n",
              "      <td>-0.162661</td>\n",
              "      <td>-78.459102</td>\n",
              "      <td>-0.162488</td>\n",
              "      <td>2636</td>\n",
              "      <td>14825</td>\n",
              "      <td>935</td>\n",
              "      <td>2020</td>\n",
              "      <td>3</td>\n",
              "      <td>4</td>\n",
              "      <td>4</td>\n",
              "      <td>30</td>\n",
              "      <td>2020</td>\n",
              "      <td>3</td>\n",
              "      <td>4</td>\n",
              "      <td>5</td>\n",
              "      <td>14</td>\n",
              "      <td>20.710883</td>\n",
              "      <td>14804.289117</td>\n",
              "      <td>UDLA Park, Avenida Simón Bolívar, Gabriela Mar...</td>\n",
              "      <td>UDLAPARK, Nuestra Señora de Santa Ana, El Bata...</td>\n",
              "    </tr>\n",
              "    <tr>\n",
              "      <th>13896</th>\n",
              "      <td>-78.492024</td>\n",
              "      <td>-0.204980</td>\n",
              "      <td>-78.492088</td>\n",
              "      <td>-0.204737</td>\n",
              "      <td>1934</td>\n",
              "      <td>14670</td>\n",
              "      <td>588</td>\n",
              "      <td>2019</td>\n",
              "      <td>8</td>\n",
              "      <td>16</td>\n",
              "      <td>11</td>\n",
              "      <td>25</td>\n",
              "      <td>2019</td>\n",
              "      <td>8</td>\n",
              "      <td>16</td>\n",
              "      <td>11</td>\n",
              "      <td>57</td>\n",
              "      <td>27.916607</td>\n",
              "      <td>14642.083393</td>\n",
              "      <td>Hotel Lafayette, Baquedano, Mariscal Sucre, Qu...</td>\n",
              "      <td>Hotel Lafayette, Baquedano, Mariscal Sucre, Qu...</td>\n",
              "    </tr>\n",
              "  </tbody>\n",
              "</table>\n",
              "</div>"
            ],
            "text/plain": [
              "       pickup_longitude  ...                                   dropoff_address2\n",
              "27979        -78.457097  ...  N76, Camino De Los Eucaliptos, Carcelén, Carap...\n",
              "30829        -78.503934  ...  Antonio Román, Pinar Alto, Cochapamba, Quito, ...\n",
              "27274        -78.508343  ...  Novedades Marimar, Pedro Pinto Guzman, Pio XII...\n",
              "30988        -78.459172  ...  UDLAPARK, Nuestra Señora de Santa Ana, El Bata...\n",
              "13896        -78.492024  ...  Hotel Lafayette, Baquedano, Mariscal Sucre, Qu...\n",
              "\n",
              "[5 rows x 21 columns]"
            ]
          },
          "metadata": {},
          "execution_count": 108
        },
        {
          "output_type": "stream",
          "name": "stdout",
          "text": [
            "time: 42.4 ms (started: 2021-11-12 00:55:04 +00:00)\n"
          ]
        }
      ]
    },
    {
      "cell_type": "code",
      "metadata": {
        "colab": {
          "base_uri": "https://localhost:8080/"
        },
        "id": "AFEznGXhycBz",
        "outputId": "f5b6991c-110d-4de1-de7c-33e42fb1ffd6"
      },
      "source": [
        "Busy_area_names5 = [x for x in quito_busyAeas.pickup_address1]\n",
        "Busy_area_names6 = [x for x in quito_busyAeas.dropoff_address2]\n"
      ],
      "execution_count": 109,
      "outputs": [
        {
          "output_type": "stream",
          "name": "stdout",
          "text": [
            "time: 2.47 ms (started: 2021-11-12 00:55:04 +00:00)\n"
          ]
        }
      ]
    },
    {
      "cell_type": "code",
      "metadata": {
        "colab": {
          "base_uri": "https://localhost:8080/"
        },
        "id": "dgX9eQNpyb35",
        "outputId": "69db9359-6568-46db-ff69-497702f55554"
      },
      "source": [
        "print(Busy_area_names1 ,'+',Busy_area_names2,)\n"
      ],
      "execution_count": 110,
      "outputs": [
        {
          "output_type": "stream",
          "name": "stdout",
          "text": [
            "['Librería San Pablo, Transversal 60, UPZ Niza, Localidad Suba, Bogotá, Bogotá Distrito Capital, 111121, Colombia', 'Nevada suites, Calle 61A, San Luis, UPZ Galerías, Localidad Teusaquillo, Bogotá, Bogotá Distrito Capital, 111311, Colombia', 'Alimentador (2.7 San Jose), Avenida Calle 170, UPZ Britalia, Localidad Suba, Bogotá, Bogotá Distrito Capital, 111156, Colombia', 'Jesuscristo es la Señor Universal, Carrera 16, San Luis, UPZ Galerías, Localidad Teusaquillo, Bogotá, Bogotá Distrito Capital, 111311, Colombia', 'Patio Portal Norte, Calle 182, Nueva Zelandia, UPZ San José de Bavaria, Localidad Suba, Bogotá, Bogotá Distrito Capital, 111166, Colombia', \"Domino's, Carrera 49B, Nueva Zelandia, UPZ San José de Bavaria, Localidad Suba, Bogotá, Bogotá Distrito Capital, 111166, Colombia\", 'Kmila Sarz Peluquería, Transversal 60, UPZ Niza, Localidad Suba, Bogotá, Bogotá Distrito Capital, 111121, Colombia', 'Terpel, Avenida Carrera 7, UPZ Verbenal, Localidad Usaquén, Bogotá, Bogotá Distrito Capital, 110141, Colombia', 'Carrera 119A, La Faena, UPZ Engativá, Localidad Engativá, Bogotá, Bogotá Distrito Capital, 111031, Colombia', 'Alimentador (2.7 San Jose), Avenida Calle 170, UPZ Britalia, Localidad Suba, Bogotá, Bogotá Distrito Capital, 111156, Colombia'] + ['Librería San Pablo, Transversal 60, UPZ Niza, Localidad Suba, Bogotá, Bogotá Distrito Capital, 111121, Colombia', 'Nevada suites, Calle 61A, San Luis, UPZ Galerías, Localidad Teusaquillo, Bogotá, Bogotá Distrito Capital, 111311, Colombia', 'Alimentador (2.7 San Jose), Avenida Calle 170, UPZ Britalia, Localidad Suba, Bogotá, Bogotá Distrito Capital, 111156, Colombia', 'Nevada suites, Calle 61A, San Luis, UPZ Galerías, Localidad Teusaquillo, Bogotá, Bogotá Distrito Capital, 111311, Colombia', 'Carrera 50C, Aticos De La Sabana 2, Localidad Suba, Bogotá, Bogotá Distrito Capital, 111166, Colombia', 'Carrera 23 Bis, Maranta, UPZ Verbenal, Localidad Usaquén, Bogotá, Bogotá Distrito Capital, 110141, Colombia', 'Max International, Transversal 60, UPZ Niza, Localidad Suba, Bogotá, Bogotá Distrito Capital, 111121, Colombia', 'Carrera 6B, Tibabita, UPZ Verbenal, Localidad Usaquén, Bogotá, Bogotá Distrito Capital, 110141, Colombia', 'Carrera 119A, La Faena, UPZ Engativá, Localidad Engativá, Bogotá, Bogotá Distrito Capital, 111031, Colombia', 'Alimentador (2.7 San Jose), Avenida Calle 170, UPZ Britalia, Localidad Suba, Bogotá, Bogotá Distrito Capital, 111156, Colombia']\n",
            "time: 3.34 ms (started: 2021-11-12 00:55:04 +00:00)\n"
          ]
        }
      ]
    },
    {
      "cell_type": "code",
      "metadata": {
        "colab": {
          "base_uri": "https://localhost:8080/"
        },
        "id": "KWPHhXSvmoPy",
        "outputId": "3566b5d7-fc2c-4bda-ff75-4eaab7d5e32b"
      },
      "source": [
        "# Note: \n",
        "## Top 10 busy areas.\n",
        "## distance delta is the difference between the actual distance between the locations and the cab travel distance, so that these huge difference of top 10 columns tells us the cab took extra journey so busy areas.\n",
        "## top 10 colum"
      ],
      "execution_count": 111,
      "outputs": [
        {
          "output_type": "stream",
          "name": "stdout",
          "text": [
            "time: 1.42 ms (started: 2021-11-12 00:55:04 +00:00)\n"
          ]
        }
      ]
    },
    {
      "cell_type": "markdown",
      "metadata": {
        "id": "L_VN9TPxy-_F"
      },
      "source": [
        "# Note: \n",
        "## 1) All the above are Top 10 busy areas of bogota, mexico, quito cities\n",
        "## 2) distance delta is the difference between the actual distance between the locations and the cab travel distance, so  these huge difference of top 10 columns tells us the cab took extra journey so busy areas.\n",
        "## 3) I have taken top 10 busy areas through sort_out \n",
        "## 4) The reason for Travel time features are not considered because this particular problem starting itself was insisted to find busy areas through pickup and dropoff locations"
      ]
    },
    {
      "cell_type": "markdown",
      "metadata": {
        "id": "R3c-Wh6oK7Dw"
      },
      "source": [
        "## Minimum Price\n",
        "What should be the minimum price the cab driver should charge per km in each of the cities to break even?"
      ]
    },
    {
      "cell_type": "code",
      "metadata": {
        "id": "oRHFtq3uK7Dx",
        "colab": {
          "base_uri": "https://localhost:8080/",
          "height": 220
        },
        "outputId": "17a9e735-cc1d-422c-8228-d33cfae23706"
      },
      "source": [
        "car_list.head()"
      ],
      "execution_count": 112,
      "outputs": [
        {
          "output_type": "execute_result",
          "data": {
            "text/html": [
              "<div>\n",
              "<style scoped>\n",
              "    .dataframe tbody tr th:only-of-type {\n",
              "        vertical-align: middle;\n",
              "    }\n",
              "\n",
              "    .dataframe tbody tr th {\n",
              "        vertical-align: top;\n",
              "    }\n",
              "\n",
              "    .dataframe thead th {\n",
              "        text-align: right;\n",
              "    }\n",
              "</style>\n",
              "<table border=\"1\" class=\"dataframe\">\n",
              "  <thead>\n",
              "    <tr style=\"text-align: right;\">\n",
              "      <th></th>\n",
              "      <th>model</th>\n",
              "      <th>year bought</th>\n",
              "      <th>transmission</th>\n",
              "      <th>mileage (kmpl)</th>\n",
              "      <th>engineSize (ltrs)</th>\n",
              "    </tr>\n",
              "  </thead>\n",
              "  <tbody>\n",
              "    <tr>\n",
              "      <th>0</th>\n",
              "      <td>Fiesta</td>\n",
              "      <td>2017</td>\n",
              "      <td>Automatic</td>\n",
              "      <td>15.184211</td>\n",
              "      <td>1.0</td>\n",
              "    </tr>\n",
              "    <tr>\n",
              "      <th>1</th>\n",
              "      <td>Focus</td>\n",
              "      <td>2018</td>\n",
              "      <td>Manual</td>\n",
              "      <td>15.184211</td>\n",
              "      <td>1.0</td>\n",
              "    </tr>\n",
              "    <tr>\n",
              "      <th>2</th>\n",
              "      <td>Focus</td>\n",
              "      <td>2017</td>\n",
              "      <td>Manual</td>\n",
              "      <td>15.184211</td>\n",
              "      <td>1.0</td>\n",
              "    </tr>\n",
              "    <tr>\n",
              "      <th>3</th>\n",
              "      <td>Fiesta</td>\n",
              "      <td>2019</td>\n",
              "      <td>Manual</td>\n",
              "      <td>10.605263</td>\n",
              "      <td>1.5</td>\n",
              "    </tr>\n",
              "    <tr>\n",
              "      <th>4</th>\n",
              "      <td>Fiesta</td>\n",
              "      <td>2019</td>\n",
              "      <td>Automatic</td>\n",
              "      <td>12.815789</td>\n",
              "      <td>1.0</td>\n",
              "    </tr>\n",
              "  </tbody>\n",
              "</table>\n",
              "</div>"
            ],
            "text/plain": [
              "     model  year bought transmission  mileage (kmpl)  engineSize (ltrs)\n",
              "0   Fiesta         2017    Automatic       15.184211                1.0\n",
              "1    Focus         2018       Manual       15.184211                1.0\n",
              "2    Focus         2017       Manual       15.184211                1.0\n",
              "3   Fiesta         2019       Manual       10.605263                1.5\n",
              "4   Fiesta         2019    Automatic       12.815789                1.0"
            ]
          },
          "metadata": {},
          "execution_count": 112
        },
        {
          "output_type": "stream",
          "name": "stdout",
          "text": [
            "time: 26.7 ms (started: 2021-11-12 00:55:04 +00:00)\n"
          ]
        }
      ]
    },
    {
      "cell_type": "code",
      "metadata": {
        "colab": {
          "base_uri": "https://localhost:8080/"
        },
        "id": "fSCMzvhb1s-J",
        "outputId": "4dd2465a-add8-4eb7-8f43-83c834a745ca"
      },
      "source": [
        "car_list['engineSize (ltrs)'].value_counts()"
      ],
      "execution_count": 113,
      "outputs": [
        {
          "output_type": "execute_result",
          "data": {
            "text/plain": [
              "1.0    24\n",
              "2.0     7\n",
              "1.5     5\n",
              "1.2     4\n",
              "1.1     2\n",
              "1.6     1\n",
              "Name: engineSize (ltrs), dtype: int64"
            ]
          },
          "metadata": {},
          "execution_count": 113
        },
        {
          "output_type": "stream",
          "name": "stdout",
          "text": [
            "time: 7.39 ms (started: 2021-11-12 00:55:04 +00:00)\n"
          ]
        }
      ]
    },
    {
      "cell_type": "code",
      "metadata": {
        "colab": {
          "base_uri": "https://localhost:8080/"
        },
        "id": "2x_aS2Zr2-yT",
        "outputId": "c73dba35-9027-42a7-d531-157a5213306c"
      },
      "source": [
        "car_list['transmission'].value_counts()"
      ],
      "execution_count": 114,
      "outputs": [
        {
          "output_type": "execute_result",
          "data": {
            "text/plain": [
              "Manual       38\n",
              "Semi-Auto     3\n",
              "Automatic     2\n",
              "Name: transmission, dtype: int64"
            ]
          },
          "metadata": {},
          "execution_count": 114
        },
        {
          "output_type": "stream",
          "name": "stdout",
          "text": [
            "time: 7.65 ms (started: 2021-11-12 00:55:04 +00:00)\n"
          ]
        }
      ]
    },
    {
      "cell_type": "markdown",
      "metadata": {
        "id": "5d3S4g5i7zH2"
      },
      "source": [
        "### We can also observe that most cars of  engine sizes '1.0' and Manual transmission cars."
      ]
    },
    {
      "cell_type": "code",
      "metadata": {
        "colab": {
          "base_uri": "https://localhost:8080/",
          "height": 282
        },
        "id": "IpGw01ah3LIE",
        "outputId": "7f93f6cf-aa6a-42c4-91c2-0b462ebec664"
      },
      "source": [
        "car_list[['engineSize (ltrs)','model']].groupby('engineSize (ltrs)').count()"
      ],
      "execution_count": 115,
      "outputs": [
        {
          "output_type": "execute_result",
          "data": {
            "text/html": [
              "<div>\n",
              "<style scoped>\n",
              "    .dataframe tbody tr th:only-of-type {\n",
              "        vertical-align: middle;\n",
              "    }\n",
              "\n",
              "    .dataframe tbody tr th {\n",
              "        vertical-align: top;\n",
              "    }\n",
              "\n",
              "    .dataframe thead th {\n",
              "        text-align: right;\n",
              "    }\n",
              "</style>\n",
              "<table border=\"1\" class=\"dataframe\">\n",
              "  <thead>\n",
              "    <tr style=\"text-align: right;\">\n",
              "      <th></th>\n",
              "      <th>model</th>\n",
              "    </tr>\n",
              "    <tr>\n",
              "      <th>engineSize (ltrs)</th>\n",
              "      <th></th>\n",
              "    </tr>\n",
              "  </thead>\n",
              "  <tbody>\n",
              "    <tr>\n",
              "      <th>1.0</th>\n",
              "      <td>24</td>\n",
              "    </tr>\n",
              "    <tr>\n",
              "      <th>1.1</th>\n",
              "      <td>2</td>\n",
              "    </tr>\n",
              "    <tr>\n",
              "      <th>1.2</th>\n",
              "      <td>4</td>\n",
              "    </tr>\n",
              "    <tr>\n",
              "      <th>1.5</th>\n",
              "      <td>5</td>\n",
              "    </tr>\n",
              "    <tr>\n",
              "      <th>1.6</th>\n",
              "      <td>1</td>\n",
              "    </tr>\n",
              "    <tr>\n",
              "      <th>2.0</th>\n",
              "      <td>7</td>\n",
              "    </tr>\n",
              "  </tbody>\n",
              "</table>\n",
              "</div>"
            ],
            "text/plain": [
              "                   model\n",
              "engineSize (ltrs)       \n",
              "1.0                   24\n",
              "1.1                    2\n",
              "1.2                    4\n",
              "1.5                    5\n",
              "1.6                    1\n",
              "2.0                    7"
            ]
          },
          "metadata": {},
          "execution_count": 115
        },
        {
          "output_type": "stream",
          "name": "stdout",
          "text": [
            "time: 18.9 ms (started: 2021-11-12 00:55:04 +00:00)\n"
          ]
        }
      ]
    },
    {
      "cell_type": "code",
      "metadata": {
        "colab": {
          "base_uri": "https://localhost:8080/"
        },
        "id": "n4a0muQw4Oao",
        "outputId": "66c10ece-8ccf-484e-b810-01efdd08cb9f"
      },
      "source": [
        "car_list['model'].value_counts()"
      ],
      "execution_count": 116,
      "outputs": [
        {
          "output_type": "execute_result",
          "data": {
            "text/plain": [
              " Fiesta      25\n",
              " Focus        7\n",
              " Kuga         5\n",
              " EcoSport     2\n",
              " Puma         1\n",
              " C-MAX        1\n",
              " Ka+          1\n",
              " Mondeo       1\n",
              "Name: model, dtype: int64"
            ]
          },
          "metadata": {},
          "execution_count": 116
        },
        {
          "output_type": "stream",
          "name": "stdout",
          "text": [
            "time: 6.99 ms (started: 2021-11-12 00:55:04 +00:00)\n"
          ]
        }
      ]
    },
    {
      "cell_type": "code",
      "metadata": {
        "colab": {
          "base_uri": "https://localhost:8080/"
        },
        "id": "6U9gZ0LI8wQh",
        "outputId": "8f4d7c17-f6ec-4df7-9885-4175a78b4233"
      },
      "source": [
        "models_mileage = car_list.groupby(['model'])['mileage (kmpl)'].mean()\n",
        "models_mileage"
      ],
      "execution_count": 117,
      "outputs": [
        {
          "output_type": "execute_result",
          "data": {
            "text/plain": [
              "model\n",
              " C-MAX       18.131579\n",
              " EcoSport    14.157895\n",
              " Fiesta      15.429474\n",
              " Focus       14.819549\n",
              " Ka+         15.184211\n",
              " Kuga        13.705263\n",
              " Mondeo      17.289474\n",
              " Puma        13.263158\n",
              "Name: mileage (kmpl), dtype: float64"
            ]
          },
          "metadata": {},
          "execution_count": 117
        },
        {
          "output_type": "stream",
          "name": "stdout",
          "text": [
            "time: 10.2 ms (started: 2021-11-12 00:55:04 +00:00)\n"
          ]
        }
      ]
    },
    {
      "cell_type": "code",
      "metadata": {
        "colab": {
          "base_uri": "https://localhost:8080/"
        },
        "id": "cP_UG8t6_s4c",
        "outputId": "fd41de2c-30f8-4879-fb1e-b3898e854fe6"
      },
      "source": [
        "models_average = models_mileage.mean()\n",
        "models_average"
      ],
      "execution_count": 118,
      "outputs": [
        {
          "output_type": "execute_result",
          "data": {
            "text/plain": [
              "15.247575187969925"
            ]
          },
          "metadata": {},
          "execution_count": 118
        },
        {
          "output_type": "stream",
          "name": "stdout",
          "text": [
            "time: 5.54 ms (started: 2021-11-12 00:55:04 +00:00)\n"
          ]
        }
      ]
    },
    {
      "cell_type": "code",
      "metadata": {
        "colab": {
          "base_uri": "https://localhost:8080/",
          "height": 282
        },
        "id": "K5R_M_RM4gDm",
        "outputId": "e4b17bd2-aee2-414c-fbf6-2a1370ee56bb"
      },
      "source": [
        "mileage = car_list[['engineSize (ltrs)','mileage (kmpl)']].groupby('engineSize (ltrs)').mean()\n",
        "mileage"
      ],
      "execution_count": 119,
      "outputs": [
        {
          "output_type": "execute_result",
          "data": {
            "text/html": [
              "<div>\n",
              "<style scoped>\n",
              "    .dataframe tbody tr th:only-of-type {\n",
              "        vertical-align: middle;\n",
              "    }\n",
              "\n",
              "    .dataframe tbody tr th {\n",
              "        vertical-align: top;\n",
              "    }\n",
              "\n",
              "    .dataframe thead th {\n",
              "        text-align: right;\n",
              "    }\n",
              "</style>\n",
              "<table border=\"1\" class=\"dataframe\">\n",
              "  <thead>\n",
              "    <tr style=\"text-align: right;\">\n",
              "      <th></th>\n",
              "      <th>mileage (kmpl)</th>\n",
              "    </tr>\n",
              "    <tr>\n",
              "      <th>engineSize (ltrs)</th>\n",
              "      <th></th>\n",
              "    </tr>\n",
              "  </thead>\n",
              "  <tbody>\n",
              "    <tr>\n",
              "      <th>1.0</th>\n",
              "      <td>15.646930</td>\n",
              "    </tr>\n",
              "    <tr>\n",
              "      <th>1.1</th>\n",
              "      <td>13.697368</td>\n",
              "    </tr>\n",
              "    <tr>\n",
              "      <th>1.2</th>\n",
              "      <td>14.513158</td>\n",
              "    </tr>\n",
              "    <tr>\n",
              "      <th>1.5</th>\n",
              "      <td>16.889474</td>\n",
              "    </tr>\n",
              "    <tr>\n",
              "      <th>1.6</th>\n",
              "      <td>12.605263</td>\n",
              "    </tr>\n",
              "    <tr>\n",
              "      <th>2.0</th>\n",
              "      <td>13.165414</td>\n",
              "    </tr>\n",
              "  </tbody>\n",
              "</table>\n",
              "</div>"
            ],
            "text/plain": [
              "                   mileage (kmpl)\n",
              "engineSize (ltrs)                \n",
              "1.0                     15.646930\n",
              "1.1                     13.697368\n",
              "1.2                     14.513158\n",
              "1.5                     16.889474\n",
              "1.6                     12.605263\n",
              "2.0                     13.165414"
            ]
          },
          "metadata": {},
          "execution_count": 119
        },
        {
          "output_type": "stream",
          "name": "stdout",
          "text": [
            "time: 22.2 ms (started: 2021-11-12 00:55:04 +00:00)\n"
          ]
        }
      ]
    },
    {
      "cell_type": "code",
      "metadata": {
        "colab": {
          "base_uri": "https://localhost:8080/"
        },
        "id": "6DjDxBfk5-23",
        "outputId": "e90a36a1-e659-4568-fa77-2bef4b984a32"
      },
      "source": [
        "# average mileage of all engine size cars\n",
        "from functools import reduce\n",
        "average_mileage = [x for x in mileage['mileage (kmpl)']]\n",
        "average_mileage = reduce(lambda a, b: a + b, average_mileage) / len(average_mileage)\n",
        "average_mileage"
      ],
      "execution_count": 120,
      "outputs": [
        {
          "output_type": "execute_result",
          "data": {
            "text/plain": [
              "14.419601086048454"
            ]
          },
          "metadata": {},
          "execution_count": 120
        },
        {
          "output_type": "stream",
          "name": "stdout",
          "text": [
            "time: 6.94 ms (started: 2021-11-12 00:55:04 +00:00)\n"
          ]
        }
      ]
    },
    {
      "cell_type": "markdown",
      "metadata": {
        "id": "xBLjOonQ5He0"
      },
      "source": [
        "### As if we observe, All enginesize has very nearby mileage(kmpl) so even for the llumni Business profit sake if we  take the  lowest or average of mileage per kilometer, then it would be 14.41 kmpl mileage. \n",
        "### All models average mileage is 15 kmpl\n",
        "### All cars can engines can give  an average of 14 kmpl mileage.\n",
        "### So Average mileage of all cars in cities is 14.5 kmpl\n"
      ]
    },
    {
      "cell_type": "code",
      "metadata": {
        "id": "pN5zC49qW9uK",
        "colab": {
          "base_uri": "https://localhost:8080/",
          "height": 220
        },
        "outputId": "9dd6996c-66f9-4eee-ec9c-d3b1319f0267"
      },
      "source": [
        "petrol_price.head()"
      ],
      "execution_count": 121,
      "outputs": [
        {
          "output_type": "execute_result",
          "data": {
            "text/html": [
              "<div>\n",
              "<style scoped>\n",
              "    .dataframe tbody tr th:only-of-type {\n",
              "        vertical-align: middle;\n",
              "    }\n",
              "\n",
              "    .dataframe tbody tr th {\n",
              "        vertical-align: top;\n",
              "    }\n",
              "\n",
              "    .dataframe thead th {\n",
              "        text-align: right;\n",
              "    }\n",
              "</style>\n",
              "<table border=\"1\" class=\"dataframe\">\n",
              "  <thead>\n",
              "    <tr style=\"text-align: right;\">\n",
              "      <th></th>\n",
              "      <th>city</th>\n",
              "      <th>date</th>\n",
              "      <th>rate INR</th>\n",
              "      <th>state</th>\n",
              "    </tr>\n",
              "  </thead>\n",
              "  <tbody>\n",
              "    <tr>\n",
              "      <th>0</th>\n",
              "      <td>Bogota</td>\n",
              "      <td>01-12-2011</td>\n",
              "      <td>73.07</td>\n",
              "      <td>Colombia</td>\n",
              "    </tr>\n",
              "    <tr>\n",
              "      <th>1</th>\n",
              "      <td>Bogota</td>\n",
              "      <td>01-04-2012</td>\n",
              "      <td>73.08</td>\n",
              "      <td>Colombia</td>\n",
              "    </tr>\n",
              "    <tr>\n",
              "      <th>2</th>\n",
              "      <td>Bogota</td>\n",
              "      <td>24-05-2012</td>\n",
              "      <td>81.44</td>\n",
              "      <td>Colombia</td>\n",
              "    </tr>\n",
              "    <tr>\n",
              "      <th>3</th>\n",
              "      <td>Bogota</td>\n",
              "      <td>03-06-2012</td>\n",
              "      <td>78.11</td>\n",
              "      <td>Colombia</td>\n",
              "    </tr>\n",
              "    <tr>\n",
              "      <th>4</th>\n",
              "      <td>Bogota</td>\n",
              "      <td>29-06-2012</td>\n",
              "      <td>74.89</td>\n",
              "      <td>Colombia</td>\n",
              "    </tr>\n",
              "  </tbody>\n",
              "</table>\n",
              "</div>"
            ],
            "text/plain": [
              "     city        date  rate INR     state\n",
              "0  Bogota  01-12-2011     73.07  Colombia\n",
              "1  Bogota  01-04-2012     73.08  Colombia\n",
              "2  Bogota  24-05-2012     81.44  Colombia\n",
              "3  Bogota  03-06-2012     78.11  Colombia\n",
              "4  Bogota  29-06-2012     74.89  Colombia"
            ]
          },
          "metadata": {},
          "execution_count": 121
        },
        {
          "output_type": "stream",
          "name": "stdout",
          "text": [
            "time: 21.7 ms (started: 2021-11-12 00:55:04 +00:00)\n"
          ]
        }
      ]
    },
    {
      "cell_type": "code",
      "metadata": {
        "id": "gPbhIJ_eXoH0",
        "colab": {
          "base_uri": "https://localhost:8080/",
          "height": 189
        },
        "outputId": "af440b4c-ea94-460a-d19e-bd3970165e6e"
      },
      "source": [
        "# The average fuel prices of all time frames for each city\n",
        "petrol_price[['city','rate INR']].groupby('city').mean()"
      ],
      "execution_count": 122,
      "outputs": [
        {
          "output_type": "execute_result",
          "data": {
            "text/html": [
              "<div>\n",
              "<style scoped>\n",
              "    .dataframe tbody tr th:only-of-type {\n",
              "        vertical-align: middle;\n",
              "    }\n",
              "\n",
              "    .dataframe tbody tr th {\n",
              "        vertical-align: top;\n",
              "    }\n",
              "\n",
              "    .dataframe thead th {\n",
              "        text-align: right;\n",
              "    }\n",
              "</style>\n",
              "<table border=\"1\" class=\"dataframe\">\n",
              "  <thead>\n",
              "    <tr style=\"text-align: right;\">\n",
              "      <th></th>\n",
              "      <th>rate INR</th>\n",
              "    </tr>\n",
              "    <tr>\n",
              "      <th>city</th>\n",
              "      <th></th>\n",
              "    </tr>\n",
              "  </thead>\n",
              "  <tbody>\n",
              "    <tr>\n",
              "      <th>Bogota</th>\n",
              "      <td>77.859420</td>\n",
              "    </tr>\n",
              "    <tr>\n",
              "      <th>Mexico city</th>\n",
              "      <td>76.098752</td>\n",
              "    </tr>\n",
              "    <tr>\n",
              "      <th>Quito</th>\n",
              "      <td>72.211509</td>\n",
              "    </tr>\n",
              "  </tbody>\n",
              "</table>\n",
              "</div>"
            ],
            "text/plain": [
              "              rate INR\n",
              "city                  \n",
              "Bogota       77.859420\n",
              "Mexico city  76.098752\n",
              "Quito        72.211509"
            ]
          },
          "metadata": {},
          "execution_count": 122
        },
        {
          "output_type": "stream",
          "name": "stdout",
          "text": [
            "time: 16.3 ms (started: 2021-11-12 00:55:04 +00:00)\n"
          ]
        }
      ]
    },
    {
      "cell_type": "code",
      "metadata": {
        "colab": {
          "base_uri": "https://localhost:8080/"
        },
        "id": "zFyoC3gX1nCU",
        "outputId": "64d39fd5-1116-4f84-8856-16ed8140a4a8"
      },
      "source": [
        "# The individual city average petrol price multiply of mileage kmpl \n",
        "Bogota = 77.85 * 14.5 \n",
        "Mexico = 76.09 * 14.5\n",
        "Quito = 72.21  * 14.5"
      ],
      "execution_count": 123,
      "outputs": [
        {
          "output_type": "stream",
          "name": "stdout",
          "text": [
            "time: 1.17 ms (started: 2021-11-12 00:55:04 +00:00)\n"
          ]
        }
      ]
    },
    {
      "cell_type": "code",
      "metadata": {
        "colab": {
          "base_uri": "https://localhost:8080/"
        },
        "id": "_LB9dto8FVHP",
        "outputId": "7a426989-1ec9-4145-bb09-88ec6a54753a"
      },
      "source": [
        "# The Total cost  for 14.5 kilometers\n",
        "print(\"The total cost in bogota is :\", Bogota)\n",
        "print('The total cost in Mexico is :', Mexico)\n",
        "print('The total cost in Quito is :', Quito)"
      ],
      "execution_count": 124,
      "outputs": [
        {
          "output_type": "stream",
          "name": "stdout",
          "text": [
            "The total cost in bogota is : 1128.8249999999998\n",
            "The total cost in Mexico is : 1103.305\n",
            "The total cost in Quito is : 1047.0449999999998\n",
            "time: 2.44 ms (started: 2021-11-12 00:55:04 +00:00)\n"
          ]
        }
      ]
    },
    {
      "cell_type": "code",
      "metadata": {
        "colab": {
          "base_uri": "https://localhost:8080/"
        },
        "id": "QpYFIT961nRO",
        "outputId": "0aa56215-a62e-4cc1-d6c1-f65e5650c1eb"
      },
      "source": [
        "# minimum cost per kilometer \n",
        "cost_in_Bogota = Bogota/14.5\n",
        "cost_in_Mexico = Mexico/14.5\n",
        "cost_in_Quito = Quito/14.5\n",
        "print(\"The min cost in bogota is :\", cost_in_Bogota)\n",
        "print('The min cost in Mexico is :', cost_in_Mexico)\n",
        "print('The min cost in Quito is :', cost_in_Quito)"
      ],
      "execution_count": 125,
      "outputs": [
        {
          "output_type": "stream",
          "name": "stdout",
          "text": [
            "The min cost in bogota is : 77.85\n",
            "The min cost in Mexico is : 76.09\n",
            "The min cost in Quito is : 72.21\n",
            "time: 8.78 ms (started: 2021-11-12 00:55:04 +00:00)\n"
          ]
        }
      ]
    },
    {
      "cell_type": "markdown",
      "metadata": {
        "id": "tSciV-1tK7Dy"
      },
      "source": [
        "## Optimum Price\n",
        "Since there is a waiting time (time between cab booked and trip started) for the cab to arrive at a specific location, Ilumin wants to pay the cab driver during such time. What should be the optimal price paid per min?"
      ]
    },
    {
      "cell_type": "markdown",
      "metadata": {
        "id": "M3SbayaEOE0E"
      },
      "source": [
        ""
      ]
    },
    {
      "cell_type": "code",
      "metadata": {
        "id": "iMI-6vu7K7Dy",
        "colab": {
          "base_uri": "https://localhost:8080/",
          "height": 240
        },
        "outputId": "7eddd0bf-8c4a-4169-f4ad-fd7f63180369"
      },
      "source": [
        "bogota_df_out.head()"
      ],
      "execution_count": 126,
      "outputs": [
        {
          "output_type": "execute_result",
          "data": {
            "text/html": [
              "<div>\n",
              "<style scoped>\n",
              "    .dataframe tbody tr th:only-of-type {\n",
              "        vertical-align: middle;\n",
              "    }\n",
              "\n",
              "    .dataframe tbody tr th {\n",
              "        vertical-align: top;\n",
              "    }\n",
              "\n",
              "    .dataframe thead th {\n",
              "        text-align: right;\n",
              "    }\n",
              "</style>\n",
              "<table border=\"1\" class=\"dataframe\">\n",
              "  <thead>\n",
              "    <tr style=\"text-align: right;\">\n",
              "      <th></th>\n",
              "      <th>pickup_longitude</th>\n",
              "      <th>pickup_latitude</th>\n",
              "      <th>dropoff_longitude</th>\n",
              "      <th>dropoff_latitude</th>\n",
              "      <th>trip_duration</th>\n",
              "      <th>dist_meters</th>\n",
              "      <th>wait_sec</th>\n",
              "      <th>Pickup_year</th>\n",
              "      <th>pickup_month</th>\n",
              "      <th>pickup_day</th>\n",
              "      <th>pickup_Hour</th>\n",
              "      <th>pickup_minute</th>\n",
              "      <th>dropoff_year</th>\n",
              "      <th>dropoff_month</th>\n",
              "      <th>dropoff_day</th>\n",
              "      <th>dropoff_Hour</th>\n",
              "      <th>dropoff_minute</th>\n",
              "      <th>dist</th>\n",
              "      <th>Delta_distance</th>\n",
              "    </tr>\n",
              "  </thead>\n",
              "  <tbody>\n",
              "    <tr>\n",
              "      <th>0</th>\n",
              "      <td>-74.170353</td>\n",
              "      <td>4.622699</td>\n",
              "      <td>-74.119259</td>\n",
              "      <td>4.572322</td>\n",
              "      <td>1419</td>\n",
              "      <td>11935</td>\n",
              "      <td>293</td>\n",
              "      <td>2019</td>\n",
              "      <td>9</td>\n",
              "      <td>18</td>\n",
              "      <td>1</td>\n",
              "      <td>54</td>\n",
              "      <td>2019</td>\n",
              "      <td>9</td>\n",
              "      <td>18</td>\n",
              "      <td>2</td>\n",
              "      <td>17</td>\n",
              "      <td>7965.494773</td>\n",
              "      <td>3969.505227</td>\n",
              "    </tr>\n",
              "    <tr>\n",
              "      <th>1</th>\n",
              "      <td>-74.123542</td>\n",
              "      <td>4.604075</td>\n",
              "      <td>-74.116125</td>\n",
              "      <td>4.572578</td>\n",
              "      <td>782</td>\n",
              "      <td>7101</td>\n",
              "      <td>139</td>\n",
              "      <td>2019</td>\n",
              "      <td>9</td>\n",
              "      <td>18</td>\n",
              "      <td>3</td>\n",
              "      <td>31</td>\n",
              "      <td>2019</td>\n",
              "      <td>9</td>\n",
              "      <td>18</td>\n",
              "      <td>3</td>\n",
              "      <td>44</td>\n",
              "      <td>3597.532383</td>\n",
              "      <td>3503.467617</td>\n",
              "    </tr>\n",
              "    <tr>\n",
              "      <th>3</th>\n",
              "      <td>-74.163398</td>\n",
              "      <td>4.641949</td>\n",
              "      <td>-74.165813</td>\n",
              "      <td>4.640649</td>\n",
              "      <td>66</td>\n",
              "      <td>318</td>\n",
              "      <td>52</td>\n",
              "      <td>2019</td>\n",
              "      <td>9</td>\n",
              "      <td>18</td>\n",
              "      <td>4</td>\n",
              "      <td>31</td>\n",
              "      <td>2019</td>\n",
              "      <td>9</td>\n",
              "      <td>18</td>\n",
              "      <td>4</td>\n",
              "      <td>32</td>\n",
              "      <td>304.184693</td>\n",
              "      <td>13.815307</td>\n",
              "    </tr>\n",
              "    <tr>\n",
              "      <th>7</th>\n",
              "      <td>-74.049168</td>\n",
              "      <td>4.736697</td>\n",
              "      <td>-74.050641</td>\n",
              "      <td>4.718745</td>\n",
              "      <td>191</td>\n",
              "      <td>2458</td>\n",
              "      <td>0</td>\n",
              "      <td>2019</td>\n",
              "      <td>9</td>\n",
              "      <td>18</td>\n",
              "      <td>10</td>\n",
              "      <td>8</td>\n",
              "      <td>2019</td>\n",
              "      <td>9</td>\n",
              "      <td>18</td>\n",
              "      <td>10</td>\n",
              "      <td>11</td>\n",
              "      <td>2002.803864</td>\n",
              "      <td>455.196136</td>\n",
              "    </tr>\n",
              "    <tr>\n",
              "      <th>8</th>\n",
              "      <td>-74.049272</td>\n",
              "      <td>4.718333</td>\n",
              "      <td>-74.030313</td>\n",
              "      <td>4.710932</td>\n",
              "      <td>308</td>\n",
              "      <td>2358</td>\n",
              "      <td>93</td>\n",
              "      <td>2019</td>\n",
              "      <td>9</td>\n",
              "      <td>18</td>\n",
              "      <td>10</td>\n",
              "      <td>11</td>\n",
              "      <td>2019</td>\n",
              "      <td>9</td>\n",
              "      <td>18</td>\n",
              "      <td>10</td>\n",
              "      <td>17</td>\n",
              "      <td>2256.462978</td>\n",
              "      <td>101.537022</td>\n",
              "    </tr>\n",
              "  </tbody>\n",
              "</table>\n",
              "</div>"
            ],
            "text/plain": [
              "   pickup_longitude  pickup_latitude  ...         dist  Delta_distance\n",
              "0        -74.170353         4.622699  ...  7965.494773     3969.505227\n",
              "1        -74.123542         4.604075  ...  3597.532383     3503.467617\n",
              "3        -74.163398         4.641949  ...   304.184693       13.815307\n",
              "7        -74.049168         4.736697  ...  2002.803864      455.196136\n",
              "8        -74.049272         4.718333  ...  2256.462978      101.537022\n",
              "\n",
              "[5 rows x 19 columns]"
            ]
          },
          "metadata": {},
          "execution_count": 126
        },
        {
          "output_type": "stream",
          "name": "stdout",
          "text": [
            "time: 61.7 ms (started: 2021-11-12 00:55:04 +00:00)\n"
          ]
        }
      ]
    },
    {
      "cell_type": "code",
      "metadata": {
        "colab": {
          "base_uri": "https://localhost:8080/"
        },
        "id": "O2WfthgFMTjh",
        "outputId": "1eec4d6f-0f7f-4f9e-eb46-7b19465e0a4b"
      },
      "source": [
        "#  converting distance in  meters to kilometers\n",
        "bogota_df_out['dist_meters'] = bogota_df_out['dist_meters'] / 1000"
      ],
      "execution_count": 127,
      "outputs": [
        {
          "output_type": "stream",
          "name": "stdout",
          "text": [
            "time: 4.89 ms (started: 2021-11-12 00:55:04 +00:00)\n"
          ]
        }
      ]
    },
    {
      "cell_type": "code",
      "metadata": {
        "colab": {
          "base_uri": "https://localhost:8080/"
        },
        "id": "MMq8oqF_PKdf",
        "outputId": "2340d993-b98c-4892-a1c4-1a7fb7064a6e"
      },
      "source": [
        "mexico_df_out['dist_meters'] = mexico_df_out['dist_meters'] / 1000\n"
      ],
      "execution_count": 128,
      "outputs": [
        {
          "output_type": "stream",
          "name": "stdout",
          "text": [
            "time: 3.82 ms (started: 2021-11-12 00:55:04 +00:00)\n"
          ]
        }
      ]
    },
    {
      "cell_type": "code",
      "metadata": {
        "colab": {
          "base_uri": "https://localhost:8080/"
        },
        "id": "k9TPXbUwTaDA",
        "outputId": "be5e2b04-4f11-439d-9f4a-ca260662dfc3"
      },
      "source": [
        "quito_df_out['dist_meters'] = quito_df_out['dist_meters'] / 1000\n"
      ],
      "execution_count": 129,
      "outputs": [
        {
          "output_type": "stream",
          "name": "stdout",
          "text": [
            "time: 6.67 ms (started: 2021-11-12 00:55:04 +00:00)\n"
          ]
        }
      ]
    },
    {
      "cell_type": "code",
      "metadata": {
        "colab": {
          "base_uri": "https://localhost:8080/"
        },
        "id": "kJN2oLRRNtCS",
        "outputId": "65ead669-f47a-4b89-fe47-57c8620787e3"
      },
      "source": [
        "bogota_df_out['Trip_cost'] = bogota_df_out['dist_meters'] * 77.85 # mean cost of petrol in bogota"
      ],
      "execution_count": 130,
      "outputs": [
        {
          "output_type": "stream",
          "name": "stdout",
          "text": [
            "time: 3.57 ms (started: 2021-11-12 00:55:04 +00:00)\n"
          ]
        }
      ]
    },
    {
      "cell_type": "code",
      "metadata": {
        "colab": {
          "base_uri": "https://localhost:8080/"
        },
        "id": "r5fY7OFTQZxa",
        "outputId": "3e496d3e-061e-49d1-f91c-1e059b41180f"
      },
      "source": [
        "mexico_df_out['Trip_cost'] = mexico_df_out['dist_meters'] * 76.09 # mean cost of petrol in mexico\n",
        "quito_df_out['Trip_cost'] = quito_df_out['dist_meters'] * 72.21 # mean cost of petrol in quito"
      ],
      "execution_count": 131,
      "outputs": [
        {
          "output_type": "stream",
          "name": "stdout",
          "text": [
            "time: 8.67 ms (started: 2021-11-12 00:55:04 +00:00)\n"
          ]
        }
      ]
    },
    {
      "cell_type": "code",
      "metadata": {
        "colab": {
          "base_uri": "https://localhost:8080/",
          "height": 240
        },
        "id": "cpn-L7enNLcS",
        "outputId": "f9a1f3e8-d09b-47cb-decd-13680e33e1a7"
      },
      "source": [
        "bogota_df_out.head()"
      ],
      "execution_count": 132,
      "outputs": [
        {
          "output_type": "execute_result",
          "data": {
            "text/html": [
              "<div>\n",
              "<style scoped>\n",
              "    .dataframe tbody tr th:only-of-type {\n",
              "        vertical-align: middle;\n",
              "    }\n",
              "\n",
              "    .dataframe tbody tr th {\n",
              "        vertical-align: top;\n",
              "    }\n",
              "\n",
              "    .dataframe thead th {\n",
              "        text-align: right;\n",
              "    }\n",
              "</style>\n",
              "<table border=\"1\" class=\"dataframe\">\n",
              "  <thead>\n",
              "    <tr style=\"text-align: right;\">\n",
              "      <th></th>\n",
              "      <th>pickup_longitude</th>\n",
              "      <th>pickup_latitude</th>\n",
              "      <th>dropoff_longitude</th>\n",
              "      <th>dropoff_latitude</th>\n",
              "      <th>trip_duration</th>\n",
              "      <th>dist_meters</th>\n",
              "      <th>wait_sec</th>\n",
              "      <th>Pickup_year</th>\n",
              "      <th>pickup_month</th>\n",
              "      <th>pickup_day</th>\n",
              "      <th>pickup_Hour</th>\n",
              "      <th>pickup_minute</th>\n",
              "      <th>dropoff_year</th>\n",
              "      <th>dropoff_month</th>\n",
              "      <th>dropoff_day</th>\n",
              "      <th>dropoff_Hour</th>\n",
              "      <th>dropoff_minute</th>\n",
              "      <th>dist</th>\n",
              "      <th>Delta_distance</th>\n",
              "      <th>Trip_cost</th>\n",
              "    </tr>\n",
              "  </thead>\n",
              "  <tbody>\n",
              "    <tr>\n",
              "      <th>0</th>\n",
              "      <td>-74.170353</td>\n",
              "      <td>4.622699</td>\n",
              "      <td>-74.119259</td>\n",
              "      <td>4.572322</td>\n",
              "      <td>1419</td>\n",
              "      <td>11.935</td>\n",
              "      <td>293</td>\n",
              "      <td>2019</td>\n",
              "      <td>9</td>\n",
              "      <td>18</td>\n",
              "      <td>1</td>\n",
              "      <td>54</td>\n",
              "      <td>2019</td>\n",
              "      <td>9</td>\n",
              "      <td>18</td>\n",
              "      <td>2</td>\n",
              "      <td>17</td>\n",
              "      <td>7965.494773</td>\n",
              "      <td>3969.505227</td>\n",
              "      <td>929.13975</td>\n",
              "    </tr>\n",
              "    <tr>\n",
              "      <th>1</th>\n",
              "      <td>-74.123542</td>\n",
              "      <td>4.604075</td>\n",
              "      <td>-74.116125</td>\n",
              "      <td>4.572578</td>\n",
              "      <td>782</td>\n",
              "      <td>7.101</td>\n",
              "      <td>139</td>\n",
              "      <td>2019</td>\n",
              "      <td>9</td>\n",
              "      <td>18</td>\n",
              "      <td>3</td>\n",
              "      <td>31</td>\n",
              "      <td>2019</td>\n",
              "      <td>9</td>\n",
              "      <td>18</td>\n",
              "      <td>3</td>\n",
              "      <td>44</td>\n",
              "      <td>3597.532383</td>\n",
              "      <td>3503.467617</td>\n",
              "      <td>552.81285</td>\n",
              "    </tr>\n",
              "    <tr>\n",
              "      <th>3</th>\n",
              "      <td>-74.163398</td>\n",
              "      <td>4.641949</td>\n",
              "      <td>-74.165813</td>\n",
              "      <td>4.640649</td>\n",
              "      <td>66</td>\n",
              "      <td>0.318</td>\n",
              "      <td>52</td>\n",
              "      <td>2019</td>\n",
              "      <td>9</td>\n",
              "      <td>18</td>\n",
              "      <td>4</td>\n",
              "      <td>31</td>\n",
              "      <td>2019</td>\n",
              "      <td>9</td>\n",
              "      <td>18</td>\n",
              "      <td>4</td>\n",
              "      <td>32</td>\n",
              "      <td>304.184693</td>\n",
              "      <td>13.815307</td>\n",
              "      <td>24.75630</td>\n",
              "    </tr>\n",
              "    <tr>\n",
              "      <th>7</th>\n",
              "      <td>-74.049168</td>\n",
              "      <td>4.736697</td>\n",
              "      <td>-74.050641</td>\n",
              "      <td>4.718745</td>\n",
              "      <td>191</td>\n",
              "      <td>2.458</td>\n",
              "      <td>0</td>\n",
              "      <td>2019</td>\n",
              "      <td>9</td>\n",
              "      <td>18</td>\n",
              "      <td>10</td>\n",
              "      <td>8</td>\n",
              "      <td>2019</td>\n",
              "      <td>9</td>\n",
              "      <td>18</td>\n",
              "      <td>10</td>\n",
              "      <td>11</td>\n",
              "      <td>2002.803864</td>\n",
              "      <td>455.196136</td>\n",
              "      <td>191.35530</td>\n",
              "    </tr>\n",
              "    <tr>\n",
              "      <th>8</th>\n",
              "      <td>-74.049272</td>\n",
              "      <td>4.718333</td>\n",
              "      <td>-74.030313</td>\n",
              "      <td>4.710932</td>\n",
              "      <td>308</td>\n",
              "      <td>2.358</td>\n",
              "      <td>93</td>\n",
              "      <td>2019</td>\n",
              "      <td>9</td>\n",
              "      <td>18</td>\n",
              "      <td>10</td>\n",
              "      <td>11</td>\n",
              "      <td>2019</td>\n",
              "      <td>9</td>\n",
              "      <td>18</td>\n",
              "      <td>10</td>\n",
              "      <td>17</td>\n",
              "      <td>2256.462978</td>\n",
              "      <td>101.537022</td>\n",
              "      <td>183.57030</td>\n",
              "    </tr>\n",
              "  </tbody>\n",
              "</table>\n",
              "</div>"
            ],
            "text/plain": [
              "   pickup_longitude  pickup_latitude  ...  Delta_distance  Trip_cost\n",
              "0        -74.170353         4.622699  ...     3969.505227  929.13975\n",
              "1        -74.123542         4.604075  ...     3503.467617  552.81285\n",
              "3        -74.163398         4.641949  ...       13.815307   24.75630\n",
              "7        -74.049168         4.736697  ...      455.196136  191.35530\n",
              "8        -74.049272         4.718333  ...      101.537022  183.57030\n",
              "\n",
              "[5 rows x 20 columns]"
            ]
          },
          "metadata": {},
          "execution_count": 132
        },
        {
          "output_type": "stream",
          "name": "stdout",
          "text": [
            "time: 55.6 ms (started: 2021-11-12 00:55:04 +00:00)\n"
          ]
        }
      ]
    },
    {
      "cell_type": "code",
      "metadata": {
        "colab": {
          "base_uri": "https://localhost:8080/",
          "height": 240
        },
        "id": "JPiKsFwPRE4-",
        "outputId": "d4f1519a-e7b9-4c0d-fbe1-db1f0bd7648a"
      },
      "source": [
        "mexico_df_out.head()"
      ],
      "execution_count": 133,
      "outputs": [
        {
          "output_type": "execute_result",
          "data": {
            "text/html": [
              "<div>\n",
              "<style scoped>\n",
              "    .dataframe tbody tr th:only-of-type {\n",
              "        vertical-align: middle;\n",
              "    }\n",
              "\n",
              "    .dataframe tbody tr th {\n",
              "        vertical-align: top;\n",
              "    }\n",
              "\n",
              "    .dataframe thead th {\n",
              "        text-align: right;\n",
              "    }\n",
              "</style>\n",
              "<table border=\"1\" class=\"dataframe\">\n",
              "  <thead>\n",
              "    <tr style=\"text-align: right;\">\n",
              "      <th></th>\n",
              "      <th>pickup_longitude</th>\n",
              "      <th>pickup_latitude</th>\n",
              "      <th>dropoff_longitude</th>\n",
              "      <th>dropoff_latitude</th>\n",
              "      <th>trip_duration</th>\n",
              "      <th>dist_meters</th>\n",
              "      <th>wait_sec</th>\n",
              "      <th>Pickup_year</th>\n",
              "      <th>pickup_month</th>\n",
              "      <th>pickup_day</th>\n",
              "      <th>pickup_Hour</th>\n",
              "      <th>pickup_minute</th>\n",
              "      <th>dropoff_year</th>\n",
              "      <th>dropoff_month</th>\n",
              "      <th>dropoff_day</th>\n",
              "      <th>dropoff_Hour</th>\n",
              "      <th>dropoff_minute</th>\n",
              "      <th>dist</th>\n",
              "      <th>Delta_distance</th>\n",
              "      <th>Trip_cost</th>\n",
              "    </tr>\n",
              "  </thead>\n",
              "  <tbody>\n",
              "    <tr>\n",
              "      <th>2</th>\n",
              "      <td>-99.289603</td>\n",
              "      <td>19.326263</td>\n",
              "      <td>-99.271874</td>\n",
              "      <td>19.328530</td>\n",
              "      <td>681</td>\n",
              "      <td>2.848</td>\n",
              "      <td>129</td>\n",
              "      <td>2019</td>\n",
              "      <td>9</td>\n",
              "      <td>18</td>\n",
              "      <td>10</td>\n",
              "      <td>11</td>\n",
              "      <td>2019</td>\n",
              "      <td>9</td>\n",
              "      <td>18</td>\n",
              "      <td>10</td>\n",
              "      <td>23</td>\n",
              "      <td>1877.313238</td>\n",
              "      <td>970.686762</td>\n",
              "      <td>216.70432</td>\n",
              "    </tr>\n",
              "    <tr>\n",
              "      <th>3</th>\n",
              "      <td>-99.271161</td>\n",
              "      <td>19.328875</td>\n",
              "      <td>-99.279900</td>\n",
              "      <td>19.326256</td>\n",
              "      <td>436</td>\n",
              "      <td>1.409</td>\n",
              "      <td>106</td>\n",
              "      <td>2019</td>\n",
              "      <td>9</td>\n",
              "      <td>18</td>\n",
              "      <td>10</td>\n",
              "      <td>23</td>\n",
              "      <td>2019</td>\n",
              "      <td>9</td>\n",
              "      <td>18</td>\n",
              "      <td>10</td>\n",
              "      <td>30</td>\n",
              "      <td>962.103615</td>\n",
              "      <td>446.896385</td>\n",
              "      <td>107.21081</td>\n",
              "    </tr>\n",
              "    <tr>\n",
              "      <th>4</th>\n",
              "      <td>-99.282761</td>\n",
              "      <td>19.326944</td>\n",
              "      <td>-99.291705</td>\n",
              "      <td>19.322754</td>\n",
              "      <td>442</td>\n",
              "      <td>1.567</td>\n",
              "      <td>85</td>\n",
              "      <td>2019</td>\n",
              "      <td>9</td>\n",
              "      <td>18</td>\n",
              "      <td>10</td>\n",
              "      <td>44</td>\n",
              "      <td>2019</td>\n",
              "      <td>9</td>\n",
              "      <td>18</td>\n",
              "      <td>10</td>\n",
              "      <td>51</td>\n",
              "      <td>1047.844913</td>\n",
              "      <td>519.155087</td>\n",
              "      <td>119.23303</td>\n",
              "    </tr>\n",
              "    <tr>\n",
              "      <th>5</th>\n",
              "      <td>-99.289712</td>\n",
              "      <td>19.322929</td>\n",
              "      <td>-99.289280</td>\n",
              "      <td>19.325978</td>\n",
              "      <td>100</td>\n",
              "      <td>0.797</td>\n",
              "      <td>19</td>\n",
              "      <td>2019</td>\n",
              "      <td>9</td>\n",
              "      <td>18</td>\n",
              "      <td>10</td>\n",
              "      <td>58</td>\n",
              "      <td>2019</td>\n",
              "      <td>9</td>\n",
              "      <td>18</td>\n",
              "      <td>10</td>\n",
              "      <td>59</td>\n",
              "      <td>342.069774</td>\n",
              "      <td>454.930226</td>\n",
              "      <td>60.64373</td>\n",
              "    </tr>\n",
              "    <tr>\n",
              "      <th>6</th>\n",
              "      <td>-99.285391</td>\n",
              "      <td>19.326247</td>\n",
              "      <td>-99.282549</td>\n",
              "      <td>19.328117</td>\n",
              "      <td>345</td>\n",
              "      <td>0.676</td>\n",
              "      <td>169</td>\n",
              "      <td>2019</td>\n",
              "      <td>9</td>\n",
              "      <td>18</td>\n",
              "      <td>11</td>\n",
              "      <td>0</td>\n",
              "      <td>2019</td>\n",
              "      <td>9</td>\n",
              "      <td>18</td>\n",
              "      <td>11</td>\n",
              "      <td>5</td>\n",
              "      <td>363.599858</td>\n",
              "      <td>312.400142</td>\n",
              "      <td>51.43684</td>\n",
              "    </tr>\n",
              "  </tbody>\n",
              "</table>\n",
              "</div>"
            ],
            "text/plain": [
              "   pickup_longitude  pickup_latitude  ...  Delta_distance  Trip_cost\n",
              "2        -99.289603        19.326263  ...      970.686762  216.70432\n",
              "3        -99.271161        19.328875  ...      446.896385  107.21081\n",
              "4        -99.282761        19.326944  ...      519.155087  119.23303\n",
              "5        -99.289712        19.322929  ...      454.930226   60.64373\n",
              "6        -99.285391        19.326247  ...      312.400142   51.43684\n",
              "\n",
              "[5 rows x 20 columns]"
            ]
          },
          "metadata": {},
          "execution_count": 133
        },
        {
          "output_type": "stream",
          "name": "stdout",
          "text": [
            "time: 49.9 ms (started: 2021-11-12 00:55:04 +00:00)\n"
          ]
        }
      ]
    },
    {
      "cell_type": "code",
      "metadata": {
        "colab": {
          "base_uri": "https://localhost:8080/",
          "height": 240
        },
        "id": "h7E2j0M8REk9",
        "outputId": "89b45e65-dceb-46d3-90e4-9a3aa527f80f"
      },
      "source": [
        "quito_df_out.head()"
      ],
      "execution_count": 134,
      "outputs": [
        {
          "output_type": "execute_result",
          "data": {
            "text/html": [
              "<div>\n",
              "<style scoped>\n",
              "    .dataframe tbody tr th:only-of-type {\n",
              "        vertical-align: middle;\n",
              "    }\n",
              "\n",
              "    .dataframe tbody tr th {\n",
              "        vertical-align: top;\n",
              "    }\n",
              "\n",
              "    .dataframe thead th {\n",
              "        text-align: right;\n",
              "    }\n",
              "</style>\n",
              "<table border=\"1\" class=\"dataframe\">\n",
              "  <thead>\n",
              "    <tr style=\"text-align: right;\">\n",
              "      <th></th>\n",
              "      <th>pickup_longitude</th>\n",
              "      <th>pickup_latitude</th>\n",
              "      <th>dropoff_longitude</th>\n",
              "      <th>dropoff_latitude</th>\n",
              "      <th>trip_duration</th>\n",
              "      <th>dist_meters</th>\n",
              "      <th>wait_sec</th>\n",
              "      <th>Pickup_year</th>\n",
              "      <th>pickup_month</th>\n",
              "      <th>pickup_day</th>\n",
              "      <th>pickup_Hour</th>\n",
              "      <th>pickup_minute</th>\n",
              "      <th>dropoff_year</th>\n",
              "      <th>dropoff_month</th>\n",
              "      <th>dropoff_day</th>\n",
              "      <th>dropoff_Hour</th>\n",
              "      <th>dropoff_minute</th>\n",
              "      <th>dist</th>\n",
              "      <th>Delta_distance</th>\n",
              "      <th>Trip_cost</th>\n",
              "    </tr>\n",
              "  </thead>\n",
              "  <tbody>\n",
              "    <tr>\n",
              "      <th>4</th>\n",
              "      <td>-78.521818</td>\n",
              "      <td>-0.208480</td>\n",
              "      <td>-78.504558</td>\n",
              "      <td>-0.222462</td>\n",
              "      <td>948</td>\n",
              "      <td>4.625</td>\n",
              "      <td>314</td>\n",
              "      <td>2019</td>\n",
              "      <td>9</td>\n",
              "      <td>18</td>\n",
              "      <td>7</td>\n",
              "      <td>58</td>\n",
              "      <td>2019</td>\n",
              "      <td>9</td>\n",
              "      <td>18</td>\n",
              "      <td>8</td>\n",
              "      <td>14</td>\n",
              "      <td>2470.005918</td>\n",
              "      <td>2154.994082</td>\n",
              "      <td>333.97125</td>\n",
              "    </tr>\n",
              "    <tr>\n",
              "      <th>5</th>\n",
              "      <td>-78.509202</td>\n",
              "      <td>-0.194839</td>\n",
              "      <td>-78.518764</td>\n",
              "      <td>-0.228794</td>\n",
              "      <td>1510</td>\n",
              "      <td>5.820</td>\n",
              "      <td>630</td>\n",
              "      <td>2019</td>\n",
              "      <td>8</td>\n",
              "      <td>27</td>\n",
              "      <td>4</td>\n",
              "      <td>19</td>\n",
              "      <td>2019</td>\n",
              "      <td>8</td>\n",
              "      <td>27</td>\n",
              "      <td>4</td>\n",
              "      <td>44</td>\n",
              "      <td>3922.541858</td>\n",
              "      <td>1897.458142</td>\n",
              "      <td>420.26220</td>\n",
              "    </tr>\n",
              "    <tr>\n",
              "      <th>6</th>\n",
              "      <td>-78.481542</td>\n",
              "      <td>-0.154317</td>\n",
              "      <td>-78.518420</td>\n",
              "      <td>-0.191547</td>\n",
              "      <td>1341</td>\n",
              "      <td>7.593</td>\n",
              "      <td>510</td>\n",
              "      <td>2019</td>\n",
              "      <td>9</td>\n",
              "      <td>18</td>\n",
              "      <td>10</td>\n",
              "      <td>8</td>\n",
              "      <td>2019</td>\n",
              "      <td>9</td>\n",
              "      <td>18</td>\n",
              "      <td>10</td>\n",
              "      <td>31</td>\n",
              "      <td>5826.980604</td>\n",
              "      <td>1766.019396</td>\n",
              "      <td>548.29053</td>\n",
              "    </tr>\n",
              "    <tr>\n",
              "      <th>9</th>\n",
              "      <td>-78.497122</td>\n",
              "      <td>-0.200376</td>\n",
              "      <td>-78.499757</td>\n",
              "      <td>-0.207293</td>\n",
              "      <td>109</td>\n",
              "      <td>0.827</td>\n",
              "      <td>29</td>\n",
              "      <td>2019</td>\n",
              "      <td>9</td>\n",
              "      <td>18</td>\n",
              "      <td>12</td>\n",
              "      <td>21</td>\n",
              "      <td>2019</td>\n",
              "      <td>9</td>\n",
              "      <td>18</td>\n",
              "      <td>12</td>\n",
              "      <td>23</td>\n",
              "      <td>823.075648</td>\n",
              "      <td>3.924352</td>\n",
              "      <td>59.71767</td>\n",
              "    </tr>\n",
              "    <tr>\n",
              "      <th>10</th>\n",
              "      <td>-78.499770</td>\n",
              "      <td>-0.207324</td>\n",
              "      <td>-78.506766</td>\n",
              "      <td>-0.226037</td>\n",
              "      <td>495</td>\n",
              "      <td>2.549</td>\n",
              "      <td>129</td>\n",
              "      <td>2019</td>\n",
              "      <td>9</td>\n",
              "      <td>18</td>\n",
              "      <td>12</td>\n",
              "      <td>23</td>\n",
              "      <td>2019</td>\n",
              "      <td>9</td>\n",
              "      <td>18</td>\n",
              "      <td>12</td>\n",
              "      <td>31</td>\n",
              "      <td>2221.353695</td>\n",
              "      <td>327.646305</td>\n",
              "      <td>184.06329</td>\n",
              "    </tr>\n",
              "  </tbody>\n",
              "</table>\n",
              "</div>"
            ],
            "text/plain": [
              "    pickup_longitude  pickup_latitude  ...  Delta_distance  Trip_cost\n",
              "4         -78.521818        -0.208480  ...     2154.994082  333.97125\n",
              "5         -78.509202        -0.194839  ...     1897.458142  420.26220\n",
              "6         -78.481542        -0.154317  ...     1766.019396  548.29053\n",
              "9         -78.497122        -0.200376  ...        3.924352   59.71767\n",
              "10        -78.499770        -0.207324  ...      327.646305  184.06329\n",
              "\n",
              "[5 rows x 20 columns]"
            ]
          },
          "metadata": {},
          "execution_count": 134
        },
        {
          "output_type": "stream",
          "name": "stdout",
          "text": [
            "time: 49.7 ms (started: 2021-11-12 00:55:04 +00:00)\n"
          ]
        }
      ]
    },
    {
      "cell_type": "code",
      "metadata": {
        "colab": {
          "base_uri": "https://localhost:8080/",
          "height": 240
        },
        "id": "B63RSooVIHYs",
        "outputId": "0e46974f-c276-4542-c28e-40f9b485c7f7"
      },
      "source": [
        "data = pd.concat([bogota_df_out,mexico_df_out],ignore_index=True)\n",
        "data.tail()"
      ],
      "execution_count": 135,
      "outputs": [
        {
          "output_type": "execute_result",
          "data": {
            "text/html": [
              "<div>\n",
              "<style scoped>\n",
              "    .dataframe tbody tr th:only-of-type {\n",
              "        vertical-align: middle;\n",
              "    }\n",
              "\n",
              "    .dataframe tbody tr th {\n",
              "        vertical-align: top;\n",
              "    }\n",
              "\n",
              "    .dataframe thead th {\n",
              "        text-align: right;\n",
              "    }\n",
              "</style>\n",
              "<table border=\"1\" class=\"dataframe\">\n",
              "  <thead>\n",
              "    <tr style=\"text-align: right;\">\n",
              "      <th></th>\n",
              "      <th>pickup_longitude</th>\n",
              "      <th>pickup_latitude</th>\n",
              "      <th>dropoff_longitude</th>\n",
              "      <th>dropoff_latitude</th>\n",
              "      <th>trip_duration</th>\n",
              "      <th>dist_meters</th>\n",
              "      <th>wait_sec</th>\n",
              "      <th>Pickup_year</th>\n",
              "      <th>pickup_month</th>\n",
              "      <th>pickup_day</th>\n",
              "      <th>pickup_Hour</th>\n",
              "      <th>pickup_minute</th>\n",
              "      <th>dropoff_year</th>\n",
              "      <th>dropoff_month</th>\n",
              "      <th>dropoff_day</th>\n",
              "      <th>dropoff_Hour</th>\n",
              "      <th>dropoff_minute</th>\n",
              "      <th>dist</th>\n",
              "      <th>Delta_distance</th>\n",
              "      <th>Trip_cost</th>\n",
              "    </tr>\n",
              "  </thead>\n",
              "  <tbody>\n",
              "    <tr>\n",
              "      <th>11826</th>\n",
              "      <td>-99.202185</td>\n",
              "      <td>19.376042</td>\n",
              "      <td>-99.193756</td>\n",
              "      <td>19.388496</td>\n",
              "      <td>252</td>\n",
              "      <td>2.280</td>\n",
              "      <td>33</td>\n",
              "      <td>2019</td>\n",
              "      <td>10</td>\n",
              "      <td>27</td>\n",
              "      <td>8</td>\n",
              "      <td>11</td>\n",
              "      <td>2019</td>\n",
              "      <td>10</td>\n",
              "      <td>27</td>\n",
              "      <td>8</td>\n",
              "      <td>15</td>\n",
              "      <td>1642.979958</td>\n",
              "      <td>637.020042</td>\n",
              "      <td>173.48520</td>\n",
              "    </tr>\n",
              "    <tr>\n",
              "      <th>11827</th>\n",
              "      <td>-99.180762</td>\n",
              "      <td>19.369210</td>\n",
              "      <td>-99.180013</td>\n",
              "      <td>19.370270</td>\n",
              "      <td>3846</td>\n",
              "      <td>8.261</td>\n",
              "      <td>427</td>\n",
              "      <td>2019</td>\n",
              "      <td>10</td>\n",
              "      <td>27</td>\n",
              "      <td>9</td>\n",
              "      <td>10</td>\n",
              "      <td>2019</td>\n",
              "      <td>10</td>\n",
              "      <td>27</td>\n",
              "      <td>10</td>\n",
              "      <td>14</td>\n",
              "      <td>141.682546</td>\n",
              "      <td>8119.317454</td>\n",
              "      <td>628.57949</td>\n",
              "    </tr>\n",
              "    <tr>\n",
              "      <th>11828</th>\n",
              "      <td>-99.059582</td>\n",
              "      <td>19.307219</td>\n",
              "      <td>-99.065798</td>\n",
              "      <td>19.306472</td>\n",
              "      <td>518</td>\n",
              "      <td>2.498</td>\n",
              "      <td>115</td>\n",
              "      <td>2019</td>\n",
              "      <td>10</td>\n",
              "      <td>27</td>\n",
              "      <td>10</td>\n",
              "      <td>53</td>\n",
              "      <td>2019</td>\n",
              "      <td>10</td>\n",
              "      <td>27</td>\n",
              "      <td>11</td>\n",
              "      <td>1</td>\n",
              "      <td>657.571766</td>\n",
              "      <td>1840.428234</td>\n",
              "      <td>190.07282</td>\n",
              "    </tr>\n",
              "    <tr>\n",
              "      <th>11829</th>\n",
              "      <td>-99.170637</td>\n",
              "      <td>19.283637</td>\n",
              "      <td>-99.178194</td>\n",
              "      <td>19.280982</td>\n",
              "      <td>1131</td>\n",
              "      <td>6.051</td>\n",
              "      <td>228</td>\n",
              "      <td>2019</td>\n",
              "      <td>10</td>\n",
              "      <td>27</td>\n",
              "      <td>11</td>\n",
              "      <td>19</td>\n",
              "      <td>2019</td>\n",
              "      <td>10</td>\n",
              "      <td>27</td>\n",
              "      <td>11</td>\n",
              "      <td>38</td>\n",
              "      <td>846.351139</td>\n",
              "      <td>5204.648861</td>\n",
              "      <td>460.42059</td>\n",
              "    </tr>\n",
              "    <tr>\n",
              "      <th>11830</th>\n",
              "      <td>-99.194384</td>\n",
              "      <td>19.396768</td>\n",
              "      <td>-99.194622</td>\n",
              "      <td>19.396717</td>\n",
              "      <td>104</td>\n",
              "      <td>0.049</td>\n",
              "      <td>96</td>\n",
              "      <td>2019</td>\n",
              "      <td>10</td>\n",
              "      <td>28</td>\n",
              "      <td>6</td>\n",
              "      <td>49</td>\n",
              "      <td>2019</td>\n",
              "      <td>10</td>\n",
              "      <td>28</td>\n",
              "      <td>6</td>\n",
              "      <td>51</td>\n",
              "      <td>25.645857</td>\n",
              "      <td>23.354143</td>\n",
              "      <td>3.72841</td>\n",
              "    </tr>\n",
              "  </tbody>\n",
              "</table>\n",
              "</div>"
            ],
            "text/plain": [
              "       pickup_longitude  pickup_latitude  ...  Delta_distance  Trip_cost\n",
              "11826        -99.202185        19.376042  ...      637.020042  173.48520\n",
              "11827        -99.180762        19.369210  ...     8119.317454  628.57949\n",
              "11828        -99.059582        19.307219  ...     1840.428234  190.07282\n",
              "11829        -99.170637        19.283637  ...     5204.648861  460.42059\n",
              "11830        -99.194384        19.396768  ...       23.354143    3.72841\n",
              "\n",
              "[5 rows x 20 columns]"
            ]
          },
          "metadata": {},
          "execution_count": 135
        },
        {
          "output_type": "stream",
          "name": "stdout",
          "text": [
            "time: 52.7 ms (started: 2021-11-12 00:55:04 +00:00)\n"
          ]
        }
      ]
    },
    {
      "cell_type": "code",
      "metadata": {
        "colab": {
          "base_uri": "https://localhost:8080/"
        },
        "id": "pp3743X7IHB-",
        "outputId": "43afd366-1d05-4db8-849a-3a1da670ae32"
      },
      "source": [
        "Total_data = pd.concat([data,quito_df_out],ignore_index=True)\n",
        "Total_data.shape "
      ],
      "execution_count": 136,
      "outputs": [
        {
          "output_type": "execute_result",
          "data": {
            "text/plain": [
              "(34855, 20)"
            ]
          },
          "metadata": {},
          "execution_count": 136
        },
        {
          "output_type": "stream",
          "name": "stdout",
          "text": [
            "time: 20.9 ms (started: 2021-11-12 00:55:04 +00:00)\n"
          ]
        }
      ]
    },
    {
      "cell_type": "code",
      "metadata": {
        "colab": {
          "base_uri": "https://localhost:8080/"
        },
        "id": "gpkM0oXhIGwv",
        "outputId": "9a44b9b6-6837-476c-c66b-f04ca54be8af"
      },
      "source": [
        "X = Total_data[['wait_sec']]\n",
        "y = Total_data['Trip_cost']"
      ],
      "execution_count": 137,
      "outputs": [
        {
          "output_type": "stream",
          "name": "stdout",
          "text": [
            "time: 15.7 ms (started: 2021-11-12 00:55:05 +00:00)\n"
          ]
        }
      ]
    },
    {
      "cell_type": "code",
      "metadata": {
        "colab": {
          "base_uri": "https://localhost:8080/"
        },
        "id": "BG6liFcnOvbL",
        "outputId": "eb6a9780-58b5-4253-b6b4-91ceacca389e"
      },
      "source": [
        "from sklearn.model_selection import train_test_split\n",
        "from sklearn.preprocessing import StandardScaler"
      ],
      "execution_count": 138,
      "outputs": [
        {
          "output_type": "stream",
          "name": "stdout",
          "text": [
            "time: 2.92 ms (started: 2021-11-12 00:55:05 +00:00)\n"
          ]
        }
      ]
    },
    {
      "cell_type": "code",
      "metadata": {
        "colab": {
          "base_uri": "https://localhost:8080/",
          "height": 434
        },
        "id": "-n5OpcYYaR46",
        "outputId": "bb7528c3-aee7-4ce4-914f-4c45bdc029a4"
      },
      "source": [
        "X"
      ],
      "execution_count": 139,
      "outputs": [
        {
          "output_type": "execute_result",
          "data": {
            "text/html": [
              "<div>\n",
              "<style scoped>\n",
              "    .dataframe tbody tr th:only-of-type {\n",
              "        vertical-align: middle;\n",
              "    }\n",
              "\n",
              "    .dataframe tbody tr th {\n",
              "        vertical-align: top;\n",
              "    }\n",
              "\n",
              "    .dataframe thead th {\n",
              "        text-align: right;\n",
              "    }\n",
              "</style>\n",
              "<table border=\"1\" class=\"dataframe\">\n",
              "  <thead>\n",
              "    <tr style=\"text-align: right;\">\n",
              "      <th></th>\n",
              "      <th>wait_sec</th>\n",
              "    </tr>\n",
              "  </thead>\n",
              "  <tbody>\n",
              "    <tr>\n",
              "      <th>0</th>\n",
              "      <td>293</td>\n",
              "    </tr>\n",
              "    <tr>\n",
              "      <th>1</th>\n",
              "      <td>139</td>\n",
              "    </tr>\n",
              "    <tr>\n",
              "      <th>2</th>\n",
              "      <td>52</td>\n",
              "    </tr>\n",
              "    <tr>\n",
              "      <th>3</th>\n",
              "      <td>0</td>\n",
              "    </tr>\n",
              "    <tr>\n",
              "      <th>4</th>\n",
              "      <td>93</td>\n",
              "    </tr>\n",
              "    <tr>\n",
              "      <th>...</th>\n",
              "      <td>...</td>\n",
              "    </tr>\n",
              "    <tr>\n",
              "      <th>34850</th>\n",
              "      <td>490</td>\n",
              "    </tr>\n",
              "    <tr>\n",
              "      <th>34851</th>\n",
              "      <td>765</td>\n",
              "    </tr>\n",
              "    <tr>\n",
              "      <th>34852</th>\n",
              "      <td>329</td>\n",
              "    </tr>\n",
              "    <tr>\n",
              "      <th>34853</th>\n",
              "      <td>159</td>\n",
              "    </tr>\n",
              "    <tr>\n",
              "      <th>34854</th>\n",
              "      <td>875</td>\n",
              "    </tr>\n",
              "  </tbody>\n",
              "</table>\n",
              "<p>34855 rows × 1 columns</p>\n",
              "</div>"
            ],
            "text/plain": [
              "       wait_sec\n",
              "0           293\n",
              "1           139\n",
              "2            52\n",
              "3             0\n",
              "4            93\n",
              "...         ...\n",
              "34850       490\n",
              "34851       765\n",
              "34852       329\n",
              "34853       159\n",
              "34854       875\n",
              "\n",
              "[34855 rows x 1 columns]"
            ]
          },
          "metadata": {},
          "execution_count": 139
        },
        {
          "output_type": "stream",
          "name": "stdout",
          "text": [
            "time: 21 ms (started: 2021-11-12 00:55:05 +00:00)\n"
          ]
        }
      ]
    },
    {
      "cell_type": "code",
      "metadata": {
        "colab": {
          "base_uri": "https://localhost:8080/"
        },
        "id": "2Trbbjx9kpqz",
        "outputId": "107556bc-c347-46e8-f782-22ce51332de8"
      },
      "source": [
        "X = X[['wait_sec']] / 60"
      ],
      "execution_count": 140,
      "outputs": [
        {
          "output_type": "stream",
          "name": "stdout",
          "text": [
            "time: 3.95 ms (started: 2021-11-12 00:55:05 +00:00)\n"
          ]
        }
      ]
    },
    {
      "cell_type": "code",
      "metadata": {
        "colab": {
          "base_uri": "https://localhost:8080/",
          "height": 434
        },
        "id": "rehgd3V8k4ex",
        "outputId": "1154d5d8-6196-4685-f963-e4d8e2f165ac"
      },
      "source": [
        "X"
      ],
      "execution_count": 141,
      "outputs": [
        {
          "output_type": "execute_result",
          "data": {
            "text/html": [
              "<div>\n",
              "<style scoped>\n",
              "    .dataframe tbody tr th:only-of-type {\n",
              "        vertical-align: middle;\n",
              "    }\n",
              "\n",
              "    .dataframe tbody tr th {\n",
              "        vertical-align: top;\n",
              "    }\n",
              "\n",
              "    .dataframe thead th {\n",
              "        text-align: right;\n",
              "    }\n",
              "</style>\n",
              "<table border=\"1\" class=\"dataframe\">\n",
              "  <thead>\n",
              "    <tr style=\"text-align: right;\">\n",
              "      <th></th>\n",
              "      <th>wait_sec</th>\n",
              "    </tr>\n",
              "  </thead>\n",
              "  <tbody>\n",
              "    <tr>\n",
              "      <th>0</th>\n",
              "      <td>4.883333</td>\n",
              "    </tr>\n",
              "    <tr>\n",
              "      <th>1</th>\n",
              "      <td>2.316667</td>\n",
              "    </tr>\n",
              "    <tr>\n",
              "      <th>2</th>\n",
              "      <td>0.866667</td>\n",
              "    </tr>\n",
              "    <tr>\n",
              "      <th>3</th>\n",
              "      <td>0.000000</td>\n",
              "    </tr>\n",
              "    <tr>\n",
              "      <th>4</th>\n",
              "      <td>1.550000</td>\n",
              "    </tr>\n",
              "    <tr>\n",
              "      <th>...</th>\n",
              "      <td>...</td>\n",
              "    </tr>\n",
              "    <tr>\n",
              "      <th>34850</th>\n",
              "      <td>8.166667</td>\n",
              "    </tr>\n",
              "    <tr>\n",
              "      <th>34851</th>\n",
              "      <td>12.750000</td>\n",
              "    </tr>\n",
              "    <tr>\n",
              "      <th>34852</th>\n",
              "      <td>5.483333</td>\n",
              "    </tr>\n",
              "    <tr>\n",
              "      <th>34853</th>\n",
              "      <td>2.650000</td>\n",
              "    </tr>\n",
              "    <tr>\n",
              "      <th>34854</th>\n",
              "      <td>14.583333</td>\n",
              "    </tr>\n",
              "  </tbody>\n",
              "</table>\n",
              "<p>34855 rows × 1 columns</p>\n",
              "</div>"
            ],
            "text/plain": [
              "        wait_sec\n",
              "0       4.883333\n",
              "1       2.316667\n",
              "2       0.866667\n",
              "3       0.000000\n",
              "4       1.550000\n",
              "...          ...\n",
              "34850   8.166667\n",
              "34851  12.750000\n",
              "34852   5.483333\n",
              "34853   2.650000\n",
              "34854  14.583333\n",
              "\n",
              "[34855 rows x 1 columns]"
            ]
          },
          "metadata": {},
          "execution_count": 141
        },
        {
          "output_type": "stream",
          "name": "stdout",
          "text": [
            "time: 16.5 ms (started: 2021-11-12 00:55:05 +00:00)\n"
          ]
        }
      ]
    },
    {
      "cell_type": "code",
      "metadata": {
        "colab": {
          "base_uri": "https://localhost:8080/"
        },
        "id": "kPDZQd7Zk8qr",
        "outputId": "6cc2d0c7-7e53-4f16-ad05-d3da9d93870a"
      },
      "source": [
        "X.rename({'wait_sec':'wait_min'},axis=1,inplace=True)\n"
      ],
      "execution_count": 142,
      "outputs": [
        {
          "output_type": "stream",
          "name": "stdout",
          "text": [
            "time: 2.84 ms (started: 2021-11-12 00:55:05 +00:00)\n"
          ]
        }
      ]
    },
    {
      "cell_type": "code",
      "metadata": {
        "colab": {
          "base_uri": "https://localhost:8080/",
          "height": 434
        },
        "id": "PdqUFN7NlKwR",
        "outputId": "8095692d-026b-4397-f5d5-6cc50d842baf"
      },
      "source": [
        "X"
      ],
      "execution_count": 143,
      "outputs": [
        {
          "output_type": "execute_result",
          "data": {
            "text/html": [
              "<div>\n",
              "<style scoped>\n",
              "    .dataframe tbody tr th:only-of-type {\n",
              "        vertical-align: middle;\n",
              "    }\n",
              "\n",
              "    .dataframe tbody tr th {\n",
              "        vertical-align: top;\n",
              "    }\n",
              "\n",
              "    .dataframe thead th {\n",
              "        text-align: right;\n",
              "    }\n",
              "</style>\n",
              "<table border=\"1\" class=\"dataframe\">\n",
              "  <thead>\n",
              "    <tr style=\"text-align: right;\">\n",
              "      <th></th>\n",
              "      <th>wait_min</th>\n",
              "    </tr>\n",
              "  </thead>\n",
              "  <tbody>\n",
              "    <tr>\n",
              "      <th>0</th>\n",
              "      <td>4.883333</td>\n",
              "    </tr>\n",
              "    <tr>\n",
              "      <th>1</th>\n",
              "      <td>2.316667</td>\n",
              "    </tr>\n",
              "    <tr>\n",
              "      <th>2</th>\n",
              "      <td>0.866667</td>\n",
              "    </tr>\n",
              "    <tr>\n",
              "      <th>3</th>\n",
              "      <td>0.000000</td>\n",
              "    </tr>\n",
              "    <tr>\n",
              "      <th>4</th>\n",
              "      <td>1.550000</td>\n",
              "    </tr>\n",
              "    <tr>\n",
              "      <th>...</th>\n",
              "      <td>...</td>\n",
              "    </tr>\n",
              "    <tr>\n",
              "      <th>34850</th>\n",
              "      <td>8.166667</td>\n",
              "    </tr>\n",
              "    <tr>\n",
              "      <th>34851</th>\n",
              "      <td>12.750000</td>\n",
              "    </tr>\n",
              "    <tr>\n",
              "      <th>34852</th>\n",
              "      <td>5.483333</td>\n",
              "    </tr>\n",
              "    <tr>\n",
              "      <th>34853</th>\n",
              "      <td>2.650000</td>\n",
              "    </tr>\n",
              "    <tr>\n",
              "      <th>34854</th>\n",
              "      <td>14.583333</td>\n",
              "    </tr>\n",
              "  </tbody>\n",
              "</table>\n",
              "<p>34855 rows × 1 columns</p>\n",
              "</div>"
            ],
            "text/plain": [
              "        wait_min\n",
              "0       4.883333\n",
              "1       2.316667\n",
              "2       0.866667\n",
              "3       0.000000\n",
              "4       1.550000\n",
              "...          ...\n",
              "34850   8.166667\n",
              "34851  12.750000\n",
              "34852   5.483333\n",
              "34853   2.650000\n",
              "34854  14.583333\n",
              "\n",
              "[34855 rows x 1 columns]"
            ]
          },
          "metadata": {},
          "execution_count": 143
        },
        {
          "output_type": "stream",
          "name": "stdout",
          "text": [
            "time: 16 ms (started: 2021-11-12 00:55:05 +00:00)\n"
          ]
        }
      ]
    },
    {
      "cell_type": "code",
      "metadata": {
        "colab": {
          "base_uri": "https://localhost:8080/"
        },
        "id": "KffT1nT4aoVd",
        "outputId": "b9837f3e-0f35-4bdf-8724-7f201a479ab3"
      },
      "source": [
        "y"
      ],
      "execution_count": 144,
      "outputs": [
        {
          "output_type": "execute_result",
          "data": {
            "text/plain": [
              "0        929.13975\n",
              "1        552.81285\n",
              "2         24.75630\n",
              "3        191.35530\n",
              "4        183.57030\n",
              "           ...    \n",
              "34850    407.26440\n",
              "34851    425.31690\n",
              "34852    218.86851\n",
              "34853    152.65194\n",
              "34854    709.10220\n",
              "Name: Trip_cost, Length: 34855, dtype: float64"
            ]
          },
          "metadata": {},
          "execution_count": 144
        },
        {
          "output_type": "stream",
          "name": "stdout",
          "text": [
            "time: 8.35 ms (started: 2021-11-12 00:55:05 +00:00)\n"
          ]
        }
      ]
    },
    {
      "cell_type": "code",
      "metadata": {
        "colab": {
          "base_uri": "https://localhost:8080/"
        },
        "id": "KDFZPRDcaoNR",
        "outputId": "d3bc6ae0-8465-4fb3-fead-fb340dde4a26"
      },
      "source": [
        "X_train,X_test, y_train,y_test = train_test_split(X,y, test_size=0.3,random_state=0)"
      ],
      "execution_count": 145,
      "outputs": [
        {
          "output_type": "stream",
          "name": "stdout",
          "text": [
            "time: 10.9 ms (started: 2021-11-12 00:55:05 +00:00)\n"
          ]
        }
      ]
    },
    {
      "cell_type": "code",
      "metadata": {
        "colab": {
          "base_uri": "https://localhost:8080/"
        },
        "id": "Y0oKIn5gaoGT",
        "outputId": "56fc0221-b4c6-4ba2-a9d0-fe5fcf560734"
      },
      "source": [
        "scaler = StandardScaler()\n",
        "X_train_scaled = scaler.fit_transform(X_train)\n",
        "X_test_scaled = scaler.transform(X_test)"
      ],
      "execution_count": 146,
      "outputs": [
        {
          "output_type": "stream",
          "name": "stdout",
          "text": [
            "time: 13.1 ms (started: 2021-11-12 00:55:05 +00:00)\n"
          ]
        }
      ]
    },
    {
      "cell_type": "code",
      "metadata": {
        "colab": {
          "base_uri": "https://localhost:8080/"
        },
        "id": "UCq01b0JaoBE",
        "outputId": "deb767d1-2fc1-494b-b83c-327cb66eaa77"
      },
      "source": [
        "from sklearn.linear_model import LinearRegression\n",
        "reg = LinearRegression()\n",
        "reg.fit(X_train, y_train)\n"
      ],
      "execution_count": 147,
      "outputs": [
        {
          "output_type": "execute_result",
          "data": {
            "text/plain": [
              "LinearRegression(copy_X=True, fit_intercept=True, n_jobs=None, normalize=False)"
            ]
          },
          "metadata": {},
          "execution_count": 147
        },
        {
          "output_type": "stream",
          "name": "stdout",
          "text": [
            "time: 12.7 ms (started: 2021-11-12 00:55:05 +00:00)\n"
          ]
        }
      ]
    },
    {
      "cell_type": "code",
      "metadata": {
        "colab": {
          "base_uri": "https://localhost:8080/"
        },
        "id": "TosNab3Man4I",
        "outputId": "d432d88b-7adb-4a61-bd8d-d38b74a5b18d"
      },
      "source": [
        "y_pred = reg.predict(X_test)\n",
        "from sklearn.metrics import r2_score,mean_squared_error\n",
        "print('The R-square...',r2_score(y_test,y_pred))\n",
        "print('RMSE value is..',np.sqrt(mean_squared_error(y_test,y_pred)))"
      ],
      "execution_count": 148,
      "outputs": [
        {
          "output_type": "stream",
          "name": "stdout",
          "text": [
            "The R-square... 0.17899950501970563\n",
            "RMSE value is.. 241.6012821073148\n",
            "time: 12.9 ms (started: 2021-11-12 00:55:05 +00:00)\n"
          ]
        }
      ]
    },
    {
      "cell_type": "code",
      "metadata": {
        "colab": {
          "base_uri": "https://localhost:8080/"
        },
        "id": "JQW0s2cKansU",
        "outputId": "04bef1dc-a1f8-4d84-8408-987605c5cf7c"
      },
      "source": [
        "from sklearn.model_selection import KFold\n",
        "# from sklearn.tree import DecisionTreeRegressor\n",
        "# model=DecisionTreeRegressor()\n",
        "kfold_validation=KFold(10)\n"
      ],
      "execution_count": 149,
      "outputs": [
        {
          "output_type": "stream",
          "name": "stdout",
          "text": [
            "time: 3.76 ms (started: 2021-11-12 00:55:05 +00:00)\n"
          ]
        }
      ]
    },
    {
      "cell_type": "code",
      "metadata": {
        "colab": {
          "base_uri": "https://localhost:8080/"
        },
        "id": "A_yQrv0QanY2",
        "outputId": "70413f67-8ec9-429d-ef8d-5243809f703c"
      },
      "source": [
        "import numpy as np\n",
        "from sklearn.model_selection import cross_val_score\n",
        "results=cross_val_score(reg,X_train,y_train,cv=kfold_validation)\n",
        "print(np.mean(results))\n"
      ],
      "execution_count": 150,
      "outputs": [
        {
          "output_type": "stream",
          "name": "stdout",
          "text": [
            "0.18770465638670458\n",
            "time: 72.1 ms (started: 2021-11-12 00:55:05 +00:00)\n"
          ]
        }
      ]
    },
    {
      "cell_type": "code",
      "metadata": {
        "colab": {
          "base_uri": "https://localhost:8080/",
          "height": 517
        },
        "id": "lOUwn2sUmPSt",
        "outputId": "a4ceb8c8-e0b4-4197-cbbc-2142a9328aeb"
      },
      "source": [
        "import numpy as np\n",
        "import seaborn as sns\n",
        "import matplotlib.pyplot as plt\n",
        " \n",
        "res = sns.distplot(X)\n",
        "plt.show()\n"
      ],
      "execution_count": 151,
      "outputs": [
        {
          "output_type": "display_data",
          "data": {
            "image/png": "[encoded data removed]",
            "text/plain": [
              "<Figure size 1058.4x595.44 with 1 Axes>"
            ]
          },
          "metadata": {}
        },
        {
          "output_type": "stream",
          "name": "stdout",
          "text": [
            "time: 804 ms (started: 2021-11-12 00:55:05 +00:00)\n"
          ]
        }
      ]
    },
    {
      "cell_type": "code",
      "metadata": {
        "colab": {
          "base_uri": "https://localhost:8080/"
        },
        "id": "p9IiT8MunRLK",
        "outputId": "410187a5-1b5f-4001-d178-822d0982ea24"
      },
      "source": [
        "optimum_price = y_pred.mean()"
      ],
      "execution_count": 164,
      "outputs": [
        {
          "output_type": "stream",
          "name": "stdout",
          "text": [
            "time: 2.47 ms (started: 2021-11-12 01:23:02 +00:00)\n"
          ]
        }
      ]
    },
    {
      "cell_type": "code",
      "metadata": {
        "colab": {
          "base_uri": "https://localhost:8080/"
        },
        "id": "PslcL65svXOx",
        "outputId": "fed9ec91-daab-4199-ddf6-1f4f306baa71"
      },
      "source": [
        "optimum_price"
      ],
      "execution_count": 165,
      "outputs": [
        {
          "output_type": "execute_result",
          "data": {
            "text/plain": [
              "325.01110385491444"
            ]
          },
          "metadata": {},
          "execution_count": 165
        },
        {
          "output_type": "stream",
          "name": "stdout",
          "text": [
            "time: 7.18 ms (started: 2021-11-12 01:24:00 +00:00)\n"
          ]
        }
      ]
    },
    {
      "cell_type": "markdown",
      "metadata": {
        "id": "bTMXxaFHv3eY"
      },
      "source": [
        "### The optimum price of  predicting all the values of x_test['wait_min'] is Rs.325.01 "
      ]
    },
    {
      "cell_type": "markdown",
      "metadata": {
        "id": "DLbCNb2KqwOb"
      },
      "source": [
        "### 'WAit_sec' is a skewed distribution which also a very weak relationship feature with the target feature of Trip_cost. \n",
        "### So, The accuracy of the model is not upto the range"
      ]
    },
    {
      "cell_type": "markdown",
      "metadata": {
        "id": "qaWwYq2cK7Dz"
      },
      "source": [
        "# Submitting This Project\n",
        "When submitting this project, make sure to run all the cells before saving the notebook. Save the notebook file as \"first name_last name.ipynb\" and email. Also, send screenshots of your results for each subquestion in a word file along with the assumptions you've taken, with a clear explanation."
      ]
    }
  ]
}