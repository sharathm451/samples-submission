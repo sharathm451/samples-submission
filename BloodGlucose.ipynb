{
 "cells": [
  {
   "cell_type": "markdown",
   "metadata": {},
   "source": [
    "## Splitting Given data into train and test folders"
   ]
  },
  {
   "cell_type": "code",
   "execution_count": 1,
   "metadata": {},
   "outputs": [],
   "source": [
    "import warnings\n",
    "warnings.simplefilter('ignore')\n",
    "import pandas as pd \n",
    "import numpy as np \n",
    "import os  \n",
    "import random \n",
    "from shutil import copyfile \n"
   ]
  },
  {
   "cell_type": "code",
   "execution_count": 2,
   "metadata": {},
   "outputs": [],
   "source": [
    "import os \n",
    "os.chdir(r'E:\\AI-ML PYTHON\\job datasets\\Blood Glucose') "
   ]
  },
  {
   "cell_type": "code",
   "execution_count": 3,
   "metadata": {},
   "outputs": [],
   "source": [
    "os.getcwd()"
   ]
  },
  {
   "cell_type": "code",
   "execution_count": 4,
   "metadata": {},
   "outputs": [],
   "source": [
    "Blood_glucose = r'E:\\AI-ML PYTHON\\job datasets\\Blood Glucose\\data'"
   ]
  },
  {
   "cell_type": "code",
   "execution_count": 5,
   "metadata": {},
   "outputs": [],
   "source": [
    "train_path = 'train'  # create train and test folders in the current directory\n",
    "test_path = 'test'\n",
    "        \n",
    "all_data = os.listdir(Blood_glucose)\n",
    "all_data = [f for f in all_data if not f.startswith('.')]\n",
    "random.shuffle(all_data) # shuffling the given data to insert into train and test folders.\n",
    "n=70\n",
    "limit = int(n*0.8)  # 80% data for training and 20% for testing\n",
    "\n",
    "train_data = all_data[:limit]\n",
    "test_data = all_data[limit:]\n",
    "\n",
    "for j in range(len(train_data)):\n",
    "    original_path = os.path.join(Blood_glucose, train_data[j])\n",
    "    new_path = os.path.join(train_path, train_data[j])\n",
    "    copyfile(original_path, new_path)\n",
    "    \n",
    "for k in range(len(test_data)):\n",
    "    original_path = os.path.join(Blood_glucose, test_data[k])\n",
    "    new_path = os.path.join(test_path, test_data[k])\n",
    "    copyfile(original_path, new_path)"
   ]
  },
  {
   "cell_type": "markdown",
   "metadata": {},
   "source": [
    "## Considering training data\n"
   ]
  },
  {
   "cell_type": "code",
   "execution_count": 6,
   "metadata": {},
   "outputs": [],
   "source": [
    "os.chdir(r'E:\\AI-ML PYTHON\\job datasets\\Blood Glucose\\train')\n"
   ]
  },
  {
   "cell_type": "code",
   "execution_count": 7,
   "metadata": {},
   "outputs": [
    {
     "data": {
      "text/plain": [
       "'E:\\\\AI-ML PYTHON\\\\job datasets\\\\Blood Glucose\\\\train'"
      ]
     },
     "execution_count": 7,
     "metadata": {},
     "output_type": "execute_result"
    }
   ],
   "source": [
    "os.getcwd()"
   ]
  },
  {
   "cell_type": "code",
   "execution_count": 8,
   "metadata": {},
   "outputs": [],
   "source": [
    "from glob import glob\n"
   ]
  },
  {
   "cell_type": "code",
   "execution_count": 9,
   "metadata": {},
   "outputs": [],
   "source": [
    "files = glob('data*')"
   ]
  },
  {
   "cell_type": "code",
   "execution_count": 10,
   "metadata": {},
   "outputs": [
    {
     "data": {
      "text/plain": [
       "['data-01.csv',\n",
       " 'data-02.csv',\n",
       " 'data-03.csv',\n",
       " 'data-04.csv',\n",
       " 'data-05.csv',\n",
       " 'data-06.csv',\n",
       " 'data-07.csv',\n",
       " 'data-11.csv',\n",
       " 'data-12.csv',\n",
       " 'data-13.csv',\n",
       " 'data-14.csv',\n",
       " 'data-16.csv',\n",
       " 'data-17.csv',\n",
       " 'data-18.csv',\n",
       " 'data-19.csv',\n",
       " 'data-20.csv',\n",
       " 'data-21.csv',\n",
       " 'data-22.csv',\n",
       " 'data-23.csv',\n",
       " 'data-24.csv',\n",
       " 'data-25.csv',\n",
       " 'data-26.csv',\n",
       " 'data-27.csv',\n",
       " 'data-28.csv',\n",
       " 'data-29.csv',\n",
       " 'data-30.csv',\n",
       " 'data-31.csv',\n",
       " 'data-33.csv',\n",
       " 'data-34.csv',\n",
       " 'data-36.csv',\n",
       " 'data-37.csv',\n",
       " 'data-39.csv',\n",
       " 'data-40.csv',\n",
       " 'data-41.csv',\n",
       " 'data-42.csv',\n",
       " 'data-43.csv',\n",
       " 'data-44.csv',\n",
       " 'data-45.csv',\n",
       " 'data-46.csv',\n",
       " 'data-47.csv',\n",
       " 'data-48.csv',\n",
       " 'data-49.csv',\n",
       " 'data-51.csv',\n",
       " 'data-54.csv',\n",
       " 'data-55.csv',\n",
       " 'data-56.csv',\n",
       " 'data-57.csv',\n",
       " 'data-58.csv',\n",
       " 'data-59.csv',\n",
       " 'data-61.csv',\n",
       " 'data-62.csv',\n",
       " 'data-63.csv',\n",
       " 'data-65.csv',\n",
       " 'data-66.csv',\n",
       " 'data-69.csv',\n",
       " 'data-70.csv']"
      ]
     },
     "execution_count": 10,
     "metadata": {},
     "output_type": "execute_result"
    }
   ],
   "source": [
    "files.sort()\n",
    "files "
   ]
  },
  {
   "cell_type": "code",
   "execution_count": 11,
   "metadata": {},
   "outputs": [
    {
     "data": {
      "text/html": [
       "<div>\n",
       "<style scoped>\n",
       "    .dataframe tbody tr th:only-of-type {\n",
       "        vertical-align: middle;\n",
       "    }\n",
       "\n",
       "    .dataframe tbody tr th {\n",
       "        vertical-align: top;\n",
       "    }\n",
       "\n",
       "    .dataframe thead th {\n",
       "        text-align: right;\n",
       "    }\n",
       "</style>\n",
       "<table border=\"1\" class=\"dataframe\">\n",
       "  <thead>\n",
       "    <tr style=\"text-align: right;\">\n",
       "      <th></th>\n",
       "      <th>0</th>\n",
       "      <th>1</th>\n",
       "      <th>2</th>\n",
       "      <th>3</th>\n",
       "    </tr>\n",
       "  </thead>\n",
       "  <tbody>\n",
       "    <tr>\n",
       "      <th>0</th>\n",
       "      <td>04-21-1991</td>\n",
       "      <td>9:09</td>\n",
       "      <td>58</td>\n",
       "      <td>100</td>\n",
       "    </tr>\n",
       "    <tr>\n",
       "      <th>1</th>\n",
       "      <td>04-21-1991</td>\n",
       "      <td>9:09</td>\n",
       "      <td>33</td>\n",
       "      <td>9</td>\n",
       "    </tr>\n",
       "    <tr>\n",
       "      <th>2</th>\n",
       "      <td>04-21-1991</td>\n",
       "      <td>9:09</td>\n",
       "      <td>34</td>\n",
       "      <td>13</td>\n",
       "    </tr>\n",
       "    <tr>\n",
       "      <th>3</th>\n",
       "      <td>04-21-1991</td>\n",
       "      <td>17:08</td>\n",
       "      <td>62</td>\n",
       "      <td>119</td>\n",
       "    </tr>\n",
       "    <tr>\n",
       "      <th>4</th>\n",
       "      <td>04-21-1991</td>\n",
       "      <td>17:08</td>\n",
       "      <td>33</td>\n",
       "      <td>7</td>\n",
       "    </tr>\n",
       "  </tbody>\n",
       "</table>\n",
       "</div>"
      ],
      "text/plain": [
       "            0      1   2    3\n",
       "0  04-21-1991   9:09  58  100\n",
       "1  04-21-1991   9:09  33    9\n",
       "2  04-21-1991   9:09  34   13\n",
       "3  04-21-1991  17:08  62  119\n",
       "4  04-21-1991  17:08  33    7"
      ]
     },
     "execution_count": 11,
     "metadata": {},
     "output_type": "execute_result"
    }
   ],
   "source": [
    "# merging all datas given individual that are in trained folder which already shuffled.\n",
    "data = pd.concat( (pd.read_csv(file,sep='\\t',parse_dates=True, header=None) for file in files), ignore_index=True)\n",
    "data.head()"
   ]
  },
  {
   "cell_type": "code",
   "execution_count": 12,
   "metadata": {},
   "outputs": [
    {
     "data": {
      "text/plain": [
       "(24700, 4)"
      ]
     },
     "execution_count": 12,
     "metadata": {},
     "output_type": "execute_result"
    }
   ],
   "source": [
    "data.shape "
   ]
  },
  {
   "cell_type": "code",
   "execution_count": 13,
   "metadata": {},
   "outputs": [],
   "source": [
    "data.columns = ['Date','Time','Code','Value']"
   ]
  },
  {
   "cell_type": "code",
   "execution_count": 14,
   "metadata": {},
   "outputs": [
    {
     "data": {
      "text/html": [
       "<div>\n",
       "<style scoped>\n",
       "    .dataframe tbody tr th:only-of-type {\n",
       "        vertical-align: middle;\n",
       "    }\n",
       "\n",
       "    .dataframe tbody tr th {\n",
       "        vertical-align: top;\n",
       "    }\n",
       "\n",
       "    .dataframe thead th {\n",
       "        text-align: right;\n",
       "    }\n",
       "</style>\n",
       "<table border=\"1\" class=\"dataframe\">\n",
       "  <thead>\n",
       "    <tr style=\"text-align: right;\">\n",
       "      <th></th>\n",
       "      <th>count</th>\n",
       "      <th>mean</th>\n",
       "      <th>std</th>\n",
       "      <th>min</th>\n",
       "      <th>25%</th>\n",
       "      <th>50%</th>\n",
       "      <th>75%</th>\n",
       "      <th>max</th>\n",
       "    </tr>\n",
       "  </thead>\n",
       "  <tbody>\n",
       "    <tr>\n",
       "      <th>Code</th>\n",
       "      <td>24700.0</td>\n",
       "      <td>45.897126</td>\n",
       "      <td>13.384726</td>\n",
       "      <td>0.0</td>\n",
       "      <td>33.0</td>\n",
       "      <td>35.0</td>\n",
       "      <td>60.0</td>\n",
       "      <td>72.0</td>\n",
       "    </tr>\n",
       "  </tbody>\n",
       "</table>\n",
       "</div>"
      ],
      "text/plain": [
       "        count       mean        std  min   25%   50%   75%   max\n",
       "Code  24700.0  45.897126  13.384726  0.0  33.0  35.0  60.0  72.0"
      ]
     },
     "execution_count": 14,
     "metadata": {},
     "output_type": "execute_result"
    }
   ],
   "source": [
    "data.describe().T"
   ]
  },
  {
   "cell_type": "code",
   "execution_count": 15,
   "metadata": {},
   "outputs": [
    {
     "name": "stdout",
     "output_type": "stream",
     "text": [
      "<class 'pandas.core.frame.DataFrame'>\n",
      "RangeIndex: 24700 entries, 0 to 24699\n",
      "Data columns (total 4 columns):\n",
      " #   Column  Non-Null Count  Dtype \n",
      "---  ------  --------------  ----- \n",
      " 0   Date    24667 non-null  object\n",
      " 1   Time    24700 non-null  object\n",
      " 2   Code    24700 non-null  int64 \n",
      " 3   Value   24667 non-null  object\n",
      "dtypes: int64(1), object(3)\n",
      "memory usage: 772.0+ KB\n"
     ]
    }
   ],
   "source": [
    "data.info()"
   ]
  },
  {
   "cell_type": "code",
   "execution_count": 16,
   "metadata": {},
   "outputs": [
    {
     "data": {
      "text/html": [
       "<div>\n",
       "<style scoped>\n",
       "    .dataframe tbody tr th:only-of-type {\n",
       "        vertical-align: middle;\n",
       "    }\n",
       "\n",
       "    .dataframe tbody tr th {\n",
       "        vertical-align: top;\n",
       "    }\n",
       "\n",
       "    .dataframe thead th {\n",
       "        text-align: right;\n",
       "    }\n",
       "</style>\n",
       "<table border=\"1\" class=\"dataframe\">\n",
       "  <thead>\n",
       "    <tr style=\"text-align: right;\">\n",
       "      <th></th>\n",
       "      <th>Date</th>\n",
       "      <th>Time</th>\n",
       "      <th>Code</th>\n",
       "      <th>Value</th>\n",
       "    </tr>\n",
       "  </thead>\n",
       "  <tbody>\n",
       "    <tr>\n",
       "      <th>0</th>\n",
       "      <td>04-21-1991</td>\n",
       "      <td>9:09</td>\n",
       "      <td>58</td>\n",
       "      <td>100</td>\n",
       "    </tr>\n",
       "    <tr>\n",
       "      <th>1</th>\n",
       "      <td>04-21-1991</td>\n",
       "      <td>9:09</td>\n",
       "      <td>33</td>\n",
       "      <td>9</td>\n",
       "    </tr>\n",
       "    <tr>\n",
       "      <th>2</th>\n",
       "      <td>04-21-1991</td>\n",
       "      <td>9:09</td>\n",
       "      <td>34</td>\n",
       "      <td>13</td>\n",
       "    </tr>\n",
       "    <tr>\n",
       "      <th>3</th>\n",
       "      <td>04-21-1991</td>\n",
       "      <td>17:08</td>\n",
       "      <td>62</td>\n",
       "      <td>119</td>\n",
       "    </tr>\n",
       "    <tr>\n",
       "      <th>4</th>\n",
       "      <td>04-21-1991</td>\n",
       "      <td>17:08</td>\n",
       "      <td>33</td>\n",
       "      <td>7</td>\n",
       "    </tr>\n",
       "  </tbody>\n",
       "</table>\n",
       "</div>"
      ],
      "text/plain": [
       "         Date   Time  Code Value\n",
       "0  04-21-1991   9:09    58   100\n",
       "1  04-21-1991   9:09    33     9\n",
       "2  04-21-1991   9:09    34    13\n",
       "3  04-21-1991  17:08    62   119\n",
       "4  04-21-1991  17:08    33     7"
      ]
     },
     "execution_count": 16,
     "metadata": {},
     "output_type": "execute_result"
    }
   ],
   "source": [
    "data.head()"
   ]
  },
  {
   "cell_type": "code",
   "execution_count": 17,
   "metadata": {},
   "outputs": [
    {
     "data": {
      "text/html": [
       "<div>\n",
       "<style scoped>\n",
       "    .dataframe tbody tr th:only-of-type {\n",
       "        vertical-align: middle;\n",
       "    }\n",
       "\n",
       "    .dataframe tbody tr th {\n",
       "        vertical-align: top;\n",
       "    }\n",
       "\n",
       "    .dataframe thead th {\n",
       "        text-align: right;\n",
       "    }\n",
       "</style>\n",
       "<table border=\"1\" class=\"dataframe\">\n",
       "  <thead>\n",
       "    <tr style=\"text-align: right;\">\n",
       "      <th></th>\n",
       "      <th>Date</th>\n",
       "      <th>Time</th>\n",
       "      <th>Code</th>\n",
       "      <th>Value</th>\n",
       "    </tr>\n",
       "  </thead>\n",
       "  <tbody>\n",
       "    <tr>\n",
       "      <th>24695</th>\n",
       "      <td>05-09-1989</td>\n",
       "      <td>08:00</td>\n",
       "      <td>33</td>\n",
       "      <td>1</td>\n",
       "    </tr>\n",
       "    <tr>\n",
       "      <th>24696</th>\n",
       "      <td>05-09-1989</td>\n",
       "      <td>08:00</td>\n",
       "      <td>34</td>\n",
       "      <td>7</td>\n",
       "    </tr>\n",
       "    <tr>\n",
       "      <th>24697</th>\n",
       "      <td>05-10-1989</td>\n",
       "      <td>08:00</td>\n",
       "      <td>34</td>\n",
       "      <td>7</td>\n",
       "    </tr>\n",
       "    <tr>\n",
       "      <th>24698</th>\n",
       "      <td>05-11-1989</td>\n",
       "      <td>08:00</td>\n",
       "      <td>34</td>\n",
       "      <td>7</td>\n",
       "    </tr>\n",
       "    <tr>\n",
       "      <th>24699</th>\n",
       "      <td>05-12-1989</td>\n",
       "      <td>08:00</td>\n",
       "      <td>34</td>\n",
       "      <td>7</td>\n",
       "    </tr>\n",
       "  </tbody>\n",
       "</table>\n",
       "</div>"
      ],
      "text/plain": [
       "             Date   Time  Code Value\n",
       "24695  05-09-1989  08:00    33     1\n",
       "24696  05-09-1989  08:00    34     7\n",
       "24697  05-10-1989  08:00    34     7\n",
       "24698  05-11-1989  08:00    34     7\n",
       "24699  05-12-1989  08:00    34     7"
      ]
     },
     "execution_count": 17,
     "metadata": {},
     "output_type": "execute_result"
    }
   ],
   "source": [
    "data.tail() "
   ]
  },
  {
   "cell_type": "markdown",
   "metadata": {},
   "source": [
    "## cleaning the data"
   ]
  },
  {
   "cell_type": "code",
   "execution_count": 18,
   "metadata": {},
   "outputs": [],
   "source": [
    "import datetime as dt"
   ]
  },
  {
   "cell_type": "code",
   "execution_count": 19,
   "metadata": {},
   "outputs": [],
   "source": [
    "data['Date'] = pd.to_datetime(data['Date'], errors='coerce')\n",
    "data['Time'] = pd.to_datetime(data['Time'], format='%H:%M',errors='coerce')"
   ]
  },
  {
   "cell_type": "code",
   "execution_count": 20,
   "metadata": {},
   "outputs": [],
   "source": [
    "data['year'] = data['Date'].dt.year\n",
    "data['month']=data['Date'].dt.month \n",
    "data['day']=data['Date'].dt.day\n",
    "\n",
    "data['Hour'] = data['Time'].dt.hour \n",
    "data['minute'] = data['Time'].dt.minute \n",
    "\n",
    "data['weekday'] = data['Date'].dt.weekday\n",
    "data['dayname'] = data['Date'].dt.day_name ()\n"
   ]
  },
  {
   "cell_type": "code",
   "execution_count": 21,
   "metadata": {},
   "outputs": [
    {
     "data": {
      "text/html": [
       "<div>\n",
       "<style scoped>\n",
       "    .dataframe tbody tr th:only-of-type {\n",
       "        vertical-align: middle;\n",
       "    }\n",
       "\n",
       "    .dataframe tbody tr th {\n",
       "        vertical-align: top;\n",
       "    }\n",
       "\n",
       "    .dataframe thead th {\n",
       "        text-align: right;\n",
       "    }\n",
       "</style>\n",
       "<table border=\"1\" class=\"dataframe\">\n",
       "  <thead>\n",
       "    <tr style=\"text-align: right;\">\n",
       "      <th></th>\n",
       "      <th>Date</th>\n",
       "      <th>Time</th>\n",
       "      <th>Code</th>\n",
       "      <th>Value</th>\n",
       "      <th>year</th>\n",
       "      <th>month</th>\n",
       "      <th>day</th>\n",
       "      <th>Hour</th>\n",
       "      <th>minute</th>\n",
       "      <th>weekday</th>\n",
       "      <th>dayname</th>\n",
       "    </tr>\n",
       "  </thead>\n",
       "  <tbody>\n",
       "    <tr>\n",
       "      <th>0</th>\n",
       "      <td>1991-04-21</td>\n",
       "      <td>1900-01-01 09:09:00</td>\n",
       "      <td>58</td>\n",
       "      <td>100</td>\n",
       "      <td>1991.0</td>\n",
       "      <td>4.0</td>\n",
       "      <td>21.0</td>\n",
       "      <td>9.0</td>\n",
       "      <td>9.0</td>\n",
       "      <td>6.0</td>\n",
       "      <td>Sunday</td>\n",
       "    </tr>\n",
       "    <tr>\n",
       "      <th>1</th>\n",
       "      <td>1991-04-21</td>\n",
       "      <td>1900-01-01 09:09:00</td>\n",
       "      <td>33</td>\n",
       "      <td>9</td>\n",
       "      <td>1991.0</td>\n",
       "      <td>4.0</td>\n",
       "      <td>21.0</td>\n",
       "      <td>9.0</td>\n",
       "      <td>9.0</td>\n",
       "      <td>6.0</td>\n",
       "      <td>Sunday</td>\n",
       "    </tr>\n",
       "    <tr>\n",
       "      <th>2</th>\n",
       "      <td>1991-04-21</td>\n",
       "      <td>1900-01-01 09:09:00</td>\n",
       "      <td>34</td>\n",
       "      <td>13</td>\n",
       "      <td>1991.0</td>\n",
       "      <td>4.0</td>\n",
       "      <td>21.0</td>\n",
       "      <td>9.0</td>\n",
       "      <td>9.0</td>\n",
       "      <td>6.0</td>\n",
       "      <td>Sunday</td>\n",
       "    </tr>\n",
       "    <tr>\n",
       "      <th>3</th>\n",
       "      <td>1991-04-21</td>\n",
       "      <td>1900-01-01 17:08:00</td>\n",
       "      <td>62</td>\n",
       "      <td>119</td>\n",
       "      <td>1991.0</td>\n",
       "      <td>4.0</td>\n",
       "      <td>21.0</td>\n",
       "      <td>17.0</td>\n",
       "      <td>8.0</td>\n",
       "      <td>6.0</td>\n",
       "      <td>Sunday</td>\n",
       "    </tr>\n",
       "    <tr>\n",
       "      <th>4</th>\n",
       "      <td>1991-04-21</td>\n",
       "      <td>1900-01-01 17:08:00</td>\n",
       "      <td>33</td>\n",
       "      <td>7</td>\n",
       "      <td>1991.0</td>\n",
       "      <td>4.0</td>\n",
       "      <td>21.0</td>\n",
       "      <td>17.0</td>\n",
       "      <td>8.0</td>\n",
       "      <td>6.0</td>\n",
       "      <td>Sunday</td>\n",
       "    </tr>\n",
       "  </tbody>\n",
       "</table>\n",
       "</div>"
      ],
      "text/plain": [
       "        Date                Time  Code Value    year  month   day  Hour  \\\n",
       "0 1991-04-21 1900-01-01 09:09:00    58   100  1991.0    4.0  21.0   9.0   \n",
       "1 1991-04-21 1900-01-01 09:09:00    33     9  1991.0    4.0  21.0   9.0   \n",
       "2 1991-04-21 1900-01-01 09:09:00    34    13  1991.0    4.0  21.0   9.0   \n",
       "3 1991-04-21 1900-01-01 17:08:00    62   119  1991.0    4.0  21.0  17.0   \n",
       "4 1991-04-21 1900-01-01 17:08:00    33     7  1991.0    4.0  21.0  17.0   \n",
       "\n",
       "   minute  weekday dayname  \n",
       "0     9.0      6.0  Sunday  \n",
       "1     9.0      6.0  Sunday  \n",
       "2     9.0      6.0  Sunday  \n",
       "3     8.0      6.0  Sunday  \n",
       "4     8.0      6.0  Sunday  "
      ]
     },
     "execution_count": 21,
     "metadata": {},
     "output_type": "execute_result"
    }
   ],
   "source": [
    "data.head(5) "
   ]
  },
  {
   "cell_type": "code",
   "execution_count": 22,
   "metadata": {},
   "outputs": [
    {
     "data": {
      "text/html": [
       "<div>\n",
       "<style scoped>\n",
       "    .dataframe tbody tr th:only-of-type {\n",
       "        vertical-align: middle;\n",
       "    }\n",
       "\n",
       "    .dataframe tbody tr th {\n",
       "        vertical-align: top;\n",
       "    }\n",
       "\n",
       "    .dataframe thead th {\n",
       "        text-align: right;\n",
       "    }\n",
       "</style>\n",
       "<table border=\"1\" class=\"dataframe\">\n",
       "  <thead>\n",
       "    <tr style=\"text-align: right;\">\n",
       "      <th></th>\n",
       "      <th>Date</th>\n",
       "      <th>Time</th>\n",
       "      <th>Code</th>\n",
       "      <th>Value</th>\n",
       "      <th>year</th>\n",
       "      <th>month</th>\n",
       "      <th>day</th>\n",
       "      <th>Hour</th>\n",
       "      <th>minute</th>\n",
       "      <th>weekday</th>\n",
       "      <th>dayname</th>\n",
       "    </tr>\n",
       "  </thead>\n",
       "  <tbody>\n",
       "    <tr>\n",
       "      <th>24695</th>\n",
       "      <td>1989-05-09</td>\n",
       "      <td>1900-01-01 08:00:00</td>\n",
       "      <td>33</td>\n",
       "      <td>1</td>\n",
       "      <td>1989.0</td>\n",
       "      <td>5.0</td>\n",
       "      <td>9.0</td>\n",
       "      <td>8.0</td>\n",
       "      <td>0.0</td>\n",
       "      <td>1.0</td>\n",
       "      <td>Tuesday</td>\n",
       "    </tr>\n",
       "    <tr>\n",
       "      <th>24696</th>\n",
       "      <td>1989-05-09</td>\n",
       "      <td>1900-01-01 08:00:00</td>\n",
       "      <td>34</td>\n",
       "      <td>7</td>\n",
       "      <td>1989.0</td>\n",
       "      <td>5.0</td>\n",
       "      <td>9.0</td>\n",
       "      <td>8.0</td>\n",
       "      <td>0.0</td>\n",
       "      <td>1.0</td>\n",
       "      <td>Tuesday</td>\n",
       "    </tr>\n",
       "    <tr>\n",
       "      <th>24697</th>\n",
       "      <td>1989-05-10</td>\n",
       "      <td>1900-01-01 08:00:00</td>\n",
       "      <td>34</td>\n",
       "      <td>7</td>\n",
       "      <td>1989.0</td>\n",
       "      <td>5.0</td>\n",
       "      <td>10.0</td>\n",
       "      <td>8.0</td>\n",
       "      <td>0.0</td>\n",
       "      <td>2.0</td>\n",
       "      <td>Wednesday</td>\n",
       "    </tr>\n",
       "    <tr>\n",
       "      <th>24698</th>\n",
       "      <td>1989-05-11</td>\n",
       "      <td>1900-01-01 08:00:00</td>\n",
       "      <td>34</td>\n",
       "      <td>7</td>\n",
       "      <td>1989.0</td>\n",
       "      <td>5.0</td>\n",
       "      <td>11.0</td>\n",
       "      <td>8.0</td>\n",
       "      <td>0.0</td>\n",
       "      <td>3.0</td>\n",
       "      <td>Thursday</td>\n",
       "    </tr>\n",
       "    <tr>\n",
       "      <th>24699</th>\n",
       "      <td>1989-05-12</td>\n",
       "      <td>1900-01-01 08:00:00</td>\n",
       "      <td>34</td>\n",
       "      <td>7</td>\n",
       "      <td>1989.0</td>\n",
       "      <td>5.0</td>\n",
       "      <td>12.0</td>\n",
       "      <td>8.0</td>\n",
       "      <td>0.0</td>\n",
       "      <td>4.0</td>\n",
       "      <td>Friday</td>\n",
       "    </tr>\n",
       "  </tbody>\n",
       "</table>\n",
       "</div>"
      ],
      "text/plain": [
       "            Date                Time  Code Value    year  month   day  Hour  \\\n",
       "24695 1989-05-09 1900-01-01 08:00:00    33     1  1989.0    5.0   9.0   8.0   \n",
       "24696 1989-05-09 1900-01-01 08:00:00    34     7  1989.0    5.0   9.0   8.0   \n",
       "24697 1989-05-10 1900-01-01 08:00:00    34     7  1989.0    5.0  10.0   8.0   \n",
       "24698 1989-05-11 1900-01-01 08:00:00    34     7  1989.0    5.0  11.0   8.0   \n",
       "24699 1989-05-12 1900-01-01 08:00:00    34     7  1989.0    5.0  12.0   8.0   \n",
       "\n",
       "       minute  weekday    dayname  \n",
       "24695     0.0      1.0    Tuesday  \n",
       "24696     0.0      1.0    Tuesday  \n",
       "24697     0.0      2.0  Wednesday  \n",
       "24698     0.0      3.0   Thursday  \n",
       "24699     0.0      4.0     Friday  "
      ]
     },
     "execution_count": 22,
     "metadata": {},
     "output_type": "execute_result"
    }
   ],
   "source": [
    "data.tail(5) "
   ]
  },
  {
   "cell_type": "markdown",
   "metadata": {},
   "source": [
    "## Categorical encoding of Code column"
   ]
  },
  {
   "cell_type": "code",
   "execution_count": 23,
   "metadata": {},
   "outputs": [
    {
     "data": {
      "text/plain": [
       "24"
      ]
     },
     "execution_count": 23,
     "metadata": {},
     "output_type": "execute_result"
    }
   ],
   "source": [
    "data['Code'].nunique() "
   ]
  },
  {
   "cell_type": "code",
   "execution_count": 24,
   "metadata": {},
   "outputs": [
    {
     "data": {
      "text/plain": [
       "array([58, 33, 34, 62, 48, 65, 60, 35, 56, 64, 61, 67, 63, 57, 72, 66, 69,\n",
       "       70, 71, 59, 68,  4, 36,  0], dtype=int64)"
      ]
     },
     "execution_count": 24,
     "metadata": {},
     "output_type": "execute_result"
    }
   ],
   "source": [
    "data['Code'].unique()"
   ]
  },
  {
   "cell_type": "code",
   "execution_count": 25,
   "metadata": {},
   "outputs": [
    {
     "data": {
      "text/plain": [
       "(24700, 23)"
      ]
     },
     "execution_count": 25,
     "metadata": {},
     "output_type": "execute_result"
    }
   ],
   "source": [
    "pd.get_dummies(data['Code'], drop_first=True).shape"
   ]
  },
  {
   "cell_type": "markdown",
   "metadata": {},
   "source": [
    "## One hot encoding with multiple categorical features "
   ]
  },
  {
   "cell_type": "code",
   "execution_count": 26,
   "metadata": {},
   "outputs": [
    {
     "name": "stdout",
     "output_type": "stream",
     "text": [
      "33    8458\n",
      "34    3103\n",
      "58    2835\n",
      "62    2551\n",
      "60    2256\n",
      "48    1657\n",
      "35     976\n",
      "57     842\n",
      "64     642\n",
      "65     254\n",
      "67     248\n",
      "63     203\n",
      "66     148\n",
      "70      97\n",
      "56      97\n",
      "72      81\n",
      "71      75\n",
      "69      54\n",
      "61      52\n",
      "0       33\n",
      "68      21\n",
      "59      15\n",
      "4        1\n",
      "36       1\n",
      "Name: Code, dtype: int64\n"
     ]
    }
   ],
   "source": [
    "print(data['Code'].value_counts().sort_values(ascending=False).head(24))"
   ]
  },
  {
   "cell_type": "markdown",
   "metadata": {},
   "source": [
    "  - Picking Top 15 most frequent categories"
   ]
  },
  {
   "cell_type": "code",
   "execution_count": 27,
   "metadata": {},
   "outputs": [
    {
     "data": {
      "text/plain": [
       "[33, 34, 58, 62, 60, 48, 35, 57, 64, 65, 67, 63, 66, 70, 56]"
      ]
     },
     "execution_count": 27,
     "metadata": {},
     "output_type": "execute_result"
    }
   ],
   "source": [
    "top_15 = [x for x in data['Code'].value_counts().sort_values(ascending=False).head(15).index]\n",
    "top_15"
   ]
  },
  {
   "cell_type": "code",
   "execution_count": 28,
   "metadata": {},
   "outputs": [
    {
     "data": {
      "text/html": [
       "<div>\n",
       "<style scoped>\n",
       "    .dataframe tbody tr th:only-of-type {\n",
       "        vertical-align: middle;\n",
       "    }\n",
       "\n",
       "    .dataframe tbody tr th {\n",
       "        vertical-align: top;\n",
       "    }\n",
       "\n",
       "    .dataframe thead th {\n",
       "        text-align: right;\n",
       "    }\n",
       "</style>\n",
       "<table border=\"1\" class=\"dataframe\">\n",
       "  <thead>\n",
       "    <tr style=\"text-align: right;\">\n",
       "      <th></th>\n",
       "      <th>Code</th>\n",
       "      <th>33</th>\n",
       "      <th>34</th>\n",
       "      <th>58</th>\n",
       "      <th>62</th>\n",
       "      <th>60</th>\n",
       "      <th>48</th>\n",
       "      <th>35</th>\n",
       "      <th>57</th>\n",
       "      <th>64</th>\n",
       "      <th>65</th>\n",
       "      <th>67</th>\n",
       "      <th>63</th>\n",
       "      <th>66</th>\n",
       "      <th>70</th>\n",
       "      <th>56</th>\n",
       "    </tr>\n",
       "  </thead>\n",
       "  <tbody>\n",
       "    <tr>\n",
       "      <th>0</th>\n",
       "      <td>58</td>\n",
       "      <td>0</td>\n",
       "      <td>0</td>\n",
       "      <td>1</td>\n",
       "      <td>0</td>\n",
       "      <td>0</td>\n",
       "      <td>0</td>\n",
       "      <td>0</td>\n",
       "      <td>0</td>\n",
       "      <td>0</td>\n",
       "      <td>0</td>\n",
       "      <td>0</td>\n",
       "      <td>0</td>\n",
       "      <td>0</td>\n",
       "      <td>0</td>\n",
       "      <td>0</td>\n",
       "    </tr>\n",
       "    <tr>\n",
       "      <th>1</th>\n",
       "      <td>33</td>\n",
       "      <td>1</td>\n",
       "      <td>0</td>\n",
       "      <td>0</td>\n",
       "      <td>0</td>\n",
       "      <td>0</td>\n",
       "      <td>0</td>\n",
       "      <td>0</td>\n",
       "      <td>0</td>\n",
       "      <td>0</td>\n",
       "      <td>0</td>\n",
       "      <td>0</td>\n",
       "      <td>0</td>\n",
       "      <td>0</td>\n",
       "      <td>0</td>\n",
       "      <td>0</td>\n",
       "    </tr>\n",
       "    <tr>\n",
       "      <th>2</th>\n",
       "      <td>34</td>\n",
       "      <td>0</td>\n",
       "      <td>1</td>\n",
       "      <td>0</td>\n",
       "      <td>0</td>\n",
       "      <td>0</td>\n",
       "      <td>0</td>\n",
       "      <td>0</td>\n",
       "      <td>0</td>\n",
       "      <td>0</td>\n",
       "      <td>0</td>\n",
       "      <td>0</td>\n",
       "      <td>0</td>\n",
       "      <td>0</td>\n",
       "      <td>0</td>\n",
       "      <td>0</td>\n",
       "    </tr>\n",
       "    <tr>\n",
       "      <th>3</th>\n",
       "      <td>62</td>\n",
       "      <td>0</td>\n",
       "      <td>0</td>\n",
       "      <td>0</td>\n",
       "      <td>1</td>\n",
       "      <td>0</td>\n",
       "      <td>0</td>\n",
       "      <td>0</td>\n",
       "      <td>0</td>\n",
       "      <td>0</td>\n",
       "      <td>0</td>\n",
       "      <td>0</td>\n",
       "      <td>0</td>\n",
       "      <td>0</td>\n",
       "      <td>0</td>\n",
       "      <td>0</td>\n",
       "    </tr>\n",
       "    <tr>\n",
       "      <th>4</th>\n",
       "      <td>33</td>\n",
       "      <td>1</td>\n",
       "      <td>0</td>\n",
       "      <td>0</td>\n",
       "      <td>0</td>\n",
       "      <td>0</td>\n",
       "      <td>0</td>\n",
       "      <td>0</td>\n",
       "      <td>0</td>\n",
       "      <td>0</td>\n",
       "      <td>0</td>\n",
       "      <td>0</td>\n",
       "      <td>0</td>\n",
       "      <td>0</td>\n",
       "      <td>0</td>\n",
       "      <td>0</td>\n",
       "    </tr>\n",
       "    <tr>\n",
       "      <th>5</th>\n",
       "      <td>48</td>\n",
       "      <td>0</td>\n",
       "      <td>0</td>\n",
       "      <td>0</td>\n",
       "      <td>0</td>\n",
       "      <td>0</td>\n",
       "      <td>1</td>\n",
       "      <td>0</td>\n",
       "      <td>0</td>\n",
       "      <td>0</td>\n",
       "      <td>0</td>\n",
       "      <td>0</td>\n",
       "      <td>0</td>\n",
       "      <td>0</td>\n",
       "      <td>0</td>\n",
       "      <td>0</td>\n",
       "    </tr>\n",
       "    <tr>\n",
       "      <th>6</th>\n",
       "      <td>58</td>\n",
       "      <td>0</td>\n",
       "      <td>0</td>\n",
       "      <td>1</td>\n",
       "      <td>0</td>\n",
       "      <td>0</td>\n",
       "      <td>0</td>\n",
       "      <td>0</td>\n",
       "      <td>0</td>\n",
       "      <td>0</td>\n",
       "      <td>0</td>\n",
       "      <td>0</td>\n",
       "      <td>0</td>\n",
       "      <td>0</td>\n",
       "      <td>0</td>\n",
       "      <td>0</td>\n",
       "    </tr>\n",
       "    <tr>\n",
       "      <th>7</th>\n",
       "      <td>33</td>\n",
       "      <td>1</td>\n",
       "      <td>0</td>\n",
       "      <td>0</td>\n",
       "      <td>0</td>\n",
       "      <td>0</td>\n",
       "      <td>0</td>\n",
       "      <td>0</td>\n",
       "      <td>0</td>\n",
       "      <td>0</td>\n",
       "      <td>0</td>\n",
       "      <td>0</td>\n",
       "      <td>0</td>\n",
       "      <td>0</td>\n",
       "      <td>0</td>\n",
       "      <td>0</td>\n",
       "    </tr>\n",
       "    <tr>\n",
       "      <th>8</th>\n",
       "      <td>34</td>\n",
       "      <td>0</td>\n",
       "      <td>1</td>\n",
       "      <td>0</td>\n",
       "      <td>0</td>\n",
       "      <td>0</td>\n",
       "      <td>0</td>\n",
       "      <td>0</td>\n",
       "      <td>0</td>\n",
       "      <td>0</td>\n",
       "      <td>0</td>\n",
       "      <td>0</td>\n",
       "      <td>0</td>\n",
       "      <td>0</td>\n",
       "      <td>0</td>\n",
       "      <td>0</td>\n",
       "    </tr>\n",
       "    <tr>\n",
       "      <th>9</th>\n",
       "      <td>33</td>\n",
       "      <td>1</td>\n",
       "      <td>0</td>\n",
       "      <td>0</td>\n",
       "      <td>0</td>\n",
       "      <td>0</td>\n",
       "      <td>0</td>\n",
       "      <td>0</td>\n",
       "      <td>0</td>\n",
       "      <td>0</td>\n",
       "      <td>0</td>\n",
       "      <td>0</td>\n",
       "      <td>0</td>\n",
       "      <td>0</td>\n",
       "      <td>0</td>\n",
       "      <td>0</td>\n",
       "    </tr>\n",
       "  </tbody>\n",
       "</table>\n",
       "</div>"
      ],
      "text/plain": [
       "   Code  33  34  58  62  60  48  35  57  64  65  67  63  66  70  56\n",
       "0    58   0   0   1   0   0   0   0   0   0   0   0   0   0   0   0\n",
       "1    33   1   0   0   0   0   0   0   0   0   0   0   0   0   0   0\n",
       "2    34   0   1   0   0   0   0   0   0   0   0   0   0   0   0   0\n",
       "3    62   0   0   0   1   0   0   0   0   0   0   0   0   0   0   0\n",
       "4    33   1   0   0   0   0   0   0   0   0   0   0   0   0   0   0\n",
       "5    48   0   0   0   0   0   1   0   0   0   0   0   0   0   0   0\n",
       "6    58   0   0   1   0   0   0   0   0   0   0   0   0   0   0   0\n",
       "7    33   1   0   0   0   0   0   0   0   0   0   0   0   0   0   0\n",
       "8    34   0   1   0   0   0   0   0   0   0   0   0   0   0   0   0\n",
       "9    33   1   0   0   0   0   0   0   0   0   0   0   0   0   0   0"
      ]
     },
     "execution_count": 28,
     "metadata": {},
     "output_type": "execute_result"
    }
   ],
   "source": [
    "# now we make the top 15 binary variables\n",
    "for label in top_15:\n",
    "    data[label] = np.where(data['Code']==label,1,0)\n",
    "    \n",
    "    \n",
    "data[['Code']+top_15].head(10)"
   ]
  },
  {
   "cell_type": "markdown",
   "metadata": {},
   "source": [
    "## Handling missing values in data"
   ]
  },
  {
   "cell_type": "code",
   "execution_count": 29,
   "metadata": {},
   "outputs": [
    {
     "data": {
      "text/plain": [
       "Date       40\n",
       "Time       33\n",
       "Code        0\n",
       "Value      33\n",
       "year       40\n",
       "month      40\n",
       "day        40\n",
       "Hour       33\n",
       "minute     33\n",
       "weekday    40\n",
       "dayname    40\n",
       "33          0\n",
       "34          0\n",
       "58          0\n",
       "62          0\n",
       "60          0\n",
       "48          0\n",
       "35          0\n",
       "57          0\n",
       "64          0\n",
       "65          0\n",
       "67          0\n",
       "63          0\n",
       "66          0\n",
       "70          0\n",
       "56          0\n",
       "dtype: int64"
      ]
     },
     "execution_count": 29,
     "metadata": {},
     "output_type": "execute_result"
    }
   ],
   "source": [
    "data.isna().sum()"
   ]
  },
  {
   "cell_type": "code",
   "execution_count": 30,
   "metadata": {},
   "outputs": [],
   "source": [
    "## we have a huge data, so we can drop null values which are negligible\n",
    "data.dropna(inplace=True)"
   ]
  },
  {
   "cell_type": "code",
   "execution_count": 31,
   "metadata": {},
   "outputs": [
    {
     "data": {
      "text/plain": [
       "(24627, 26)"
      ]
     },
     "execution_count": 31,
     "metadata": {},
     "output_type": "execute_result"
    }
   ],
   "source": [
    "data.shape  "
   ]
  },
  {
   "cell_type": "code",
   "execution_count": 32,
   "metadata": {},
   "outputs": [
    {
     "data": {
      "text/plain": [
       "Date       0\n",
       "Time       0\n",
       "Code       0\n",
       "Value      0\n",
       "year       0\n",
       "month      0\n",
       "day        0\n",
       "Hour       0\n",
       "minute     0\n",
       "weekday    0\n",
       "dayname    0\n",
       "33         0\n",
       "34         0\n",
       "58         0\n",
       "62         0\n",
       "60         0\n",
       "48         0\n",
       "35         0\n",
       "57         0\n",
       "64         0\n",
       "65         0\n",
       "67         0\n",
       "63         0\n",
       "66         0\n",
       "70         0\n",
       "56         0\n",
       "dtype: int64"
      ]
     },
     "execution_count": 32,
     "metadata": {},
     "output_type": "execute_result"
    }
   ],
   "source": [
    "data.isna().sum()"
   ]
  },
  {
   "cell_type": "markdown",
   "metadata": {},
   "source": [
    " - we have droped all null values from the data "
   ]
  },
  {
   "cell_type": "code",
   "execution_count": 33,
   "metadata": {},
   "outputs": [
    {
     "data": {
      "text/plain": [
       "Date       datetime64[ns]\n",
       "Time       datetime64[ns]\n",
       "Code                int64\n",
       "Value              object\n",
       "year              float64\n",
       "month             float64\n",
       "day               float64\n",
       "Hour              float64\n",
       "minute            float64\n",
       "weekday           float64\n",
       "dayname            object\n",
       "33                  int32\n",
       "34                  int32\n",
       "58                  int32\n",
       "62                  int32\n",
       "60                  int32\n",
       "48                  int32\n",
       "35                  int32\n",
       "57                  int32\n",
       "64                  int32\n",
       "65                  int32\n",
       "67                  int32\n",
       "63                  int32\n",
       "66                  int32\n",
       "70                  int32\n",
       "56                  int32\n",
       "dtype: object"
      ]
     },
     "execution_count": 33,
     "metadata": {},
     "output_type": "execute_result"
    }
   ],
   "source": [
    "data.dtypes "
   ]
  },
  {
   "cell_type": "code",
   "execution_count": 34,
   "metadata": {},
   "outputs": [],
   "source": [
    "data['dayname'] = data['dayname'].astype('category')"
   ]
  },
  {
   "cell_type": "code",
   "execution_count": 35,
   "metadata": {},
   "outputs": [],
   "source": [
    "data['Value'] = pd.to_numeric(data['Value'], errors='coerce').convert_dtypes() \n"
   ]
  },
  {
   "cell_type": "code",
   "execution_count": 36,
   "metadata": {},
   "outputs": [
    {
     "data": {
      "text/plain": [
       "Date       datetime64[ns]\n",
       "Time       datetime64[ns]\n",
       "Code                int64\n",
       "Value             float64\n",
       "year              float64\n",
       "month             float64\n",
       "day               float64\n",
       "Hour              float64\n",
       "minute            float64\n",
       "weekday           float64\n",
       "dayname          category\n",
       "33                  int32\n",
       "34                  int32\n",
       "58                  int32\n",
       "62                  int32\n",
       "60                  int32\n",
       "48                  int32\n",
       "35                  int32\n",
       "57                  int32\n",
       "64                  int32\n",
       "65                  int32\n",
       "67                  int32\n",
       "63                  int32\n",
       "66                  int32\n",
       "70                  int32\n",
       "56                  int32\n",
       "dtype: object"
      ]
     },
     "execution_count": 36,
     "metadata": {},
     "output_type": "execute_result"
    }
   ],
   "source": [
    "data.dtypes "
   ]
  },
  {
   "cell_type": "code",
   "execution_count": 37,
   "metadata": {},
   "outputs": [],
   "source": [
    "data.drop(columns='dayname', inplace=True)"
   ]
  },
  {
   "cell_type": "code",
   "execution_count": 38,
   "metadata": {},
   "outputs": [],
   "source": [
    "from scipy import stats"
   ]
  },
  {
   "cell_type": "code",
   "execution_count": 39,
   "metadata": {},
   "outputs": [],
   "source": [
    "# Slicing the data with numeric dtype  columns\n",
    "data1 = data.iloc[:,2:]"
   ]
  },
  {
   "cell_type": "code",
   "execution_count": 40,
   "metadata": {},
   "outputs": [
    {
     "data": {
      "text/html": [
       "<div>\n",
       "<style scoped>\n",
       "    .dataframe tbody tr th:only-of-type {\n",
       "        vertical-align: middle;\n",
       "    }\n",
       "\n",
       "    .dataframe tbody tr th {\n",
       "        vertical-align: top;\n",
       "    }\n",
       "\n",
       "    .dataframe thead th {\n",
       "        text-align: right;\n",
       "    }\n",
       "</style>\n",
       "<table border=\"1\" class=\"dataframe\">\n",
       "  <thead>\n",
       "    <tr style=\"text-align: right;\">\n",
       "      <th></th>\n",
       "      <th>Code</th>\n",
       "      <th>Value</th>\n",
       "      <th>year</th>\n",
       "      <th>month</th>\n",
       "      <th>day</th>\n",
       "      <th>Hour</th>\n",
       "      <th>minute</th>\n",
       "      <th>weekday</th>\n",
       "      <th>33</th>\n",
       "      <th>34</th>\n",
       "      <th>...</th>\n",
       "      <th>48</th>\n",
       "      <th>35</th>\n",
       "      <th>57</th>\n",
       "      <th>64</th>\n",
       "      <th>65</th>\n",
       "      <th>67</th>\n",
       "      <th>63</th>\n",
       "      <th>66</th>\n",
       "      <th>70</th>\n",
       "      <th>56</th>\n",
       "    </tr>\n",
       "  </thead>\n",
       "  <tbody>\n",
       "    <tr>\n",
       "      <th>0</th>\n",
       "      <td>58</td>\n",
       "      <td>100.0</td>\n",
       "      <td>1991.0</td>\n",
       "      <td>4.0</td>\n",
       "      <td>21.0</td>\n",
       "      <td>9.0</td>\n",
       "      <td>9.0</td>\n",
       "      <td>6.0</td>\n",
       "      <td>0</td>\n",
       "      <td>0</td>\n",
       "      <td>...</td>\n",
       "      <td>0</td>\n",
       "      <td>0</td>\n",
       "      <td>0</td>\n",
       "      <td>0</td>\n",
       "      <td>0</td>\n",
       "      <td>0</td>\n",
       "      <td>0</td>\n",
       "      <td>0</td>\n",
       "      <td>0</td>\n",
       "      <td>0</td>\n",
       "    </tr>\n",
       "    <tr>\n",
       "      <th>1</th>\n",
       "      <td>33</td>\n",
       "      <td>9.0</td>\n",
       "      <td>1991.0</td>\n",
       "      <td>4.0</td>\n",
       "      <td>21.0</td>\n",
       "      <td>9.0</td>\n",
       "      <td>9.0</td>\n",
       "      <td>6.0</td>\n",
       "      <td>1</td>\n",
       "      <td>0</td>\n",
       "      <td>...</td>\n",
       "      <td>0</td>\n",
       "      <td>0</td>\n",
       "      <td>0</td>\n",
       "      <td>0</td>\n",
       "      <td>0</td>\n",
       "      <td>0</td>\n",
       "      <td>0</td>\n",
       "      <td>0</td>\n",
       "      <td>0</td>\n",
       "      <td>0</td>\n",
       "    </tr>\n",
       "    <tr>\n",
       "      <th>2</th>\n",
       "      <td>34</td>\n",
       "      <td>13.0</td>\n",
       "      <td>1991.0</td>\n",
       "      <td>4.0</td>\n",
       "      <td>21.0</td>\n",
       "      <td>9.0</td>\n",
       "      <td>9.0</td>\n",
       "      <td>6.0</td>\n",
       "      <td>0</td>\n",
       "      <td>1</td>\n",
       "      <td>...</td>\n",
       "      <td>0</td>\n",
       "      <td>0</td>\n",
       "      <td>0</td>\n",
       "      <td>0</td>\n",
       "      <td>0</td>\n",
       "      <td>0</td>\n",
       "      <td>0</td>\n",
       "      <td>0</td>\n",
       "      <td>0</td>\n",
       "      <td>0</td>\n",
       "    </tr>\n",
       "    <tr>\n",
       "      <th>3</th>\n",
       "      <td>62</td>\n",
       "      <td>119.0</td>\n",
       "      <td>1991.0</td>\n",
       "      <td>4.0</td>\n",
       "      <td>21.0</td>\n",
       "      <td>17.0</td>\n",
       "      <td>8.0</td>\n",
       "      <td>6.0</td>\n",
       "      <td>0</td>\n",
       "      <td>0</td>\n",
       "      <td>...</td>\n",
       "      <td>0</td>\n",
       "      <td>0</td>\n",
       "      <td>0</td>\n",
       "      <td>0</td>\n",
       "      <td>0</td>\n",
       "      <td>0</td>\n",
       "      <td>0</td>\n",
       "      <td>0</td>\n",
       "      <td>0</td>\n",
       "      <td>0</td>\n",
       "    </tr>\n",
       "    <tr>\n",
       "      <th>4</th>\n",
       "      <td>33</td>\n",
       "      <td>7.0</td>\n",
       "      <td>1991.0</td>\n",
       "      <td>4.0</td>\n",
       "      <td>21.0</td>\n",
       "      <td>17.0</td>\n",
       "      <td>8.0</td>\n",
       "      <td>6.0</td>\n",
       "      <td>1</td>\n",
       "      <td>0</td>\n",
       "      <td>...</td>\n",
       "      <td>0</td>\n",
       "      <td>0</td>\n",
       "      <td>0</td>\n",
       "      <td>0</td>\n",
       "      <td>0</td>\n",
       "      <td>0</td>\n",
       "      <td>0</td>\n",
       "      <td>0</td>\n",
       "      <td>0</td>\n",
       "      <td>0</td>\n",
       "    </tr>\n",
       "  </tbody>\n",
       "</table>\n",
       "<p>5 rows × 23 columns</p>\n",
       "</div>"
      ],
      "text/plain": [
       "   Code  Value    year  month   day  Hour  minute  weekday  33  34  ...  48  \\\n",
       "0    58  100.0  1991.0    4.0  21.0   9.0     9.0      6.0   0   0  ...   0   \n",
       "1    33    9.0  1991.0    4.0  21.0   9.0     9.0      6.0   1   0  ...   0   \n",
       "2    34   13.0  1991.0    4.0  21.0   9.0     9.0      6.0   0   1  ...   0   \n",
       "3    62  119.0  1991.0    4.0  21.0  17.0     8.0      6.0   0   0  ...   0   \n",
       "4    33    7.0  1991.0    4.0  21.0  17.0     8.0      6.0   1   0  ...   0   \n",
       "\n",
       "   35  57  64  65  67  63  66  70  56  \n",
       "0   0   0   0   0   0   0   0   0   0  \n",
       "1   0   0   0   0   0   0   0   0   0  \n",
       "2   0   0   0   0   0   0   0   0   0  \n",
       "3   0   0   0   0   0   0   0   0   0  \n",
       "4   0   0   0   0   0   0   0   0   0  \n",
       "\n",
       "[5 rows x 23 columns]"
      ]
     },
     "execution_count": 40,
     "metadata": {},
     "output_type": "execute_result"
    }
   ],
   "source": [
    "data1.head(5) "
   ]
  },
  {
   "cell_type": "markdown",
   "metadata": {},
   "source": [
    "## outliers detection"
   ]
  },
  {
   "cell_type": "code",
   "execution_count": 41,
   "metadata": {},
   "outputs": [
    {
     "data": {
      "text/plain": [
       "<AxesSubplot:xlabel='Value'>"
      ]
     },
     "execution_count": 41,
     "metadata": {},
     "output_type": "execute_result"
    },
    {
     "data": {
      "image/png": "[encoded data removed]",
      "text/plain": [
       "<Figure size 432x288 with 1 Axes>"
      ]
     },
     "metadata": {
      "needs_background": "light"
     },
     "output_type": "display_data"
    }
   ],
   "source": [
    "import seaborn as sns\n",
    "sns.boxplot(data=data1,x = data1['Value'])\n"
   ]
  },
  {
   "cell_type": "code",
   "execution_count": 42,
   "metadata": {},
   "outputs": [
    {
     "data": {
      "text/plain": [
       "<AxesSubplot:xlabel='year'>"
      ]
     },
     "execution_count": 42,
     "metadata": {},
     "output_type": "execute_result"
    },
    {
     "data": {
      "image/png": "[encoded data removed]",
      "text/plain": [
       "<Figure size 432x288 with 1 Axes>"
      ]
     },
     "metadata": {
      "needs_background": "light"
     },
     "output_type": "display_data"
    }
   ],
   "source": [
    "import seaborn as sns\n",
    "sns.boxplot(data=data1,x = data1['year']) \n"
   ]
  },
  {
   "cell_type": "code",
   "execution_count": 43,
   "metadata": {},
   "outputs": [
    {
     "data": {
      "text/plain": [
       "<AxesSubplot:>"
      ]
     },
     "execution_count": 43,
     "metadata": {},
     "output_type": "execute_result"
    },
    {
     "data": {
      "image/png": "[encoded data removed]",
      "text/plain": [
       "<Figure size 1080x1080 with 1 Axes>"
      ]
     },
     "metadata": {
      "needs_background": "light"
     },
     "output_type": "display_data"
    }
   ],
   "source": [
    "data1.boxplot(figsize=(15,15))"
   ]
  },
  {
   "cell_type": "markdown",
   "metadata": {},
   "source": [
    " - Note:\n",
    "  - There are outliers in the Value as if we see in the above boxplot\n",
    "  - I am not going to remove the outliers because i feel this ouliers are necessary in this case study due to sudden insulin spike or down behavior.\n",
    "  - however, i am not so much expert of medical domain  but no worries i am going to take ml algorithms which are non-sensitive to oultiers."
   ]
  },
  {
   "cell_type": "markdown",
   "metadata": {},
   "source": [
    "## EDA with Data visualization"
   ]
  },
  {
   "cell_type": "code",
   "execution_count": 44,
   "metadata": {},
   "outputs": [
    {
     "data": {
      "text/plain": [
       "<seaborn.axisgrid.FacetGrid at 0x238a68de3d0>"
      ]
     },
     "execution_count": 44,
     "metadata": {},
     "output_type": "execute_result"
    },
    {
     "data": {
      "image/png": "[encoded data removed]",
      "text/plain": [
       "<Figure size 360x360 with 1 Axes>"
      ]
     },
     "metadata": {
      "needs_background": "light"
     },
     "output_type": "display_data"
    }
   ],
   "source": [
    "sns.displot(data1['Value'])"
   ]
  },
  {
   "cell_type": "code",
   "execution_count": 45,
   "metadata": {},
   "outputs": [
    {
     "data": {
      "text/plain": [
       "<AxesSubplot:ylabel='Density'>"
      ]
     },
     "execution_count": 45,
     "metadata": {},
     "output_type": "execute_result"
    },
    {
     "data": {
      "image/png": "[encoded data removed]",
      "text/plain": [
       "<Figure size 432x288 with 1 Axes>"
      ]
     },
     "metadata": {
      "needs_background": "light"
     },
     "output_type": "display_data"
    }
   ],
   "source": [
    "sns.distplot(data1,x=data1['Value'], kde=True)"
   ]
  },
  {
   "cell_type": "markdown",
   "metadata": {},
   "source": [
    " - if you observe the distribution plot of values clearly, it's a  Positively skewed distribution"
   ]
  },
  {
   "cell_type": "code",
   "execution_count": 46,
   "metadata": {},
   "outputs": [
    {
     "data": {
      "text/plain": [
       "array([[<AxesSubplot:title={'center':'Code'}>,\n",
       "        <AxesSubplot:title={'center':'Value'}>,\n",
       "        <AxesSubplot:title={'center':'year'}>,\n",
       "        <AxesSubplot:title={'center':'month'}>,\n",
       "        <AxesSubplot:title={'center':'day'}>],\n",
       "       [<AxesSubplot:title={'center':'Hour'}>,\n",
       "        <AxesSubplot:title={'center':'minute'}>,\n",
       "        <AxesSubplot:title={'center':'weekday'}>,\n",
       "        <AxesSubplot:title={'center':'33'}>,\n",
       "        <AxesSubplot:title={'center':'34'}>],\n",
       "       [<AxesSubplot:title={'center':'58'}>,\n",
       "        <AxesSubplot:title={'center':'62'}>,\n",
       "        <AxesSubplot:title={'center':'60'}>,\n",
       "        <AxesSubplot:title={'center':'48'}>,\n",
       "        <AxesSubplot:title={'center':'35'}>],\n",
       "       [<AxesSubplot:title={'center':'57'}>,\n",
       "        <AxesSubplot:title={'center':'64'}>,\n",
       "        <AxesSubplot:title={'center':'65'}>,\n",
       "        <AxesSubplot:title={'center':'67'}>,\n",
       "        <AxesSubplot:title={'center':'63'}>],\n",
       "       [<AxesSubplot:title={'center':'66'}>,\n",
       "        <AxesSubplot:title={'center':'70'}>,\n",
       "        <AxesSubplot:title={'center':'56'}>, <AxesSubplot:>,\n",
       "        <AxesSubplot:>]], dtype=object)"
      ]
     },
     "execution_count": 46,
     "metadata": {},
     "output_type": "execute_result"
    },
    {
     "data": {
      "image/png": "[encoded data removed]",
      "text/plain": [
       "<Figure size 1080x936 with 25 Axes>"
      ]
     },
     "metadata": {
      "needs_background": "light"
     },
     "output_type": "display_data"
    }
   ],
   "source": [
    "data1.hist(figsize=(15,13))\n"
   ]
  },
  {
   "cell_type": "code",
   "execution_count": 47,
   "metadata": {},
   "outputs": [
    {
     "data": {
      "text/plain": [
       "<seaborn.axisgrid.JointGrid at 0x238a889c490>"
      ]
     },
     "execution_count": 47,
     "metadata": {},
     "output_type": "execute_result"
    },
    {
     "data": {
      "image/png": "[encoded data removed]",
      "text/plain": [
       "<Figure size 432x432 with 3 Axes>"
      ]
     },
     "metadata": {
      "needs_background": "light"
     },
     "output_type": "display_data"
    }
   ],
   "source": [
    "# The effect of codes on the values with visualization\n",
    "sns.jointplot(data1['Code'],data1['Value'])\n"
   ]
  },
  {
   "cell_type": "code",
   "execution_count": 48,
   "metadata": {},
   "outputs": [
    {
     "data": {
      "text/plain": [
       "<seaborn.axisgrid.JointGrid at 0x238a71725e0>"
      ]
     },
     "execution_count": 48,
     "metadata": {},
     "output_type": "execute_result"
    },
    {
     "data": {
      "image/png": "[encoded data removed]",
      "text/plain": [
       "<Figure size 432x432 with 3 Axes>"
      ]
     },
     "metadata": {
      "needs_background": "light"
     },
     "output_type": "display_data"
    }
   ],
   "source": [
    "sns.jointplot(data1['Code'],data1['Value'],kind='hex')\n"
   ]
  },
  {
   "cell_type": "code",
   "execution_count": 49,
   "metadata": {},
   "outputs": [
    {
     "data": {
      "text/plain": [
       "<seaborn.axisgrid.JointGrid at 0x238a8b48af0>"
      ]
     },
     "execution_count": 49,
     "metadata": {},
     "output_type": "execute_result"
    },
    {
     "data": {
      "image/png": "[encoded data removed]",
      "text/plain": [
       "<Figure size 432x432 with 3 Axes>"
      ]
     },
     "metadata": {
      "needs_background": "light"
     },
     "output_type": "display_data"
    }
   ],
   "source": [
    "sns.jointplot(data1['Code'],data1['Value'],kind='kde')\n"
   ]
  },
  {
   "cell_type": "markdown",
   "metadata": {},
   "source": [
    " - If you observe the above plot, it clears represents the all the categorical codes effects on the values with kernel density estimation"
   ]
  },
  {
   "cell_type": "code",
   "execution_count": 50,
   "metadata": {},
   "outputs": [
    {
     "data": {
      "text/plain": [
       "<AxesSubplot:xlabel='Code', ylabel='Value'>"
      ]
     },
     "execution_count": 50,
     "metadata": {},
     "output_type": "execute_result"
    },
    {
     "data": {
      "image/png": "[encoded data removed]",
      "text/plain": [
       "<Figure size 432x288 with 1 Axes>"
      ]
     },
     "metadata": {
      "needs_background": "light"
     },
     "output_type": "display_data"
    }
   ],
   "source": [
    "sns.stripplot(data1['Code'],data1['Value'])\n"
   ]
  },
  {
   "cell_type": "code",
   "execution_count": 51,
   "metadata": {},
   "outputs": [
    {
     "data": {
      "text/plain": [
       "<AxesSubplot:xlabel='Code', ylabel='Value'>"
      ]
     },
     "execution_count": 51,
     "metadata": {},
     "output_type": "execute_result"
    },
    {
     "data": {
      "image/png": "[encoded data removed]",
      "text/plain": [
       "<Figure size 432x288 with 1 Axes>"
      ]
     },
     "metadata": {
      "needs_background": "light"
     },
     "output_type": "display_data"
    }
   ],
   "source": [
    "sns.boxplot(data1['Code'],data1['Value'])\n"
   ]
  },
  {
   "cell_type": "markdown",
   "metadata": {},
   "source": [
    " - All the categorical codes values representing in the boxplot for the data distributions"
   ]
  },
  {
   "cell_type": "code",
   "execution_count": 52,
   "metadata": {},
   "outputs": [
    {
     "data": {
      "text/plain": [
       "<AxesSubplot:xlabel='Code', ylabel='count'>"
      ]
     },
     "execution_count": 52,
     "metadata": {},
     "output_type": "execute_result"
    },
    {
     "data": {
      "image/png": "[encoded data removed]",
      "text/plain": [
       "<Figure size 432x288 with 1 Axes>"
      ]
     },
     "metadata": {
      "needs_background": "light"
     },
     "output_type": "display_data"
    }
   ],
   "source": [
    "sns.countplot(data1['Code'])\n"
   ]
  },
  {
   "cell_type": "code",
   "execution_count": 53,
   "metadata": {},
   "outputs": [
    {
     "data": {
      "text/plain": [
       "<AxesSubplot:xlabel='Code', ylabel='Value'>"
      ]
     },
     "execution_count": 53,
     "metadata": {},
     "output_type": "execute_result"
    },
    {
     "data": {
      "image/png": "[encoded data removed]",
      "text/plain": [
       "<Figure size 432x288 with 1 Axes>"
      ]
     },
     "metadata": {
      "needs_background": "light"
     },
     "output_type": "display_data"
    }
   ],
   "source": [
    "sns.pointplot(data1['Code'],data1['Value'])"
   ]
  },
  {
   "cell_type": "markdown",
   "metadata": {},
   "source": [
    " - The categorical codes representing in the countplot as each code frequency in the data "
   ]
  },
  {
   "cell_type": "code",
   "execution_count": 54,
   "metadata": {},
   "outputs": [
    {
     "data": {
      "text/plain": [
       "<seaborn.axisgrid.FacetGrid at 0x238aad7a0d0>"
      ]
     },
     "execution_count": 54,
     "metadata": {},
     "output_type": "execute_result"
    },
    {
     "data": {
      "image/png": "[encoded data removed]",
      "text/plain": [
       "<Figure size 360x360 with 1 Axes>"
      ]
     },
     "metadata": {
      "needs_background": "light"
     },
     "output_type": "display_data"
    }
   ],
   "source": [
    "sns.lmplot(x='Code',y='Value',data=data1)\n"
   ]
  },
  {
   "cell_type": "markdown",
   "metadata": {},
   "source": [
    "## Correlation of the data"
   ]
  },
  {
   "cell_type": "code",
   "execution_count": 55,
   "metadata": {},
   "outputs": [
    {
     "data": {
      "text/html": [
       "<div>\n",
       "<style scoped>\n",
       "    .dataframe tbody tr th:only-of-type {\n",
       "        vertical-align: middle;\n",
       "    }\n",
       "\n",
       "    .dataframe tbody tr th {\n",
       "        vertical-align: top;\n",
       "    }\n",
       "\n",
       "    .dataframe thead th {\n",
       "        text-align: right;\n",
       "    }\n",
       "</style>\n",
       "<table border=\"1\" class=\"dataframe\">\n",
       "  <thead>\n",
       "    <tr style=\"text-align: right;\">\n",
       "      <th></th>\n",
       "      <th>Code</th>\n",
       "      <th>Value</th>\n",
       "      <th>year</th>\n",
       "      <th>month</th>\n",
       "      <th>day</th>\n",
       "      <th>Hour</th>\n",
       "      <th>minute</th>\n",
       "      <th>weekday</th>\n",
       "      <th>33</th>\n",
       "      <th>34</th>\n",
       "      <th>...</th>\n",
       "      <th>48</th>\n",
       "      <th>35</th>\n",
       "      <th>57</th>\n",
       "      <th>64</th>\n",
       "      <th>65</th>\n",
       "      <th>67</th>\n",
       "      <th>63</th>\n",
       "      <th>66</th>\n",
       "      <th>70</th>\n",
       "      <th>56</th>\n",
       "    </tr>\n",
       "  </thead>\n",
       "  <tbody>\n",
       "    <tr>\n",
       "      <th>Code</th>\n",
       "      <td>1.000000</td>\n",
       "      <td>0.670302</td>\n",
       "      <td>-0.025686</td>\n",
       "      <td>0.034927</td>\n",
       "      <td>0.000115</td>\n",
       "      <td>0.090119</td>\n",
       "      <td>0.061505</td>\n",
       "      <td>-0.008575</td>\n",
       "      <td>-0.703997</td>\n",
       "      <td>-0.342144</td>\n",
       "      <td>...</td>\n",
       "      <td>0.040905</td>\n",
       "      <td>-0.167800</td>\n",
       "      <td>0.156089</td>\n",
       "      <td>0.221913</td>\n",
       "      <td>0.146150</td>\n",
       "      <td>0.159576</td>\n",
       "      <td>0.116798</td>\n",
       "      <td>0.117171</td>\n",
       "      <td>0.113689</td>\n",
       "      <td>0.047436</td>\n",
       "    </tr>\n",
       "    <tr>\n",
       "      <th>Value</th>\n",
       "      <td>0.670302</td>\n",
       "      <td>1.000000</td>\n",
       "      <td>-0.051777</td>\n",
       "      <td>0.003587</td>\n",
       "      <td>0.007987</td>\n",
       "      <td>0.093534</td>\n",
       "      <td>-0.017408</td>\n",
       "      <td>0.027300</td>\n",
       "      <td>-0.552456</td>\n",
       "      <td>-0.255918</td>\n",
       "      <td>...</td>\n",
       "      <td>0.244945</td>\n",
       "      <td>-0.133682</td>\n",
       "      <td>0.175651</td>\n",
       "      <td>0.138912</td>\n",
       "      <td>-0.085233</td>\n",
       "      <td>-0.084210</td>\n",
       "      <td>0.106298</td>\n",
       "      <td>-0.064920</td>\n",
       "      <td>-0.052503</td>\n",
       "      <td>0.051755</td>\n",
       "    </tr>\n",
       "    <tr>\n",
       "      <th>year</th>\n",
       "      <td>-0.025686</td>\n",
       "      <td>-0.051777</td>\n",
       "      <td>1.000000</td>\n",
       "      <td>-0.302847</td>\n",
       "      <td>-0.013495</td>\n",
       "      <td>0.012646</td>\n",
       "      <td>0.162640</td>\n",
       "      <td>0.009966</td>\n",
       "      <td>0.016756</td>\n",
       "      <td>0.051025</td>\n",
       "      <td>...</td>\n",
       "      <td>-0.078110</td>\n",
       "      <td>-0.011504</td>\n",
       "      <td>0.018441</td>\n",
       "      <td>0.050422</td>\n",
       "      <td>0.028140</td>\n",
       "      <td>0.004384</td>\n",
       "      <td>0.027125</td>\n",
       "      <td>-0.066182</td>\n",
       "      <td>0.003693</td>\n",
       "      <td>-0.004135</td>\n",
       "    </tr>\n",
       "    <tr>\n",
       "      <th>month</th>\n",
       "      <td>0.034927</td>\n",
       "      <td>0.003587</td>\n",
       "      <td>-0.302847</td>\n",
       "      <td>1.000000</td>\n",
       "      <td>-0.030038</td>\n",
       "      <td>0.013954</td>\n",
       "      <td>0.119171</td>\n",
       "      <td>0.005881</td>\n",
       "      <td>-0.013735</td>\n",
       "      <td>0.001761</td>\n",
       "      <td>...</td>\n",
       "      <td>-0.032639</td>\n",
       "      <td>-0.023940</td>\n",
       "      <td>0.032939</td>\n",
       "      <td>0.037926</td>\n",
       "      <td>0.016465</td>\n",
       "      <td>0.013836</td>\n",
       "      <td>0.022587</td>\n",
       "      <td>0.069134</td>\n",
       "      <td>0.018219</td>\n",
       "      <td>0.018465</td>\n",
       "    </tr>\n",
       "    <tr>\n",
       "      <th>day</th>\n",
       "      <td>0.000115</td>\n",
       "      <td>0.007987</td>\n",
       "      <td>-0.013495</td>\n",
       "      <td>-0.030038</td>\n",
       "      <td>1.000000</td>\n",
       "      <td>0.002702</td>\n",
       "      <td>0.013937</td>\n",
       "      <td>0.020315</td>\n",
       "      <td>-0.000618</td>\n",
       "      <td>-0.010562</td>\n",
       "      <td>...</td>\n",
       "      <td>-0.003048</td>\n",
       "      <td>0.019236</td>\n",
       "      <td>0.003600</td>\n",
       "      <td>0.003795</td>\n",
       "      <td>-0.004383</td>\n",
       "      <td>-0.002906</td>\n",
       "      <td>0.005470</td>\n",
       "      <td>-0.021314</td>\n",
       "      <td>0.011260</td>\n",
       "      <td>0.001504</td>\n",
       "    </tr>\n",
       "    <tr>\n",
       "      <th>Hour</th>\n",
       "      <td>0.090119</td>\n",
       "      <td>0.093534</td>\n",
       "      <td>0.012646</td>\n",
       "      <td>0.013954</td>\n",
       "      <td>0.002702</td>\n",
       "      <td>1.000000</td>\n",
       "      <td>-0.037430</td>\n",
       "      <td>0.011695</td>\n",
       "      <td>-0.040626</td>\n",
       "      <td>-0.072344</td>\n",
       "      <td>...</td>\n",
       "      <td>0.393853</td>\n",
       "      <td>-0.134749</td>\n",
       "      <td>0.001436</td>\n",
       "      <td>0.204232</td>\n",
       "      <td>-0.028367</td>\n",
       "      <td>-0.004607</td>\n",
       "      <td>0.103535</td>\n",
       "      <td>-0.007046</td>\n",
       "      <td>0.040535</td>\n",
       "      <td>0.008907</td>\n",
       "    </tr>\n",
       "    <tr>\n",
       "      <th>minute</th>\n",
       "      <td>0.061505</td>\n",
       "      <td>-0.017408</td>\n",
       "      <td>0.162640</td>\n",
       "      <td>0.119171</td>\n",
       "      <td>0.013937</td>\n",
       "      <td>-0.037430</td>\n",
       "      <td>1.000000</td>\n",
       "      <td>-0.009169</td>\n",
       "      <td>-0.056711</td>\n",
       "      <td>0.035851</td>\n",
       "      <td>...</td>\n",
       "      <td>-0.121690</td>\n",
       "      <td>0.030105</td>\n",
       "      <td>0.103205</td>\n",
       "      <td>0.100770</td>\n",
       "      <td>0.045622</td>\n",
       "      <td>0.058696</td>\n",
       "      <td>0.069875</td>\n",
       "      <td>0.007645</td>\n",
       "      <td>0.041201</td>\n",
       "      <td>0.033695</td>\n",
       "    </tr>\n",
       "    <tr>\n",
       "      <th>weekday</th>\n",
       "      <td>-0.008575</td>\n",
       "      <td>0.027300</td>\n",
       "      <td>0.009966</td>\n",
       "      <td>0.005881</td>\n",
       "      <td>0.020315</td>\n",
       "      <td>0.011695</td>\n",
       "      <td>-0.009169</td>\n",
       "      <td>1.000000</td>\n",
       "      <td>0.006541</td>\n",
       "      <td>-0.001199</td>\n",
       "      <td>...</td>\n",
       "      <td>0.002355</td>\n",
       "      <td>0.001627</td>\n",
       "      <td>0.006738</td>\n",
       "      <td>-0.009019</td>\n",
       "      <td>-0.022131</td>\n",
       "      <td>-0.005774</td>\n",
       "      <td>0.006551</td>\n",
       "      <td>-0.005486</td>\n",
       "      <td>0.001729</td>\n",
       "      <td>-0.001191</td>\n",
       "    </tr>\n",
       "    <tr>\n",
       "      <th>33</th>\n",
       "      <td>-0.703997</td>\n",
       "      <td>-0.552456</td>\n",
       "      <td>0.016756</td>\n",
       "      <td>-0.013735</td>\n",
       "      <td>-0.000618</td>\n",
       "      <td>-0.040626</td>\n",
       "      <td>-0.056711</td>\n",
       "      <td>0.006541</td>\n",
       "      <td>1.000000</td>\n",
       "      <td>-0.273673</td>\n",
       "      <td>...</td>\n",
       "      <td>-0.193626</td>\n",
       "      <td>-0.146448</td>\n",
       "      <td>-0.135640</td>\n",
       "      <td>-0.117945</td>\n",
       "      <td>-0.073595</td>\n",
       "      <td>-0.072711</td>\n",
       "      <td>-0.065724</td>\n",
       "      <td>-0.056055</td>\n",
       "      <td>-0.045334</td>\n",
       "      <td>-0.045334</td>\n",
       "    </tr>\n",
       "    <tr>\n",
       "      <th>34</th>\n",
       "      <td>-0.342144</td>\n",
       "      <td>-0.255918</td>\n",
       "      <td>0.051025</td>\n",
       "      <td>0.001761</td>\n",
       "      <td>-0.010562</td>\n",
       "      <td>-0.072344</td>\n",
       "      <td>0.035851</td>\n",
       "      <td>-0.001199</td>\n",
       "      <td>-0.273673</td>\n",
       "      <td>1.000000</td>\n",
       "      <td>...</td>\n",
       "      <td>-0.101960</td>\n",
       "      <td>-0.077117</td>\n",
       "      <td>-0.071426</td>\n",
       "      <td>-0.062108</td>\n",
       "      <td>-0.038754</td>\n",
       "      <td>-0.038288</td>\n",
       "      <td>-0.034609</td>\n",
       "      <td>-0.029518</td>\n",
       "      <td>-0.023872</td>\n",
       "      <td>-0.023872</td>\n",
       "    </tr>\n",
       "    <tr>\n",
       "      <th>58</th>\n",
       "      <td>0.326302</td>\n",
       "      <td>0.370620</td>\n",
       "      <td>-0.006376</td>\n",
       "      <td>-0.007458</td>\n",
       "      <td>0.000527</td>\n",
       "      <td>-0.390941</td>\n",
       "      <td>-0.022121</td>\n",
       "      <td>0.000490</td>\n",
       "      <td>-0.259971</td>\n",
       "      <td>-0.136896</td>\n",
       "      <td>...</td>\n",
       "      <td>-0.096855</td>\n",
       "      <td>-0.073256</td>\n",
       "      <td>-0.067849</td>\n",
       "      <td>-0.058998</td>\n",
       "      <td>-0.036813</td>\n",
       "      <td>-0.036371</td>\n",
       "      <td>-0.032876</td>\n",
       "      <td>-0.028040</td>\n",
       "      <td>-0.022677</td>\n",
       "      <td>-0.022677</td>\n",
       "    </tr>\n",
       "    <tr>\n",
       "      <th>62</th>\n",
       "      <td>0.409829</td>\n",
       "      <td>0.289697</td>\n",
       "      <td>-0.017503</td>\n",
       "      <td>-0.010307</td>\n",
       "      <td>0.000183</td>\n",
       "      <td>0.248979</td>\n",
       "      <td>-0.030005</td>\n",
       "      <td>-0.004662</td>\n",
       "      <td>-0.245010</td>\n",
       "      <td>-0.129018</td>\n",
       "      <td>...</td>\n",
       "      <td>-0.091281</td>\n",
       "      <td>-0.069040</td>\n",
       "      <td>-0.063945</td>\n",
       "      <td>-0.055603</td>\n",
       "      <td>-0.034695</td>\n",
       "      <td>-0.034278</td>\n",
       "      <td>-0.030984</td>\n",
       "      <td>-0.026426</td>\n",
       "      <td>-0.021372</td>\n",
       "      <td>-0.021372</td>\n",
       "    </tr>\n",
       "    <tr>\n",
       "      <th>60</th>\n",
       "      <td>0.335061</td>\n",
       "      <td>0.231429</td>\n",
       "      <td>-0.035410</td>\n",
       "      <td>-0.009150</td>\n",
       "      <td>0.002158</td>\n",
       "      <td>-0.080346</td>\n",
       "      <td>-0.031014</td>\n",
       "      <td>-0.002826</td>\n",
       "      <td>-0.228878</td>\n",
       "      <td>-0.120523</td>\n",
       "      <td>...</td>\n",
       "      <td>-0.085271</td>\n",
       "      <td>-0.064494</td>\n",
       "      <td>-0.059735</td>\n",
       "      <td>-0.051942</td>\n",
       "      <td>-0.032410</td>\n",
       "      <td>-0.032021</td>\n",
       "      <td>-0.028944</td>\n",
       "      <td>-0.024686</td>\n",
       "      <td>-0.019964</td>\n",
       "      <td>-0.019964</td>\n",
       "    </tr>\n",
       "    <tr>\n",
       "      <th>48</th>\n",
       "      <td>0.040905</td>\n",
       "      <td>0.244945</td>\n",
       "      <td>-0.078110</td>\n",
       "      <td>-0.032639</td>\n",
       "      <td>-0.003048</td>\n",
       "      <td>0.393853</td>\n",
       "      <td>-0.121690</td>\n",
       "      <td>0.002355</td>\n",
       "      <td>-0.193626</td>\n",
       "      <td>-0.101960</td>\n",
       "      <td>...</td>\n",
       "      <td>1.000000</td>\n",
       "      <td>-0.054561</td>\n",
       "      <td>-0.050534</td>\n",
       "      <td>-0.043942</td>\n",
       "      <td>-0.027418</td>\n",
       "      <td>-0.027089</td>\n",
       "      <td>-0.024486</td>\n",
       "      <td>-0.020884</td>\n",
       "      <td>-0.016890</td>\n",
       "      <td>-0.016890</td>\n",
       "    </tr>\n",
       "    <tr>\n",
       "      <th>35</th>\n",
       "      <td>-0.167800</td>\n",
       "      <td>-0.133682</td>\n",
       "      <td>-0.011504</td>\n",
       "      <td>-0.023940</td>\n",
       "      <td>0.019236</td>\n",
       "      <td>-0.134749</td>\n",
       "      <td>0.030105</td>\n",
       "      <td>0.001627</td>\n",
       "      <td>-0.146448</td>\n",
       "      <td>-0.077117</td>\n",
       "      <td>...</td>\n",
       "      <td>-0.054561</td>\n",
       "      <td>1.000000</td>\n",
       "      <td>-0.038221</td>\n",
       "      <td>-0.033235</td>\n",
       "      <td>-0.020738</td>\n",
       "      <td>-0.020489</td>\n",
       "      <td>-0.018520</td>\n",
       "      <td>-0.015796</td>\n",
       "      <td>-0.012774</td>\n",
       "      <td>-0.012774</td>\n",
       "    </tr>\n",
       "    <tr>\n",
       "      <th>57</th>\n",
       "      <td>0.156089</td>\n",
       "      <td>0.175651</td>\n",
       "      <td>0.018441</td>\n",
       "      <td>0.032939</td>\n",
       "      <td>0.003600</td>\n",
       "      <td>0.001436</td>\n",
       "      <td>0.103205</td>\n",
       "      <td>0.006738</td>\n",
       "      <td>-0.135640</td>\n",
       "      <td>-0.071426</td>\n",
       "      <td>...</td>\n",
       "      <td>-0.050534</td>\n",
       "      <td>-0.038221</td>\n",
       "      <td>1.000000</td>\n",
       "      <td>-0.030782</td>\n",
       "      <td>-0.019207</td>\n",
       "      <td>-0.018977</td>\n",
       "      <td>-0.017153</td>\n",
       "      <td>-0.014630</td>\n",
       "      <td>-0.011832</td>\n",
       "      <td>-0.011832</td>\n",
       "    </tr>\n",
       "    <tr>\n",
       "      <th>64</th>\n",
       "      <td>0.221913</td>\n",
       "      <td>0.138912</td>\n",
       "      <td>0.050422</td>\n",
       "      <td>0.037926</td>\n",
       "      <td>0.003795</td>\n",
       "      <td>0.204232</td>\n",
       "      <td>0.100770</td>\n",
       "      <td>-0.009019</td>\n",
       "      <td>-0.117945</td>\n",
       "      <td>-0.062108</td>\n",
       "      <td>...</td>\n",
       "      <td>-0.043942</td>\n",
       "      <td>-0.033235</td>\n",
       "      <td>-0.030782</td>\n",
       "      <td>1.000000</td>\n",
       "      <td>-0.016702</td>\n",
       "      <td>-0.016501</td>\n",
       "      <td>-0.014915</td>\n",
       "      <td>-0.012721</td>\n",
       "      <td>-0.010288</td>\n",
       "      <td>-0.010288</td>\n",
       "    </tr>\n",
       "    <tr>\n",
       "      <th>65</th>\n",
       "      <td>0.146150</td>\n",
       "      <td>-0.085233</td>\n",
       "      <td>0.028140</td>\n",
       "      <td>0.016465</td>\n",
       "      <td>-0.004383</td>\n",
       "      <td>-0.028367</td>\n",
       "      <td>0.045622</td>\n",
       "      <td>-0.022131</td>\n",
       "      <td>-0.073595</td>\n",
       "      <td>-0.038754</td>\n",
       "      <td>...</td>\n",
       "      <td>-0.027418</td>\n",
       "      <td>-0.020738</td>\n",
       "      <td>-0.019207</td>\n",
       "      <td>-0.016702</td>\n",
       "      <td>1.000000</td>\n",
       "      <td>-0.010296</td>\n",
       "      <td>-0.009307</td>\n",
       "      <td>-0.007938</td>\n",
       "      <td>-0.006419</td>\n",
       "      <td>-0.006419</td>\n",
       "    </tr>\n",
       "    <tr>\n",
       "      <th>67</th>\n",
       "      <td>0.159576</td>\n",
       "      <td>-0.084210</td>\n",
       "      <td>0.004384</td>\n",
       "      <td>0.013836</td>\n",
       "      <td>-0.002906</td>\n",
       "      <td>-0.004607</td>\n",
       "      <td>0.058696</td>\n",
       "      <td>-0.005774</td>\n",
       "      <td>-0.072711</td>\n",
       "      <td>-0.038288</td>\n",
       "      <td>...</td>\n",
       "      <td>-0.027089</td>\n",
       "      <td>-0.020489</td>\n",
       "      <td>-0.018977</td>\n",
       "      <td>-0.016501</td>\n",
       "      <td>-0.010296</td>\n",
       "      <td>1.000000</td>\n",
       "      <td>-0.009195</td>\n",
       "      <td>-0.007842</td>\n",
       "      <td>-0.006342</td>\n",
       "      <td>-0.006342</td>\n",
       "    </tr>\n",
       "    <tr>\n",
       "      <th>63</th>\n",
       "      <td>0.116798</td>\n",
       "      <td>0.106298</td>\n",
       "      <td>0.027125</td>\n",
       "      <td>0.022587</td>\n",
       "      <td>0.005470</td>\n",
       "      <td>0.103535</td>\n",
       "      <td>0.069875</td>\n",
       "      <td>0.006551</td>\n",
       "      <td>-0.065724</td>\n",
       "      <td>-0.034609</td>\n",
       "      <td>...</td>\n",
       "      <td>-0.024486</td>\n",
       "      <td>-0.018520</td>\n",
       "      <td>-0.017153</td>\n",
       "      <td>-0.014915</td>\n",
       "      <td>-0.009307</td>\n",
       "      <td>-0.009195</td>\n",
       "      <td>1.000000</td>\n",
       "      <td>-0.007089</td>\n",
       "      <td>-0.005733</td>\n",
       "      <td>-0.005733</td>\n",
       "    </tr>\n",
       "    <tr>\n",
       "      <th>66</th>\n",
       "      <td>0.117171</td>\n",
       "      <td>-0.064920</td>\n",
       "      <td>-0.066182</td>\n",
       "      <td>0.069134</td>\n",
       "      <td>-0.021314</td>\n",
       "      <td>-0.007046</td>\n",
       "      <td>0.007645</td>\n",
       "      <td>-0.005486</td>\n",
       "      <td>-0.056055</td>\n",
       "      <td>-0.029518</td>\n",
       "      <td>...</td>\n",
       "      <td>-0.020884</td>\n",
       "      <td>-0.015796</td>\n",
       "      <td>-0.014630</td>\n",
       "      <td>-0.012721</td>\n",
       "      <td>-0.007938</td>\n",
       "      <td>-0.007842</td>\n",
       "      <td>-0.007089</td>\n",
       "      <td>1.000000</td>\n",
       "      <td>-0.004890</td>\n",
       "      <td>-0.004890</td>\n",
       "    </tr>\n",
       "    <tr>\n",
       "      <th>70</th>\n",
       "      <td>0.113689</td>\n",
       "      <td>-0.052503</td>\n",
       "      <td>0.003693</td>\n",
       "      <td>0.018219</td>\n",
       "      <td>0.011260</td>\n",
       "      <td>0.040535</td>\n",
       "      <td>0.041201</td>\n",
       "      <td>0.001729</td>\n",
       "      <td>-0.045334</td>\n",
       "      <td>-0.023872</td>\n",
       "      <td>...</td>\n",
       "      <td>-0.016890</td>\n",
       "      <td>-0.012774</td>\n",
       "      <td>-0.011832</td>\n",
       "      <td>-0.010288</td>\n",
       "      <td>-0.006419</td>\n",
       "      <td>-0.006342</td>\n",
       "      <td>-0.005733</td>\n",
       "      <td>-0.004890</td>\n",
       "      <td>1.000000</td>\n",
       "      <td>-0.003954</td>\n",
       "    </tr>\n",
       "    <tr>\n",
       "      <th>56</th>\n",
       "      <td>0.047436</td>\n",
       "      <td>0.051755</td>\n",
       "      <td>-0.004135</td>\n",
       "      <td>0.018465</td>\n",
       "      <td>0.001504</td>\n",
       "      <td>0.008907</td>\n",
       "      <td>0.033695</td>\n",
       "      <td>-0.001191</td>\n",
       "      <td>-0.045334</td>\n",
       "      <td>-0.023872</td>\n",
       "      <td>...</td>\n",
       "      <td>-0.016890</td>\n",
       "      <td>-0.012774</td>\n",
       "      <td>-0.011832</td>\n",
       "      <td>-0.010288</td>\n",
       "      <td>-0.006419</td>\n",
       "      <td>-0.006342</td>\n",
       "      <td>-0.005733</td>\n",
       "      <td>-0.004890</td>\n",
       "      <td>-0.003954</td>\n",
       "      <td>1.000000</td>\n",
       "    </tr>\n",
       "  </tbody>\n",
       "</table>\n",
       "<p>23 rows × 23 columns</p>\n",
       "</div>"
      ],
      "text/plain": [
       "             Code     Value      year     month       day      Hour    minute  \\\n",
       "Code     1.000000  0.670302 -0.025686  0.034927  0.000115  0.090119  0.061505   \n",
       "Value    0.670302  1.000000 -0.051777  0.003587  0.007987  0.093534 -0.017408   \n",
       "year    -0.025686 -0.051777  1.000000 -0.302847 -0.013495  0.012646  0.162640   \n",
       "month    0.034927  0.003587 -0.302847  1.000000 -0.030038  0.013954  0.119171   \n",
       "day      0.000115  0.007987 -0.013495 -0.030038  1.000000  0.002702  0.013937   \n",
       "Hour     0.090119  0.093534  0.012646  0.013954  0.002702  1.000000 -0.037430   \n",
       "minute   0.061505 -0.017408  0.162640  0.119171  0.013937 -0.037430  1.000000   \n",
       "weekday -0.008575  0.027300  0.009966  0.005881  0.020315  0.011695 -0.009169   \n",
       "33      -0.703997 -0.552456  0.016756 -0.013735 -0.000618 -0.040626 -0.056711   \n",
       "34      -0.342144 -0.255918  0.051025  0.001761 -0.010562 -0.072344  0.035851   \n",
       "58       0.326302  0.370620 -0.006376 -0.007458  0.000527 -0.390941 -0.022121   \n",
       "62       0.409829  0.289697 -0.017503 -0.010307  0.000183  0.248979 -0.030005   \n",
       "60       0.335061  0.231429 -0.035410 -0.009150  0.002158 -0.080346 -0.031014   \n",
       "48       0.040905  0.244945 -0.078110 -0.032639 -0.003048  0.393853 -0.121690   \n",
       "35      -0.167800 -0.133682 -0.011504 -0.023940  0.019236 -0.134749  0.030105   \n",
       "57       0.156089  0.175651  0.018441  0.032939  0.003600  0.001436  0.103205   \n",
       "64       0.221913  0.138912  0.050422  0.037926  0.003795  0.204232  0.100770   \n",
       "65       0.146150 -0.085233  0.028140  0.016465 -0.004383 -0.028367  0.045622   \n",
       "67       0.159576 -0.084210  0.004384  0.013836 -0.002906 -0.004607  0.058696   \n",
       "63       0.116798  0.106298  0.027125  0.022587  0.005470  0.103535  0.069875   \n",
       "66       0.117171 -0.064920 -0.066182  0.069134 -0.021314 -0.007046  0.007645   \n",
       "70       0.113689 -0.052503  0.003693  0.018219  0.011260  0.040535  0.041201   \n",
       "56       0.047436  0.051755 -0.004135  0.018465  0.001504  0.008907  0.033695   \n",
       "\n",
       "          weekday        33        34  ...        48        35        57  \\\n",
       "Code    -0.008575 -0.703997 -0.342144  ...  0.040905 -0.167800  0.156089   \n",
       "Value    0.027300 -0.552456 -0.255918  ...  0.244945 -0.133682  0.175651   \n",
       "year     0.009966  0.016756  0.051025  ... -0.078110 -0.011504  0.018441   \n",
       "month    0.005881 -0.013735  0.001761  ... -0.032639 -0.023940  0.032939   \n",
       "day      0.020315 -0.000618 -0.010562  ... -0.003048  0.019236  0.003600   \n",
       "Hour     0.011695 -0.040626 -0.072344  ...  0.393853 -0.134749  0.001436   \n",
       "minute  -0.009169 -0.056711  0.035851  ... -0.121690  0.030105  0.103205   \n",
       "weekday  1.000000  0.006541 -0.001199  ...  0.002355  0.001627  0.006738   \n",
       "33       0.006541  1.000000 -0.273673  ... -0.193626 -0.146448 -0.135640   \n",
       "34      -0.001199 -0.273673  1.000000  ... -0.101960 -0.077117 -0.071426   \n",
       "58       0.000490 -0.259971 -0.136896  ... -0.096855 -0.073256 -0.067849   \n",
       "62      -0.004662 -0.245010 -0.129018  ... -0.091281 -0.069040 -0.063945   \n",
       "60      -0.002826 -0.228878 -0.120523  ... -0.085271 -0.064494 -0.059735   \n",
       "48       0.002355 -0.193626 -0.101960  ...  1.000000 -0.054561 -0.050534   \n",
       "35       0.001627 -0.146448 -0.077117  ... -0.054561  1.000000 -0.038221   \n",
       "57       0.006738 -0.135640 -0.071426  ... -0.050534 -0.038221  1.000000   \n",
       "64      -0.009019 -0.117945 -0.062108  ... -0.043942 -0.033235 -0.030782   \n",
       "65      -0.022131 -0.073595 -0.038754  ... -0.027418 -0.020738 -0.019207   \n",
       "67      -0.005774 -0.072711 -0.038288  ... -0.027089 -0.020489 -0.018977   \n",
       "63       0.006551 -0.065724 -0.034609  ... -0.024486 -0.018520 -0.017153   \n",
       "66      -0.005486 -0.056055 -0.029518  ... -0.020884 -0.015796 -0.014630   \n",
       "70       0.001729 -0.045334 -0.023872  ... -0.016890 -0.012774 -0.011832   \n",
       "56      -0.001191 -0.045334 -0.023872  ... -0.016890 -0.012774 -0.011832   \n",
       "\n",
       "               64        65        67        63        66        70        56  \n",
       "Code     0.221913  0.146150  0.159576  0.116798  0.117171  0.113689  0.047436  \n",
       "Value    0.138912 -0.085233 -0.084210  0.106298 -0.064920 -0.052503  0.051755  \n",
       "year     0.050422  0.028140  0.004384  0.027125 -0.066182  0.003693 -0.004135  \n",
       "month    0.037926  0.016465  0.013836  0.022587  0.069134  0.018219  0.018465  \n",
       "day      0.003795 -0.004383 -0.002906  0.005470 -0.021314  0.011260  0.001504  \n",
       "Hour     0.204232 -0.028367 -0.004607  0.103535 -0.007046  0.040535  0.008907  \n",
       "minute   0.100770  0.045622  0.058696  0.069875  0.007645  0.041201  0.033695  \n",
       "weekday -0.009019 -0.022131 -0.005774  0.006551 -0.005486  0.001729 -0.001191  \n",
       "33      -0.117945 -0.073595 -0.072711 -0.065724 -0.056055 -0.045334 -0.045334  \n",
       "34      -0.062108 -0.038754 -0.038288 -0.034609 -0.029518 -0.023872 -0.023872  \n",
       "58      -0.058998 -0.036813 -0.036371 -0.032876 -0.028040 -0.022677 -0.022677  \n",
       "62      -0.055603 -0.034695 -0.034278 -0.030984 -0.026426 -0.021372 -0.021372  \n",
       "60      -0.051942 -0.032410 -0.032021 -0.028944 -0.024686 -0.019964 -0.019964  \n",
       "48      -0.043942 -0.027418 -0.027089 -0.024486 -0.020884 -0.016890 -0.016890  \n",
       "35      -0.033235 -0.020738 -0.020489 -0.018520 -0.015796 -0.012774 -0.012774  \n",
       "57      -0.030782 -0.019207 -0.018977 -0.017153 -0.014630 -0.011832 -0.011832  \n",
       "64       1.000000 -0.016702 -0.016501 -0.014915 -0.012721 -0.010288 -0.010288  \n",
       "65      -0.016702  1.000000 -0.010296 -0.009307 -0.007938 -0.006419 -0.006419  \n",
       "67      -0.016501 -0.010296  1.000000 -0.009195 -0.007842 -0.006342 -0.006342  \n",
       "63      -0.014915 -0.009307 -0.009195  1.000000 -0.007089 -0.005733 -0.005733  \n",
       "66      -0.012721 -0.007938 -0.007842 -0.007089  1.000000 -0.004890 -0.004890  \n",
       "70      -0.010288 -0.006419 -0.006342 -0.005733 -0.004890  1.000000 -0.003954  \n",
       "56      -0.010288 -0.006419 -0.006342 -0.005733 -0.004890 -0.003954  1.000000  \n",
       "\n",
       "[23 rows x 23 columns]"
      ]
     },
     "execution_count": 55,
     "metadata": {},
     "output_type": "execute_result"
    }
   ],
   "source": [
    "data1.corr()"
   ]
  },
  {
   "cell_type": "code",
   "execution_count": 56,
   "metadata": {},
   "outputs": [],
   "source": [
    "d1 = data1.drop(columns=['year','month','day','Hour','minute','weekday','Code'])"
   ]
  },
  {
   "cell_type": "code",
   "execution_count": 57,
   "metadata": {},
   "outputs": [],
   "source": [
    "import seaborn as sns\n",
    "\n",
    "sns.set(rc={'figure.figsize':(11.7,8.27)})\n"
   ]
  },
  {
   "cell_type": "code",
   "execution_count": 58,
   "metadata": {},
   "outputs": [
    {
     "data": {
      "text/plain": [
       "<AxesSubplot:>"
      ]
     },
     "execution_count": 58,
     "metadata": {},
     "output_type": "execute_result"
    },
    {
     "data": {
      "image/png": "[encoded data removed]",
      "text/plain": [
       "<Figure size 842.4x595.44 with 2 Axes>"
      ]
     },
     "metadata": {},
     "output_type": "display_data"
    }
   ],
   "source": [
    "sns.heatmap(d1.corr(),annot=True,vmin=-1,vmax=+1)"
   ]
  },
  {
   "cell_type": "markdown",
   "metadata": {},
   "source": [
    " - I know the above plot is bit cumbersome to scrutinize the data and get into insight of it.\n",
    " - so i used a correlation defined function for manual checking."
   ]
  },
  {
   "cell_type": "code",
   "execution_count": 59,
   "metadata": {},
   "outputs": [],
   "source": [
    "def correlation(dataset, threshold):\n",
    "    col_corr = set()\n",
    "    corr_matrix = dataset.corr()\n",
    "    for i in range(len(corr_matrix.columns)):\n",
    "        for j in range(i):\n",
    "            if abs(corr_matrix.iloc[i,j])>threshold:\n",
    "                colname = corr_matrix.columns[i]\n",
    "                col_corr.add(colname)\n",
    "    return col_corr\n",
    "                \n",
    "                "
   ]
  },
  {
   "cell_type": "code",
   "execution_count": 60,
   "metadata": {},
   "outputs": [
    {
     "name": "stdout",
     "output_type": "stream",
     "text": [
      "{33, 58}\n"
     ]
    }
   ],
   "source": [
    "corr_features = correlation(d1, 0.3)\n",
    "print(corr_features)"
   ]
  },
  {
   "cell_type": "code",
   "execution_count": 61,
   "metadata": {},
   "outputs": [
    {
     "name": "stdout",
     "output_type": "stream",
     "text": [
      "{33}\n"
     ]
    }
   ],
   "source": [
    "corr_features1 = correlation(d1, 0.4)\n",
    "print(corr_features1) "
   ]
  },
  {
   "cell_type": "code",
   "execution_count": 62,
   "metadata": {},
   "outputs": [
    {
     "name": "stdout",
     "output_type": "stream",
     "text": [
      "{33}\n"
     ]
    }
   ],
   "source": [
    "corr_features2 = correlation(d1, 0.5)\n",
    "print(corr_features2) "
   ]
  },
  {
   "cell_type": "code",
   "execution_count": 63,
   "metadata": {},
   "outputs": [
    {
     "name": "stdout",
     "output_type": "stream",
     "text": [
      "set()\n"
     ]
    }
   ],
   "source": [
    "corr_features3 = correlation(d1, 0.6)\n",
    "print(corr_features3) "
   ]
  },
  {
   "cell_type": "code",
   "execution_count": 64,
   "metadata": {},
   "outputs": [
    {
     "name": "stdout",
     "output_type": "stream",
     "text": [
      "{33, 34, 48, 58, 60, 62}\n"
     ]
    }
   ],
   "source": [
    "corr_features0 = correlation(d1, 0.2)\n",
    "print(corr_features0)\n"
   ]
  },
  {
   "cell_type": "markdown",
   "metadata": {},
   "source": [
    "## 1) You are expected to explain – what factors are influencing the dependant variable – “value”?\n",
    "\n",
    "- Ans: 33 - regular insulin dose is the factor influencing the 'Value' highly compared to other\n"
   ]
  },
  {
   "cell_type": "markdown",
   "metadata": {},
   "source": [
    "## 2)explain the risk factors positively and negatively influencing the dependant variable – “value”?\n",
    " - Ans:\n",
    " \n",
    " - type 1: Factors Negatively effecting  the 'Values'\n",
    "   - 33 - regular insulin dose\n",
    "   - 34 - NPH insulin dose\n",
    "\n",
    " - type 2: Factors Positively effecting the 'Values'\n",
    "   - 48 - Unspecified blood glucose measurement\n",
    "   - 58 - Pre-breakfast blood glucose measurement\n",
    "   - 60 - Pre-lunch blood glucose measurement\n",
    "   - 62 - Pre-supper blood glucose measurement"
   ]
  },
  {
   "cell_type": "code",
   "execution_count": 65,
   "metadata": {},
   "outputs": [
    {
     "data": {
      "text/html": [
       "<div>\n",
       "<style scoped>\n",
       "    .dataframe tbody tr th:only-of-type {\n",
       "        vertical-align: middle;\n",
       "    }\n",
       "\n",
       "    .dataframe tbody tr th {\n",
       "        vertical-align: top;\n",
       "    }\n",
       "\n",
       "    .dataframe thead th {\n",
       "        text-align: right;\n",
       "    }\n",
       "</style>\n",
       "<table border=\"1\" class=\"dataframe\">\n",
       "  <thead>\n",
       "    <tr style=\"text-align: right;\">\n",
       "      <th></th>\n",
       "      <th>Code</th>\n",
       "      <th>Value</th>\n",
       "      <th>year</th>\n",
       "      <th>month</th>\n",
       "      <th>day</th>\n",
       "      <th>Hour</th>\n",
       "      <th>minute</th>\n",
       "      <th>weekday</th>\n",
       "      <th>33</th>\n",
       "      <th>34</th>\n",
       "      <th>...</th>\n",
       "      <th>48</th>\n",
       "      <th>35</th>\n",
       "      <th>57</th>\n",
       "      <th>64</th>\n",
       "      <th>65</th>\n",
       "      <th>67</th>\n",
       "      <th>63</th>\n",
       "      <th>66</th>\n",
       "      <th>70</th>\n",
       "      <th>56</th>\n",
       "    </tr>\n",
       "  </thead>\n",
       "  <tbody>\n",
       "    <tr>\n",
       "      <th>0</th>\n",
       "      <td>58</td>\n",
       "      <td>100.0</td>\n",
       "      <td>1991.0</td>\n",
       "      <td>4.0</td>\n",
       "      <td>21.0</td>\n",
       "      <td>9.0</td>\n",
       "      <td>9.0</td>\n",
       "      <td>6.0</td>\n",
       "      <td>0</td>\n",
       "      <td>0</td>\n",
       "      <td>...</td>\n",
       "      <td>0</td>\n",
       "      <td>0</td>\n",
       "      <td>0</td>\n",
       "      <td>0</td>\n",
       "      <td>0</td>\n",
       "      <td>0</td>\n",
       "      <td>0</td>\n",
       "      <td>0</td>\n",
       "      <td>0</td>\n",
       "      <td>0</td>\n",
       "    </tr>\n",
       "    <tr>\n",
       "      <th>1</th>\n",
       "      <td>33</td>\n",
       "      <td>9.0</td>\n",
       "      <td>1991.0</td>\n",
       "      <td>4.0</td>\n",
       "      <td>21.0</td>\n",
       "      <td>9.0</td>\n",
       "      <td>9.0</td>\n",
       "      <td>6.0</td>\n",
       "      <td>1</td>\n",
       "      <td>0</td>\n",
       "      <td>...</td>\n",
       "      <td>0</td>\n",
       "      <td>0</td>\n",
       "      <td>0</td>\n",
       "      <td>0</td>\n",
       "      <td>0</td>\n",
       "      <td>0</td>\n",
       "      <td>0</td>\n",
       "      <td>0</td>\n",
       "      <td>0</td>\n",
       "      <td>0</td>\n",
       "    </tr>\n",
       "    <tr>\n",
       "      <th>2</th>\n",
       "      <td>34</td>\n",
       "      <td>13.0</td>\n",
       "      <td>1991.0</td>\n",
       "      <td>4.0</td>\n",
       "      <td>21.0</td>\n",
       "      <td>9.0</td>\n",
       "      <td>9.0</td>\n",
       "      <td>6.0</td>\n",
       "      <td>0</td>\n",
       "      <td>1</td>\n",
       "      <td>...</td>\n",
       "      <td>0</td>\n",
       "      <td>0</td>\n",
       "      <td>0</td>\n",
       "      <td>0</td>\n",
       "      <td>0</td>\n",
       "      <td>0</td>\n",
       "      <td>0</td>\n",
       "      <td>0</td>\n",
       "      <td>0</td>\n",
       "      <td>0</td>\n",
       "    </tr>\n",
       "    <tr>\n",
       "      <th>3</th>\n",
       "      <td>62</td>\n",
       "      <td>119.0</td>\n",
       "      <td>1991.0</td>\n",
       "      <td>4.0</td>\n",
       "      <td>21.0</td>\n",
       "      <td>17.0</td>\n",
       "      <td>8.0</td>\n",
       "      <td>6.0</td>\n",
       "      <td>0</td>\n",
       "      <td>0</td>\n",
       "      <td>...</td>\n",
       "      <td>0</td>\n",
       "      <td>0</td>\n",
       "      <td>0</td>\n",
       "      <td>0</td>\n",
       "      <td>0</td>\n",
       "      <td>0</td>\n",
       "      <td>0</td>\n",
       "      <td>0</td>\n",
       "      <td>0</td>\n",
       "      <td>0</td>\n",
       "    </tr>\n",
       "    <tr>\n",
       "      <th>4</th>\n",
       "      <td>33</td>\n",
       "      <td>7.0</td>\n",
       "      <td>1991.0</td>\n",
       "      <td>4.0</td>\n",
       "      <td>21.0</td>\n",
       "      <td>17.0</td>\n",
       "      <td>8.0</td>\n",
       "      <td>6.0</td>\n",
       "      <td>1</td>\n",
       "      <td>0</td>\n",
       "      <td>...</td>\n",
       "      <td>0</td>\n",
       "      <td>0</td>\n",
       "      <td>0</td>\n",
       "      <td>0</td>\n",
       "      <td>0</td>\n",
       "      <td>0</td>\n",
       "      <td>0</td>\n",
       "      <td>0</td>\n",
       "      <td>0</td>\n",
       "      <td>0</td>\n",
       "    </tr>\n",
       "  </tbody>\n",
       "</table>\n",
       "<p>5 rows × 23 columns</p>\n",
       "</div>"
      ],
      "text/plain": [
       "   Code  Value    year  month   day  Hour  minute  weekday  33  34  ...  48  \\\n",
       "0    58  100.0  1991.0    4.0  21.0   9.0     9.0      6.0   0   0  ...   0   \n",
       "1    33    9.0  1991.0    4.0  21.0   9.0     9.0      6.0   1   0  ...   0   \n",
       "2    34   13.0  1991.0    4.0  21.0   9.0     9.0      6.0   0   1  ...   0   \n",
       "3    62  119.0  1991.0    4.0  21.0  17.0     8.0      6.0   0   0  ...   0   \n",
       "4    33    7.0  1991.0    4.0  21.0  17.0     8.0      6.0   1   0  ...   0   \n",
       "\n",
       "   35  57  64  65  67  63  66  70  56  \n",
       "0   0   0   0   0   0   0   0   0   0  \n",
       "1   0   0   0   0   0   0   0   0   0  \n",
       "2   0   0   0   0   0   0   0   0   0  \n",
       "3   0   0   0   0   0   0   0   0   0  \n",
       "4   0   0   0   0   0   0   0   0   0  \n",
       "\n",
       "[5 rows x 23 columns]"
      ]
     },
     "execution_count": 65,
     "metadata": {},
     "output_type": "execute_result"
    }
   ],
   "source": [
    "data1.head()"
   ]
  },
  {
   "cell_type": "code",
   "execution_count": 66,
   "metadata": {},
   "outputs": [],
   "source": [
    "data1.dropna(inplace=True)"
   ]
  },
  {
   "cell_type": "code",
   "execution_count": 67,
   "metadata": {},
   "outputs": [
    {
     "data": {
      "text/plain": [
       "Code       0\n",
       "Value      0\n",
       "year       0\n",
       "month      0\n",
       "day        0\n",
       "Hour       0\n",
       "minute     0\n",
       "weekday    0\n",
       "33         0\n",
       "34         0\n",
       "58         0\n",
       "62         0\n",
       "60         0\n",
       "48         0\n",
       "35         0\n",
       "57         0\n",
       "64         0\n",
       "65         0\n",
       "67         0\n",
       "63         0\n",
       "66         0\n",
       "70         0\n",
       "56         0\n",
       "dtype: int64"
      ]
     },
     "execution_count": 67,
     "metadata": {},
     "output_type": "execute_result"
    }
   ],
   "source": [
    "data1.isna().sum()"
   ]
  },
  {
   "cell_type": "code",
   "execution_count": 68,
   "metadata": {},
   "outputs": [
    {
     "data": {
      "text/html": [
       "<div>\n",
       "<style scoped>\n",
       "    .dataframe tbody tr th:only-of-type {\n",
       "        vertical-align: middle;\n",
       "    }\n",
       "\n",
       "    .dataframe tbody tr th {\n",
       "        vertical-align: top;\n",
       "    }\n",
       "\n",
       "    .dataframe thead th {\n",
       "        text-align: right;\n",
       "    }\n",
       "</style>\n",
       "<table border=\"1\" class=\"dataframe\">\n",
       "  <thead>\n",
       "    <tr style=\"text-align: right;\">\n",
       "      <th></th>\n",
       "      <th>33</th>\n",
       "      <th>34</th>\n",
       "      <th>58</th>\n",
       "      <th>62</th>\n",
       "      <th>60</th>\n",
       "      <th>48</th>\n",
       "      <th>35</th>\n",
       "      <th>57</th>\n",
       "      <th>64</th>\n",
       "      <th>65</th>\n",
       "      <th>67</th>\n",
       "      <th>63</th>\n",
       "      <th>66</th>\n",
       "      <th>70</th>\n",
       "      <th>56</th>\n",
       "    </tr>\n",
       "  </thead>\n",
       "  <tbody>\n",
       "    <tr>\n",
       "      <th>0</th>\n",
       "      <td>0</td>\n",
       "      <td>0</td>\n",
       "      <td>1</td>\n",
       "      <td>0</td>\n",
       "      <td>0</td>\n",
       "      <td>0</td>\n",
       "      <td>0</td>\n",
       "      <td>0</td>\n",
       "      <td>0</td>\n",
       "      <td>0</td>\n",
       "      <td>0</td>\n",
       "      <td>0</td>\n",
       "      <td>0</td>\n",
       "      <td>0</td>\n",
       "      <td>0</td>\n",
       "    </tr>\n",
       "    <tr>\n",
       "      <th>1</th>\n",
       "      <td>1</td>\n",
       "      <td>0</td>\n",
       "      <td>0</td>\n",
       "      <td>0</td>\n",
       "      <td>0</td>\n",
       "      <td>0</td>\n",
       "      <td>0</td>\n",
       "      <td>0</td>\n",
       "      <td>0</td>\n",
       "      <td>0</td>\n",
       "      <td>0</td>\n",
       "      <td>0</td>\n",
       "      <td>0</td>\n",
       "      <td>0</td>\n",
       "      <td>0</td>\n",
       "    </tr>\n",
       "    <tr>\n",
       "      <th>2</th>\n",
       "      <td>0</td>\n",
       "      <td>1</td>\n",
       "      <td>0</td>\n",
       "      <td>0</td>\n",
       "      <td>0</td>\n",
       "      <td>0</td>\n",
       "      <td>0</td>\n",
       "      <td>0</td>\n",
       "      <td>0</td>\n",
       "      <td>0</td>\n",
       "      <td>0</td>\n",
       "      <td>0</td>\n",
       "      <td>0</td>\n",
       "      <td>0</td>\n",
       "      <td>0</td>\n",
       "    </tr>\n",
       "    <tr>\n",
       "      <th>3</th>\n",
       "      <td>0</td>\n",
       "      <td>0</td>\n",
       "      <td>0</td>\n",
       "      <td>1</td>\n",
       "      <td>0</td>\n",
       "      <td>0</td>\n",
       "      <td>0</td>\n",
       "      <td>0</td>\n",
       "      <td>0</td>\n",
       "      <td>0</td>\n",
       "      <td>0</td>\n",
       "      <td>0</td>\n",
       "      <td>0</td>\n",
       "      <td>0</td>\n",
       "      <td>0</td>\n",
       "    </tr>\n",
       "    <tr>\n",
       "      <th>4</th>\n",
       "      <td>1</td>\n",
       "      <td>0</td>\n",
       "      <td>0</td>\n",
       "      <td>0</td>\n",
       "      <td>0</td>\n",
       "      <td>0</td>\n",
       "      <td>0</td>\n",
       "      <td>0</td>\n",
       "      <td>0</td>\n",
       "      <td>0</td>\n",
       "      <td>0</td>\n",
       "      <td>0</td>\n",
       "      <td>0</td>\n",
       "      <td>0</td>\n",
       "      <td>0</td>\n",
       "    </tr>\n",
       "  </tbody>\n",
       "</table>\n",
       "</div>"
      ],
      "text/plain": [
       "   33  34  58  62  60  48  35  57  64  65  67  63  66  70  56\n",
       "0   0   0   1   0   0   0   0   0   0   0   0   0   0   0   0\n",
       "1   1   0   0   0   0   0   0   0   0   0   0   0   0   0   0\n",
       "2   0   1   0   0   0   0   0   0   0   0   0   0   0   0   0\n",
       "3   0   0   0   1   0   0   0   0   0   0   0   0   0   0   0\n",
       "4   1   0   0   0   0   0   0   0   0   0   0   0   0   0   0"
      ]
     },
     "execution_count": 68,
     "metadata": {},
     "output_type": "execute_result"
    }
   ],
   "source": [
    "X = data1.drop(['Value','Code','year','month','day','Hour','minute','weekday'],axis=1)\n",
    "X.head()"
   ]
  },
  {
   "cell_type": "code",
   "execution_count": 69,
   "metadata": {},
   "outputs": [
    {
     "data": {
      "text/plain": [
       "0    100.0\n",
       "1      9.0\n",
       "2     13.0\n",
       "3    119.0\n",
       "4      7.0\n",
       "Name: Value, dtype: float64"
      ]
     },
     "execution_count": 69,
     "metadata": {},
     "output_type": "execute_result"
    }
   ],
   "source": [
    "y = data1['Value']\n",
    "y.head()"
   ]
  },
  {
   "cell_type": "markdown",
   "metadata": {},
   "source": [
    "# train test split"
   ]
  },
  {
   "cell_type": "code",
   "execution_count": 70,
   "metadata": {},
   "outputs": [],
   "source": [
    "from sklearn.model_selection import train_test_split\n",
    "X_train,X_test, y_train,y_test = train_test_split(X,y, test_size=0.3,random_state=42)"
   ]
  },
  {
   "cell_type": "code",
   "execution_count": 71,
   "metadata": {},
   "outputs": [
    {
     "data": {
      "text/plain": [
       "(17233, 15)"
      ]
     },
     "execution_count": 71,
     "metadata": {},
     "output_type": "execute_result"
    }
   ],
   "source": [
    "X_train.shape "
   ]
  },
  {
   "cell_type": "code",
   "execution_count": 72,
   "metadata": {},
   "outputs": [
    {
     "data": {
      "text/plain": [
       "(7386, 15)"
      ]
     },
     "execution_count": 72,
     "metadata": {},
     "output_type": "execute_result"
    }
   ],
   "source": [
    "X_test.shape"
   ]
  },
  {
   "cell_type": "code",
   "execution_count": 73,
   "metadata": {},
   "outputs": [
    {
     "data": {
      "text/plain": [
       "(17233,)"
      ]
     },
     "execution_count": 73,
     "metadata": {},
     "output_type": "execute_result"
    }
   ],
   "source": [
    "y_train.shape "
   ]
  },
  {
   "cell_type": "code",
   "execution_count": 74,
   "metadata": {},
   "outputs": [
    {
     "data": {
      "text/plain": [
       "(7386,)"
      ]
     },
     "execution_count": 74,
     "metadata": {},
     "output_type": "execute_result"
    }
   ],
   "source": [
    "y_test.shape "
   ]
  },
  {
   "cell_type": "markdown",
   "metadata": {},
   "source": [
    "### As i said before i am going to use ml models non-sensitive to outliers for the data\n",
    "  - Models that are not going to use in our data because of sensitive to outliers.They are\n",
    "  - 1- Linear Regression\n",
    "  - 2- Logistic Regression\n",
    "  - 3- Support Vector Machine\n",
    "  - 4- K- Nearest Neighbors"
   ]
  },
  {
   "cell_type": "code",
   "execution_count": 75,
   "metadata": {},
   "outputs": [
    {
     "data": {
      "text/plain": [
       "DecisionTreeRegressor()"
      ]
     },
     "execution_count": 75,
     "metadata": {},
     "output_type": "execute_result"
    }
   ],
   "source": [
    "from sklearn.tree import DecisionTreeRegressor\n",
    "dtc = DecisionTreeRegressor()\n",
    "dtc.fit(X_train, y_train)\n"
   ]
  },
  {
   "cell_type": "code",
   "execution_count": 76,
   "metadata": {},
   "outputs": [],
   "source": [
    "y_pred0 = dtc.predict(X_test)"
   ]
  },
  {
   "cell_type": "code",
   "execution_count": 77,
   "metadata": {},
   "outputs": [
    {
     "data": {
      "text/plain": [
       "array([  6.48434061, 173.61468813,   6.48434061, ..., 159.79088319,\n",
       "       163.48892675,   0.        ])"
      ]
     },
     "execution_count": 77,
     "metadata": {},
     "output_type": "execute_result"
    }
   ],
   "source": [
    "y_pred0"
   ]
  },
  {
   "cell_type": "markdown",
   "metadata": {},
   "source": [
    "## Evaluating the data from test_folder which segregated in the begining only"
   ]
  },
  {
   "cell_type": "code",
   "execution_count": 78,
   "metadata": {},
   "outputs": [
    {
     "data": {
      "text/html": [
       "<div>\n",
       "<style scoped>\n",
       "    .dataframe tbody tr th:only-of-type {\n",
       "        vertical-align: middle;\n",
       "    }\n",
       "\n",
       "    .dataframe tbody tr th {\n",
       "        vertical-align: top;\n",
       "    }\n",
       "\n",
       "    .dataframe thead th {\n",
       "        text-align: right;\n",
       "    }\n",
       "</style>\n",
       "<table border=\"1\" class=\"dataframe\">\n",
       "  <thead>\n",
       "    <tr style=\"text-align: right;\">\n",
       "      <th></th>\n",
       "      <th>0</th>\n",
       "      <th>1</th>\n",
       "      <th>2</th>\n",
       "      <th>3</th>\n",
       "    </tr>\n",
       "  </thead>\n",
       "  <tbody>\n",
       "    <tr>\n",
       "      <th>0</th>\n",
       "      <td>07-31-1990</td>\n",
       "      <td>12:09</td>\n",
       "      <td>60</td>\n",
       "      <td>100</td>\n",
       "    </tr>\n",
       "    <tr>\n",
       "      <th>1</th>\n",
       "      <td>07-31-1990</td>\n",
       "      <td>17:28</td>\n",
       "      <td>62</td>\n",
       "      <td>190</td>\n",
       "    </tr>\n",
       "    <tr>\n",
       "      <th>2</th>\n",
       "      <td>07-31-1990</td>\n",
       "      <td>18:41</td>\n",
       "      <td>62</td>\n",
       "      <td>124</td>\n",
       "    </tr>\n",
       "    <tr>\n",
       "      <th>3</th>\n",
       "      <td>08-01-1990</td>\n",
       "      <td>05:58</td>\n",
       "      <td>58</td>\n",
       "      <td>222</td>\n",
       "    </tr>\n",
       "    <tr>\n",
       "      <th>4</th>\n",
       "      <td>08-01-1990</td>\n",
       "      <td>12:57</td>\n",
       "      <td>60</td>\n",
       "      <td>339</td>\n",
       "    </tr>\n",
       "  </tbody>\n",
       "</table>\n",
       "</div>"
      ],
      "text/plain": [
       "            0      1   2    3\n",
       "0  07-31-1990  12:09  60  100\n",
       "1  07-31-1990  17:28  62  190\n",
       "2  07-31-1990  18:41  62  124\n",
       "3  08-01-1990  05:58  58  222\n",
       "4  08-01-1990  12:57  60  339"
      ]
     },
     "execution_count": 78,
     "metadata": {},
     "output_type": "execute_result"
    }
   ],
   "source": [
    "test_data = pd.read_csv(r'E:\\AI-ML PYTHON\\job datasets\\Blood Glucose\\test\\data-08.csv', sep='\\t',header=None)\n",
    "test_data.head()"
   ]
  },
  {
   "cell_type": "code",
   "execution_count": 79,
   "metadata": {},
   "outputs": [
    {
     "data": {
      "text/html": [
       "<div>\n",
       "<style scoped>\n",
       "    .dataframe tbody tr th:only-of-type {\n",
       "        vertical-align: middle;\n",
       "    }\n",
       "\n",
       "    .dataframe tbody tr th {\n",
       "        vertical-align: top;\n",
       "    }\n",
       "\n",
       "    .dataframe thead th {\n",
       "        text-align: right;\n",
       "    }\n",
       "</style>\n",
       "<table border=\"1\" class=\"dataframe\">\n",
       "  <thead>\n",
       "    <tr style=\"text-align: right;\">\n",
       "      <th></th>\n",
       "      <th>Date</th>\n",
       "      <th>Time</th>\n",
       "      <th>Code</th>\n",
       "      <th>Value</th>\n",
       "    </tr>\n",
       "  </thead>\n",
       "  <tbody>\n",
       "    <tr>\n",
       "      <th>0</th>\n",
       "      <td>07-31-1990</td>\n",
       "      <td>12:09</td>\n",
       "      <td>60</td>\n",
       "      <td>100</td>\n",
       "    </tr>\n",
       "    <tr>\n",
       "      <th>1</th>\n",
       "      <td>07-31-1990</td>\n",
       "      <td>17:28</td>\n",
       "      <td>62</td>\n",
       "      <td>190</td>\n",
       "    </tr>\n",
       "    <tr>\n",
       "      <th>2</th>\n",
       "      <td>07-31-1990</td>\n",
       "      <td>18:41</td>\n",
       "      <td>62</td>\n",
       "      <td>124</td>\n",
       "    </tr>\n",
       "  </tbody>\n",
       "</table>\n",
       "</div>"
      ],
      "text/plain": [
       "         Date   Time  Code  Value\n",
       "0  07-31-1990  12:09    60    100\n",
       "1  07-31-1990  17:28    62    190\n",
       "2  07-31-1990  18:41    62    124"
      ]
     },
     "execution_count": 79,
     "metadata": {},
     "output_type": "execute_result"
    }
   ],
   "source": [
    "test_data.columns = ['Date','Time','Code','Value']\n",
    "test_data.head(3)"
   ]
  },
  {
   "cell_type": "code",
   "execution_count": 80,
   "metadata": {},
   "outputs": [
    {
     "data": {
      "text/plain": [
       "58    41\n",
       "62    32\n",
       "60    29\n",
       "64    16\n",
       "65    15\n",
       "57     9\n",
       "33     7\n",
       "67     7\n",
       "61     5\n",
       "63     5\n",
       "34     4\n",
       "69     3\n",
       "59     2\n",
       "68     1\n",
       "72     1\n",
       "Name: Code, dtype: int64"
      ]
     },
     "execution_count": 80,
     "metadata": {},
     "output_type": "execute_result"
    }
   ],
   "source": [
    "(test_data['Code'].value_counts().sort_values(ascending=False).head(24))"
   ]
  },
  {
   "cell_type": "code",
   "execution_count": 81,
   "metadata": {},
   "outputs": [
    {
     "data": {
      "text/plain": [
       "[58, 62, 60, 64, 65, 57, 33, 67, 61, 63, 34, 69, 59, 68, 72]"
      ]
     },
     "execution_count": 81,
     "metadata": {},
     "output_type": "execute_result"
    }
   ],
   "source": [
    "top_15 = [x for x in test_data['Code'].value_counts().sort_values(ascending=False).head(15).index]\n",
    "top_15"
   ]
  },
  {
   "cell_type": "code",
   "execution_count": 82,
   "metadata": {},
   "outputs": [
    {
     "data": {
      "text/html": [
       "<div>\n",
       "<style scoped>\n",
       "    .dataframe tbody tr th:only-of-type {\n",
       "        vertical-align: middle;\n",
       "    }\n",
       "\n",
       "    .dataframe tbody tr th {\n",
       "        vertical-align: top;\n",
       "    }\n",
       "\n",
       "    .dataframe thead th {\n",
       "        text-align: right;\n",
       "    }\n",
       "</style>\n",
       "<table border=\"1\" class=\"dataframe\">\n",
       "  <thead>\n",
       "    <tr style=\"text-align: right;\">\n",
       "      <th></th>\n",
       "      <th>Code</th>\n",
       "      <th>58</th>\n",
       "      <th>62</th>\n",
       "      <th>60</th>\n",
       "      <th>64</th>\n",
       "      <th>65</th>\n",
       "      <th>57</th>\n",
       "      <th>33</th>\n",
       "      <th>67</th>\n",
       "      <th>61</th>\n",
       "      <th>63</th>\n",
       "      <th>34</th>\n",
       "      <th>69</th>\n",
       "      <th>59</th>\n",
       "      <th>68</th>\n",
       "      <th>72</th>\n",
       "    </tr>\n",
       "  </thead>\n",
       "  <tbody>\n",
       "    <tr>\n",
       "      <th>0</th>\n",
       "      <td>60</td>\n",
       "      <td>0</td>\n",
       "      <td>0</td>\n",
       "      <td>1</td>\n",
       "      <td>0</td>\n",
       "      <td>0</td>\n",
       "      <td>0</td>\n",
       "      <td>0</td>\n",
       "      <td>0</td>\n",
       "      <td>0</td>\n",
       "      <td>0</td>\n",
       "      <td>0</td>\n",
       "      <td>0</td>\n",
       "      <td>0</td>\n",
       "      <td>0</td>\n",
       "      <td>0</td>\n",
       "    </tr>\n",
       "    <tr>\n",
       "      <th>1</th>\n",
       "      <td>62</td>\n",
       "      <td>0</td>\n",
       "      <td>1</td>\n",
       "      <td>0</td>\n",
       "      <td>0</td>\n",
       "      <td>0</td>\n",
       "      <td>0</td>\n",
       "      <td>0</td>\n",
       "      <td>0</td>\n",
       "      <td>0</td>\n",
       "      <td>0</td>\n",
       "      <td>0</td>\n",
       "      <td>0</td>\n",
       "      <td>0</td>\n",
       "      <td>0</td>\n",
       "      <td>0</td>\n",
       "    </tr>\n",
       "    <tr>\n",
       "      <th>2</th>\n",
       "      <td>62</td>\n",
       "      <td>0</td>\n",
       "      <td>1</td>\n",
       "      <td>0</td>\n",
       "      <td>0</td>\n",
       "      <td>0</td>\n",
       "      <td>0</td>\n",
       "      <td>0</td>\n",
       "      <td>0</td>\n",
       "      <td>0</td>\n",
       "      <td>0</td>\n",
       "      <td>0</td>\n",
       "      <td>0</td>\n",
       "      <td>0</td>\n",
       "      <td>0</td>\n",
       "      <td>0</td>\n",
       "    </tr>\n",
       "    <tr>\n",
       "      <th>3</th>\n",
       "      <td>58</td>\n",
       "      <td>1</td>\n",
       "      <td>0</td>\n",
       "      <td>0</td>\n",
       "      <td>0</td>\n",
       "      <td>0</td>\n",
       "      <td>0</td>\n",
       "      <td>0</td>\n",
       "      <td>0</td>\n",
       "      <td>0</td>\n",
       "      <td>0</td>\n",
       "      <td>0</td>\n",
       "      <td>0</td>\n",
       "      <td>0</td>\n",
       "      <td>0</td>\n",
       "      <td>0</td>\n",
       "    </tr>\n",
       "    <tr>\n",
       "      <th>4</th>\n",
       "      <td>60</td>\n",
       "      <td>0</td>\n",
       "      <td>0</td>\n",
       "      <td>1</td>\n",
       "      <td>0</td>\n",
       "      <td>0</td>\n",
       "      <td>0</td>\n",
       "      <td>0</td>\n",
       "      <td>0</td>\n",
       "      <td>0</td>\n",
       "      <td>0</td>\n",
       "      <td>0</td>\n",
       "      <td>0</td>\n",
       "      <td>0</td>\n",
       "      <td>0</td>\n",
       "      <td>0</td>\n",
       "    </tr>\n",
       "    <tr>\n",
       "      <th>5</th>\n",
       "      <td>68</td>\n",
       "      <td>0</td>\n",
       "      <td>0</td>\n",
       "      <td>0</td>\n",
       "      <td>0</td>\n",
       "      <td>0</td>\n",
       "      <td>0</td>\n",
       "      <td>0</td>\n",
       "      <td>0</td>\n",
       "      <td>0</td>\n",
       "      <td>0</td>\n",
       "      <td>0</td>\n",
       "      <td>0</td>\n",
       "      <td>0</td>\n",
       "      <td>1</td>\n",
       "      <td>0</td>\n",
       "    </tr>\n",
       "    <tr>\n",
       "      <th>6</th>\n",
       "      <td>60</td>\n",
       "      <td>0</td>\n",
       "      <td>0</td>\n",
       "      <td>1</td>\n",
       "      <td>0</td>\n",
       "      <td>0</td>\n",
       "      <td>0</td>\n",
       "      <td>0</td>\n",
       "      <td>0</td>\n",
       "      <td>0</td>\n",
       "      <td>0</td>\n",
       "      <td>0</td>\n",
       "      <td>0</td>\n",
       "      <td>0</td>\n",
       "      <td>0</td>\n",
       "      <td>0</td>\n",
       "    </tr>\n",
       "    <tr>\n",
       "      <th>7</th>\n",
       "      <td>61</td>\n",
       "      <td>0</td>\n",
       "      <td>0</td>\n",
       "      <td>0</td>\n",
       "      <td>0</td>\n",
       "      <td>0</td>\n",
       "      <td>0</td>\n",
       "      <td>0</td>\n",
       "      <td>0</td>\n",
       "      <td>1</td>\n",
       "      <td>0</td>\n",
       "      <td>0</td>\n",
       "      <td>0</td>\n",
       "      <td>0</td>\n",
       "      <td>0</td>\n",
       "      <td>0</td>\n",
       "    </tr>\n",
       "    <tr>\n",
       "      <th>8</th>\n",
       "      <td>62</td>\n",
       "      <td>0</td>\n",
       "      <td>1</td>\n",
       "      <td>0</td>\n",
       "      <td>0</td>\n",
       "      <td>0</td>\n",
       "      <td>0</td>\n",
       "      <td>0</td>\n",
       "      <td>0</td>\n",
       "      <td>0</td>\n",
       "      <td>0</td>\n",
       "      <td>0</td>\n",
       "      <td>0</td>\n",
       "      <td>0</td>\n",
       "      <td>0</td>\n",
       "      <td>0</td>\n",
       "    </tr>\n",
       "    <tr>\n",
       "      <th>9</th>\n",
       "      <td>65</td>\n",
       "      <td>0</td>\n",
       "      <td>0</td>\n",
       "      <td>0</td>\n",
       "      <td>0</td>\n",
       "      <td>1</td>\n",
       "      <td>0</td>\n",
       "      <td>0</td>\n",
       "      <td>0</td>\n",
       "      <td>0</td>\n",
       "      <td>0</td>\n",
       "      <td>0</td>\n",
       "      <td>0</td>\n",
       "      <td>0</td>\n",
       "      <td>0</td>\n",
       "      <td>0</td>\n",
       "    </tr>\n",
       "  </tbody>\n",
       "</table>\n",
       "</div>"
      ],
      "text/plain": [
       "   Code  58  62  60  64  65  57  33  67  61  63  34  69  59  68  72\n",
       "0    60   0   0   1   0   0   0   0   0   0   0   0   0   0   0   0\n",
       "1    62   0   1   0   0   0   0   0   0   0   0   0   0   0   0   0\n",
       "2    62   0   1   0   0   0   0   0   0   0   0   0   0   0   0   0\n",
       "3    58   1   0   0   0   0   0   0   0   0   0   0   0   0   0   0\n",
       "4    60   0   0   1   0   0   0   0   0   0   0   0   0   0   0   0\n",
       "5    68   0   0   0   0   0   0   0   0   0   0   0   0   0   1   0\n",
       "6    60   0   0   1   0   0   0   0   0   0   0   0   0   0   0   0\n",
       "7    61   0   0   0   0   0   0   0   0   1   0   0   0   0   0   0\n",
       "8    62   0   1   0   0   0   0   0   0   0   0   0   0   0   0   0\n",
       "9    65   0   0   0   0   1   0   0   0   0   0   0   0   0   0   0"
      ]
     },
     "execution_count": 82,
     "metadata": {},
     "output_type": "execute_result"
    }
   ],
   "source": [
    "# now we make the top 15 binary variables\n",
    "for label in top_15:\n",
    "    test_data[label] = np.where(test_data['Code']==label,1,0)\n",
    "    \n",
    "    \n",
    "test_data[['Code']+top_15].head(10)"
   ]
  },
  {
   "cell_type": "code",
   "execution_count": 87,
   "metadata": {},
   "outputs": [
    {
     "data": {
      "text/plain": [
       "Date     0\n",
       "Time     0\n",
       "Code     0\n",
       "Value    0\n",
       "58       0\n",
       "62       0\n",
       "60       0\n",
       "64       0\n",
       "65       0\n",
       "57       0\n",
       "33       0\n",
       "67       0\n",
       "61       0\n",
       "63       0\n",
       "34       0\n",
       "69       0\n",
       "59       0\n",
       "68       0\n",
       "72       0\n",
       "dtype: int64"
      ]
     },
     "execution_count": 87,
     "metadata": {},
     "output_type": "execute_result"
    }
   ],
   "source": [
    "test_data.isna().sum()"
   ]
  },
  {
   "cell_type": "code",
   "execution_count": 86,
   "metadata": {},
   "outputs": [],
   "source": [
    "test_data.dropna(axis=1,inplace=True)"
   ]
  },
  {
   "cell_type": "code",
   "execution_count": 89,
   "metadata": {},
   "outputs": [],
   "source": [
    "test_data['Value'] = pd.to_numeric(test_data['Value'], errors='coerce').convert_dtypes() \n"
   ]
  },
  {
   "cell_type": "code",
   "execution_count": 90,
   "metadata": {},
   "outputs": [
    {
     "data": {
      "text/plain": [
       "Date     object\n",
       "Time     object\n",
       "Code      int64\n",
       "Value     Int64\n",
       "58        int32\n",
       "62        int32\n",
       "60        int32\n",
       "64        int32\n",
       "65        int32\n",
       "57        int32\n",
       "33        int32\n",
       "67        int32\n",
       "61        int32\n",
       "63        int32\n",
       "34        int32\n",
       "69        int32\n",
       "59        int32\n",
       "68        int32\n",
       "72        int32\n",
       "dtype: object"
      ]
     },
     "execution_count": 90,
     "metadata": {},
     "output_type": "execute_result"
    }
   ],
   "source": [
    "test_data.dtypes"
   ]
  },
  {
   "cell_type": "code",
   "execution_count": 91,
   "metadata": {},
   "outputs": [],
   "source": [
    "test_data.drop(columns=['Value','Code','Date','Time'],inplace=True)"
   ]
  },
  {
   "cell_type": "code",
   "execution_count": 95,
   "metadata": {},
   "outputs": [
    {
     "data": {
      "text/html": [
       "<div>\n",
       "<style scoped>\n",
       "    .dataframe tbody tr th:only-of-type {\n",
       "        vertical-align: middle;\n",
       "    }\n",
       "\n",
       "    .dataframe tbody tr th {\n",
       "        vertical-align: top;\n",
       "    }\n",
       "\n",
       "    .dataframe thead th {\n",
       "        text-align: right;\n",
       "    }\n",
       "</style>\n",
       "<table border=\"1\" class=\"dataframe\">\n",
       "  <thead>\n",
       "    <tr style=\"text-align: right;\">\n",
       "      <th></th>\n",
       "      <th>58</th>\n",
       "      <th>62</th>\n",
       "      <th>60</th>\n",
       "      <th>64</th>\n",
       "      <th>65</th>\n",
       "      <th>57</th>\n",
       "      <th>33</th>\n",
       "      <th>67</th>\n",
       "      <th>61</th>\n",
       "      <th>63</th>\n",
       "      <th>34</th>\n",
       "      <th>69</th>\n",
       "      <th>59</th>\n",
       "      <th>68</th>\n",
       "      <th>72</th>\n",
       "    </tr>\n",
       "  </thead>\n",
       "  <tbody>\n",
       "    <tr>\n",
       "      <th>0</th>\n",
       "      <td>0</td>\n",
       "      <td>0</td>\n",
       "      <td>1</td>\n",
       "      <td>0</td>\n",
       "      <td>0</td>\n",
       "      <td>0</td>\n",
       "      <td>0</td>\n",
       "      <td>0</td>\n",
       "      <td>0</td>\n",
       "      <td>0</td>\n",
       "      <td>0</td>\n",
       "      <td>0</td>\n",
       "      <td>0</td>\n",
       "      <td>0</td>\n",
       "      <td>0</td>\n",
       "    </tr>\n",
       "    <tr>\n",
       "      <th>1</th>\n",
       "      <td>0</td>\n",
       "      <td>1</td>\n",
       "      <td>0</td>\n",
       "      <td>0</td>\n",
       "      <td>0</td>\n",
       "      <td>0</td>\n",
       "      <td>0</td>\n",
       "      <td>0</td>\n",
       "      <td>0</td>\n",
       "      <td>0</td>\n",
       "      <td>0</td>\n",
       "      <td>0</td>\n",
       "      <td>0</td>\n",
       "      <td>0</td>\n",
       "      <td>0</td>\n",
       "    </tr>\n",
       "    <tr>\n",
       "      <th>2</th>\n",
       "      <td>0</td>\n",
       "      <td>1</td>\n",
       "      <td>0</td>\n",
       "      <td>0</td>\n",
       "      <td>0</td>\n",
       "      <td>0</td>\n",
       "      <td>0</td>\n",
       "      <td>0</td>\n",
       "      <td>0</td>\n",
       "      <td>0</td>\n",
       "      <td>0</td>\n",
       "      <td>0</td>\n",
       "      <td>0</td>\n",
       "      <td>0</td>\n",
       "      <td>0</td>\n",
       "    </tr>\n",
       "    <tr>\n",
       "      <th>3</th>\n",
       "      <td>1</td>\n",
       "      <td>0</td>\n",
       "      <td>0</td>\n",
       "      <td>0</td>\n",
       "      <td>0</td>\n",
       "      <td>0</td>\n",
       "      <td>0</td>\n",
       "      <td>0</td>\n",
       "      <td>0</td>\n",
       "      <td>0</td>\n",
       "      <td>0</td>\n",
       "      <td>0</td>\n",
       "      <td>0</td>\n",
       "      <td>0</td>\n",
       "      <td>0</td>\n",
       "    </tr>\n",
       "    <tr>\n",
       "      <th>4</th>\n",
       "      <td>0</td>\n",
       "      <td>0</td>\n",
       "      <td>1</td>\n",
       "      <td>0</td>\n",
       "      <td>0</td>\n",
       "      <td>0</td>\n",
       "      <td>0</td>\n",
       "      <td>0</td>\n",
       "      <td>0</td>\n",
       "      <td>0</td>\n",
       "      <td>0</td>\n",
       "      <td>0</td>\n",
       "      <td>0</td>\n",
       "      <td>0</td>\n",
       "      <td>0</td>\n",
       "    </tr>\n",
       "  </tbody>\n",
       "</table>\n",
       "</div>"
      ],
      "text/plain": [
       "   58  62  60  64  65  57  33  67  61  63  34  69  59  68  72\n",
       "0   0   0   1   0   0   0   0   0   0   0   0   0   0   0   0\n",
       "1   0   1   0   0   0   0   0   0   0   0   0   0   0   0   0\n",
       "2   0   1   0   0   0   0   0   0   0   0   0   0   0   0   0\n",
       "3   1   0   0   0   0   0   0   0   0   0   0   0   0   0   0\n",
       "4   0   0   1   0   0   0   0   0   0   0   0   0   0   0   0"
      ]
     },
     "execution_count": 95,
     "metadata": {},
     "output_type": "execute_result"
    }
   ],
   "source": [
    "test_data.head()"
   ]
  },
  {
   "cell_type": "code",
   "execution_count": 110,
   "metadata": {},
   "outputs": [
    {
     "data": {
      "text/plain": [
       "array([173.61468813,  15.19167835,  15.19167835,   6.48434061,\n",
       "       173.61468813,   0.        , 173.61468813, 155.859375  ,\n",
       "        15.19167835, 147.3310388 , 159.79088319,   6.48434061,\n",
       "       173.61468813, 159.79088319,   6.48434061, 147.3310388 ,\n",
       "         6.48434061, 163.48892675, 173.61468813,   6.48434061,\n",
       "       147.3310388 ,   6.48434061,   6.48434061,   6.48434061,\n",
       "        15.19167835, 159.79088319, 147.3310388 ,   6.48434061,\n",
       "       163.48892675,   6.48434061, 173.61468813, 163.48892675,\n",
       "       173.61468813,  15.19167835,  15.19167835,   6.48434061,\n",
       "       173.61468813,  15.19167835,   0.        ,   6.48434061,\n",
       "       173.61468813,   6.48434061,  15.19167835, 187.92517007,\n",
       "       163.48892675,  15.19167835, 159.79088319, 147.3310388 ,\n",
       "         6.48434061,   6.48434061,  15.19167835,   6.48434061,\n",
       "       173.61468813, 147.3310388 ,   6.48434061,   6.48434061,\n",
       "       173.61468813, 150.90625   ,   6.48434061, 173.61468813,\n",
       "        15.19167835,   0.        , 159.79088319, 163.48892675,\n",
       "         6.48434061, 173.61468813, 147.3310388 , 147.3310388 ,\n",
       "        16.65166909,   0.        , 147.3310388 , 163.48892675,\n",
       "       173.61468813, 164.07093426, 187.92517007,  15.19167835,\n",
       "        16.65166909,  16.65166909,   0.        ,  16.65166909,\n",
       "       159.79088319, 159.79088319,   6.48434061,  16.65166909,\n",
       "        16.65166909,   0.        , 173.61468813,  15.19167835,\n",
       "        16.65166909,   0.        , 159.79088319,   6.48434061,\n",
       "       173.61468813,  15.19167835,   6.48434061, 173.61468813,\n",
       "       147.3310388 ,  15.19167835, 159.79088319, 164.07093426,\n",
       "         6.48434061, 159.79088319,   6.48434061, 173.61468813,\n",
       "        15.19167835, 164.07093426, 173.61468813,  15.19167835,\n",
       "       147.3310388 ,   6.48434061,   6.48434061,   6.48434061,\n",
       "       155.859375  , 147.3310388 ,  15.19167835,   6.48434061,\n",
       "        15.19167835,   0.        , 159.79088319,   6.48434061,\n",
       "        15.19167835,  15.19167835, 159.79088319,   6.48434061,\n",
       "       173.61468813, 164.07093426,   0.        , 147.3310388 ,\n",
       "       159.79088319, 173.61468813,  15.19167835,   6.48434061,\n",
       "       173.61468813,  15.19167835,   6.48434061,  15.19167835,\n",
       "       159.79088319,   6.48434061,   0.        , 173.61468813,\n",
       "       164.07093426, 164.07093426, 163.48892675, 187.92517007,\n",
       "        15.19167835,   0.        ,   6.48434061, 173.61468813,\n",
       "        15.19167835, 164.07093426,   0.        , 147.3310388 ,\n",
       "       173.61468813, 155.859375  ,  15.19167835, 159.79088319,\n",
       "         6.48434061,  15.19167835,   6.48434061, 173.61468813,\n",
       "       147.3310388 ,  15.19167835, 159.79088319,   6.48434061,\n",
       "        15.19167835,  15.19167835,   6.48434061,   6.48434061,\n",
       "       173.61468813, 173.61468813, 155.859375  , 173.61468813,\n",
       "       164.07093426, 164.07093426, 155.859375  ,  15.19167835,\n",
       "         6.48434061])"
      ]
     },
     "execution_count": 110,
     "metadata": {},
     "output_type": "execute_result"
    }
   ],
   "source": [
    "dtc.predict(test_data)"
   ]
  },
  {
   "cell_type": "markdown",
   "metadata": {},
   "source": [
    "## Model evaluation metrics "
   ]
  },
  {
   "cell_type": "code",
   "execution_count": 78,
   "metadata": {},
   "outputs": [
    {
     "name": "stdout",
     "output_type": "stream",
     "text": [
      "The R-square... 0.6569953388503187\n",
      "RMSE value is.. 54.82635253002006\n"
     ]
    }
   ],
   "source": [
    "from sklearn.metrics import r2_score,mean_squared_error\n",
    "print('The R-square...',r2_score(y_test,y_pred0))\n",
    "print('RMSE value is..',np.sqrt(mean_squared_error(y_test,y_pred0)))\n"
   ]
  },
  {
   "cell_type": "code",
   "execution_count": 79,
   "metadata": {},
   "outputs": [
    {
     "name": "stdout",
     "output_type": "stream",
     "text": [
      "inf\n",
      "Model Performance\n",
      "Average Error: 31.7555 degrees.\n"
     ]
    }
   ],
   "source": [
    "errors = abs(y_pred0 - y_test)\n",
    "mape = 100 * np.mean(errors / y_test)\n",
    "print(mape)\n",
    "accuracy = 100 - mape\n",
    "print('Model Performance')\n",
    "print('Average Error: {:0.4f} degrees.'.format(np.mean(errors)))\n"
   ]
  },
  {
   "cell_type": "code",
   "execution_count": 80,
   "metadata": {},
   "outputs": [
    {
     "name": "stdout",
     "output_type": "stream",
     "text": [
      "The cv score of dtc: 0.6569953388503187\n"
     ]
    }
   ],
   "source": [
    "from sklearn.model_selection import cross_val_score\n",
    "score = dtc.score(X_test, y_test)\n",
    "print(f\"The cv score of dtc: {score}\")"
   ]
  },
  {
   "cell_type": "markdown",
   "metadata": {},
   "source": [
    "### Bootstrap aggregation using ensemble technique"
   ]
  },
  {
   "cell_type": "markdown",
   "metadata": {},
   "source": [
    "### Random Hyperparameter Grid"
   ]
  },
  {
   "cell_type": "code",
   "execution_count": 76,
   "metadata": {},
   "outputs": [
    {
     "name": "stdout",
     "output_type": "stream",
     "text": [
      "{'n_estimators': [200, 400, 600, 800, 1000, 1200, 1400, 1600, 1800, 2000], 'max_features': ['auto', 'sqrt'], 'max_depth': [10, 20, 30, 40, 50, 60, 70, 80, 90, 100, 110, None], 'min_samples_split': [2, 5, 10], 'min_samples_leaf': [1, 2, 4], 'bootstrap': [True, False]}\n"
     ]
    }
   ],
   "source": [
    "from sklearn.model_selection import RandomizedSearchCV\n",
    "# Number of trees in random forest\n",
    "n_estimators = [int(x) for x in np.linspace(start = 200, stop = 2000, num = 10)]\n",
    "# Number of features to consider at every split\n",
    "max_features = ['auto', 'sqrt']\n",
    "# Maximum number of levels in tree\n",
    "max_depth = [int(x) for x in np.linspace(10, 110, num = 11)]\n",
    "max_depth.append(None)\n",
    "# Minimum number of samples required to split a node\n",
    "min_samples_split = [2, 5, 10]\n",
    "# Minimum number of samples required at each leaf node\n",
    "min_samples_leaf = [1, 2, 4]\n",
    "# Method of selecting samples for training each tree\n",
    "bootstrap = [True, False]\n",
    "# Create the random grid\n",
    "random_grid = {'n_estimators': n_estimators,\n",
    "               'max_features': max_features,        \n",
    "               'max_depth': max_depth,\n",
    "               'min_samples_split': min_samples_split,               \n",
    "               'min_samples_leaf': min_samples_leaf,\n",
    "               'bootstrap': bootstrap}\n",
    "print(random_grid)\n",
    "\n"
   ]
  },
  {
   "cell_type": "markdown",
   "metadata": {},
   "source": [
    "### Random Search Training"
   ]
  },
  {
   "cell_type": "code",
   "execution_count": 77,
   "metadata": {},
   "outputs": [
    {
     "name": "stdout",
     "output_type": "stream",
     "text": [
      "Fitting 3 folds for each of 100 candidates, totalling 300 fits\n"
     ]
    },
    {
     "name": "stderr",
     "output_type": "stream",
     "text": [
      "[Parallel(n_jobs=-1)]: Using backend LokyBackend with 4 concurrent workers.\n",
      "[Parallel(n_jobs=-1)]: Done  33 tasks      | elapsed:  2.5min\n",
      "[Parallel(n_jobs=-1)]: Done 154 tasks      | elapsed: 10.3min\n",
      "[Parallel(n_jobs=-1)]: Done 300 out of 300 | elapsed: 20.1min finished\n"
     ]
    },
    {
     "data": {
      "text/plain": [
       "RandomizedSearchCV(cv=3, estimator=RandomForestRegressor(), n_iter=100,\n",
       "                   n_jobs=-1,\n",
       "                   param_distributions={'bootstrap': [True, False],\n",
       "                                        'max_depth': [10, 20, 30, 40, 50, 60,\n",
       "                                                      70, 80, 90, 100, 110,\n",
       "                                                      None],\n",
       "                                        'max_features': ['auto', 'sqrt'],\n",
       "                                        'min_samples_leaf': [1, 2, 4],\n",
       "                                        'min_samples_split': [2, 5, 10],\n",
       "                                        'n_estimators': [200, 400, 600, 800,\n",
       "                                                         1000, 1200, 1400, 1600,\n",
       "                                                         1800, 2000]},\n",
       "                   random_state=42, verbose=2)"
      ]
     },
     "execution_count": 77,
     "metadata": {},
     "output_type": "execute_result"
    }
   ],
   "source": [
    "# Use the random grid to search for best hyperparameters\n",
    "# First create the base model to tune\n",
    "from sklearn.ensemble import RandomForestRegressor\n",
    "rf = RandomForestRegressor()\n",
    "# Random search of parameters, using 3 fold cross validation, \n",
    "# search across 100 different combinations, and use all available cores\n",
    "rf_random = RandomizedSearchCV(estimator = rf, param_distributions = random_grid, n_iter = 100, cv = 3, verbose=2, random_state=42, n_jobs = -1)\n",
    "# Fit the random search model\n",
    "rf_random.fit(X_train, y_train)\n",
    "\n"
   ]
  },
  {
   "cell_type": "code",
   "execution_count": 90,
   "metadata": {},
   "outputs": [
    {
     "name": "stdout",
     "output_type": "stream",
     "text": [
      "inf\n",
      "Model Performance\n",
      "Average Error: 31.5115 degrees.\n"
     ]
    }
   ],
   "source": [
    "def evaluate(model, X_test, y_test):\n",
    "    y_pred = model.predict(X_test)\n",
    "    errors = abs(y_pred - y_test)\n",
    "    mape = 100 * np.mean(errors / y_test)\n",
    "    print(mape)\n",
    "    accuracy = 100 - mape\n",
    "    print('Model Performance')\n",
    "    print('Average Error: {:0.4f} degrees.'.format(np.mean(errors)))\n",
    "    \n",
    "base_accuracy = evaluate(rf_random, X_test, y_test)\n",
    " "
   ]
  },
  {
   "cell_type": "code",
   "execution_count": 92,
   "metadata": {},
   "outputs": [
    {
     "name": "stdout",
     "output_type": "stream",
     "text": [
      "The cv score of dtc: 0.6598460791853189\n"
     ]
    }
   ],
   "source": [
    "from sklearn.model_selection import cross_val_score\n",
    "score = rf_random.score(X_test, y_test)\n",
    "print(f\"The cv score of dtc: {score}\")"
   ]
  },
  {
   "cell_type": "code",
   "execution_count": 79,
   "metadata": {},
   "outputs": [
    {
     "data": {
      "text/plain": [
       "{'n_estimators': 200,\n",
       " 'min_samples_split': 5,\n",
       " 'min_samples_leaf': 4,\n",
       " 'max_features': 'auto',\n",
       " 'max_depth': 80,\n",
       " 'bootstrap': True}"
      ]
     },
     "execution_count": 79,
     "metadata": {},
     "output_type": "execute_result"
    }
   ],
   "source": [
    "rf_random.best_params_"
   ]
  },
  {
   "cell_type": "code",
   "execution_count": 80,
   "metadata": {},
   "outputs": [],
   "source": [
    "feature_list = list(X.columns) \n"
   ]
  },
  {
   "cell_type": "code",
   "execution_count": 81,
   "metadata": {},
   "outputs": [
    {
     "name": "stdout",
     "output_type": "stream",
     "text": [
      "Variable:                   33 Importance: 0.45\n",
      "Variable:                   34 Importance: 0.29\n",
      "Variable:                   35 Importance: 0.09\n",
      "Variable:                   65 Importance: 0.05\n",
      "Variable:                   67 Importance: 0.05\n",
      "Variable:                   70 Importance: 0.02\n",
      "Variable:                   71 Importance: 0.02\n",
      "Variable:                   58 Importance: 0.01\n",
      "Variable:                   60 Importance: 0.01\n",
      "Variable:                   64 Importance: 0.01\n",
      "Variable:                   56 Importance: 0.01\n",
      "Variable:                   62 Importance: 0.0\n",
      "Variable:                   48 Importance: 0.0\n",
      "Variable:                   57 Importance: 0.0\n",
      "Variable:                   63 Importance: 0.0\n"
     ]
    },
    {
     "data": {
      "text/plain": [
       "[None,\n",
       " None,\n",
       " None,\n",
       " None,\n",
       " None,\n",
       " None,\n",
       " None,\n",
       " None,\n",
       " None,\n",
       " None,\n",
       " None,\n",
       " None,\n",
       " None,\n",
       " None,\n",
       " None]"
      ]
     },
     "execution_count": 81,
     "metadata": {},
     "output_type": "execute_result"
    }
   ],
   "source": [
    "# Get numerical feature importances\n",
    "importances = list(rf_random.best_estimator_.feature_importances_)\n",
    "# List of tuples with variable and importance\n",
    "feature_importances = [(feature, round(importance, 2)) for feature, importance in zip(feature_list, importances)]\n",
    "# Sort the feature importances by most important first\n",
    "feature_importances = sorted(feature_importances, key = lambda x: x[1], reverse = True)\n",
    "# Print out the feature and importances \n",
    "[print('Variable: {:20} Importance: {}'.format(*pair)) for pair in feature_importances]\n"
   ]
  },
  {
   "cell_type": "code",
   "execution_count": 94,
   "metadata": {},
   "outputs": [
    {
     "data": {
      "image/png": "[encoded data removed]",
      "text/plain": [
       "<Figure size 842.4x595.44 with 1 Axes>"
      ]
     },
     "metadata": {},
     "output_type": "display_data"
    }
   ],
   "source": [
    "import matplotlib.pyplot as plt \n",
    "\n",
    "# list of x locations for plotting\n",
    "x_values = list(range(len(importances)))\n",
    "# Make a bar chart\n",
    "plt.bar(x_values, importances, orientation = 'vertical', color = 'r', edgecolor = 'k', linewidth = 1.2)\n",
    "# Tick labels for x axis\n",
    "plt.xticks(x_values, feature_list, rotation='vertical')\n",
    "# Axis labels and title\n",
    "plt.ylabel('Importance'); plt.xlabel('Variable'); plt.title('Variable Importances');\n"
   ]
  },
  {
   "cell_type": "code",
   "execution_count": 95,
   "metadata": {},
   "outputs": [
    {
     "data": {
      "image/png": "[encoded data removed]",
      "text/plain": [
       "<Figure size 842.4x595.44 with 1 Axes>"
      ]
     },
     "metadata": {},
     "output_type": "display_data"
    }
   ],
   "source": [
    "# List of features sorted from most to least important\n",
    "sorted_importances = [importance[1] for importance in feature_importances]\n",
    "sorted_features = [importance[0] for importance in feature_importances]\n",
    "# Cumulative importances\n",
    "cumulative_importances = np.cumsum(sorted_importances)\n",
    "# Make a line graph\n",
    "plt.plot(x_values, cumulative_importances, 'g-')\n",
    "# Draw line at 95% of importance retained\n",
    "plt.hlines(y = 0.95, xmin=0, xmax=len(sorted_importances), color = 'r', linestyles = 'dashed')\n",
    "# Format x ticks and labels\n",
    "plt.xticks(x_values, sorted_features, rotation = 'vertical')\n",
    "# Axis labels and title\n",
    "plt.xlabel('Variable'); plt.ylabel('Cumulative Importance'); plt.title('Cumulative Importances');\n"
   ]
  },
  {
   "cell_type": "markdown",
   "metadata": {},
   "source": [
    "## citation:"
   ]
  },
  {
   "cell_type": "markdown",
   "metadata": {},
   "source": [
    "reference: 1) https://towardsdatascience.com/improving-random-forest-in-python-part-1-893916666cd  "
   ]
  },
  {
   "cell_type": "markdown",
   "metadata": {},
   "source": [
    "reference: 2) https://arsrinevetha.medium.com/ml-algorithms-sensitivity-towards-outliers-f3862a13c94d"
   ]
  },
  {
   "cell_type": "markdown",
   "metadata": {},
   "source": [
    "reference: 3) https://towardsdatascience.com/hyperparameter-tuning-the-random-forest-in-python-using-scikit-learn-28d2aa77dd74"
   ]
  },
  {
   "cell_type": "code",
   "execution_count": null,
   "metadata": {},
   "outputs": [],
   "source": []
  }
 ],
 "metadata": {
  "kernelspec": {
   "display_name": "Python 3",
   "language": "python",
   "name": "python3"
  },
  "language_info": {
   "codemirror_mode": {
    "name": "ipython",
    "version": 3
   },
   "file_extension": ".py",
   "mimetype": "text/x-python",
   "name": "python",
   "nbconvert_exporter": "python",
   "pygments_lexer": "ipython3",
   "version": "3.8.5"
  }
 },
 "nbformat": 4,
 "nbformat_minor": 4
}
